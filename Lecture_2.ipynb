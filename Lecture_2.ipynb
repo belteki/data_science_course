{
 "cells": [
  {
   "cell_type": "markdown",
   "metadata": {},
   "source": [
    "![alt text](./pageheader_rose2_babies.jpg)"
   ]
  },
  {
   "cell_type": "markdown",
   "metadata": {},
   "source": [
    "# Data Science in Medicine using Python\n",
    "\n",
    "### Author: Dr Gusztav Belteki"
   ]
  },
  {
   "cell_type": "markdown",
   "metadata": {},
   "source": [
    "## 1. Let us see your homework"
   ]
  },
  {
   "cell_type": "markdown",
   "metadata": {},
   "source": [
    "Try to guess what will these expressions return before pressing `SHIFT-Enter`\n",
    "\n",
    "Some of these points were not discussed. You may need to look it up on the Internet."
   ]
  },
  {
   "cell_type": "code",
   "execution_count": 6,
   "metadata": {},
   "outputs": [
    {
     "data": {
      "text/plain": [
       "10.0"
      ]
     },
     "execution_count": 6,
     "metadata": {},
     "output_type": "execute_result"
    }
   ],
   "source": [
    "# Multiplication and division are of equal priority so they will be done sequentially\n",
    "# Note the decimal point. Division always returns a floating point number\n",
    "\n",
    "10 * 10 / 10"
   ]
  },
  {
   "cell_type": "code",
   "execution_count": 8,
   "metadata": {},
   "outputs": [
    {
     "data": {
      "text/plain": [
       "2.0"
      ]
     },
     "execution_count": 8,
     "metadata": {},
     "output_type": "execute_result"
    }
   ],
   "source": [
    "# Division takes priority over addition - as in maths\n",
    "\n",
    "(10 + 10) / 10"
   ]
  },
  {
   "cell_type": "code",
   "execution_count": 9,
   "metadata": {},
   "outputs": [
    {
     "data": {
      "text/plain": [
       "7"
      ]
     },
     "execution_count": 9,
     "metadata": {},
     "output_type": "execute_result"
    }
   ],
   "source": [
    "# This is integer division\n",
    "\n",
    "15 // 2"
   ]
  },
  {
   "cell_type": "code",
   "execution_count": 11,
   "metadata": {},
   "outputs": [
    {
     "data": {
      "text/plain": [
       "3"
      ]
     },
     "execution_count": 11,
     "metadata": {},
     "output_type": "execute_result"
    }
   ],
   "source": [
    "# Modulo operator, returning the remainder after the division\n",
    "\n",
    "15 % 4"
   ]
  },
  {
   "cell_type": "markdown",
   "metadata": {},
   "source": [
    "Discuss what booleans return"
   ]
  },
  {
   "cell_type": "code",
   "execution_count": 12,
   "metadata": {},
   "outputs": [
    {
     "data": {
      "text/plain": [
       "True"
      ]
     },
     "execution_count": 12,
     "metadata": {},
     "output_type": "execute_result"
    }
   ],
   "source": [
    "True and True "
   ]
  },
  {
   "cell_type": "code",
   "execution_count": 13,
   "metadata": {},
   "outputs": [
    {
     "data": {
      "text/plain": [
       "False"
      ]
     },
     "execution_count": 13,
     "metadata": {},
     "output_type": "execute_result"
    }
   ],
   "source": [
    "True and False"
   ]
  },
  {
   "cell_type": "code",
   "execution_count": 18,
   "metadata": {},
   "outputs": [
    {
     "data": {
      "text/plain": [
       "True"
      ]
     },
     "execution_count": 18,
     "metadata": {},
     "output_type": "execute_result"
    }
   ],
   "source": [
    "True or False"
   ]
  },
  {
   "cell_type": "code",
   "execution_count": 15,
   "metadata": {},
   "outputs": [
    {
     "data": {
      "text/plain": [
       "True"
      ]
     },
     "execution_count": 15,
     "metadata": {},
     "output_type": "execute_result"
    }
   ],
   "source": [
    "True or False"
   ]
  },
  {
   "cell_type": "code",
   "execution_count": 16,
   "metadata": {},
   "outputs": [
    {
     "data": {
      "text/plain": [
       "False"
      ]
     },
     "execution_count": 16,
     "metadata": {},
     "output_type": "execute_result"
    }
   ],
   "source": [
    "False or False"
   ]
  },
  {
   "cell_type": "code",
   "execution_count": 21,
   "metadata": {},
   "outputs": [
    {
     "data": {
      "text/plain": [
       "0"
      ]
     },
     "execution_count": 21,
     "metadata": {},
     "output_type": "execute_result"
    }
   ],
   "source": [
    "# In boolean operations, numeric values are implicitly evaluated a boolean. All numbers except zero are 'True'\n",
    "# During 'or' the first value is returned if it is True otherwise the second value\n",
    "\n",
    "'' or 0"
   ]
  },
  {
   "cell_type": "code",
   "execution_count": 28,
   "metadata": {},
   "outputs": [
    {
     "data": {
      "text/plain": [
       "0"
      ]
     },
     "execution_count": 28,
     "metadata": {},
     "output_type": "execute_result"
    }
   ],
   "source": [
    "# In 'and' operations, the second value is returned if the first is true, otherwise the first value is returned.\n",
    "\n",
    "1 and 0"
   ]
  },
  {
   "cell_type": "code",
   "execution_count": 29,
   "metadata": {},
   "outputs": [
    {
     "data": {
      "text/plain": [
       "0"
      ]
     },
     "execution_count": 29,
     "metadata": {},
     "output_type": "execute_result"
    }
   ],
   "source": [
    "# Zero is evaluated as False\n",
    "\n",
    "0 and 2"
   ]
  },
  {
   "cell_type": "code",
   "execution_count": 30,
   "metadata": {},
   "outputs": [
    {
     "data": {
      "text/plain": [
       "2"
      ]
     },
     "execution_count": 30,
     "metadata": {},
     "output_type": "execute_result"
    }
   ],
   "source": [
    "0 or 2"
   ]
  },
  {
   "cell_type": "code",
   "execution_count": 33,
   "metadata": {},
   "outputs": [
    {
     "data": {
      "text/plain": [
       "0"
      ]
     },
     "execution_count": 33,
     "metadata": {},
     "output_type": "execute_result"
    }
   ],
   "source": [
    "# 'and' takes priority over 'or'. 'not' takes priority over both.\n",
    "\n",
    "0 or 1 and 0"
   ]
  },
  {
   "cell_type": "code",
   "execution_count": 34,
   "metadata": {},
   "outputs": [
    {
     "data": {
      "text/plain": [
       "'hello'"
      ]
     },
     "execution_count": 34,
     "metadata": {},
     "output_type": "execute_result"
    }
   ],
   "source": [
    "# Empty text evaluates as 'False' any other text as 'True'\n",
    "# You can you single or double quotation marks but you cannot mix them\n",
    "\n",
    "'' or 'hello'"
   ]
  },
  {
   "cell_type": "code",
   "execution_count": 35,
   "metadata": {},
   "outputs": [
    {
     "data": {
      "text/plain": [
       "' '"
      ]
     },
     "execution_count": 35,
     "metadata": {},
     "output_type": "execute_result"
    }
   ],
   "source": [
    "# This is not an empty string but a single space character\n",
    "\n",
    "' ' or hello"
   ]
  },
  {
   "cell_type": "code",
   "execution_count": 38,
   "metadata": {},
   "outputs": [
    {
     "data": {
      "text/plain": [
       "' '"
      ]
     },
     "execution_count": 38,
     "metadata": {},
     "output_type": "execute_result"
    }
   ],
   "source": [
    "\" \" or 'hello'"
   ]
  },
  {
   "cell_type": "markdown",
   "metadata": {},
   "source": [
    "Why are these different?"
   ]
  },
  {
   "cell_type": "code",
   "execution_count": null,
   "metadata": {},
   "outputs": [],
   "source": [
    "fn()"
   ]
  },
  {
   "cell_type": "code",
   "execution_count": 41,
   "metadata": {},
   "outputs": [
    {
     "data": {
      "text/plain": [
       "(16, 16.864295)"
      ]
     },
     "execution_count": 41,
     "metadata": {},
     "output_type": "execute_result"
    }
   ],
   "source": [
    "# 'int' returns the ingeters part = always rounding down\n",
    "# for round you can provide the nummber of digits as an argument\n",
    "\n",
    "int(16.864295), round(16.864295, )"
   ]
  },
  {
   "cell_type": "markdown",
   "metadata": {},
   "source": [
    "What will be the output ?"
   ]
  },
  {
   "cell_type": "code",
   "execution_count": 45,
   "metadata": {},
   "outputs": [
    {
     "data": {
      "text/plain": [
       "'Midway upon the journey of our life I found myself within a forest dark, For the straightforward pathway had been lost.'"
      ]
     },
     "execution_count": 45,
     "metadata": {},
     "output_type": "execute_result"
    }
   ],
   "source": [
    "'Midway upon the journey of our life I found myself within a forest dark, For the straightforward pathway had been lost.'"
   ]
  },
  {
   "cell_type": "code",
   "execution_count": 46,
   "metadata": {},
   "outputs": [],
   "source": [
    "B = 'Midway upon the journey of our life I found myself within a forest dark, For the straightforward pathway had been lost.'"
   ]
  },
  {
   "cell_type": "code",
   "execution_count": 47,
   "metadata": {},
   "outputs": [
    {
     "data": {
      "text/plain": [
       "'Midway upon the journey of our life I found myself within a forest dark, For the straightforward pathway had been lost.'"
      ]
     },
     "execution_count": 47,
     "metadata": {},
     "output_type": "execute_result"
    }
   ],
   "source": [
    "B"
   ]
  },
  {
   "cell_type": "code",
   "execution_count": 48,
   "metadata": {},
   "outputs": [
    {
     "data": {
      "text/plain": [
       "1"
      ]
     },
     "execution_count": 48,
     "metadata": {},
     "output_type": "execute_result"
    }
   ],
   "source": [
    "# Case sensitive\n",
    "\n",
    "B.count('m')"
   ]
  },
  {
   "cell_type": "code",
   "execution_count": 50,
   "metadata": {},
   "outputs": [
    {
     "data": {
      "text/plain": [
       "'midway upon the journey of our life i found myself within a forest dark, for the straightforward pathway had been lost.'"
      ]
     },
     "execution_count": 50,
     "metadata": {},
     "output_type": "execute_result"
    }
   ],
   "source": [
    "B.lower()"
   ]
  },
  {
   "cell_type": "code",
   "execution_count": 49,
   "metadata": {},
   "outputs": [
    {
     "data": {
      "text/plain": [
       "2"
      ]
     },
     "execution_count": 49,
     "metadata": {},
     "output_type": "execute_result"
    }
   ],
   "source": [
    "# You can chain methods\n",
    "\n",
    "B.lower().count('m')"
   ]
  },
  {
   "cell_type": "code",
   "execution_count": 51,
   "metadata": {},
   "outputs": [
    {
     "data": {
      "text/plain": [
       "['Midway',\n",
       " 'upon',\n",
       " 'the',\n",
       " 'journey',\n",
       " 'of',\n",
       " 'our',\n",
       " 'life',\n",
       " 'I',\n",
       " 'found',\n",
       " 'myself',\n",
       " 'within',\n",
       " 'a',\n",
       " 'forest',\n",
       " 'dark,',\n",
       " 'For',\n",
       " 'the',\n",
       " 'straightforward',\n",
       " 'pathway',\n",
       " 'had',\n",
       " 'been',\n",
       " 'lost.']"
      ]
     },
     "execution_count": 51,
     "metadata": {},
     "output_type": "execute_result"
    }
   ],
   "source": [
    "# Splits a text into a list - introduce 'lists'\n",
    "\n",
    "B.split(' ')"
   ]
  },
  {
   "cell_type": "code",
   "execution_count": 52,
   "metadata": {},
   "outputs": [
    {
     "data": {
      "text/plain": [
       "119"
      ]
     },
     "execution_count": 52,
     "metadata": {},
     "output_type": "execute_result"
    }
   ],
   "source": [
    "len(B)"
   ]
  },
  {
   "cell_type": "code",
   "execution_count": 53,
   "metadata": {},
   "outputs": [
    {
     "data": {
      "text/plain": [
       "21"
      ]
     },
     "execution_count": 53,
     "metadata": {},
     "output_type": "execute_result"
    }
   ],
   "source": [
    "len(B.split(' '))"
   ]
  },
  {
   "cell_type": "markdown",
   "metadata": {},
   "source": [
    "Finally: what the heck is this"
   ]
  },
  {
   "cell_type": "code",
   "execution_count": 54,
   "metadata": {
    "scrolled": false
   },
   "outputs": [
    {
     "data": {
      "text/plain": [
       "['__add__',\n",
       " '__class__',\n",
       " '__contains__',\n",
       " '__delattr__',\n",
       " '__dir__',\n",
       " '__doc__',\n",
       " '__eq__',\n",
       " '__format__',\n",
       " '__ge__',\n",
       " '__getattribute__',\n",
       " '__getitem__',\n",
       " '__getnewargs__',\n",
       " '__gt__',\n",
       " '__hash__',\n",
       " '__init__',\n",
       " '__init_subclass__',\n",
       " '__iter__',\n",
       " '__le__',\n",
       " '__len__',\n",
       " '__lt__',\n",
       " '__mod__',\n",
       " '__mul__',\n",
       " '__ne__',\n",
       " '__new__',\n",
       " '__reduce__',\n",
       " '__reduce_ex__',\n",
       " '__repr__',\n",
       " '__rmod__',\n",
       " '__rmul__',\n",
       " '__setattr__',\n",
       " '__sizeof__',\n",
       " '__str__',\n",
       " '__subclasshook__',\n",
       " 'capitalize',\n",
       " 'casefold',\n",
       " 'center',\n",
       " 'count',\n",
       " 'encode',\n",
       " 'endswith',\n",
       " 'expandtabs',\n",
       " 'find',\n",
       " 'format',\n",
       " 'format_map',\n",
       " 'index',\n",
       " 'isalnum',\n",
       " 'isalpha',\n",
       " 'isascii',\n",
       " 'isdecimal',\n",
       " 'isdigit',\n",
       " 'isidentifier',\n",
       " 'islower',\n",
       " 'isnumeric',\n",
       " 'isprintable',\n",
       " 'isspace',\n",
       " 'istitle',\n",
       " 'isupper',\n",
       " 'join',\n",
       " 'ljust',\n",
       " 'lower',\n",
       " 'lstrip',\n",
       " 'maketrans',\n",
       " 'partition',\n",
       " 'replace',\n",
       " 'rfind',\n",
       " 'rindex',\n",
       " 'rjust',\n",
       " 'rpartition',\n",
       " 'rsplit',\n",
       " 'rstrip',\n",
       " 'split',\n",
       " 'splitlines',\n",
       " 'startswith',\n",
       " 'strip',\n",
       " 'swapcase',\n",
       " 'title',\n",
       " 'translate',\n",
       " 'upper',\n",
       " 'zfill']"
      ]
     },
     "execution_count": 54,
     "metadata": {},
     "output_type": "execute_result"
    }
   ],
   "source": [
    "# Lists all attributes and methods of an object\n",
    "\n",
    "dir(B)"
   ]
  },
  {
   "cell_type": "code",
   "execution_count": 56,
   "metadata": {},
   "outputs": [
    {
     "data": {
      "text/plain": [
       "'Midway Upon The Journey Of Our Life I Found Myself Within A Forest Dark, For The Straightforward Pathway Had Been Lost.'"
      ]
     },
     "execution_count": 56,
     "metadata": {},
     "output_type": "execute_result"
    }
   ],
   "source": [
    "B.title()"
   ]
  },
  {
   "cell_type": "markdown",
   "metadata": {},
   "source": [
    "## 2. Type of medical data"
   ]
  },
  {
   "cell_type": "markdown",
   "metadata": {},
   "source": [
    "1.  Tabular data\n",
    "    - Obtained from sensors of medical devices, monitors etc.\n",
    "    - Typically retrieved as csv or other text format \n",
    "    - Usually two-dimensional\n",
    "    - Usually time series data\n",
    "    \n",
    "    ![alt text](./data/tabular_data.jpg)\n",
    "    \n",
    "_____\n",
    "\n",
    "\n",
    "2.  Image data\n",
    "    - Obtained from imaging medical devices\n",
    "    - Usually as raster images (jpg,png, tiff etc file format, different compression methods)\n",
    "    - At least 3-dimensional, but frequently 4 or 5 dimensional\n",
    "   \n",
    "   \n",
    "  \n",
    "  ![alt text](./data/newborn_brain_image.jpg)\n",
    "  \n",
    "_____  \n",
    "\n",
    "\n",
    "  3. Medical free text\n",
    "    - From electronic medical notes or from medical knowledge databases (e.g., PubMed)\n",
    "    - Typically retrieved as text (.txt) files\n",
    "    - Unstructured\n",
    "    - Can be time series\n",
    "    \n",
    "    \n",
    "   ![alt text](./data/medical_freetext.jpg)"
   ]
  },
  {
   "cell_type": "markdown",
   "metadata": {},
   "source": [
    "## 3. How to read in tabular data "
   ]
  },
  {
   "cell_type": "code",
   "execution_count": 60,
   "metadata": {},
   "outputs": [],
   "source": [
    "# Modules need to be imported first\n",
    "import pandas as pd"
   ]
  },
  {
   "cell_type": "markdown",
   "metadata": {},
   "source": [
    "##### On Mac / Linux"
   ]
  },
  {
   "cell_type": "code",
   "execution_count": 63,
   "metadata": {},
   "outputs": [
    {
     "data": {
      "text/plain": [
       "['hello', 'wordl']"
      ]
     },
     "execution_count": 63,
     "metadata": {},
     "output_type": "execute_result"
    }
   ],
   "source": [
    "'hello wordld'.split()"
   ]
  },
  {
   "cell_type": "code",
   "execution_count": 64,
   "metadata": {},
   "outputs": [
    {
     "data": {
      "text/plain": [
       "11"
      ]
     },
     "execution_count": 64,
     "metadata": {},
     "output_type": "execute_result"
    }
   ],
   "source": [
    "len('hello world')"
   ]
  },
  {
   "cell_type": "code",
   "execution_count": 62,
   "metadata": {
    "scrolled": false
   },
   "outputs": [
    {
     "data": {
      "text/html": [
       "<div>\n",
       "<style scoped>\n",
       "    .dataframe tbody tr th:only-of-type {\n",
       "        vertical-align: middle;\n",
       "    }\n",
       "\n",
       "    .dataframe tbody tr th {\n",
       "        vertical-align: top;\n",
       "    }\n",
       "\n",
       "    .dataframe thead th {\n",
       "        text-align: right;\n",
       "    }\n",
       "</style>\n",
       "<table border=\"1\" class=\"dataframe\">\n",
       "  <thead>\n",
       "    <tr style=\"text-align: right;\">\n",
       "      <th></th>\n",
       "      <th>Time [ms]</th>\n",
       "      <th>Date</th>\n",
       "      <th>Time</th>\n",
       "      <th>Rel.Time [s]</th>\n",
       "      <th>5001|MVe [L/min]</th>\n",
       "      <th>5001|MVi [L/min]</th>\n",
       "      <th>5001|Cdyn [L/bar]</th>\n",
       "      <th>5001|R [mbar/L/s]</th>\n",
       "      <th>5001|MVespon [L/min]</th>\n",
       "      <th>5001|Rpat [mbar/L/s]</th>\n",
       "      <th>...</th>\n",
       "      <th>5001|TC [s]</th>\n",
       "      <th>5001|TCe [s]</th>\n",
       "      <th>5001|C20/Cdyn [no unit]</th>\n",
       "      <th>5001|VTe [mL]</th>\n",
       "      <th>5001|VTi [mL]</th>\n",
       "      <th>5001|EIP [mbar]</th>\n",
       "      <th>5001|MVleak [L/min]</th>\n",
       "      <th>5001|Tispon [s]</th>\n",
       "      <th>5001|I:Espon (I-Part) [no unit]</th>\n",
       "      <th>5001|I:Espon (E-Part) [no unit]</th>\n",
       "    </tr>\n",
       "  </thead>\n",
       "  <tbody>\n",
       "    <tr>\n",
       "      <th>0</th>\n",
       "      <td>1604324559904</td>\n",
       "      <td>2020-11-02</td>\n",
       "      <td>13:42:39.904</td>\n",
       "      <td>0</td>\n",
       "      <td>0.20</td>\n",
       "      <td>0.21</td>\n",
       "      <td>0.21</td>\n",
       "      <td>146.0</td>\n",
       "      <td>0.0</td>\n",
       "      <td>128.0</td>\n",
       "      <td>...</td>\n",
       "      <td>NaN</td>\n",
       "      <td>NaN</td>\n",
       "      <td>NaN</td>\n",
       "      <td>NaN</td>\n",
       "      <td>NaN</td>\n",
       "      <td>NaN</td>\n",
       "      <td>NaN</td>\n",
       "      <td>NaN</td>\n",
       "      <td>NaN</td>\n",
       "      <td>NaN</td>\n",
       "    </tr>\n",
       "    <tr>\n",
       "      <th>1</th>\n",
       "      <td>1604324560029</td>\n",
       "      <td>2020-11-02</td>\n",
       "      <td>13:42:40.029</td>\n",
       "      <td>0</td>\n",
       "      <td>NaN</td>\n",
       "      <td>NaN</td>\n",
       "      <td>NaN</td>\n",
       "      <td>NaN</td>\n",
       "      <td>NaN</td>\n",
       "      <td>NaN</td>\n",
       "      <td>...</td>\n",
       "      <td>0.03</td>\n",
       "      <td>0.11</td>\n",
       "      <td>0.55</td>\n",
       "      <td>3.4</td>\n",
       "      <td>3.4</td>\n",
       "      <td>21.0</td>\n",
       "      <td>0.00</td>\n",
       "      <td>NaN</td>\n",
       "      <td>NaN</td>\n",
       "      <td>NaN</td>\n",
       "    </tr>\n",
       "    <tr>\n",
       "      <th>2</th>\n",
       "      <td>1604324560951</td>\n",
       "      <td>2020-11-02</td>\n",
       "      <td>13:42:40.951</td>\n",
       "      <td>1</td>\n",
       "      <td>0.20</td>\n",
       "      <td>0.21</td>\n",
       "      <td>0.22</td>\n",
       "      <td>146.0</td>\n",
       "      <td>0.0</td>\n",
       "      <td>128.0</td>\n",
       "      <td>...</td>\n",
       "      <td>NaN</td>\n",
       "      <td>NaN</td>\n",
       "      <td>NaN</td>\n",
       "      <td>NaN</td>\n",
       "      <td>NaN</td>\n",
       "      <td>NaN</td>\n",
       "      <td>NaN</td>\n",
       "      <td>NaN</td>\n",
       "      <td>NaN</td>\n",
       "      <td>NaN</td>\n",
       "    </tr>\n",
       "    <tr>\n",
       "      <th>3</th>\n",
       "      <td>1604324561060</td>\n",
       "      <td>2020-11-02</td>\n",
       "      <td>13:42:41.060</td>\n",
       "      <td>1</td>\n",
       "      <td>NaN</td>\n",
       "      <td>NaN</td>\n",
       "      <td>NaN</td>\n",
       "      <td>NaN</td>\n",
       "      <td>NaN</td>\n",
       "      <td>NaN</td>\n",
       "      <td>...</td>\n",
       "      <td>0.03</td>\n",
       "      <td>0.21</td>\n",
       "      <td>0.55</td>\n",
       "      <td>8.2</td>\n",
       "      <td>3.6</td>\n",
       "      <td>22.0</td>\n",
       "      <td>0.00</td>\n",
       "      <td>NaN</td>\n",
       "      <td>NaN</td>\n",
       "      <td>NaN</td>\n",
       "    </tr>\n",
       "    <tr>\n",
       "      <th>4</th>\n",
       "      <td>1604324561935</td>\n",
       "      <td>2020-11-02</td>\n",
       "      <td>13:42:41.935</td>\n",
       "      <td>2</td>\n",
       "      <td>0.20</td>\n",
       "      <td>0.21</td>\n",
       "      <td>0.26</td>\n",
       "      <td>154.0</td>\n",
       "      <td>0.0</td>\n",
       "      <td>136.0</td>\n",
       "      <td>...</td>\n",
       "      <td>NaN</td>\n",
       "      <td>NaN</td>\n",
       "      <td>NaN</td>\n",
       "      <td>NaN</td>\n",
       "      <td>NaN</td>\n",
       "      <td>NaN</td>\n",
       "      <td>NaN</td>\n",
       "      <td>NaN</td>\n",
       "      <td>NaN</td>\n",
       "      <td>NaN</td>\n",
       "    </tr>\n",
       "    <tr>\n",
       "      <th>...</th>\n",
       "      <td>...</td>\n",
       "      <td>...</td>\n",
       "      <td>...</td>\n",
       "      <td>...</td>\n",
       "      <td>...</td>\n",
       "      <td>...</td>\n",
       "      <td>...</td>\n",
       "      <td>...</td>\n",
       "      <td>...</td>\n",
       "      <td>...</td>\n",
       "      <td>...</td>\n",
       "      <td>...</td>\n",
       "      <td>...</td>\n",
       "      <td>...</td>\n",
       "      <td>...</td>\n",
       "      <td>...</td>\n",
       "      <td>...</td>\n",
       "      <td>...</td>\n",
       "      <td>...</td>\n",
       "      <td>...</td>\n",
       "      <td>...</td>\n",
       "    </tr>\n",
       "    <tr>\n",
       "      <th>689431</th>\n",
       "      <td>1604669233906</td>\n",
       "      <td>2020-11-06</td>\n",
       "      <td>13:27:13.906</td>\n",
       "      <td>344674</td>\n",
       "      <td>0.22</td>\n",
       "      <td>0.22</td>\n",
       "      <td>0.21</td>\n",
       "      <td>164.0</td>\n",
       "      <td>0.0</td>\n",
       "      <td>150.0</td>\n",
       "      <td>...</td>\n",
       "      <td>NaN</td>\n",
       "      <td>NaN</td>\n",
       "      <td>NaN</td>\n",
       "      <td>NaN</td>\n",
       "      <td>NaN</td>\n",
       "      <td>NaN</td>\n",
       "      <td>NaN</td>\n",
       "      <td>NaN</td>\n",
       "      <td>NaN</td>\n",
       "      <td>NaN</td>\n",
       "    </tr>\n",
       "    <tr>\n",
       "      <th>689432</th>\n",
       "      <td>1604669234031</td>\n",
       "      <td>2020-11-06</td>\n",
       "      <td>13:27:14.031</td>\n",
       "      <td>344674</td>\n",
       "      <td>NaN</td>\n",
       "      <td>NaN</td>\n",
       "      <td>NaN</td>\n",
       "      <td>NaN</td>\n",
       "      <td>NaN</td>\n",
       "      <td>NaN</td>\n",
       "      <td>...</td>\n",
       "      <td>0.04</td>\n",
       "      <td>0.11</td>\n",
       "      <td>0.75</td>\n",
       "      <td>3.1</td>\n",
       "      <td>2.6</td>\n",
       "      <td>18.0</td>\n",
       "      <td>0.02</td>\n",
       "      <td>NaN</td>\n",
       "      <td>NaN</td>\n",
       "      <td>NaN</td>\n",
       "    </tr>\n",
       "    <tr>\n",
       "      <th>689433</th>\n",
       "      <td>1604669234906</td>\n",
       "      <td>2020-11-06</td>\n",
       "      <td>13:27:14.906</td>\n",
       "      <td>344675</td>\n",
       "      <td>0.22</td>\n",
       "      <td>0.22</td>\n",
       "      <td>0.21</td>\n",
       "      <td>164.0</td>\n",
       "      <td>0.0</td>\n",
       "      <td>150.0</td>\n",
       "      <td>...</td>\n",
       "      <td>NaN</td>\n",
       "      <td>NaN</td>\n",
       "      <td>NaN</td>\n",
       "      <td>NaN</td>\n",
       "      <td>NaN</td>\n",
       "      <td>NaN</td>\n",
       "      <td>NaN</td>\n",
       "      <td>NaN</td>\n",
       "      <td>NaN</td>\n",
       "      <td>NaN</td>\n",
       "    </tr>\n",
       "    <tr>\n",
       "      <th>689434</th>\n",
       "      <td>1604669235046</td>\n",
       "      <td>2020-11-06</td>\n",
       "      <td>13:27:15.046</td>\n",
       "      <td>344675</td>\n",
       "      <td>NaN</td>\n",
       "      <td>NaN</td>\n",
       "      <td>NaN</td>\n",
       "      <td>NaN</td>\n",
       "      <td>NaN</td>\n",
       "      <td>NaN</td>\n",
       "      <td>...</td>\n",
       "      <td>0.01</td>\n",
       "      <td>0.15</td>\n",
       "      <td>0.75</td>\n",
       "      <td>4.1</td>\n",
       "      <td>2.6</td>\n",
       "      <td>19.0</td>\n",
       "      <td>0.01</td>\n",
       "      <td>NaN</td>\n",
       "      <td>NaN</td>\n",
       "      <td>NaN</td>\n",
       "    </tr>\n",
       "    <tr>\n",
       "      <th>689435</th>\n",
       "      <td>1604669235937</td>\n",
       "      <td>2020-11-06</td>\n",
       "      <td>13:27:15.937</td>\n",
       "      <td>344676</td>\n",
       "      <td>0.22</td>\n",
       "      <td>0.22</td>\n",
       "      <td>0.05</td>\n",
       "      <td>164.0</td>\n",
       "      <td>0.0</td>\n",
       "      <td>150.0</td>\n",
       "      <td>...</td>\n",
       "      <td>NaN</td>\n",
       "      <td>NaN</td>\n",
       "      <td>NaN</td>\n",
       "      <td>NaN</td>\n",
       "      <td>NaN</td>\n",
       "      <td>NaN</td>\n",
       "      <td>NaN</td>\n",
       "      <td>NaN</td>\n",
       "      <td>NaN</td>\n",
       "      <td>NaN</td>\n",
       "    </tr>\n",
       "  </tbody>\n",
       "</table>\n",
       "<p>689436 rows × 47 columns</p>\n",
       "</div>"
      ],
      "text/plain": [
       "            Time [ms]        Date          Time  Rel.Time [s]  \\\n",
       "0       1604324559904  2020-11-02  13:42:39.904             0   \n",
       "1       1604324560029  2020-11-02  13:42:40.029             0   \n",
       "2       1604324560951  2020-11-02  13:42:40.951             1   \n",
       "3       1604324561060  2020-11-02  13:42:41.060             1   \n",
       "4       1604324561935  2020-11-02  13:42:41.935             2   \n",
       "...               ...         ...           ...           ...   \n",
       "689431  1604669233906  2020-11-06  13:27:13.906        344674   \n",
       "689432  1604669234031  2020-11-06  13:27:14.031        344674   \n",
       "689433  1604669234906  2020-11-06  13:27:14.906        344675   \n",
       "689434  1604669235046  2020-11-06  13:27:15.046        344675   \n",
       "689435  1604669235937  2020-11-06  13:27:15.937        344676   \n",
       "\n",
       "        5001|MVe [L/min]  5001|MVi [L/min]  5001|Cdyn [L/bar]  \\\n",
       "0                   0.20              0.21               0.21   \n",
       "1                    NaN               NaN                NaN   \n",
       "2                   0.20              0.21               0.22   \n",
       "3                    NaN               NaN                NaN   \n",
       "4                   0.20              0.21               0.26   \n",
       "...                  ...               ...                ...   \n",
       "689431              0.22              0.22               0.21   \n",
       "689432               NaN               NaN                NaN   \n",
       "689433              0.22              0.22               0.21   \n",
       "689434               NaN               NaN                NaN   \n",
       "689435              0.22              0.22               0.05   \n",
       "\n",
       "        5001|R [mbar/L/s]  5001|MVespon [L/min]  5001|Rpat [mbar/L/s]  ...  \\\n",
       "0                   146.0                   0.0                 128.0  ...   \n",
       "1                     NaN                   NaN                   NaN  ...   \n",
       "2                   146.0                   0.0                 128.0  ...   \n",
       "3                     NaN                   NaN                   NaN  ...   \n",
       "4                   154.0                   0.0                 136.0  ...   \n",
       "...                   ...                   ...                   ...  ...   \n",
       "689431              164.0                   0.0                 150.0  ...   \n",
       "689432                NaN                   NaN                   NaN  ...   \n",
       "689433              164.0                   0.0                 150.0  ...   \n",
       "689434                NaN                   NaN                   NaN  ...   \n",
       "689435              164.0                   0.0                 150.0  ...   \n",
       "\n",
       "        5001|TC [s]  5001|TCe [s]  5001|C20/Cdyn [no unit]  5001|VTe [mL]  \\\n",
       "0               NaN           NaN                      NaN            NaN   \n",
       "1              0.03          0.11                     0.55            3.4   \n",
       "2               NaN           NaN                      NaN            NaN   \n",
       "3              0.03          0.21                     0.55            8.2   \n",
       "4               NaN           NaN                      NaN            NaN   \n",
       "...             ...           ...                      ...            ...   \n",
       "689431          NaN           NaN                      NaN            NaN   \n",
       "689432         0.04          0.11                     0.75            3.1   \n",
       "689433          NaN           NaN                      NaN            NaN   \n",
       "689434         0.01          0.15                     0.75            4.1   \n",
       "689435          NaN           NaN                      NaN            NaN   \n",
       "\n",
       "        5001|VTi [mL]  5001|EIP [mbar]  5001|MVleak [L/min]  5001|Tispon [s]  \\\n",
       "0                 NaN              NaN                  NaN              NaN   \n",
       "1                 3.4             21.0                 0.00              NaN   \n",
       "2                 NaN              NaN                  NaN              NaN   \n",
       "3                 3.6             22.0                 0.00              NaN   \n",
       "4                 NaN              NaN                  NaN              NaN   \n",
       "...               ...              ...                  ...              ...   \n",
       "689431            NaN              NaN                  NaN              NaN   \n",
       "689432            2.6             18.0                 0.02              NaN   \n",
       "689433            NaN              NaN                  NaN              NaN   \n",
       "689434            2.6             19.0                 0.01              NaN   \n",
       "689435            NaN              NaN                  NaN              NaN   \n",
       "\n",
       "        5001|I:Espon (I-Part) [no unit]  5001|I:Espon (E-Part) [no unit]  \n",
       "0                                   NaN                              NaN  \n",
       "1                                   NaN                              NaN  \n",
       "2                                   NaN                              NaN  \n",
       "3                                   NaN                              NaN  \n",
       "4                                   NaN                              NaN  \n",
       "...                                 ...                              ...  \n",
       "689431                              NaN                              NaN  \n",
       "689432                              NaN                              NaN  \n",
       "689433                              NaN                              NaN  \n",
       "689434                              NaN                              NaN  \n",
       "689435                              NaN                              NaN  \n",
       "\n",
       "[689436 rows x 47 columns]"
      ]
     },
     "execution_count": 62,
     "metadata": {},
     "output_type": "execute_result"
    }
   ],
   "source": [
    "# Imported by not bound to a variable. We cannot use it later.\n",
    "\n",
    "pd.read_csv(\"data/CsvLogBase_2020-11-02_134238.904_slow_Measurement.csv.zip\")"
   ]
  },
  {
   "cell_type": "markdown",
   "metadata": {},
   "source": [
    " \n",
    " - Compare this with other expressions"
   ]
  },
  {
   "cell_type": "markdown",
   "metadata": {},
   "source": [
    "##### On windows"
   ]
  },
  {
   "cell_type": "raw",
   "metadata": {
    "scrolled": true
   },
   "source": [
    "# Imported by not bound to a variable. We cannot use it later.\n",
    "\n",
    "pd.read_csv(r'\\data\\CsvLogBase_2020-11-02_134238.904_slow_Measurement.csv.zip')"
   ]
  },
  {
   "cell_type": "markdown",
   "metadata": {},
   "source": [
    "##### Works on all systems"
   ]
  },
  {
   "cell_type": "code",
   "execution_count": 70,
   "metadata": {},
   "outputs": [
    {
     "data": {
      "text/plain": [
       "'data/CsvLogBase_2020-11-02_134238.904_slow_Measurement.csv.zip'"
      ]
     },
     "execution_count": 70,
     "metadata": {},
     "output_type": "execute_result"
    }
   ],
   "source": [
    "# Imported by not bound to a variable. We cannot use it later.\n",
    "\n",
    "import os\n",
    "os.path.join('data', 'CsvLogBase_2020-11-02_134238.904_slow_Measurement.csv.zip')"
   ]
  },
  {
   "cell_type": "code",
   "execution_count": 87,
   "metadata": {},
   "outputs": [
    {
     "data": {
      "text/html": [
       "<div>\n",
       "<style scoped>\n",
       "    .dataframe tbody tr th:only-of-type {\n",
       "        vertical-align: middle;\n",
       "    }\n",
       "\n",
       "    .dataframe tbody tr th {\n",
       "        vertical-align: top;\n",
       "    }\n",
       "\n",
       "    .dataframe thead th {\n",
       "        text-align: right;\n",
       "    }\n",
       "</style>\n",
       "<table border=\"1\" class=\"dataframe\">\n",
       "  <thead>\n",
       "    <tr style=\"text-align: right;\">\n",
       "      <th></th>\n",
       "      <th>Time [ms]</th>\n",
       "      <th>Date</th>\n",
       "      <th>Time</th>\n",
       "      <th>Rel.Time [s]</th>\n",
       "      <th>5001|MVe [L/min]</th>\n",
       "      <th>5001|MVi [L/min]</th>\n",
       "      <th>5001|Cdyn [L/bar]</th>\n",
       "      <th>5001|R [mbar/L/s]</th>\n",
       "      <th>5001|MVespon [L/min]</th>\n",
       "      <th>5001|Rpat [mbar/L/s]</th>\n",
       "      <th>...</th>\n",
       "      <th>5001|TC [s]</th>\n",
       "      <th>5001|TCe [s]</th>\n",
       "      <th>5001|C20/Cdyn [no unit]</th>\n",
       "      <th>5001|VTe [mL]</th>\n",
       "      <th>5001|VTi [mL]</th>\n",
       "      <th>5001|EIP [mbar]</th>\n",
       "      <th>5001|MVleak [L/min]</th>\n",
       "      <th>5001|Tispon [s]</th>\n",
       "      <th>5001|I:Espon (I-Part) [no unit]</th>\n",
       "      <th>5001|I:Espon (E-Part) [no unit]</th>\n",
       "    </tr>\n",
       "  </thead>\n",
       "  <tbody>\n",
       "    <tr>\n",
       "      <th>0</th>\n",
       "      <td>1604324559904</td>\n",
       "      <td>2020-11-02</td>\n",
       "      <td>13:42:39.904</td>\n",
       "      <td>0</td>\n",
       "      <td>0.20</td>\n",
       "      <td>0.21</td>\n",
       "      <td>0.21</td>\n",
       "      <td>146.0</td>\n",
       "      <td>0.0</td>\n",
       "      <td>128.0</td>\n",
       "      <td>...</td>\n",
       "      <td>NaN</td>\n",
       "      <td>NaN</td>\n",
       "      <td>NaN</td>\n",
       "      <td>NaN</td>\n",
       "      <td>NaN</td>\n",
       "      <td>NaN</td>\n",
       "      <td>NaN</td>\n",
       "      <td>NaN</td>\n",
       "      <td>NaN</td>\n",
       "      <td>NaN</td>\n",
       "    </tr>\n",
       "    <tr>\n",
       "      <th>1</th>\n",
       "      <td>1604324560029</td>\n",
       "      <td>2020-11-02</td>\n",
       "      <td>13:42:40.029</td>\n",
       "      <td>0</td>\n",
       "      <td>NaN</td>\n",
       "      <td>NaN</td>\n",
       "      <td>NaN</td>\n",
       "      <td>NaN</td>\n",
       "      <td>NaN</td>\n",
       "      <td>NaN</td>\n",
       "      <td>...</td>\n",
       "      <td>0.03</td>\n",
       "      <td>0.11</td>\n",
       "      <td>0.55</td>\n",
       "      <td>3.4</td>\n",
       "      <td>3.4</td>\n",
       "      <td>21.0</td>\n",
       "      <td>0.00</td>\n",
       "      <td>NaN</td>\n",
       "      <td>NaN</td>\n",
       "      <td>NaN</td>\n",
       "    </tr>\n",
       "    <tr>\n",
       "      <th>2</th>\n",
       "      <td>1604324560951</td>\n",
       "      <td>2020-11-02</td>\n",
       "      <td>13:42:40.951</td>\n",
       "      <td>1</td>\n",
       "      <td>0.20</td>\n",
       "      <td>0.21</td>\n",
       "      <td>0.22</td>\n",
       "      <td>146.0</td>\n",
       "      <td>0.0</td>\n",
       "      <td>128.0</td>\n",
       "      <td>...</td>\n",
       "      <td>NaN</td>\n",
       "      <td>NaN</td>\n",
       "      <td>NaN</td>\n",
       "      <td>NaN</td>\n",
       "      <td>NaN</td>\n",
       "      <td>NaN</td>\n",
       "      <td>NaN</td>\n",
       "      <td>NaN</td>\n",
       "      <td>NaN</td>\n",
       "      <td>NaN</td>\n",
       "    </tr>\n",
       "    <tr>\n",
       "      <th>3</th>\n",
       "      <td>1604324561060</td>\n",
       "      <td>2020-11-02</td>\n",
       "      <td>13:42:41.060</td>\n",
       "      <td>1</td>\n",
       "      <td>NaN</td>\n",
       "      <td>NaN</td>\n",
       "      <td>NaN</td>\n",
       "      <td>NaN</td>\n",
       "      <td>NaN</td>\n",
       "      <td>NaN</td>\n",
       "      <td>...</td>\n",
       "      <td>0.03</td>\n",
       "      <td>0.21</td>\n",
       "      <td>0.55</td>\n",
       "      <td>8.2</td>\n",
       "      <td>3.6</td>\n",
       "      <td>22.0</td>\n",
       "      <td>0.00</td>\n",
       "      <td>NaN</td>\n",
       "      <td>NaN</td>\n",
       "      <td>NaN</td>\n",
       "    </tr>\n",
       "    <tr>\n",
       "      <th>4</th>\n",
       "      <td>1604324561935</td>\n",
       "      <td>2020-11-02</td>\n",
       "      <td>13:42:41.935</td>\n",
       "      <td>2</td>\n",
       "      <td>0.20</td>\n",
       "      <td>0.21</td>\n",
       "      <td>0.26</td>\n",
       "      <td>154.0</td>\n",
       "      <td>0.0</td>\n",
       "      <td>136.0</td>\n",
       "      <td>...</td>\n",
       "      <td>NaN</td>\n",
       "      <td>NaN</td>\n",
       "      <td>NaN</td>\n",
       "      <td>NaN</td>\n",
       "      <td>NaN</td>\n",
       "      <td>NaN</td>\n",
       "      <td>NaN</td>\n",
       "      <td>NaN</td>\n",
       "      <td>NaN</td>\n",
       "      <td>NaN</td>\n",
       "    </tr>\n",
       "    <tr>\n",
       "      <th>...</th>\n",
       "      <td>...</td>\n",
       "      <td>...</td>\n",
       "      <td>...</td>\n",
       "      <td>...</td>\n",
       "      <td>...</td>\n",
       "      <td>...</td>\n",
       "      <td>...</td>\n",
       "      <td>...</td>\n",
       "      <td>...</td>\n",
       "      <td>...</td>\n",
       "      <td>...</td>\n",
       "      <td>...</td>\n",
       "      <td>...</td>\n",
       "      <td>...</td>\n",
       "      <td>...</td>\n",
       "      <td>...</td>\n",
       "      <td>...</td>\n",
       "      <td>...</td>\n",
       "      <td>...</td>\n",
       "      <td>...</td>\n",
       "      <td>...</td>\n",
       "    </tr>\n",
       "    <tr>\n",
       "      <th>689431</th>\n",
       "      <td>1604669233906</td>\n",
       "      <td>2020-11-06</td>\n",
       "      <td>13:27:13.906</td>\n",
       "      <td>344674</td>\n",
       "      <td>0.22</td>\n",
       "      <td>0.22</td>\n",
       "      <td>0.21</td>\n",
       "      <td>164.0</td>\n",
       "      <td>0.0</td>\n",
       "      <td>150.0</td>\n",
       "      <td>...</td>\n",
       "      <td>NaN</td>\n",
       "      <td>NaN</td>\n",
       "      <td>NaN</td>\n",
       "      <td>NaN</td>\n",
       "      <td>NaN</td>\n",
       "      <td>NaN</td>\n",
       "      <td>NaN</td>\n",
       "      <td>NaN</td>\n",
       "      <td>NaN</td>\n",
       "      <td>NaN</td>\n",
       "    </tr>\n",
       "    <tr>\n",
       "      <th>689432</th>\n",
       "      <td>1604669234031</td>\n",
       "      <td>2020-11-06</td>\n",
       "      <td>13:27:14.031</td>\n",
       "      <td>344674</td>\n",
       "      <td>NaN</td>\n",
       "      <td>NaN</td>\n",
       "      <td>NaN</td>\n",
       "      <td>NaN</td>\n",
       "      <td>NaN</td>\n",
       "      <td>NaN</td>\n",
       "      <td>...</td>\n",
       "      <td>0.04</td>\n",
       "      <td>0.11</td>\n",
       "      <td>0.75</td>\n",
       "      <td>3.1</td>\n",
       "      <td>2.6</td>\n",
       "      <td>18.0</td>\n",
       "      <td>0.02</td>\n",
       "      <td>NaN</td>\n",
       "      <td>NaN</td>\n",
       "      <td>NaN</td>\n",
       "    </tr>\n",
       "    <tr>\n",
       "      <th>689433</th>\n",
       "      <td>1604669234906</td>\n",
       "      <td>2020-11-06</td>\n",
       "      <td>13:27:14.906</td>\n",
       "      <td>344675</td>\n",
       "      <td>0.22</td>\n",
       "      <td>0.22</td>\n",
       "      <td>0.21</td>\n",
       "      <td>164.0</td>\n",
       "      <td>0.0</td>\n",
       "      <td>150.0</td>\n",
       "      <td>...</td>\n",
       "      <td>NaN</td>\n",
       "      <td>NaN</td>\n",
       "      <td>NaN</td>\n",
       "      <td>NaN</td>\n",
       "      <td>NaN</td>\n",
       "      <td>NaN</td>\n",
       "      <td>NaN</td>\n",
       "      <td>NaN</td>\n",
       "      <td>NaN</td>\n",
       "      <td>NaN</td>\n",
       "    </tr>\n",
       "    <tr>\n",
       "      <th>689434</th>\n",
       "      <td>1604669235046</td>\n",
       "      <td>2020-11-06</td>\n",
       "      <td>13:27:15.046</td>\n",
       "      <td>344675</td>\n",
       "      <td>NaN</td>\n",
       "      <td>NaN</td>\n",
       "      <td>NaN</td>\n",
       "      <td>NaN</td>\n",
       "      <td>NaN</td>\n",
       "      <td>NaN</td>\n",
       "      <td>...</td>\n",
       "      <td>0.01</td>\n",
       "      <td>0.15</td>\n",
       "      <td>0.75</td>\n",
       "      <td>4.1</td>\n",
       "      <td>2.6</td>\n",
       "      <td>19.0</td>\n",
       "      <td>0.01</td>\n",
       "      <td>NaN</td>\n",
       "      <td>NaN</td>\n",
       "      <td>NaN</td>\n",
       "    </tr>\n",
       "    <tr>\n",
       "      <th>689435</th>\n",
       "      <td>1604669235937</td>\n",
       "      <td>2020-11-06</td>\n",
       "      <td>13:27:15.937</td>\n",
       "      <td>344676</td>\n",
       "      <td>0.22</td>\n",
       "      <td>0.22</td>\n",
       "      <td>0.05</td>\n",
       "      <td>164.0</td>\n",
       "      <td>0.0</td>\n",
       "      <td>150.0</td>\n",
       "      <td>...</td>\n",
       "      <td>NaN</td>\n",
       "      <td>NaN</td>\n",
       "      <td>NaN</td>\n",
       "      <td>NaN</td>\n",
       "      <td>NaN</td>\n",
       "      <td>NaN</td>\n",
       "      <td>NaN</td>\n",
       "      <td>NaN</td>\n",
       "      <td>NaN</td>\n",
       "      <td>NaN</td>\n",
       "    </tr>\n",
       "  </tbody>\n",
       "</table>\n",
       "<p>689436 rows × 47 columns</p>\n",
       "</div>"
      ],
      "text/plain": [
       "            Time [ms]        Date          Time  Rel.Time [s]  \\\n",
       "0       1604324559904  2020-11-02  13:42:39.904             0   \n",
       "1       1604324560029  2020-11-02  13:42:40.029             0   \n",
       "2       1604324560951  2020-11-02  13:42:40.951             1   \n",
       "3       1604324561060  2020-11-02  13:42:41.060             1   \n",
       "4       1604324561935  2020-11-02  13:42:41.935             2   \n",
       "...               ...         ...           ...           ...   \n",
       "689431  1604669233906  2020-11-06  13:27:13.906        344674   \n",
       "689432  1604669234031  2020-11-06  13:27:14.031        344674   \n",
       "689433  1604669234906  2020-11-06  13:27:14.906        344675   \n",
       "689434  1604669235046  2020-11-06  13:27:15.046        344675   \n",
       "689435  1604669235937  2020-11-06  13:27:15.937        344676   \n",
       "\n",
       "        5001|MVe [L/min]  5001|MVi [L/min]  5001|Cdyn [L/bar]  \\\n",
       "0                   0.20              0.21               0.21   \n",
       "1                    NaN               NaN                NaN   \n",
       "2                   0.20              0.21               0.22   \n",
       "3                    NaN               NaN                NaN   \n",
       "4                   0.20              0.21               0.26   \n",
       "...                  ...               ...                ...   \n",
       "689431              0.22              0.22               0.21   \n",
       "689432               NaN               NaN                NaN   \n",
       "689433              0.22              0.22               0.21   \n",
       "689434               NaN               NaN                NaN   \n",
       "689435              0.22              0.22               0.05   \n",
       "\n",
       "        5001|R [mbar/L/s]  5001|MVespon [L/min]  5001|Rpat [mbar/L/s]  ...  \\\n",
       "0                   146.0                   0.0                 128.0  ...   \n",
       "1                     NaN                   NaN                   NaN  ...   \n",
       "2                   146.0                   0.0                 128.0  ...   \n",
       "3                     NaN                   NaN                   NaN  ...   \n",
       "4                   154.0                   0.0                 136.0  ...   \n",
       "...                   ...                   ...                   ...  ...   \n",
       "689431              164.0                   0.0                 150.0  ...   \n",
       "689432                NaN                   NaN                   NaN  ...   \n",
       "689433              164.0                   0.0                 150.0  ...   \n",
       "689434                NaN                   NaN                   NaN  ...   \n",
       "689435              164.0                   0.0                 150.0  ...   \n",
       "\n",
       "        5001|TC [s]  5001|TCe [s]  5001|C20/Cdyn [no unit]  5001|VTe [mL]  \\\n",
       "0               NaN           NaN                      NaN            NaN   \n",
       "1              0.03          0.11                     0.55            3.4   \n",
       "2               NaN           NaN                      NaN            NaN   \n",
       "3              0.03          0.21                     0.55            8.2   \n",
       "4               NaN           NaN                      NaN            NaN   \n",
       "...             ...           ...                      ...            ...   \n",
       "689431          NaN           NaN                      NaN            NaN   \n",
       "689432         0.04          0.11                     0.75            3.1   \n",
       "689433          NaN           NaN                      NaN            NaN   \n",
       "689434         0.01          0.15                     0.75            4.1   \n",
       "689435          NaN           NaN                      NaN            NaN   \n",
       "\n",
       "        5001|VTi [mL]  5001|EIP [mbar]  5001|MVleak [L/min]  5001|Tispon [s]  \\\n",
       "0                 NaN              NaN                  NaN              NaN   \n",
       "1                 3.4             21.0                 0.00              NaN   \n",
       "2                 NaN              NaN                  NaN              NaN   \n",
       "3                 3.6             22.0                 0.00              NaN   \n",
       "4                 NaN              NaN                  NaN              NaN   \n",
       "...               ...              ...                  ...              ...   \n",
       "689431            NaN              NaN                  NaN              NaN   \n",
       "689432            2.6             18.0                 0.02              NaN   \n",
       "689433            NaN              NaN                  NaN              NaN   \n",
       "689434            2.6             19.0                 0.01              NaN   \n",
       "689435            NaN              NaN                  NaN              NaN   \n",
       "\n",
       "        5001|I:Espon (I-Part) [no unit]  5001|I:Espon (E-Part) [no unit]  \n",
       "0                                   NaN                              NaN  \n",
       "1                                   NaN                              NaN  \n",
       "2                                   NaN                              NaN  \n",
       "3                                   NaN                              NaN  \n",
       "4                                   NaN                              NaN  \n",
       "...                                 ...                              ...  \n",
       "689431                              NaN                              NaN  \n",
       "689432                              NaN                              NaN  \n",
       "689433                              NaN                              NaN  \n",
       "689434                              NaN                              NaN  \n",
       "689435                              NaN                              NaN  \n",
       "\n",
       "[689436 rows x 47 columns]"
      ]
     },
     "execution_count": 87,
     "metadata": {},
     "output_type": "execute_result"
    }
   ],
   "source": [
    "# Imported by not bound to a variable. We cannot use it later.\n",
    "\n",
    "import os\n",
    "pd.read_csv(os.path.join('data', 'CsvLogBase_2020-11-02_134238.904_slow_Measurement.csv.zip'))"
   ]
  },
  {
   "cell_type": "code",
   "execution_count": 90,
   "metadata": {},
   "outputs": [],
   "source": [
    "a = 2"
   ]
  },
  {
   "cell_type": "code",
   "execution_count": 89,
   "metadata": {},
   "outputs": [],
   "source": [
    "# Now it is there for later use\n",
    "\n",
    "import os\n",
    "data = pd.read_csv(os.path.join('data', 'CsvLogBase_2020-11-02_134238.904_slow_Measurement.csv.zip'))"
   ]
  },
  {
   "cell_type": "code",
   "execution_count": 91,
   "metadata": {},
   "outputs": [
    {
     "data": {
      "text/html": [
       "<div>\n",
       "<style scoped>\n",
       "    .dataframe tbody tr th:only-of-type {\n",
       "        vertical-align: middle;\n",
       "    }\n",
       "\n",
       "    .dataframe tbody tr th {\n",
       "        vertical-align: top;\n",
       "    }\n",
       "\n",
       "    .dataframe thead th {\n",
       "        text-align: right;\n",
       "    }\n",
       "</style>\n",
       "<table border=\"1\" class=\"dataframe\">\n",
       "  <thead>\n",
       "    <tr style=\"text-align: right;\">\n",
       "      <th></th>\n",
       "      <th>Time [ms]</th>\n",
       "      <th>Date</th>\n",
       "      <th>Time</th>\n",
       "      <th>Rel.Time [s]</th>\n",
       "      <th>5001|MVe [L/min]</th>\n",
       "      <th>5001|MVi [L/min]</th>\n",
       "      <th>5001|Cdyn [L/bar]</th>\n",
       "      <th>5001|R [mbar/L/s]</th>\n",
       "      <th>5001|MVespon [L/min]</th>\n",
       "      <th>5001|Rpat [mbar/L/s]</th>\n",
       "      <th>...</th>\n",
       "      <th>5001|TC [s]</th>\n",
       "      <th>5001|TCe [s]</th>\n",
       "      <th>5001|C20/Cdyn [no unit]</th>\n",
       "      <th>5001|VTe [mL]</th>\n",
       "      <th>5001|VTi [mL]</th>\n",
       "      <th>5001|EIP [mbar]</th>\n",
       "      <th>5001|MVleak [L/min]</th>\n",
       "      <th>5001|Tispon [s]</th>\n",
       "      <th>5001|I:Espon (I-Part) [no unit]</th>\n",
       "      <th>5001|I:Espon (E-Part) [no unit]</th>\n",
       "    </tr>\n",
       "  </thead>\n",
       "  <tbody>\n",
       "    <tr>\n",
       "      <th>0</th>\n",
       "      <td>1604324559904</td>\n",
       "      <td>2020-11-02</td>\n",
       "      <td>13:42:39.904</td>\n",
       "      <td>0</td>\n",
       "      <td>0.20</td>\n",
       "      <td>0.21</td>\n",
       "      <td>0.21</td>\n",
       "      <td>146.0</td>\n",
       "      <td>0.0</td>\n",
       "      <td>128.0</td>\n",
       "      <td>...</td>\n",
       "      <td>NaN</td>\n",
       "      <td>NaN</td>\n",
       "      <td>NaN</td>\n",
       "      <td>NaN</td>\n",
       "      <td>NaN</td>\n",
       "      <td>NaN</td>\n",
       "      <td>NaN</td>\n",
       "      <td>NaN</td>\n",
       "      <td>NaN</td>\n",
       "      <td>NaN</td>\n",
       "    </tr>\n",
       "    <tr>\n",
       "      <th>1</th>\n",
       "      <td>1604324560029</td>\n",
       "      <td>2020-11-02</td>\n",
       "      <td>13:42:40.029</td>\n",
       "      <td>0</td>\n",
       "      <td>NaN</td>\n",
       "      <td>NaN</td>\n",
       "      <td>NaN</td>\n",
       "      <td>NaN</td>\n",
       "      <td>NaN</td>\n",
       "      <td>NaN</td>\n",
       "      <td>...</td>\n",
       "      <td>0.03</td>\n",
       "      <td>0.11</td>\n",
       "      <td>0.55</td>\n",
       "      <td>3.4</td>\n",
       "      <td>3.4</td>\n",
       "      <td>21.0</td>\n",
       "      <td>0.00</td>\n",
       "      <td>NaN</td>\n",
       "      <td>NaN</td>\n",
       "      <td>NaN</td>\n",
       "    </tr>\n",
       "    <tr>\n",
       "      <th>2</th>\n",
       "      <td>1604324560951</td>\n",
       "      <td>2020-11-02</td>\n",
       "      <td>13:42:40.951</td>\n",
       "      <td>1</td>\n",
       "      <td>0.20</td>\n",
       "      <td>0.21</td>\n",
       "      <td>0.22</td>\n",
       "      <td>146.0</td>\n",
       "      <td>0.0</td>\n",
       "      <td>128.0</td>\n",
       "      <td>...</td>\n",
       "      <td>NaN</td>\n",
       "      <td>NaN</td>\n",
       "      <td>NaN</td>\n",
       "      <td>NaN</td>\n",
       "      <td>NaN</td>\n",
       "      <td>NaN</td>\n",
       "      <td>NaN</td>\n",
       "      <td>NaN</td>\n",
       "      <td>NaN</td>\n",
       "      <td>NaN</td>\n",
       "    </tr>\n",
       "    <tr>\n",
       "      <th>3</th>\n",
       "      <td>1604324561060</td>\n",
       "      <td>2020-11-02</td>\n",
       "      <td>13:42:41.060</td>\n",
       "      <td>1</td>\n",
       "      <td>NaN</td>\n",
       "      <td>NaN</td>\n",
       "      <td>NaN</td>\n",
       "      <td>NaN</td>\n",
       "      <td>NaN</td>\n",
       "      <td>NaN</td>\n",
       "      <td>...</td>\n",
       "      <td>0.03</td>\n",
       "      <td>0.21</td>\n",
       "      <td>0.55</td>\n",
       "      <td>8.2</td>\n",
       "      <td>3.6</td>\n",
       "      <td>22.0</td>\n",
       "      <td>0.00</td>\n",
       "      <td>NaN</td>\n",
       "      <td>NaN</td>\n",
       "      <td>NaN</td>\n",
       "    </tr>\n",
       "    <tr>\n",
       "      <th>4</th>\n",
       "      <td>1604324561935</td>\n",
       "      <td>2020-11-02</td>\n",
       "      <td>13:42:41.935</td>\n",
       "      <td>2</td>\n",
       "      <td>0.20</td>\n",
       "      <td>0.21</td>\n",
       "      <td>0.26</td>\n",
       "      <td>154.0</td>\n",
       "      <td>0.0</td>\n",
       "      <td>136.0</td>\n",
       "      <td>...</td>\n",
       "      <td>NaN</td>\n",
       "      <td>NaN</td>\n",
       "      <td>NaN</td>\n",
       "      <td>NaN</td>\n",
       "      <td>NaN</td>\n",
       "      <td>NaN</td>\n",
       "      <td>NaN</td>\n",
       "      <td>NaN</td>\n",
       "      <td>NaN</td>\n",
       "      <td>NaN</td>\n",
       "    </tr>\n",
       "    <tr>\n",
       "      <th>...</th>\n",
       "      <td>...</td>\n",
       "      <td>...</td>\n",
       "      <td>...</td>\n",
       "      <td>...</td>\n",
       "      <td>...</td>\n",
       "      <td>...</td>\n",
       "      <td>...</td>\n",
       "      <td>...</td>\n",
       "      <td>...</td>\n",
       "      <td>...</td>\n",
       "      <td>...</td>\n",
       "      <td>...</td>\n",
       "      <td>...</td>\n",
       "      <td>...</td>\n",
       "      <td>...</td>\n",
       "      <td>...</td>\n",
       "      <td>...</td>\n",
       "      <td>...</td>\n",
       "      <td>...</td>\n",
       "      <td>...</td>\n",
       "      <td>...</td>\n",
       "    </tr>\n",
       "    <tr>\n",
       "      <th>689431</th>\n",
       "      <td>1604669233906</td>\n",
       "      <td>2020-11-06</td>\n",
       "      <td>13:27:13.906</td>\n",
       "      <td>344674</td>\n",
       "      <td>0.22</td>\n",
       "      <td>0.22</td>\n",
       "      <td>0.21</td>\n",
       "      <td>164.0</td>\n",
       "      <td>0.0</td>\n",
       "      <td>150.0</td>\n",
       "      <td>...</td>\n",
       "      <td>NaN</td>\n",
       "      <td>NaN</td>\n",
       "      <td>NaN</td>\n",
       "      <td>NaN</td>\n",
       "      <td>NaN</td>\n",
       "      <td>NaN</td>\n",
       "      <td>NaN</td>\n",
       "      <td>NaN</td>\n",
       "      <td>NaN</td>\n",
       "      <td>NaN</td>\n",
       "    </tr>\n",
       "    <tr>\n",
       "      <th>689432</th>\n",
       "      <td>1604669234031</td>\n",
       "      <td>2020-11-06</td>\n",
       "      <td>13:27:14.031</td>\n",
       "      <td>344674</td>\n",
       "      <td>NaN</td>\n",
       "      <td>NaN</td>\n",
       "      <td>NaN</td>\n",
       "      <td>NaN</td>\n",
       "      <td>NaN</td>\n",
       "      <td>NaN</td>\n",
       "      <td>...</td>\n",
       "      <td>0.04</td>\n",
       "      <td>0.11</td>\n",
       "      <td>0.75</td>\n",
       "      <td>3.1</td>\n",
       "      <td>2.6</td>\n",
       "      <td>18.0</td>\n",
       "      <td>0.02</td>\n",
       "      <td>NaN</td>\n",
       "      <td>NaN</td>\n",
       "      <td>NaN</td>\n",
       "    </tr>\n",
       "    <tr>\n",
       "      <th>689433</th>\n",
       "      <td>1604669234906</td>\n",
       "      <td>2020-11-06</td>\n",
       "      <td>13:27:14.906</td>\n",
       "      <td>344675</td>\n",
       "      <td>0.22</td>\n",
       "      <td>0.22</td>\n",
       "      <td>0.21</td>\n",
       "      <td>164.0</td>\n",
       "      <td>0.0</td>\n",
       "      <td>150.0</td>\n",
       "      <td>...</td>\n",
       "      <td>NaN</td>\n",
       "      <td>NaN</td>\n",
       "      <td>NaN</td>\n",
       "      <td>NaN</td>\n",
       "      <td>NaN</td>\n",
       "      <td>NaN</td>\n",
       "      <td>NaN</td>\n",
       "      <td>NaN</td>\n",
       "      <td>NaN</td>\n",
       "      <td>NaN</td>\n",
       "    </tr>\n",
       "    <tr>\n",
       "      <th>689434</th>\n",
       "      <td>1604669235046</td>\n",
       "      <td>2020-11-06</td>\n",
       "      <td>13:27:15.046</td>\n",
       "      <td>344675</td>\n",
       "      <td>NaN</td>\n",
       "      <td>NaN</td>\n",
       "      <td>NaN</td>\n",
       "      <td>NaN</td>\n",
       "      <td>NaN</td>\n",
       "      <td>NaN</td>\n",
       "      <td>...</td>\n",
       "      <td>0.01</td>\n",
       "      <td>0.15</td>\n",
       "      <td>0.75</td>\n",
       "      <td>4.1</td>\n",
       "      <td>2.6</td>\n",
       "      <td>19.0</td>\n",
       "      <td>0.01</td>\n",
       "      <td>NaN</td>\n",
       "      <td>NaN</td>\n",
       "      <td>NaN</td>\n",
       "    </tr>\n",
       "    <tr>\n",
       "      <th>689435</th>\n",
       "      <td>1604669235937</td>\n",
       "      <td>2020-11-06</td>\n",
       "      <td>13:27:15.937</td>\n",
       "      <td>344676</td>\n",
       "      <td>0.22</td>\n",
       "      <td>0.22</td>\n",
       "      <td>0.05</td>\n",
       "      <td>164.0</td>\n",
       "      <td>0.0</td>\n",
       "      <td>150.0</td>\n",
       "      <td>...</td>\n",
       "      <td>NaN</td>\n",
       "      <td>NaN</td>\n",
       "      <td>NaN</td>\n",
       "      <td>NaN</td>\n",
       "      <td>NaN</td>\n",
       "      <td>NaN</td>\n",
       "      <td>NaN</td>\n",
       "      <td>NaN</td>\n",
       "      <td>NaN</td>\n",
       "      <td>NaN</td>\n",
       "    </tr>\n",
       "  </tbody>\n",
       "</table>\n",
       "<p>689436 rows × 47 columns</p>\n",
       "</div>"
      ],
      "text/plain": [
       "            Time [ms]        Date          Time  Rel.Time [s]  \\\n",
       "0       1604324559904  2020-11-02  13:42:39.904             0   \n",
       "1       1604324560029  2020-11-02  13:42:40.029             0   \n",
       "2       1604324560951  2020-11-02  13:42:40.951             1   \n",
       "3       1604324561060  2020-11-02  13:42:41.060             1   \n",
       "4       1604324561935  2020-11-02  13:42:41.935             2   \n",
       "...               ...         ...           ...           ...   \n",
       "689431  1604669233906  2020-11-06  13:27:13.906        344674   \n",
       "689432  1604669234031  2020-11-06  13:27:14.031        344674   \n",
       "689433  1604669234906  2020-11-06  13:27:14.906        344675   \n",
       "689434  1604669235046  2020-11-06  13:27:15.046        344675   \n",
       "689435  1604669235937  2020-11-06  13:27:15.937        344676   \n",
       "\n",
       "        5001|MVe [L/min]  5001|MVi [L/min]  5001|Cdyn [L/bar]  \\\n",
       "0                   0.20              0.21               0.21   \n",
       "1                    NaN               NaN                NaN   \n",
       "2                   0.20              0.21               0.22   \n",
       "3                    NaN               NaN                NaN   \n",
       "4                   0.20              0.21               0.26   \n",
       "...                  ...               ...                ...   \n",
       "689431              0.22              0.22               0.21   \n",
       "689432               NaN               NaN                NaN   \n",
       "689433              0.22              0.22               0.21   \n",
       "689434               NaN               NaN                NaN   \n",
       "689435              0.22              0.22               0.05   \n",
       "\n",
       "        5001|R [mbar/L/s]  5001|MVespon [L/min]  5001|Rpat [mbar/L/s]  ...  \\\n",
       "0                   146.0                   0.0                 128.0  ...   \n",
       "1                     NaN                   NaN                   NaN  ...   \n",
       "2                   146.0                   0.0                 128.0  ...   \n",
       "3                     NaN                   NaN                   NaN  ...   \n",
       "4                   154.0                   0.0                 136.0  ...   \n",
       "...                   ...                   ...                   ...  ...   \n",
       "689431              164.0                   0.0                 150.0  ...   \n",
       "689432                NaN                   NaN                   NaN  ...   \n",
       "689433              164.0                   0.0                 150.0  ...   \n",
       "689434                NaN                   NaN                   NaN  ...   \n",
       "689435              164.0                   0.0                 150.0  ...   \n",
       "\n",
       "        5001|TC [s]  5001|TCe [s]  5001|C20/Cdyn [no unit]  5001|VTe [mL]  \\\n",
       "0               NaN           NaN                      NaN            NaN   \n",
       "1              0.03          0.11                     0.55            3.4   \n",
       "2               NaN           NaN                      NaN            NaN   \n",
       "3              0.03          0.21                     0.55            8.2   \n",
       "4               NaN           NaN                      NaN            NaN   \n",
       "...             ...           ...                      ...            ...   \n",
       "689431          NaN           NaN                      NaN            NaN   \n",
       "689432         0.04          0.11                     0.75            3.1   \n",
       "689433          NaN           NaN                      NaN            NaN   \n",
       "689434         0.01          0.15                     0.75            4.1   \n",
       "689435          NaN           NaN                      NaN            NaN   \n",
       "\n",
       "        5001|VTi [mL]  5001|EIP [mbar]  5001|MVleak [L/min]  5001|Tispon [s]  \\\n",
       "0                 NaN              NaN                  NaN              NaN   \n",
       "1                 3.4             21.0                 0.00              NaN   \n",
       "2                 NaN              NaN                  NaN              NaN   \n",
       "3                 3.6             22.0                 0.00              NaN   \n",
       "4                 NaN              NaN                  NaN              NaN   \n",
       "...               ...              ...                  ...              ...   \n",
       "689431            NaN              NaN                  NaN              NaN   \n",
       "689432            2.6             18.0                 0.02              NaN   \n",
       "689433            NaN              NaN                  NaN              NaN   \n",
       "689434            2.6             19.0                 0.01              NaN   \n",
       "689435            NaN              NaN                  NaN              NaN   \n",
       "\n",
       "        5001|I:Espon (I-Part) [no unit]  5001|I:Espon (E-Part) [no unit]  \n",
       "0                                   NaN                              NaN  \n",
       "1                                   NaN                              NaN  \n",
       "2                                   NaN                              NaN  \n",
       "3                                   NaN                              NaN  \n",
       "4                                   NaN                              NaN  \n",
       "...                                 ...                              ...  \n",
       "689431                              NaN                              NaN  \n",
       "689432                              NaN                              NaN  \n",
       "689433                              NaN                              NaN  \n",
       "689434                              NaN                              NaN  \n",
       "689435                              NaN                              NaN  \n",
       "\n",
       "[689436 rows x 47 columns]"
      ]
     },
     "execution_count": 91,
     "metadata": {},
     "output_type": "execute_result"
    }
   ],
   "source": [
    "data"
   ]
  },
  {
   "cell_type": "markdown",
   "metadata": {},
   "source": [
    "- Compare this with other assigment statements"
   ]
  },
  {
   "cell_type": "code",
   "execution_count": 92,
   "metadata": {},
   "outputs": [],
   "source": [
    "data = pd.read_csv(os.path.join('data', 'CsvLogBase_2020-11-02_134238.904_slow_Measurement.csv.zip'))"
   ]
  },
  {
   "cell_type": "code",
   "execution_count": 94,
   "metadata": {},
   "outputs": [
    {
     "data": {
      "text/html": [
       "<div>\n",
       "<style scoped>\n",
       "    .dataframe tbody tr th:only-of-type {\n",
       "        vertical-align: middle;\n",
       "    }\n",
       "\n",
       "    .dataframe tbody tr th {\n",
       "        vertical-align: top;\n",
       "    }\n",
       "\n",
       "    .dataframe thead th {\n",
       "        text-align: right;\n",
       "    }\n",
       "</style>\n",
       "<table border=\"1\" class=\"dataframe\">\n",
       "  <thead>\n",
       "    <tr style=\"text-align: right;\">\n",
       "      <th></th>\n",
       "      <th>Time [ms]</th>\n",
       "      <th>Date</th>\n",
       "      <th>Time</th>\n",
       "      <th>Rel.Time [s]</th>\n",
       "      <th>5001|MVe [L/min]</th>\n",
       "      <th>5001|MVi [L/min]</th>\n",
       "      <th>5001|Cdyn [L/bar]</th>\n",
       "      <th>5001|R [mbar/L/s]</th>\n",
       "      <th>5001|MVespon [L/min]</th>\n",
       "      <th>5001|Rpat [mbar/L/s]</th>\n",
       "      <th>...</th>\n",
       "      <th>5001|TC [s]</th>\n",
       "      <th>5001|TCe [s]</th>\n",
       "      <th>5001|C20/Cdyn [no unit]</th>\n",
       "      <th>5001|VTe [mL]</th>\n",
       "      <th>5001|VTi [mL]</th>\n",
       "      <th>5001|EIP [mbar]</th>\n",
       "      <th>5001|MVleak [L/min]</th>\n",
       "      <th>5001|Tispon [s]</th>\n",
       "      <th>5001|I:Espon (I-Part) [no unit]</th>\n",
       "      <th>5001|I:Espon (E-Part) [no unit]</th>\n",
       "    </tr>\n",
       "  </thead>\n",
       "  <tbody>\n",
       "    <tr>\n",
       "      <th>0</th>\n",
       "      <td>1604324559904</td>\n",
       "      <td>2020-11-02</td>\n",
       "      <td>13:42:39.904</td>\n",
       "      <td>0</td>\n",
       "      <td>0.20</td>\n",
       "      <td>0.21</td>\n",
       "      <td>0.21</td>\n",
       "      <td>146.0</td>\n",
       "      <td>0.0</td>\n",
       "      <td>128.0</td>\n",
       "      <td>...</td>\n",
       "      <td>NaN</td>\n",
       "      <td>NaN</td>\n",
       "      <td>NaN</td>\n",
       "      <td>NaN</td>\n",
       "      <td>NaN</td>\n",
       "      <td>NaN</td>\n",
       "      <td>NaN</td>\n",
       "      <td>NaN</td>\n",
       "      <td>NaN</td>\n",
       "      <td>NaN</td>\n",
       "    </tr>\n",
       "    <tr>\n",
       "      <th>1</th>\n",
       "      <td>1604324560029</td>\n",
       "      <td>2020-11-02</td>\n",
       "      <td>13:42:40.029</td>\n",
       "      <td>0</td>\n",
       "      <td>NaN</td>\n",
       "      <td>NaN</td>\n",
       "      <td>NaN</td>\n",
       "      <td>NaN</td>\n",
       "      <td>NaN</td>\n",
       "      <td>NaN</td>\n",
       "      <td>...</td>\n",
       "      <td>0.03</td>\n",
       "      <td>0.11</td>\n",
       "      <td>0.55</td>\n",
       "      <td>3.4</td>\n",
       "      <td>3.4</td>\n",
       "      <td>21.0</td>\n",
       "      <td>0.0</td>\n",
       "      <td>NaN</td>\n",
       "      <td>NaN</td>\n",
       "      <td>NaN</td>\n",
       "    </tr>\n",
       "    <tr>\n",
       "      <th>2</th>\n",
       "      <td>1604324560951</td>\n",
       "      <td>2020-11-02</td>\n",
       "      <td>13:42:40.951</td>\n",
       "      <td>1</td>\n",
       "      <td>0.20</td>\n",
       "      <td>0.21</td>\n",
       "      <td>0.22</td>\n",
       "      <td>146.0</td>\n",
       "      <td>0.0</td>\n",
       "      <td>128.0</td>\n",
       "      <td>...</td>\n",
       "      <td>NaN</td>\n",
       "      <td>NaN</td>\n",
       "      <td>NaN</td>\n",
       "      <td>NaN</td>\n",
       "      <td>NaN</td>\n",
       "      <td>NaN</td>\n",
       "      <td>NaN</td>\n",
       "      <td>NaN</td>\n",
       "      <td>NaN</td>\n",
       "      <td>NaN</td>\n",
       "    </tr>\n",
       "    <tr>\n",
       "      <th>3</th>\n",
       "      <td>1604324561060</td>\n",
       "      <td>2020-11-02</td>\n",
       "      <td>13:42:41.060</td>\n",
       "      <td>1</td>\n",
       "      <td>NaN</td>\n",
       "      <td>NaN</td>\n",
       "      <td>NaN</td>\n",
       "      <td>NaN</td>\n",
       "      <td>NaN</td>\n",
       "      <td>NaN</td>\n",
       "      <td>...</td>\n",
       "      <td>0.03</td>\n",
       "      <td>0.21</td>\n",
       "      <td>0.55</td>\n",
       "      <td>8.2</td>\n",
       "      <td>3.6</td>\n",
       "      <td>22.0</td>\n",
       "      <td>0.0</td>\n",
       "      <td>NaN</td>\n",
       "      <td>NaN</td>\n",
       "      <td>NaN</td>\n",
       "    </tr>\n",
       "    <tr>\n",
       "      <th>4</th>\n",
       "      <td>1604324561935</td>\n",
       "      <td>2020-11-02</td>\n",
       "      <td>13:42:41.935</td>\n",
       "      <td>2</td>\n",
       "      <td>0.20</td>\n",
       "      <td>0.21</td>\n",
       "      <td>0.26</td>\n",
       "      <td>154.0</td>\n",
       "      <td>0.0</td>\n",
       "      <td>136.0</td>\n",
       "      <td>...</td>\n",
       "      <td>NaN</td>\n",
       "      <td>NaN</td>\n",
       "      <td>NaN</td>\n",
       "      <td>NaN</td>\n",
       "      <td>NaN</td>\n",
       "      <td>NaN</td>\n",
       "      <td>NaN</td>\n",
       "      <td>NaN</td>\n",
       "      <td>NaN</td>\n",
       "      <td>NaN</td>\n",
       "    </tr>\n",
       "    <tr>\n",
       "      <th>5</th>\n",
       "      <td>1604324562060</td>\n",
       "      <td>2020-11-02</td>\n",
       "      <td>13:42:42.060</td>\n",
       "      <td>2</td>\n",
       "      <td>NaN</td>\n",
       "      <td>NaN</td>\n",
       "      <td>NaN</td>\n",
       "      <td>NaN</td>\n",
       "      <td>NaN</td>\n",
       "      <td>NaN</td>\n",
       "      <td>...</td>\n",
       "      <td>0.04</td>\n",
       "      <td>0.12</td>\n",
       "      <td>0.66</td>\n",
       "      <td>4.1</td>\n",
       "      <td>3.5</td>\n",
       "      <td>19.0</td>\n",
       "      <td>0.0</td>\n",
       "      <td>NaN</td>\n",
       "      <td>NaN</td>\n",
       "      <td>NaN</td>\n",
       "    </tr>\n",
       "    <tr>\n",
       "      <th>6</th>\n",
       "      <td>1604324562888</td>\n",
       "      <td>2020-11-02</td>\n",
       "      <td>13:42:42.888</td>\n",
       "      <td>3</td>\n",
       "      <td>0.20</td>\n",
       "      <td>0.21</td>\n",
       "      <td>0.29</td>\n",
       "      <td>154.0</td>\n",
       "      <td>0.0</td>\n",
       "      <td>136.0</td>\n",
       "      <td>...</td>\n",
       "      <td>NaN</td>\n",
       "      <td>NaN</td>\n",
       "      <td>NaN</td>\n",
       "      <td>NaN</td>\n",
       "      <td>NaN</td>\n",
       "      <td>NaN</td>\n",
       "      <td>NaN</td>\n",
       "      <td>NaN</td>\n",
       "      <td>NaN</td>\n",
       "      <td>NaN</td>\n",
       "    </tr>\n",
       "    <tr>\n",
       "      <th>7</th>\n",
       "      <td>1604324563028</td>\n",
       "      <td>2020-11-02</td>\n",
       "      <td>13:42:43.028</td>\n",
       "      <td>3</td>\n",
       "      <td>NaN</td>\n",
       "      <td>NaN</td>\n",
       "      <td>NaN</td>\n",
       "      <td>NaN</td>\n",
       "      <td>NaN</td>\n",
       "      <td>NaN</td>\n",
       "      <td>...</td>\n",
       "      <td>0.05</td>\n",
       "      <td>0.19</td>\n",
       "      <td>0.66</td>\n",
       "      <td>5.5</td>\n",
       "      <td>3.8</td>\n",
       "      <td>18.0</td>\n",
       "      <td>0.0</td>\n",
       "      <td>NaN</td>\n",
       "      <td>NaN</td>\n",
       "      <td>NaN</td>\n",
       "    </tr>\n",
       "    <tr>\n",
       "      <th>8</th>\n",
       "      <td>1604324563919</td>\n",
       "      <td>2020-11-02</td>\n",
       "      <td>13:42:43.919</td>\n",
       "      <td>4</td>\n",
       "      <td>0.20</td>\n",
       "      <td>0.20</td>\n",
       "      <td>0.40</td>\n",
       "      <td>193.0</td>\n",
       "      <td>0.0</td>\n",
       "      <td>177.0</td>\n",
       "      <td>...</td>\n",
       "      <td>NaN</td>\n",
       "      <td>NaN</td>\n",
       "      <td>NaN</td>\n",
       "      <td>NaN</td>\n",
       "      <td>NaN</td>\n",
       "      <td>NaN</td>\n",
       "      <td>NaN</td>\n",
       "      <td>NaN</td>\n",
       "      <td>NaN</td>\n",
       "      <td>NaN</td>\n",
       "    </tr>\n",
       "    <tr>\n",
       "      <th>9</th>\n",
       "      <td>1604324564044</td>\n",
       "      <td>2020-11-02</td>\n",
       "      <td>13:42:44.044</td>\n",
       "      <td>4</td>\n",
       "      <td>NaN</td>\n",
       "      <td>NaN</td>\n",
       "      <td>NaN</td>\n",
       "      <td>NaN</td>\n",
       "      <td>NaN</td>\n",
       "      <td>NaN</td>\n",
       "      <td>...</td>\n",
       "      <td>0.06</td>\n",
       "      <td>0.10</td>\n",
       "      <td>0.69</td>\n",
       "      <td>2.6</td>\n",
       "      <td>4.3</td>\n",
       "      <td>16.0</td>\n",
       "      <td>0.0</td>\n",
       "      <td>NaN</td>\n",
       "      <td>NaN</td>\n",
       "      <td>NaN</td>\n",
       "    </tr>\n",
       "    <tr>\n",
       "      <th>10</th>\n",
       "      <td>1604324564934</td>\n",
       "      <td>2020-11-02</td>\n",
       "      <td>13:42:44.934</td>\n",
       "      <td>5</td>\n",
       "      <td>0.21</td>\n",
       "      <td>0.20</td>\n",
       "      <td>0.39</td>\n",
       "      <td>193.0</td>\n",
       "      <td>0.0</td>\n",
       "      <td>177.0</td>\n",
       "      <td>...</td>\n",
       "      <td>NaN</td>\n",
       "      <td>NaN</td>\n",
       "      <td>NaN</td>\n",
       "      <td>NaN</td>\n",
       "      <td>NaN</td>\n",
       "      <td>NaN</td>\n",
       "      <td>NaN</td>\n",
       "      <td>NaN</td>\n",
       "      <td>NaN</td>\n",
       "      <td>NaN</td>\n",
       "    </tr>\n",
       "    <tr>\n",
       "      <th>11</th>\n",
       "      <td>1604324565044</td>\n",
       "      <td>2020-11-02</td>\n",
       "      <td>13:42:45.044</td>\n",
       "      <td>5</td>\n",
       "      <td>NaN</td>\n",
       "      <td>NaN</td>\n",
       "      <td>NaN</td>\n",
       "      <td>NaN</td>\n",
       "      <td>NaN</td>\n",
       "      <td>NaN</td>\n",
       "      <td>...</td>\n",
       "      <td>0.08</td>\n",
       "      <td>0.20</td>\n",
       "      <td>0.69</td>\n",
       "      <td>5.2</td>\n",
       "      <td>4.0</td>\n",
       "      <td>18.0</td>\n",
       "      <td>0.0</td>\n",
       "      <td>NaN</td>\n",
       "      <td>NaN</td>\n",
       "      <td>NaN</td>\n",
       "    </tr>\n",
       "    <tr>\n",
       "      <th>12</th>\n",
       "      <td>1604324565903</td>\n",
       "      <td>2020-11-02</td>\n",
       "      <td>13:42:45.903</td>\n",
       "      <td>6</td>\n",
       "      <td>0.21</td>\n",
       "      <td>0.20</td>\n",
       "      <td>0.42</td>\n",
       "      <td>193.0</td>\n",
       "      <td>0.0</td>\n",
       "      <td>177.0</td>\n",
       "      <td>...</td>\n",
       "      <td>NaN</td>\n",
       "      <td>NaN</td>\n",
       "      <td>NaN</td>\n",
       "      <td>NaN</td>\n",
       "      <td>NaN</td>\n",
       "      <td>NaN</td>\n",
       "      <td>NaN</td>\n",
       "      <td>NaN</td>\n",
       "      <td>NaN</td>\n",
       "      <td>NaN</td>\n",
       "    </tr>\n",
       "    <tr>\n",
       "      <th>13</th>\n",
       "      <td>1604324566028</td>\n",
       "      <td>2020-11-02</td>\n",
       "      <td>13:42:46.028</td>\n",
       "      <td>6</td>\n",
       "      <td>NaN</td>\n",
       "      <td>NaN</td>\n",
       "      <td>NaN</td>\n",
       "      <td>NaN</td>\n",
       "      <td>NaN</td>\n",
       "      <td>NaN</td>\n",
       "      <td>...</td>\n",
       "      <td>0.08</td>\n",
       "      <td>0.12</td>\n",
       "      <td>0.69</td>\n",
       "      <td>2.2</td>\n",
       "      <td>4.3</td>\n",
       "      <td>17.0</td>\n",
       "      <td>0.0</td>\n",
       "      <td>NaN</td>\n",
       "      <td>NaN</td>\n",
       "      <td>NaN</td>\n",
       "    </tr>\n",
       "    <tr>\n",
       "      <th>14</th>\n",
       "      <td>1604324566934</td>\n",
       "      <td>2020-11-02</td>\n",
       "      <td>13:42:46.934</td>\n",
       "      <td>7</td>\n",
       "      <td>0.22</td>\n",
       "      <td>0.20</td>\n",
       "      <td>0.30</td>\n",
       "      <td>195.0</td>\n",
       "      <td>0.0</td>\n",
       "      <td>177.0</td>\n",
       "      <td>...</td>\n",
       "      <td>NaN</td>\n",
       "      <td>NaN</td>\n",
       "      <td>NaN</td>\n",
       "      <td>NaN</td>\n",
       "      <td>NaN</td>\n",
       "      <td>NaN</td>\n",
       "      <td>NaN</td>\n",
       "      <td>NaN</td>\n",
       "      <td>NaN</td>\n",
       "      <td>NaN</td>\n",
       "    </tr>\n",
       "  </tbody>\n",
       "</table>\n",
       "<p>15 rows × 47 columns</p>\n",
       "</div>"
      ],
      "text/plain": [
       "        Time [ms]        Date          Time  Rel.Time [s]  5001|MVe [L/min]  \\\n",
       "0   1604324559904  2020-11-02  13:42:39.904             0              0.20   \n",
       "1   1604324560029  2020-11-02  13:42:40.029             0               NaN   \n",
       "2   1604324560951  2020-11-02  13:42:40.951             1              0.20   \n",
       "3   1604324561060  2020-11-02  13:42:41.060             1               NaN   \n",
       "4   1604324561935  2020-11-02  13:42:41.935             2              0.20   \n",
       "5   1604324562060  2020-11-02  13:42:42.060             2               NaN   \n",
       "6   1604324562888  2020-11-02  13:42:42.888             3              0.20   \n",
       "7   1604324563028  2020-11-02  13:42:43.028             3               NaN   \n",
       "8   1604324563919  2020-11-02  13:42:43.919             4              0.20   \n",
       "9   1604324564044  2020-11-02  13:42:44.044             4               NaN   \n",
       "10  1604324564934  2020-11-02  13:42:44.934             5              0.21   \n",
       "11  1604324565044  2020-11-02  13:42:45.044             5               NaN   \n",
       "12  1604324565903  2020-11-02  13:42:45.903             6              0.21   \n",
       "13  1604324566028  2020-11-02  13:42:46.028             6               NaN   \n",
       "14  1604324566934  2020-11-02  13:42:46.934             7              0.22   \n",
       "\n",
       "    5001|MVi [L/min]  5001|Cdyn [L/bar]  5001|R [mbar/L/s]  \\\n",
       "0               0.21               0.21              146.0   \n",
       "1                NaN                NaN                NaN   \n",
       "2               0.21               0.22              146.0   \n",
       "3                NaN                NaN                NaN   \n",
       "4               0.21               0.26              154.0   \n",
       "5                NaN                NaN                NaN   \n",
       "6               0.21               0.29              154.0   \n",
       "7                NaN                NaN                NaN   \n",
       "8               0.20               0.40              193.0   \n",
       "9                NaN                NaN                NaN   \n",
       "10              0.20               0.39              193.0   \n",
       "11               NaN                NaN                NaN   \n",
       "12              0.20               0.42              193.0   \n",
       "13               NaN                NaN                NaN   \n",
       "14              0.20               0.30              195.0   \n",
       "\n",
       "    5001|MVespon [L/min]  5001|Rpat [mbar/L/s]  ...  5001|TC [s]  \\\n",
       "0                    0.0                 128.0  ...          NaN   \n",
       "1                    NaN                   NaN  ...         0.03   \n",
       "2                    0.0                 128.0  ...          NaN   \n",
       "3                    NaN                   NaN  ...         0.03   \n",
       "4                    0.0                 136.0  ...          NaN   \n",
       "5                    NaN                   NaN  ...         0.04   \n",
       "6                    0.0                 136.0  ...          NaN   \n",
       "7                    NaN                   NaN  ...         0.05   \n",
       "8                    0.0                 177.0  ...          NaN   \n",
       "9                    NaN                   NaN  ...         0.06   \n",
       "10                   0.0                 177.0  ...          NaN   \n",
       "11                   NaN                   NaN  ...         0.08   \n",
       "12                   0.0                 177.0  ...          NaN   \n",
       "13                   NaN                   NaN  ...         0.08   \n",
       "14                   0.0                 177.0  ...          NaN   \n",
       "\n",
       "    5001|TCe [s]  5001|C20/Cdyn [no unit]  5001|VTe [mL]  5001|VTi [mL]  \\\n",
       "0            NaN                      NaN            NaN            NaN   \n",
       "1           0.11                     0.55            3.4            3.4   \n",
       "2            NaN                      NaN            NaN            NaN   \n",
       "3           0.21                     0.55            8.2            3.6   \n",
       "4            NaN                      NaN            NaN            NaN   \n",
       "5           0.12                     0.66            4.1            3.5   \n",
       "6            NaN                      NaN            NaN            NaN   \n",
       "7           0.19                     0.66            5.5            3.8   \n",
       "8            NaN                      NaN            NaN            NaN   \n",
       "9           0.10                     0.69            2.6            4.3   \n",
       "10           NaN                      NaN            NaN            NaN   \n",
       "11          0.20                     0.69            5.2            4.0   \n",
       "12           NaN                      NaN            NaN            NaN   \n",
       "13          0.12                     0.69            2.2            4.3   \n",
       "14           NaN                      NaN            NaN            NaN   \n",
       "\n",
       "    5001|EIP [mbar]  5001|MVleak [L/min]  5001|Tispon [s]  \\\n",
       "0               NaN                  NaN              NaN   \n",
       "1              21.0                  0.0              NaN   \n",
       "2               NaN                  NaN              NaN   \n",
       "3              22.0                  0.0              NaN   \n",
       "4               NaN                  NaN              NaN   \n",
       "5              19.0                  0.0              NaN   \n",
       "6               NaN                  NaN              NaN   \n",
       "7              18.0                  0.0              NaN   \n",
       "8               NaN                  NaN              NaN   \n",
       "9              16.0                  0.0              NaN   \n",
       "10              NaN                  NaN              NaN   \n",
       "11             18.0                  0.0              NaN   \n",
       "12              NaN                  NaN              NaN   \n",
       "13             17.0                  0.0              NaN   \n",
       "14              NaN                  NaN              NaN   \n",
       "\n",
       "    5001|I:Espon (I-Part) [no unit]  5001|I:Espon (E-Part) [no unit]  \n",
       "0                               NaN                              NaN  \n",
       "1                               NaN                              NaN  \n",
       "2                               NaN                              NaN  \n",
       "3                               NaN                              NaN  \n",
       "4                               NaN                              NaN  \n",
       "5                               NaN                              NaN  \n",
       "6                               NaN                              NaN  \n",
       "7                               NaN                              NaN  \n",
       "8                               NaN                              NaN  \n",
       "9                               NaN                              NaN  \n",
       "10                              NaN                              NaN  \n",
       "11                              NaN                              NaN  \n",
       "12                              NaN                              NaN  \n",
       "13                              NaN                              NaN  \n",
       "14                              NaN                              NaN  \n",
       "\n",
       "[15 rows x 47 columns]"
      ]
     },
     "execution_count": 94,
     "metadata": {},
     "output_type": "execute_result"
    }
   ],
   "source": [
    "path = os.path.join('data', 'CsvLogBase_2020-11-02_134238.904_slow_Measurement.csv.zip')\n",
    "data = pd.read_csv(path, nrows = 15)\n",
    "data"
   ]
  },
  {
   "cell_type": "code",
   "execution_count": 100,
   "metadata": {},
   "outputs": [],
   "source": [
    "data = pd.read_csv(os.path.join('data', 'CsvLogBase_2020-11-02_134238.904_slow_Measurement.csv.zip'), nrows=100000)"
   ]
  },
  {
   "cell_type": "code",
   "execution_count": 86,
   "metadata": {},
   "outputs": [],
   "source": [
    "pd.read_csv?"
   ]
  },
  {
   "cell_type": "code",
   "execution_count": 96,
   "metadata": {},
   "outputs": [],
   "source": [
    "a = 'Hello'"
   ]
  },
  {
   "cell_type": "code",
   "execution_count": 97,
   "metadata": {},
   "outputs": [
    {
     "data": {
      "text/plain": [
       "'hello'"
      ]
     },
     "execution_count": 97,
     "metadata": {},
     "output_type": "execute_result"
    }
   ],
   "source": [
    "a.lower()"
   ]
  },
  {
   "cell_type": "markdown",
   "metadata": {},
   "source": [
    "##### `HOMEWORK` : How to import using the absolute filepath"
   ]
  },
  {
   "cell_type": "code",
   "execution_count": 101,
   "metadata": {},
   "outputs": [
    {
     "name": "stdout",
     "output_type": "stream",
     "text": [
      "<class 'pandas.core.frame.DataFrame'>\n",
      "RangeIndex: 100000 entries, 0 to 99999\n",
      "Data columns (total 47 columns):\n",
      " #   Column                           Non-Null Count   Dtype  \n",
      "---  ------                           --------------   -----  \n",
      " 0   Time [ms]                        100000 non-null  int64  \n",
      " 1   Date                             100000 non-null  object \n",
      " 2   Time                             100000 non-null  object \n",
      " 3   Rel.Time [s]                     100000 non-null  int64  \n",
      " 4   5001|MVe [L/min]                 49993 non-null   float64\n",
      " 5   5001|MVi [L/min]                 49993 non-null   float64\n",
      " 6   5001|Cdyn [L/bar]                49880 non-null   float64\n",
      " 7   5001|R [mbar/L/s]                49809 non-null   float64\n",
      " 8   5001|MVespon [L/min]             49993 non-null   float64\n",
      " 9   5001|Rpat [mbar/L/s]             49742 non-null   float64\n",
      " 10  5001|MVemand [L/min]             49993 non-null   float64\n",
      " 11  5001|FlowDev [L/min]             49993 non-null   float64\n",
      " 12  5001|VTmand [mL]                 49992 non-null   float64\n",
      " 13  5001|r2 [no unit]                49993 non-null   float64\n",
      " 14  5001|VTispon [mL]                49993 non-null   float64\n",
      " 15  5001|Pmin [mbar]                 49993 non-null   float64\n",
      " 16  5001|Pmean [mbar]                49993 non-null   float64\n",
      " 17  5001|PEEP [mbar]                 49993 non-null   float64\n",
      " 18  5001|RRmand [1/min]              49993 non-null   float64\n",
      " 19  5001|PIP [mbar]                  49993 non-null   float64\n",
      " 20  5001|VTmand [L]                  49992 non-null   float64\n",
      " 21  5001|VTspon [L]                  49993 non-null   float64\n",
      " 22  5001|VTemand [mL]                49992 non-null   float64\n",
      " 23  5001|VTespon [mL]                49993 non-null   float64\n",
      " 24  5001|VTimand [mL]                49991 non-null   float64\n",
      " 25  5001|VT [mL]                     49992 non-null   float64\n",
      " 26  5001|% leak [%]                  49993 non-null   float64\n",
      " 27  5001|RRspon [1/min]              38115 non-null   float64\n",
      " 28  5001|% MVspon [%]                49993 non-null   float64\n",
      " 29  5001|MV [L/min]                  49993 non-null   float64\n",
      " 30  5001|RRtrig [1/min]              49993 non-null   float64\n",
      " 31  5001|RR [1/min]                  49993 non-null   float64\n",
      " 32  5001|I (I:E) [no unit]           49993 non-null   float64\n",
      " 33  5001|E (I:E) [no unit]           49993 non-null   float64\n",
      " 34  5001|FiO2 [%]                    49993 non-null   float64\n",
      " 35  5001|VTspon [mL]                 49993 non-null   float64\n",
      " 36  5001|E [mbar/L]                  48809 non-null   float64\n",
      " 37  5001|TC [s]                      49870 non-null   float64\n",
      " 38  5001|TCe [s]                     49992 non-null   float64\n",
      " 39  5001|C20/Cdyn [no unit]          49568 non-null   float64\n",
      " 40  5001|VTe [mL]                    49992 non-null   float64\n",
      " 41  5001|VTi [mL]                    49991 non-null   float64\n",
      " 42  5001|EIP [mbar]                  49993 non-null   float64\n",
      " 43  5001|MVleak [L/min]              49993 non-null   float64\n",
      " 44  5001|Tispon [s]                  2486 non-null    float64\n",
      " 45  5001|I:Espon (I-Part) [no unit]  2255 non-null    float64\n",
      " 46  5001|I:Espon (E-Part) [no unit]  2255 non-null    float64\n",
      "dtypes: float64(43), int64(2), object(2)\n",
      "memory usage: 35.9+ MB\n"
     ]
    }
   ],
   "source": [
    "data.info()"
   ]
  },
  {
   "cell_type": "code",
   "execution_count": 78,
   "metadata": {},
   "outputs": [],
   "source": [
    "pd.read_csv?"
   ]
  },
  {
   "cell_type": "markdown",
   "metadata": {},
   "source": [
    "There is only one positional argument, all other arguments are keyword arguments with default value\n",
    "\n",
    "Notice that lines can be broken inside parentheses."
   ]
  },
  {
   "cell_type": "code",
   "execution_count": 104,
   "metadata": {},
   "outputs": [],
   "source": [
    "pd.read_csv?"
   ]
  },
  {
   "cell_type": "code",
   "execution_count": 103,
   "metadata": {
    "scrolled": false
   },
   "outputs": [
    {
     "data": {
      "text/html": [
       "<div>\n",
       "<style scoped>\n",
       "    .dataframe tbody tr th:only-of-type {\n",
       "        vertical-align: middle;\n",
       "    }\n",
       "\n",
       "    .dataframe tbody tr th {\n",
       "        vertical-align: top;\n",
       "    }\n",
       "\n",
       "    .dataframe thead th {\n",
       "        text-align: right;\n",
       "    }\n",
       "</style>\n",
       "<table border=\"1\" class=\"dataframe\">\n",
       "  <thead>\n",
       "    <tr style=\"text-align: right;\">\n",
       "      <th></th>\n",
       "      <th>Date</th>\n",
       "      <th>Time</th>\n",
       "      <th>5001|MVe [L/min]</th>\n",
       "      <th>5001|VTmand [mL]</th>\n",
       "      <th>5001|PIP [mbar]</th>\n",
       "      <th>5001|RRspon [1/min]</th>\n",
       "    </tr>\n",
       "    <tr>\n",
       "      <th>Rel.Time [s]</th>\n",
       "      <th></th>\n",
       "      <th></th>\n",
       "      <th></th>\n",
       "      <th></th>\n",
       "      <th></th>\n",
       "      <th></th>\n",
       "    </tr>\n",
       "  </thead>\n",
       "  <tbody>\n",
       "    <tr>\n",
       "      <th>0</th>\n",
       "      <td>2020-11-02</td>\n",
       "      <td>13:42:39.904</td>\n",
       "      <td>0.20</td>\n",
       "      <td>3.4</td>\n",
       "      <td>22.0</td>\n",
       "      <td>0.0</td>\n",
       "    </tr>\n",
       "    <tr>\n",
       "      <th>0</th>\n",
       "      <td>2020-11-02</td>\n",
       "      <td>13:42:40.029</td>\n",
       "      <td>NaN</td>\n",
       "      <td>NaN</td>\n",
       "      <td>NaN</td>\n",
       "      <td>NaN</td>\n",
       "    </tr>\n",
       "    <tr>\n",
       "      <th>1</th>\n",
       "      <td>2020-11-02</td>\n",
       "      <td>13:42:40.951</td>\n",
       "      <td>0.20</td>\n",
       "      <td>8.2</td>\n",
       "      <td>23.0</td>\n",
       "      <td>0.0</td>\n",
       "    </tr>\n",
       "    <tr>\n",
       "      <th>1</th>\n",
       "      <td>2020-11-02</td>\n",
       "      <td>13:42:41.060</td>\n",
       "      <td>NaN</td>\n",
       "      <td>NaN</td>\n",
       "      <td>NaN</td>\n",
       "      <td>NaN</td>\n",
       "    </tr>\n",
       "    <tr>\n",
       "      <th>2</th>\n",
       "      <td>2020-11-02</td>\n",
       "      <td>13:42:41.935</td>\n",
       "      <td>0.20</td>\n",
       "      <td>4.1</td>\n",
       "      <td>19.0</td>\n",
       "      <td>0.0</td>\n",
       "    </tr>\n",
       "    <tr>\n",
       "      <th>...</th>\n",
       "      <td>...</td>\n",
       "      <td>...</td>\n",
       "      <td>...</td>\n",
       "      <td>...</td>\n",
       "      <td>...</td>\n",
       "      <td>...</td>\n",
       "    </tr>\n",
       "    <tr>\n",
       "      <th>344674</th>\n",
       "      <td>2020-11-06</td>\n",
       "      <td>13:27:13.906</td>\n",
       "      <td>0.22</td>\n",
       "      <td>3.1</td>\n",
       "      <td>19.0</td>\n",
       "      <td>0.0</td>\n",
       "    </tr>\n",
       "    <tr>\n",
       "      <th>344674</th>\n",
       "      <td>2020-11-06</td>\n",
       "      <td>13:27:14.031</td>\n",
       "      <td>NaN</td>\n",
       "      <td>NaN</td>\n",
       "      <td>NaN</td>\n",
       "      <td>NaN</td>\n",
       "    </tr>\n",
       "    <tr>\n",
       "      <th>344675</th>\n",
       "      <td>2020-11-06</td>\n",
       "      <td>13:27:14.906</td>\n",
       "      <td>0.22</td>\n",
       "      <td>4.2</td>\n",
       "      <td>18.0</td>\n",
       "      <td>0.0</td>\n",
       "    </tr>\n",
       "    <tr>\n",
       "      <th>344675</th>\n",
       "      <td>2020-11-06</td>\n",
       "      <td>13:27:15.046</td>\n",
       "      <td>NaN</td>\n",
       "      <td>NaN</td>\n",
       "      <td>NaN</td>\n",
       "      <td>NaN</td>\n",
       "    </tr>\n",
       "    <tr>\n",
       "      <th>344676</th>\n",
       "      <td>2020-11-06</td>\n",
       "      <td>13:27:15.937</td>\n",
       "      <td>0.22</td>\n",
       "      <td>0.9</td>\n",
       "      <td>18.0</td>\n",
       "      <td>0.0</td>\n",
       "    </tr>\n",
       "  </tbody>\n",
       "</table>\n",
       "<p>689436 rows × 6 columns</p>\n",
       "</div>"
      ],
      "text/plain": [
       "                    Date          Time  5001|MVe [L/min]  5001|VTmand [mL]  \\\n",
       "Rel.Time [s]                                                                 \n",
       "0             2020-11-02  13:42:39.904              0.20               3.4   \n",
       "0             2020-11-02  13:42:40.029               NaN               NaN   \n",
       "1             2020-11-02  13:42:40.951              0.20               8.2   \n",
       "1             2020-11-02  13:42:41.060               NaN               NaN   \n",
       "2             2020-11-02  13:42:41.935              0.20               4.1   \n",
       "...                  ...           ...               ...               ...   \n",
       "344674        2020-11-06  13:27:13.906              0.22               3.1   \n",
       "344674        2020-11-06  13:27:14.031               NaN               NaN   \n",
       "344675        2020-11-06  13:27:14.906              0.22               4.2   \n",
       "344675        2020-11-06  13:27:15.046               NaN               NaN   \n",
       "344676        2020-11-06  13:27:15.937              0.22               0.9   \n",
       "\n",
       "              5001|PIP [mbar]  5001|RRspon [1/min]  \n",
       "Rel.Time [s]                                        \n",
       "0                        22.0                  0.0  \n",
       "0                         NaN                  NaN  \n",
       "1                        23.0                  0.0  \n",
       "1                         NaN                  NaN  \n",
       "2                        19.0                  0.0  \n",
       "...                       ...                  ...  \n",
       "344674                   19.0                  0.0  \n",
       "344674                    NaN                  NaN  \n",
       "344675                   18.0                  0.0  \n",
       "344675                    NaN                  NaN  \n",
       "344676                   18.0                  0.0  \n",
       "\n",
       "[689436 rows x 6 columns]"
      ]
     },
     "execution_count": 103,
     "metadata": {},
     "output_type": "execute_result"
    }
   ],
   "source": [
    "path = os.path.join('data', 'CsvLogBase_2020-11-02_134238.904_slow_Measurement.csv.zip')\n",
    "data = pd.read_csv(path, # You can break the lines when there are parentheses\n",
    "                   usecols = ['Date', 'Time', 'Rel.Time [s]','5001|MVe [L/min]', '5001|VTmand [mL]', '5001|PIP [mbar]', '5001|RRspon [1/min]'],\n",
    "                   index_col = ['Rel.Time [s]'])\n",
    "data"
   ]
  },
  {
   "cell_type": "markdown",
   "metadata": {},
   "source": [
    "1. Only limit columns to the ones you really need\n",
    "\n",
    "2. Only throw away rows (data points) you really need to drop"
   ]
  },
  {
   "cell_type": "code",
   "execution_count": null,
   "metadata": {},
   "outputs": [],
   "source": [
    "path = os.path.join('data', 'CsvLogBase_2020-11-02_134238.904_slow_Measurement.csv.zip')\n",
    "columns_to_keep = ['Date', 'Time', 'Rel.Time [s]','5001|MVe [L/min]', '5001|VTmand [mL]', '5001|PIP [mbar]', '5001|RRspon [1/min]']\n",
    "data = pd.read_csv(path, usecols = columns_to_keep, index_col = ['Rel.Time [s]'])\n",
    "data"
   ]
  },
  {
   "cell_type": "code",
   "execution_count": null,
   "metadata": {},
   "outputs": [],
   "source": [
    "data.info()"
   ]
  },
  {
   "cell_type": "code",
   "execution_count": 107,
   "metadata": {},
   "outputs": [
    {
     "data": {
      "text/html": [
       "<div>\n",
       "<style scoped>\n",
       "    .dataframe tbody tr th:only-of-type {\n",
       "        vertical-align: middle;\n",
       "    }\n",
       "\n",
       "    .dataframe tbody tr th {\n",
       "        vertical-align: top;\n",
       "    }\n",
       "\n",
       "    .dataframe thead th {\n",
       "        text-align: right;\n",
       "    }\n",
       "</style>\n",
       "<table border=\"1\" class=\"dataframe\">\n",
       "  <thead>\n",
       "    <tr style=\"text-align: right;\">\n",
       "      <th></th>\n",
       "      <th>Date_Time</th>\n",
       "      <th>5001|MVe [L/min]</th>\n",
       "      <th>5001|VTmand [mL]</th>\n",
       "      <th>5001|PIP [mbar]</th>\n",
       "      <th>5001|RRspon [1/min]</th>\n",
       "    </tr>\n",
       "    <tr>\n",
       "      <th>Rel.Time [s]</th>\n",
       "      <th></th>\n",
       "      <th></th>\n",
       "      <th></th>\n",
       "      <th></th>\n",
       "      <th></th>\n",
       "    </tr>\n",
       "  </thead>\n",
       "  <tbody>\n",
       "    <tr>\n",
       "      <th>0</th>\n",
       "      <td>2020-11-02 13:42:39.904</td>\n",
       "      <td>0.20</td>\n",
       "      <td>3.4</td>\n",
       "      <td>22.0</td>\n",
       "      <td>0.0</td>\n",
       "    </tr>\n",
       "    <tr>\n",
       "      <th>0</th>\n",
       "      <td>2020-11-02 13:42:40.029</td>\n",
       "      <td>NaN</td>\n",
       "      <td>NaN</td>\n",
       "      <td>NaN</td>\n",
       "      <td>NaN</td>\n",
       "    </tr>\n",
       "    <tr>\n",
       "      <th>1</th>\n",
       "      <td>2020-11-02 13:42:40.951</td>\n",
       "      <td>0.20</td>\n",
       "      <td>8.2</td>\n",
       "      <td>23.0</td>\n",
       "      <td>0.0</td>\n",
       "    </tr>\n",
       "    <tr>\n",
       "      <th>1</th>\n",
       "      <td>2020-11-02 13:42:41.060</td>\n",
       "      <td>NaN</td>\n",
       "      <td>NaN</td>\n",
       "      <td>NaN</td>\n",
       "      <td>NaN</td>\n",
       "    </tr>\n",
       "    <tr>\n",
       "      <th>2</th>\n",
       "      <td>2020-11-02 13:42:41.935</td>\n",
       "      <td>0.20</td>\n",
       "      <td>4.1</td>\n",
       "      <td>19.0</td>\n",
       "      <td>0.0</td>\n",
       "    </tr>\n",
       "    <tr>\n",
       "      <th>...</th>\n",
       "      <td>...</td>\n",
       "      <td>...</td>\n",
       "      <td>...</td>\n",
       "      <td>...</td>\n",
       "      <td>...</td>\n",
       "    </tr>\n",
       "    <tr>\n",
       "      <th>344674</th>\n",
       "      <td>2020-11-06 13:27:13.906</td>\n",
       "      <td>0.22</td>\n",
       "      <td>3.1</td>\n",
       "      <td>19.0</td>\n",
       "      <td>0.0</td>\n",
       "    </tr>\n",
       "    <tr>\n",
       "      <th>344674</th>\n",
       "      <td>2020-11-06 13:27:14.031</td>\n",
       "      <td>NaN</td>\n",
       "      <td>NaN</td>\n",
       "      <td>NaN</td>\n",
       "      <td>NaN</td>\n",
       "    </tr>\n",
       "    <tr>\n",
       "      <th>344675</th>\n",
       "      <td>2020-11-06 13:27:14.906</td>\n",
       "      <td>0.22</td>\n",
       "      <td>4.2</td>\n",
       "      <td>18.0</td>\n",
       "      <td>0.0</td>\n",
       "    </tr>\n",
       "    <tr>\n",
       "      <th>344675</th>\n",
       "      <td>2020-11-06 13:27:15.046</td>\n",
       "      <td>NaN</td>\n",
       "      <td>NaN</td>\n",
       "      <td>NaN</td>\n",
       "      <td>NaN</td>\n",
       "    </tr>\n",
       "    <tr>\n",
       "      <th>344676</th>\n",
       "      <td>2020-11-06 13:27:15.937</td>\n",
       "      <td>0.22</td>\n",
       "      <td>0.9</td>\n",
       "      <td>18.0</td>\n",
       "      <td>0.0</td>\n",
       "    </tr>\n",
       "  </tbody>\n",
       "</table>\n",
       "<p>689436 rows × 5 columns</p>\n",
       "</div>"
      ],
      "text/plain": [
       "                           Date_Time  5001|MVe [L/min]  5001|VTmand [mL]  \\\n",
       "Rel.Time [s]                                                               \n",
       "0            2020-11-02 13:42:39.904              0.20               3.4   \n",
       "0            2020-11-02 13:42:40.029               NaN               NaN   \n",
       "1            2020-11-02 13:42:40.951              0.20               8.2   \n",
       "1            2020-11-02 13:42:41.060               NaN               NaN   \n",
       "2            2020-11-02 13:42:41.935              0.20               4.1   \n",
       "...                              ...               ...               ...   \n",
       "344674       2020-11-06 13:27:13.906              0.22               3.1   \n",
       "344674       2020-11-06 13:27:14.031               NaN               NaN   \n",
       "344675       2020-11-06 13:27:14.906              0.22               4.2   \n",
       "344675       2020-11-06 13:27:15.046               NaN               NaN   \n",
       "344676       2020-11-06 13:27:15.937              0.22               0.9   \n",
       "\n",
       "              5001|PIP [mbar]  5001|RRspon [1/min]  \n",
       "Rel.Time [s]                                        \n",
       "0                        22.0                  0.0  \n",
       "0                         NaN                  NaN  \n",
       "1                        23.0                  0.0  \n",
       "1                         NaN                  NaN  \n",
       "2                        19.0                  0.0  \n",
       "...                       ...                  ...  \n",
       "344674                   19.0                  0.0  \n",
       "344674                    NaN                  NaN  \n",
       "344675                   18.0                  0.0  \n",
       "344675                    NaN                  NaN  \n",
       "344676                   18.0                  0.0  \n",
       "\n",
       "[689436 rows x 5 columns]"
      ]
     },
     "execution_count": 107,
     "metadata": {},
     "output_type": "execute_result"
    }
   ],
   "source": [
    "path = os.path.join('data', 'CsvLogBase_2020-11-02_134238.904_slow_Measurement.csv.zip')\n",
    "columns_to_keep = ['Date', 'Time', 'Rel.Time [s]','5001|MVe [L/min]', '5001|VTmand [mL]', '5001|PIP [mbar]', '5001|RRspon [1/min]']\n",
    "data = pd.read_csv(path, usecols = columns_to_keep, index_col = ['Rel.Time [s]'],\n",
    "                   parse_dates = [[0,1]])\n",
    "data"
   ]
  },
  {
   "cell_type": "code",
   "execution_count": 108,
   "metadata": {},
   "outputs": [
    {
     "name": "stdout",
     "output_type": "stream",
     "text": [
      "<class 'pandas.core.frame.DataFrame'>\n",
      "Int64Index: 689436 entries, 0 to 344676\n",
      "Data columns (total 5 columns):\n",
      " #   Column               Non-Null Count   Dtype         \n",
      "---  ------               --------------   -----         \n",
      " 0   Date_Time            689436 non-null  datetime64[ns]\n",
      " 1   5001|MVe [L/min]     344633 non-null  float64       \n",
      " 2   5001|VTmand [mL]     344567 non-null  float64       \n",
      " 3   5001|PIP [mbar]      344677 non-null  float64       \n",
      " 4   5001|RRspon [1/min]  256267 non-null  float64       \n",
      "dtypes: datetime64[ns](1), float64(4)\n",
      "memory usage: 31.6 MB\n"
     ]
    }
   ],
   "source": [
    "data.info()"
   ]
  },
  {
   "cell_type": "markdown",
   "metadata": {},
   "source": [
    "Repating code is ugly and sourse of error"
   ]
  },
  {
   "cell_type": "code",
   "execution_count": 113,
   "metadata": {},
   "outputs": [
    {
     "data": {
      "text/html": [
       "<div>\n",
       "<style scoped>\n",
       "    .dataframe tbody tr th:only-of-type {\n",
       "        vertical-align: middle;\n",
       "    }\n",
       "\n",
       "    .dataframe tbody tr th {\n",
       "        vertical-align: top;\n",
       "    }\n",
       "\n",
       "    .dataframe thead th {\n",
       "        text-align: right;\n",
       "    }\n",
       "</style>\n",
       "<table border=\"1\" class=\"dataframe\">\n",
       "  <thead>\n",
       "    <tr style=\"text-align: right;\">\n",
       "      <th></th>\n",
       "      <th>Rel.Time [s]</th>\n",
       "      <th>5001|MVe [L/min]</th>\n",
       "      <th>5001|VTmand [mL]</th>\n",
       "      <th>5001|PIP [mbar]</th>\n",
       "      <th>5001|RRspon [1/min]</th>\n",
       "    </tr>\n",
       "    <tr>\n",
       "      <th>Date_Time</th>\n",
       "      <th></th>\n",
       "      <th></th>\n",
       "      <th></th>\n",
       "      <th></th>\n",
       "      <th></th>\n",
       "    </tr>\n",
       "  </thead>\n",
       "  <tbody>\n",
       "    <tr>\n",
       "      <th>2020-11-02 13:42:39.904</th>\n",
       "      <td>0</td>\n",
       "      <td>0.20</td>\n",
       "      <td>3.4</td>\n",
       "      <td>22.0</td>\n",
       "      <td>0.0</td>\n",
       "    </tr>\n",
       "    <tr>\n",
       "      <th>2020-11-02 13:42:40.029</th>\n",
       "      <td>0</td>\n",
       "      <td>NaN</td>\n",
       "      <td>NaN</td>\n",
       "      <td>NaN</td>\n",
       "      <td>NaN</td>\n",
       "    </tr>\n",
       "    <tr>\n",
       "      <th>2020-11-02 13:42:40.951</th>\n",
       "      <td>1</td>\n",
       "      <td>0.20</td>\n",
       "      <td>8.2</td>\n",
       "      <td>23.0</td>\n",
       "      <td>0.0</td>\n",
       "    </tr>\n",
       "    <tr>\n",
       "      <th>2020-11-02 13:42:41.060</th>\n",
       "      <td>1</td>\n",
       "      <td>NaN</td>\n",
       "      <td>NaN</td>\n",
       "      <td>NaN</td>\n",
       "      <td>NaN</td>\n",
       "    </tr>\n",
       "    <tr>\n",
       "      <th>2020-11-02 13:42:41.935</th>\n",
       "      <td>2</td>\n",
       "      <td>0.20</td>\n",
       "      <td>4.1</td>\n",
       "      <td>19.0</td>\n",
       "      <td>0.0</td>\n",
       "    </tr>\n",
       "    <tr>\n",
       "      <th>...</th>\n",
       "      <td>...</td>\n",
       "      <td>...</td>\n",
       "      <td>...</td>\n",
       "      <td>...</td>\n",
       "      <td>...</td>\n",
       "    </tr>\n",
       "    <tr>\n",
       "      <th>2020-11-06 13:27:13.906</th>\n",
       "      <td>344674</td>\n",
       "      <td>0.22</td>\n",
       "      <td>3.1</td>\n",
       "      <td>19.0</td>\n",
       "      <td>0.0</td>\n",
       "    </tr>\n",
       "    <tr>\n",
       "      <th>2020-11-06 13:27:14.031</th>\n",
       "      <td>344674</td>\n",
       "      <td>NaN</td>\n",
       "      <td>NaN</td>\n",
       "      <td>NaN</td>\n",
       "      <td>NaN</td>\n",
       "    </tr>\n",
       "    <tr>\n",
       "      <th>2020-11-06 13:27:14.906</th>\n",
       "      <td>344675</td>\n",
       "      <td>0.22</td>\n",
       "      <td>4.2</td>\n",
       "      <td>18.0</td>\n",
       "      <td>0.0</td>\n",
       "    </tr>\n",
       "    <tr>\n",
       "      <th>2020-11-06 13:27:15.046</th>\n",
       "      <td>344675</td>\n",
       "      <td>NaN</td>\n",
       "      <td>NaN</td>\n",
       "      <td>NaN</td>\n",
       "      <td>NaN</td>\n",
       "    </tr>\n",
       "    <tr>\n",
       "      <th>2020-11-06 13:27:15.937</th>\n",
       "      <td>344676</td>\n",
       "      <td>0.22</td>\n",
       "      <td>0.9</td>\n",
       "      <td>18.0</td>\n",
       "      <td>0.0</td>\n",
       "    </tr>\n",
       "  </tbody>\n",
       "</table>\n",
       "<p>689436 rows × 5 columns</p>\n",
       "</div>"
      ],
      "text/plain": [
       "                         Rel.Time [s]  5001|MVe [L/min]  5001|VTmand [mL]  \\\n",
       "Date_Time                                                                   \n",
       "2020-11-02 13:42:39.904             0              0.20               3.4   \n",
       "2020-11-02 13:42:40.029             0               NaN               NaN   \n",
       "2020-11-02 13:42:40.951             1              0.20               8.2   \n",
       "2020-11-02 13:42:41.060             1               NaN               NaN   \n",
       "2020-11-02 13:42:41.935             2              0.20               4.1   \n",
       "...                               ...               ...               ...   \n",
       "2020-11-06 13:27:13.906        344674              0.22               3.1   \n",
       "2020-11-06 13:27:14.031        344674               NaN               NaN   \n",
       "2020-11-06 13:27:14.906        344675              0.22               4.2   \n",
       "2020-11-06 13:27:15.046        344675               NaN               NaN   \n",
       "2020-11-06 13:27:15.937        344676              0.22               0.9   \n",
       "\n",
       "                         5001|PIP [mbar]  5001|RRspon [1/min]  \n",
       "Date_Time                                                      \n",
       "2020-11-02 13:42:39.904             22.0                  0.0  \n",
       "2020-11-02 13:42:40.029              NaN                  NaN  \n",
       "2020-11-02 13:42:40.951             23.0                  0.0  \n",
       "2020-11-02 13:42:41.060              NaN                  NaN  \n",
       "2020-11-02 13:42:41.935             19.0                  0.0  \n",
       "...                                  ...                  ...  \n",
       "2020-11-06 13:27:13.906             19.0                  0.0  \n",
       "2020-11-06 13:27:14.031              NaN                  NaN  \n",
       "2020-11-06 13:27:14.906             18.0                  0.0  \n",
       "2020-11-06 13:27:15.046              NaN                  NaN  \n",
       "2020-11-06 13:27:15.937             18.0                  0.0  \n",
       "\n",
       "[689436 rows x 5 columns]"
      ]
     },
     "execution_count": 113,
     "metadata": {},
     "output_type": "execute_result"
    }
   ],
   "source": [
    "path = os.path.join('data', 'CsvLogBase_2020-11-02_134238.904_slow_Measurement.csv.zip')\n",
    "columns_to_keep = ['Date', 'Time', 'Rel.Time [s]','5001|MVe [L/min]', '5001|VTmand [mL]', '5001|PIP [mbar]', '5001|RRspon [1/min]']\n",
    "data = pd.read_csv(path, usecols = columns_to_keep, index_col = ['Rel.Time [s]'],\n",
    "                   parse_dates =[[0,1]])\n",
    "data = data.reset_index()\n",
    "data = data.set_index(['Date_Time'])\n",
    "data"
   ]
  },
  {
   "cell_type": "code",
   "execution_count": 114,
   "metadata": {},
   "outputs": [
    {
     "name": "stdout",
     "output_type": "stream",
     "text": [
      "<class 'pandas.core.frame.DataFrame'>\n",
      "DatetimeIndex: 689436 entries, 2020-11-02 13:42:39.904000 to 2020-11-06 13:27:15.937000\n",
      "Data columns (total 5 columns):\n",
      " #   Column               Non-Null Count   Dtype  \n",
      "---  ------               --------------   -----  \n",
      " 0   Rel.Time [s]         689436 non-null  int64  \n",
      " 1   5001|MVe [L/min]     344633 non-null  float64\n",
      " 2   5001|VTmand [mL]     344567 non-null  float64\n",
      " 3   5001|PIP [mbar]      344677 non-null  float64\n",
      " 4   5001|RRspon [1/min]  256267 non-null  float64\n",
      "dtypes: float64(4), int64(1)\n",
      "memory usage: 31.6 MB\n"
     ]
    }
   ],
   "source": [
    "data.info()"
   ]
  },
  {
   "cell_type": "code",
   "execution_count": 115,
   "metadata": {},
   "outputs": [],
   "source": [
    "pd.read_csv?"
   ]
  },
  {
   "cell_type": "markdown",
   "metadata": {},
   "source": [
    "## 4 Data structures in Python\n",
    "\n",
    "Store some data (from nothing to the whole universe)\n",
    "\n",
    "All data structures are `objects` but not objects are data structures \n",
    "\n",
    "Evaluating them return the data is some format:"
   ]
  },
  {
   "cell_type": "code",
   "execution_count": null,
   "metadata": {},
   "outputs": [],
   "source": [
    "a = 'Hello World'\n",
    "a"
   ]
  },
  {
   "cell_type": "code",
   "execution_count": null,
   "metadata": {},
   "outputs": [],
   "source": [
    "b = 42\n",
    "b"
   ]
  },
  {
   "cell_type": "code",
   "execution_count": null,
   "metadata": {},
   "outputs": [],
   "source": [
    "data"
   ]
  },
  {
   "cell_type": "markdown",
   "metadata": {},
   "source": [
    "`print()` usually but not always results in a nicer format"
   ]
  },
  {
   "cell_type": "code",
   "execution_count": null,
   "metadata": {},
   "outputs": [],
   "source": [
    "print(a)"
   ]
  },
  {
   "cell_type": "code",
   "execution_count": null,
   "metadata": {},
   "outputs": [],
   "source": [
    "print(b)"
   ]
  },
  {
   "cell_type": "code",
   "execution_count": null,
   "metadata": {},
   "outputs": [],
   "source": [
    "print(data)"
   ]
  },
  {
   "cell_type": "markdown",
   "metadata": {},
   "source": [
    "They have different types"
   ]
  },
  {
   "cell_type": "code",
   "execution_count": null,
   "metadata": {},
   "outputs": [],
   "source": [
    "type(a)"
   ]
  },
  {
   "cell_type": "code",
   "execution_count": null,
   "metadata": {},
   "outputs": [],
   "source": [
    "type(b)"
   ]
  },
  {
   "cell_type": "code",
   "execution_count": null,
   "metadata": {},
   "outputs": [],
   "source": [
    "type(data)"
   ]
  },
  {
   "cell_type": "markdown",
   "metadata": {},
   "source": [
    "Built-in functions work differently on different data structures"
   ]
  },
  {
   "cell_type": "code",
   "execution_count": null,
   "metadata": {},
   "outputs": [],
   "source": [
    "# This is obvious\n",
    "\n",
    "len(a)"
   ]
  },
  {
   "cell_type": "code",
   "execution_count": null,
   "metadata": {},
   "outputs": [],
   "source": [
    "# This will produce an error which is perhaps unexpected\n",
    "\n",
    "len(b)"
   ]
  },
  {
   "cell_type": "code",
   "execution_count": null,
   "metadata": {},
   "outputs": [],
   "source": [
    "# This is by no means obvious\n",
    "\n",
    "len(data)"
   ]
  },
  {
   "cell_type": "markdown",
   "metadata": {},
   "source": [
    "They also have different methods associated with them"
   ]
  },
  {
   "cell_type": "markdown",
   "metadata": {},
   "source": [
    "#### Methods for text strings"
   ]
  },
  {
   "cell_type": "code",
   "execution_count": null,
   "metadata": {
    "scrolled": false
   },
   "outputs": [],
   "source": [
    "dir(a)"
   ]
  },
  {
   "cell_type": "code",
   "execution_count": null,
   "metadata": {},
   "outputs": [],
   "source": [
    "a.upper()"
   ]
  },
  {
   "cell_type": "code",
   "execution_count": null,
   "metadata": {},
   "outputs": [],
   "source": [
    "# Counting and indexing in Python starts from zero\n",
    "\n",
    "a.find('o')"
   ]
  },
  {
   "cell_type": "code",
   "execution_count": null,
   "metadata": {},
   "outputs": [],
   "source": [
    "a.index('o')"
   ]
  },
  {
   "cell_type": "code",
   "execution_count": null,
   "metadata": {},
   "outputs": [],
   "source": [
    "a.count('o')"
   ]
  },
  {
   "cell_type": "code",
   "execution_count": null,
   "metadata": {},
   "outputs": [],
   "source": [
    "a.startswith('H'), a.startswith('h')"
   ]
  },
  {
   "cell_type": "code",
   "execution_count": null,
   "metadata": {},
   "outputs": [],
   "source": [
    "a.isnumeric()"
   ]
  },
  {
   "cell_type": "code",
   "execution_count": null,
   "metadata": {},
   "outputs": [],
   "source": [
    "a.rjust(30)"
   ]
  },
  {
   "cell_type": "markdown",
   "metadata": {},
   "source": [
    "#### Methods for integer numbers"
   ]
  },
  {
   "cell_type": "code",
   "execution_count": null,
   "metadata": {},
   "outputs": [],
   "source": [
    "dir(b)"
   ]
  },
  {
   "cell_type": "code",
   "execution_count": null,
   "metadata": {},
   "outputs": [],
   "source": [
    "b.bit_length()"
   ]
  },
  {
   "cell_type": "code",
   "execution_count": null,
   "metadata": {},
   "outputs": [],
   "source": [
    "b, b.__add__(2)"
   ]
  },
  {
   "cell_type": "code",
   "execution_count": null,
   "metadata": {},
   "outputs": [],
   "source": [
    "c = -42\n",
    "c.__abs__()"
   ]
  },
  {
   "cell_type": "code",
   "execution_count": null,
   "metadata": {},
   "outputs": [],
   "source": [
    "abs(c)"
   ]
  },
  {
   "cell_type": "markdown",
   "metadata": {},
   "source": [
    "#### Methods for complex data structures (pandas DataFrames)"
   ]
  },
  {
   "cell_type": "code",
   "execution_count": null,
   "metadata": {
    "scrolled": false
   },
   "outputs": [],
   "source": [
    "dir(data)"
   ]
  },
  {
   "cell_type": "code",
   "execution_count": null,
   "metadata": {},
   "outputs": [],
   "source": [
    "len(dir(data))"
   ]
  },
  {
   "cell_type": "code",
   "execution_count": null,
   "metadata": {
    "scrolled": true
   },
   "outputs": [],
   "source": [
    "data"
   ]
  },
  {
   "cell_type": "code",
   "execution_count": null,
   "metadata": {
    "scrolled": true
   },
   "outputs": [],
   "source": [
    "data.mean()"
   ]
  },
  {
   "cell_type": "code",
   "execution_count": null,
   "metadata": {
    "scrolled": false
   },
   "outputs": [],
   "source": [
    "data.isnull()"
   ]
  },
  {
   "cell_type": "code",
   "execution_count": null,
   "metadata": {},
   "outputs": [],
   "source": [
    "data.isnull().sum()"
   ]
  },
  {
   "cell_type": "code",
   "execution_count": null,
   "metadata": {},
   "outputs": [],
   "source": [
    "%%time\n",
    "data.plot()"
   ]
  },
  {
   "cell_type": "markdown",
   "metadata": {},
   "source": [
    "#### `HOMEWORK` : Exploratory data analysis"
   ]
  },
  {
   "cell_type": "markdown",
   "metadata": {},
   "source": [
    "## 5. Reading in images"
   ]
  },
  {
   "cell_type": "code",
   "execution_count": null,
   "metadata": {},
   "outputs": [],
   "source": [
    "# importing matplotlib module \n",
    "import matplotlib.image as mpimg \n",
    "\n",
    "img = mpimg.imread('data/newborn_heart_image.jpg') "
   ]
  },
  {
   "cell_type": "code",
   "execution_count": null,
   "metadata": {},
   "outputs": [],
   "source": [
    "img.ndim"
   ]
  },
  {
   "cell_type": "code",
   "execution_count": null,
   "metadata": {},
   "outputs": [],
   "source": [
    "img.shape"
   ]
  },
  {
   "cell_type": "code",
   "execution_count": null,
   "metadata": {},
   "outputs": [],
   "source": [
    "369 * 636 * 3"
   ]
  },
  {
   "cell_type": "code",
   "execution_count": null,
   "metadata": {},
   "outputs": [],
   "source": [
    "img.flatten()"
   ]
  },
  {
   "cell_type": "code",
   "execution_count": null,
   "metadata": {},
   "outputs": [],
   "source": [
    "len(img.flatten())"
   ]
  },
  {
   "cell_type": "code",
   "execution_count": null,
   "metadata": {},
   "outputs": [],
   "source": [
    "print(set(img.flatten()))"
   ]
  },
  {
   "cell_type": "code",
   "execution_count": null,
   "metadata": {},
   "outputs": [],
   "source": [
    "img[:, :, 1]"
   ]
  },
  {
   "cell_type": "code",
   "execution_count": null,
   "metadata": {},
   "outputs": [],
   "source": [
    "img[:, :, 2]"
   ]
  },
  {
   "cell_type": "code",
   "execution_count": null,
   "metadata": {
    "scrolled": false
   },
   "outputs": [],
   "source": [
    "img[1, :, :]"
   ]
  },
  {
   "cell_type": "code",
   "execution_count": null,
   "metadata": {},
   "outputs": [],
   "source": [
    "# Output Image\n",
    "\n",
    "# importing matplotlib module \n",
    "import matplotlib.pyplot as plt \n",
    "\n",
    "plt.imshow(img) "
   ]
  },
  {
   "cell_type": "markdown",
   "metadata": {},
   "source": [
    "## 6. Reading in text data"
   ]
  },
  {
   "cell_type": "code",
   "execution_count": null,
   "metadata": {},
   "outputs": [],
   "source": [
    "f_handle = open('data/karamazov_brothers.txt', 'r')\n",
    "text = f_handle.read()\n",
    "f_handle.close()"
   ]
  },
  {
   "cell_type": "code",
   "execution_count": null,
   "metadata": {},
   "outputs": [],
   "source": [
    "len(text)"
   ]
  },
  {
   "cell_type": "code",
   "execution_count": null,
   "metadata": {},
   "outputs": [],
   "source": [
    "text"
   ]
  },
  {
   "cell_type": "code",
   "execution_count": null,
   "metadata": {
    "scrolled": true
   },
   "outputs": [],
   "source": [
    "text[:10000]"
   ]
  },
  {
   "cell_type": "code",
   "execution_count": null,
   "metadata": {
    "scrolled": false
   },
   "outputs": [],
   "source": [
    "print(text[:10000])"
   ]
  },
  {
   "cell_type": "code",
   "execution_count": null,
   "metadata": {},
   "outputs": [],
   "source": [
    "print(text[5016:10000])"
   ]
  },
  {
   "cell_type": "markdown",
   "metadata": {},
   "source": [
    "## 7. Homework"
   ]
  },
  {
   "cell_type": "markdown",
   "metadata": {},
   "source": [
    "##### Get tabular data and import and play around with it"
   ]
  },
  {
   "cell_type": "markdown",
   "metadata": {},
   "source": [
    "#### Absolute and relative file paths"
   ]
  },
  {
   "cell_type": "code",
   "execution_count": 74,
   "metadata": {},
   "outputs": [
    {
     "data": {
      "text/html": [
       "<div>\n",
       "<style scoped>\n",
       "    .dataframe tbody tr th:only-of-type {\n",
       "        vertical-align: middle;\n",
       "    }\n",
       "\n",
       "    .dataframe tbody tr th {\n",
       "        vertical-align: top;\n",
       "    }\n",
       "\n",
       "    .dataframe thead th {\n",
       "        text-align: right;\n",
       "    }\n",
       "</style>\n",
       "<table border=\"1\" class=\"dataframe\">\n",
       "  <thead>\n",
       "    <tr style=\"text-align: right;\">\n",
       "      <th></th>\n",
       "      <th>Time [ms]</th>\n",
       "      <th>Date</th>\n",
       "      <th>Time</th>\n",
       "      <th>Rel.Time [s]</th>\n",
       "      <th>5001|MVe [L/min]</th>\n",
       "      <th>5001|MVi [L/min]</th>\n",
       "      <th>5001|Cdyn [L/bar]</th>\n",
       "      <th>5001|R [mbar/L/s]</th>\n",
       "      <th>5001|MVespon [L/min]</th>\n",
       "      <th>5001|Rpat [mbar/L/s]</th>\n",
       "      <th>...</th>\n",
       "      <th>5001|TC [s]</th>\n",
       "      <th>5001|TCe [s]</th>\n",
       "      <th>5001|C20/Cdyn [no unit]</th>\n",
       "      <th>5001|VTe [mL]</th>\n",
       "      <th>5001|VTi [mL]</th>\n",
       "      <th>5001|EIP [mbar]</th>\n",
       "      <th>5001|MVleak [L/min]</th>\n",
       "      <th>5001|Tispon [s]</th>\n",
       "      <th>5001|I:Espon (I-Part) [no unit]</th>\n",
       "      <th>5001|I:Espon (E-Part) [no unit]</th>\n",
       "    </tr>\n",
       "  </thead>\n",
       "  <tbody>\n",
       "    <tr>\n",
       "      <th>0</th>\n",
       "      <td>1604324559904</td>\n",
       "      <td>2020-11-02</td>\n",
       "      <td>13:42:39.904</td>\n",
       "      <td>0</td>\n",
       "      <td>0.20</td>\n",
       "      <td>0.21</td>\n",
       "      <td>0.21</td>\n",
       "      <td>146.0</td>\n",
       "      <td>0.0</td>\n",
       "      <td>128.0</td>\n",
       "      <td>...</td>\n",
       "      <td>NaN</td>\n",
       "      <td>NaN</td>\n",
       "      <td>NaN</td>\n",
       "      <td>NaN</td>\n",
       "      <td>NaN</td>\n",
       "      <td>NaN</td>\n",
       "      <td>NaN</td>\n",
       "      <td>NaN</td>\n",
       "      <td>NaN</td>\n",
       "      <td>NaN</td>\n",
       "    </tr>\n",
       "    <tr>\n",
       "      <th>1</th>\n",
       "      <td>1604324560029</td>\n",
       "      <td>2020-11-02</td>\n",
       "      <td>13:42:40.029</td>\n",
       "      <td>0</td>\n",
       "      <td>NaN</td>\n",
       "      <td>NaN</td>\n",
       "      <td>NaN</td>\n",
       "      <td>NaN</td>\n",
       "      <td>NaN</td>\n",
       "      <td>NaN</td>\n",
       "      <td>...</td>\n",
       "      <td>0.03</td>\n",
       "      <td>0.11</td>\n",
       "      <td>0.55</td>\n",
       "      <td>3.4</td>\n",
       "      <td>3.4</td>\n",
       "      <td>21.0</td>\n",
       "      <td>0.00</td>\n",
       "      <td>NaN</td>\n",
       "      <td>NaN</td>\n",
       "      <td>NaN</td>\n",
       "    </tr>\n",
       "    <tr>\n",
       "      <th>2</th>\n",
       "      <td>1604324560951</td>\n",
       "      <td>2020-11-02</td>\n",
       "      <td>13:42:40.951</td>\n",
       "      <td>1</td>\n",
       "      <td>0.20</td>\n",
       "      <td>0.21</td>\n",
       "      <td>0.22</td>\n",
       "      <td>146.0</td>\n",
       "      <td>0.0</td>\n",
       "      <td>128.0</td>\n",
       "      <td>...</td>\n",
       "      <td>NaN</td>\n",
       "      <td>NaN</td>\n",
       "      <td>NaN</td>\n",
       "      <td>NaN</td>\n",
       "      <td>NaN</td>\n",
       "      <td>NaN</td>\n",
       "      <td>NaN</td>\n",
       "      <td>NaN</td>\n",
       "      <td>NaN</td>\n",
       "      <td>NaN</td>\n",
       "    </tr>\n",
       "    <tr>\n",
       "      <th>3</th>\n",
       "      <td>1604324561060</td>\n",
       "      <td>2020-11-02</td>\n",
       "      <td>13:42:41.060</td>\n",
       "      <td>1</td>\n",
       "      <td>NaN</td>\n",
       "      <td>NaN</td>\n",
       "      <td>NaN</td>\n",
       "      <td>NaN</td>\n",
       "      <td>NaN</td>\n",
       "      <td>NaN</td>\n",
       "      <td>...</td>\n",
       "      <td>0.03</td>\n",
       "      <td>0.21</td>\n",
       "      <td>0.55</td>\n",
       "      <td>8.2</td>\n",
       "      <td>3.6</td>\n",
       "      <td>22.0</td>\n",
       "      <td>0.00</td>\n",
       "      <td>NaN</td>\n",
       "      <td>NaN</td>\n",
       "      <td>NaN</td>\n",
       "    </tr>\n",
       "    <tr>\n",
       "      <th>4</th>\n",
       "      <td>1604324561935</td>\n",
       "      <td>2020-11-02</td>\n",
       "      <td>13:42:41.935</td>\n",
       "      <td>2</td>\n",
       "      <td>0.20</td>\n",
       "      <td>0.21</td>\n",
       "      <td>0.26</td>\n",
       "      <td>154.0</td>\n",
       "      <td>0.0</td>\n",
       "      <td>136.0</td>\n",
       "      <td>...</td>\n",
       "      <td>NaN</td>\n",
       "      <td>NaN</td>\n",
       "      <td>NaN</td>\n",
       "      <td>NaN</td>\n",
       "      <td>NaN</td>\n",
       "      <td>NaN</td>\n",
       "      <td>NaN</td>\n",
       "      <td>NaN</td>\n",
       "      <td>NaN</td>\n",
       "      <td>NaN</td>\n",
       "    </tr>\n",
       "    <tr>\n",
       "      <th>...</th>\n",
       "      <td>...</td>\n",
       "      <td>...</td>\n",
       "      <td>...</td>\n",
       "      <td>...</td>\n",
       "      <td>...</td>\n",
       "      <td>...</td>\n",
       "      <td>...</td>\n",
       "      <td>...</td>\n",
       "      <td>...</td>\n",
       "      <td>...</td>\n",
       "      <td>...</td>\n",
       "      <td>...</td>\n",
       "      <td>...</td>\n",
       "      <td>...</td>\n",
       "      <td>...</td>\n",
       "      <td>...</td>\n",
       "      <td>...</td>\n",
       "      <td>...</td>\n",
       "      <td>...</td>\n",
       "      <td>...</td>\n",
       "      <td>...</td>\n",
       "    </tr>\n",
       "    <tr>\n",
       "      <th>689431</th>\n",
       "      <td>1604669233906</td>\n",
       "      <td>2020-11-06</td>\n",
       "      <td>13:27:13.906</td>\n",
       "      <td>344674</td>\n",
       "      <td>0.22</td>\n",
       "      <td>0.22</td>\n",
       "      <td>0.21</td>\n",
       "      <td>164.0</td>\n",
       "      <td>0.0</td>\n",
       "      <td>150.0</td>\n",
       "      <td>...</td>\n",
       "      <td>NaN</td>\n",
       "      <td>NaN</td>\n",
       "      <td>NaN</td>\n",
       "      <td>NaN</td>\n",
       "      <td>NaN</td>\n",
       "      <td>NaN</td>\n",
       "      <td>NaN</td>\n",
       "      <td>NaN</td>\n",
       "      <td>NaN</td>\n",
       "      <td>NaN</td>\n",
       "    </tr>\n",
       "    <tr>\n",
       "      <th>689432</th>\n",
       "      <td>1604669234031</td>\n",
       "      <td>2020-11-06</td>\n",
       "      <td>13:27:14.031</td>\n",
       "      <td>344674</td>\n",
       "      <td>NaN</td>\n",
       "      <td>NaN</td>\n",
       "      <td>NaN</td>\n",
       "      <td>NaN</td>\n",
       "      <td>NaN</td>\n",
       "      <td>NaN</td>\n",
       "      <td>...</td>\n",
       "      <td>0.04</td>\n",
       "      <td>0.11</td>\n",
       "      <td>0.75</td>\n",
       "      <td>3.1</td>\n",
       "      <td>2.6</td>\n",
       "      <td>18.0</td>\n",
       "      <td>0.02</td>\n",
       "      <td>NaN</td>\n",
       "      <td>NaN</td>\n",
       "      <td>NaN</td>\n",
       "    </tr>\n",
       "    <tr>\n",
       "      <th>689433</th>\n",
       "      <td>1604669234906</td>\n",
       "      <td>2020-11-06</td>\n",
       "      <td>13:27:14.906</td>\n",
       "      <td>344675</td>\n",
       "      <td>0.22</td>\n",
       "      <td>0.22</td>\n",
       "      <td>0.21</td>\n",
       "      <td>164.0</td>\n",
       "      <td>0.0</td>\n",
       "      <td>150.0</td>\n",
       "      <td>...</td>\n",
       "      <td>NaN</td>\n",
       "      <td>NaN</td>\n",
       "      <td>NaN</td>\n",
       "      <td>NaN</td>\n",
       "      <td>NaN</td>\n",
       "      <td>NaN</td>\n",
       "      <td>NaN</td>\n",
       "      <td>NaN</td>\n",
       "      <td>NaN</td>\n",
       "      <td>NaN</td>\n",
       "    </tr>\n",
       "    <tr>\n",
       "      <th>689434</th>\n",
       "      <td>1604669235046</td>\n",
       "      <td>2020-11-06</td>\n",
       "      <td>13:27:15.046</td>\n",
       "      <td>344675</td>\n",
       "      <td>NaN</td>\n",
       "      <td>NaN</td>\n",
       "      <td>NaN</td>\n",
       "      <td>NaN</td>\n",
       "      <td>NaN</td>\n",
       "      <td>NaN</td>\n",
       "      <td>...</td>\n",
       "      <td>0.01</td>\n",
       "      <td>0.15</td>\n",
       "      <td>0.75</td>\n",
       "      <td>4.1</td>\n",
       "      <td>2.6</td>\n",
       "      <td>19.0</td>\n",
       "      <td>0.01</td>\n",
       "      <td>NaN</td>\n",
       "      <td>NaN</td>\n",
       "      <td>NaN</td>\n",
       "    </tr>\n",
       "    <tr>\n",
       "      <th>689435</th>\n",
       "      <td>1604669235937</td>\n",
       "      <td>2020-11-06</td>\n",
       "      <td>13:27:15.937</td>\n",
       "      <td>344676</td>\n",
       "      <td>0.22</td>\n",
       "      <td>0.22</td>\n",
       "      <td>0.05</td>\n",
       "      <td>164.0</td>\n",
       "      <td>0.0</td>\n",
       "      <td>150.0</td>\n",
       "      <td>...</td>\n",
       "      <td>NaN</td>\n",
       "      <td>NaN</td>\n",
       "      <td>NaN</td>\n",
       "      <td>NaN</td>\n",
       "      <td>NaN</td>\n",
       "      <td>NaN</td>\n",
       "      <td>NaN</td>\n",
       "      <td>NaN</td>\n",
       "      <td>NaN</td>\n",
       "      <td>NaN</td>\n",
       "    </tr>\n",
       "  </tbody>\n",
       "</table>\n",
       "<p>689436 rows × 47 columns</p>\n",
       "</div>"
      ],
      "text/plain": [
       "            Time [ms]        Date          Time  Rel.Time [s]  \\\n",
       "0       1604324559904  2020-11-02  13:42:39.904             0   \n",
       "1       1604324560029  2020-11-02  13:42:40.029             0   \n",
       "2       1604324560951  2020-11-02  13:42:40.951             1   \n",
       "3       1604324561060  2020-11-02  13:42:41.060             1   \n",
       "4       1604324561935  2020-11-02  13:42:41.935             2   \n",
       "...               ...         ...           ...           ...   \n",
       "689431  1604669233906  2020-11-06  13:27:13.906        344674   \n",
       "689432  1604669234031  2020-11-06  13:27:14.031        344674   \n",
       "689433  1604669234906  2020-11-06  13:27:14.906        344675   \n",
       "689434  1604669235046  2020-11-06  13:27:15.046        344675   \n",
       "689435  1604669235937  2020-11-06  13:27:15.937        344676   \n",
       "\n",
       "        5001|MVe [L/min]  5001|MVi [L/min]  5001|Cdyn [L/bar]  \\\n",
       "0                   0.20              0.21               0.21   \n",
       "1                    NaN               NaN                NaN   \n",
       "2                   0.20              0.21               0.22   \n",
       "3                    NaN               NaN                NaN   \n",
       "4                   0.20              0.21               0.26   \n",
       "...                  ...               ...                ...   \n",
       "689431              0.22              0.22               0.21   \n",
       "689432               NaN               NaN                NaN   \n",
       "689433              0.22              0.22               0.21   \n",
       "689434               NaN               NaN                NaN   \n",
       "689435              0.22              0.22               0.05   \n",
       "\n",
       "        5001|R [mbar/L/s]  5001|MVespon [L/min]  5001|Rpat [mbar/L/s]  ...  \\\n",
       "0                   146.0                   0.0                 128.0  ...   \n",
       "1                     NaN                   NaN                   NaN  ...   \n",
       "2                   146.0                   0.0                 128.0  ...   \n",
       "3                     NaN                   NaN                   NaN  ...   \n",
       "4                   154.0                   0.0                 136.0  ...   \n",
       "...                   ...                   ...                   ...  ...   \n",
       "689431              164.0                   0.0                 150.0  ...   \n",
       "689432                NaN                   NaN                   NaN  ...   \n",
       "689433              164.0                   0.0                 150.0  ...   \n",
       "689434                NaN                   NaN                   NaN  ...   \n",
       "689435              164.0                   0.0                 150.0  ...   \n",
       "\n",
       "        5001|TC [s]  5001|TCe [s]  5001|C20/Cdyn [no unit]  5001|VTe [mL]  \\\n",
       "0               NaN           NaN                      NaN            NaN   \n",
       "1              0.03          0.11                     0.55            3.4   \n",
       "2               NaN           NaN                      NaN            NaN   \n",
       "3              0.03          0.21                     0.55            8.2   \n",
       "4               NaN           NaN                      NaN            NaN   \n",
       "...             ...           ...                      ...            ...   \n",
       "689431          NaN           NaN                      NaN            NaN   \n",
       "689432         0.04          0.11                     0.75            3.1   \n",
       "689433          NaN           NaN                      NaN            NaN   \n",
       "689434         0.01          0.15                     0.75            4.1   \n",
       "689435          NaN           NaN                      NaN            NaN   \n",
       "\n",
       "        5001|VTi [mL]  5001|EIP [mbar]  5001|MVleak [L/min]  5001|Tispon [s]  \\\n",
       "0                 NaN              NaN                  NaN              NaN   \n",
       "1                 3.4             21.0                 0.00              NaN   \n",
       "2                 NaN              NaN                  NaN              NaN   \n",
       "3                 3.6             22.0                 0.00              NaN   \n",
       "4                 NaN              NaN                  NaN              NaN   \n",
       "...               ...              ...                  ...              ...   \n",
       "689431            NaN              NaN                  NaN              NaN   \n",
       "689432            2.6             18.0                 0.02              NaN   \n",
       "689433            NaN              NaN                  NaN              NaN   \n",
       "689434            2.6             19.0                 0.01              NaN   \n",
       "689435            NaN              NaN                  NaN              NaN   \n",
       "\n",
       "        5001|I:Espon (I-Part) [no unit]  5001|I:Espon (E-Part) [no unit]  \n",
       "0                                   NaN                              NaN  \n",
       "1                                   NaN                              NaN  \n",
       "2                                   NaN                              NaN  \n",
       "3                                   NaN                              NaN  \n",
       "4                                   NaN                              NaN  \n",
       "...                                 ...                              ...  \n",
       "689431                              NaN                              NaN  \n",
       "689432                              NaN                              NaN  \n",
       "689433                              NaN                              NaN  \n",
       "689434                              NaN                              NaN  \n",
       "689435                              NaN                              NaN  \n",
       "\n",
       "[689436 rows x 47 columns]"
      ]
     },
     "execution_count": 74,
     "metadata": {},
     "output_type": "execute_result"
    }
   ],
   "source": [
    "# Relative path:\n",
    "\n",
    "pd.read_csv('data/data_new/CsvLogBase_2020-11-02_134238.904_slow_Measurement.csv.zip')"
   ]
  },
  {
   "cell_type": "code",
   "execution_count": null,
   "metadata": {},
   "outputs": [],
   "source": [
    "pd.read_csv(os.path.join('data', 'CsvLogBase_2020-11-02_134238.904_slow_Measurement.csv.zip'))"
   ]
  },
  {
   "cell_type": "code",
   "execution_count": null,
   "metadata": {},
   "outputs": [],
   "source": [
    "'D:\\dddldd\\ddddd\\vfvff\\'"
   ]
  },
  {
   "cell_type": "code",
   "execution_count": 76,
   "metadata": {},
   "outputs": [
    {
     "data": {
      "text/html": [
       "<div>\n",
       "<style scoped>\n",
       "    .dataframe tbody tr th:only-of-type {\n",
       "        vertical-align: middle;\n",
       "    }\n",
       "\n",
       "    .dataframe tbody tr th {\n",
       "        vertical-align: top;\n",
       "    }\n",
       "\n",
       "    .dataframe thead th {\n",
       "        text-align: right;\n",
       "    }\n",
       "</style>\n",
       "<table border=\"1\" class=\"dataframe\">\n",
       "  <thead>\n",
       "    <tr style=\"text-align: right;\">\n",
       "      <th></th>\n",
       "      <th>Time [ms]</th>\n",
       "      <th>Date</th>\n",
       "      <th>Time</th>\n",
       "      <th>Rel.Time [s]</th>\n",
       "      <th>5001|MVe [L/min]</th>\n",
       "      <th>5001|MVi [L/min]</th>\n",
       "      <th>5001|Cdyn [L/bar]</th>\n",
       "      <th>5001|R [mbar/L/s]</th>\n",
       "      <th>5001|MVespon [L/min]</th>\n",
       "      <th>5001|Rpat [mbar/L/s]</th>\n",
       "      <th>...</th>\n",
       "      <th>5001|TC [s]</th>\n",
       "      <th>5001|TCe [s]</th>\n",
       "      <th>5001|C20/Cdyn [no unit]</th>\n",
       "      <th>5001|VTe [mL]</th>\n",
       "      <th>5001|VTi [mL]</th>\n",
       "      <th>5001|EIP [mbar]</th>\n",
       "      <th>5001|MVleak [L/min]</th>\n",
       "      <th>5001|Tispon [s]</th>\n",
       "      <th>5001|I:Espon (I-Part) [no unit]</th>\n",
       "      <th>5001|I:Espon (E-Part) [no unit]</th>\n",
       "    </tr>\n",
       "  </thead>\n",
       "  <tbody>\n",
       "    <tr>\n",
       "      <th>0</th>\n",
       "      <td>1604324559904</td>\n",
       "      <td>2020-11-02</td>\n",
       "      <td>13:42:39.904</td>\n",
       "      <td>0</td>\n",
       "      <td>0.20</td>\n",
       "      <td>0.21</td>\n",
       "      <td>0.21</td>\n",
       "      <td>146.0</td>\n",
       "      <td>0.0</td>\n",
       "      <td>128.0</td>\n",
       "      <td>...</td>\n",
       "      <td>NaN</td>\n",
       "      <td>NaN</td>\n",
       "      <td>NaN</td>\n",
       "      <td>NaN</td>\n",
       "      <td>NaN</td>\n",
       "      <td>NaN</td>\n",
       "      <td>NaN</td>\n",
       "      <td>NaN</td>\n",
       "      <td>NaN</td>\n",
       "      <td>NaN</td>\n",
       "    </tr>\n",
       "    <tr>\n",
       "      <th>1</th>\n",
       "      <td>1604324560029</td>\n",
       "      <td>2020-11-02</td>\n",
       "      <td>13:42:40.029</td>\n",
       "      <td>0</td>\n",
       "      <td>NaN</td>\n",
       "      <td>NaN</td>\n",
       "      <td>NaN</td>\n",
       "      <td>NaN</td>\n",
       "      <td>NaN</td>\n",
       "      <td>NaN</td>\n",
       "      <td>...</td>\n",
       "      <td>0.03</td>\n",
       "      <td>0.11</td>\n",
       "      <td>0.55</td>\n",
       "      <td>3.4</td>\n",
       "      <td>3.4</td>\n",
       "      <td>21.0</td>\n",
       "      <td>0.00</td>\n",
       "      <td>NaN</td>\n",
       "      <td>NaN</td>\n",
       "      <td>NaN</td>\n",
       "    </tr>\n",
       "    <tr>\n",
       "      <th>2</th>\n",
       "      <td>1604324560951</td>\n",
       "      <td>2020-11-02</td>\n",
       "      <td>13:42:40.951</td>\n",
       "      <td>1</td>\n",
       "      <td>0.20</td>\n",
       "      <td>0.21</td>\n",
       "      <td>0.22</td>\n",
       "      <td>146.0</td>\n",
       "      <td>0.0</td>\n",
       "      <td>128.0</td>\n",
       "      <td>...</td>\n",
       "      <td>NaN</td>\n",
       "      <td>NaN</td>\n",
       "      <td>NaN</td>\n",
       "      <td>NaN</td>\n",
       "      <td>NaN</td>\n",
       "      <td>NaN</td>\n",
       "      <td>NaN</td>\n",
       "      <td>NaN</td>\n",
       "      <td>NaN</td>\n",
       "      <td>NaN</td>\n",
       "    </tr>\n",
       "    <tr>\n",
       "      <th>3</th>\n",
       "      <td>1604324561060</td>\n",
       "      <td>2020-11-02</td>\n",
       "      <td>13:42:41.060</td>\n",
       "      <td>1</td>\n",
       "      <td>NaN</td>\n",
       "      <td>NaN</td>\n",
       "      <td>NaN</td>\n",
       "      <td>NaN</td>\n",
       "      <td>NaN</td>\n",
       "      <td>NaN</td>\n",
       "      <td>...</td>\n",
       "      <td>0.03</td>\n",
       "      <td>0.21</td>\n",
       "      <td>0.55</td>\n",
       "      <td>8.2</td>\n",
       "      <td>3.6</td>\n",
       "      <td>22.0</td>\n",
       "      <td>0.00</td>\n",
       "      <td>NaN</td>\n",
       "      <td>NaN</td>\n",
       "      <td>NaN</td>\n",
       "    </tr>\n",
       "    <tr>\n",
       "      <th>4</th>\n",
       "      <td>1604324561935</td>\n",
       "      <td>2020-11-02</td>\n",
       "      <td>13:42:41.935</td>\n",
       "      <td>2</td>\n",
       "      <td>0.20</td>\n",
       "      <td>0.21</td>\n",
       "      <td>0.26</td>\n",
       "      <td>154.0</td>\n",
       "      <td>0.0</td>\n",
       "      <td>136.0</td>\n",
       "      <td>...</td>\n",
       "      <td>NaN</td>\n",
       "      <td>NaN</td>\n",
       "      <td>NaN</td>\n",
       "      <td>NaN</td>\n",
       "      <td>NaN</td>\n",
       "      <td>NaN</td>\n",
       "      <td>NaN</td>\n",
       "      <td>NaN</td>\n",
       "      <td>NaN</td>\n",
       "      <td>NaN</td>\n",
       "    </tr>\n",
       "    <tr>\n",
       "      <th>...</th>\n",
       "      <td>...</td>\n",
       "      <td>...</td>\n",
       "      <td>...</td>\n",
       "      <td>...</td>\n",
       "      <td>...</td>\n",
       "      <td>...</td>\n",
       "      <td>...</td>\n",
       "      <td>...</td>\n",
       "      <td>...</td>\n",
       "      <td>...</td>\n",
       "      <td>...</td>\n",
       "      <td>...</td>\n",
       "      <td>...</td>\n",
       "      <td>...</td>\n",
       "      <td>...</td>\n",
       "      <td>...</td>\n",
       "      <td>...</td>\n",
       "      <td>...</td>\n",
       "      <td>...</td>\n",
       "      <td>...</td>\n",
       "      <td>...</td>\n",
       "    </tr>\n",
       "    <tr>\n",
       "      <th>689431</th>\n",
       "      <td>1604669233906</td>\n",
       "      <td>2020-11-06</td>\n",
       "      <td>13:27:13.906</td>\n",
       "      <td>344674</td>\n",
       "      <td>0.22</td>\n",
       "      <td>0.22</td>\n",
       "      <td>0.21</td>\n",
       "      <td>164.0</td>\n",
       "      <td>0.0</td>\n",
       "      <td>150.0</td>\n",
       "      <td>...</td>\n",
       "      <td>NaN</td>\n",
       "      <td>NaN</td>\n",
       "      <td>NaN</td>\n",
       "      <td>NaN</td>\n",
       "      <td>NaN</td>\n",
       "      <td>NaN</td>\n",
       "      <td>NaN</td>\n",
       "      <td>NaN</td>\n",
       "      <td>NaN</td>\n",
       "      <td>NaN</td>\n",
       "    </tr>\n",
       "    <tr>\n",
       "      <th>689432</th>\n",
       "      <td>1604669234031</td>\n",
       "      <td>2020-11-06</td>\n",
       "      <td>13:27:14.031</td>\n",
       "      <td>344674</td>\n",
       "      <td>NaN</td>\n",
       "      <td>NaN</td>\n",
       "      <td>NaN</td>\n",
       "      <td>NaN</td>\n",
       "      <td>NaN</td>\n",
       "      <td>NaN</td>\n",
       "      <td>...</td>\n",
       "      <td>0.04</td>\n",
       "      <td>0.11</td>\n",
       "      <td>0.75</td>\n",
       "      <td>3.1</td>\n",
       "      <td>2.6</td>\n",
       "      <td>18.0</td>\n",
       "      <td>0.02</td>\n",
       "      <td>NaN</td>\n",
       "      <td>NaN</td>\n",
       "      <td>NaN</td>\n",
       "    </tr>\n",
       "    <tr>\n",
       "      <th>689433</th>\n",
       "      <td>1604669234906</td>\n",
       "      <td>2020-11-06</td>\n",
       "      <td>13:27:14.906</td>\n",
       "      <td>344675</td>\n",
       "      <td>0.22</td>\n",
       "      <td>0.22</td>\n",
       "      <td>0.21</td>\n",
       "      <td>164.0</td>\n",
       "      <td>0.0</td>\n",
       "      <td>150.0</td>\n",
       "      <td>...</td>\n",
       "      <td>NaN</td>\n",
       "      <td>NaN</td>\n",
       "      <td>NaN</td>\n",
       "      <td>NaN</td>\n",
       "      <td>NaN</td>\n",
       "      <td>NaN</td>\n",
       "      <td>NaN</td>\n",
       "      <td>NaN</td>\n",
       "      <td>NaN</td>\n",
       "      <td>NaN</td>\n",
       "    </tr>\n",
       "    <tr>\n",
       "      <th>689434</th>\n",
       "      <td>1604669235046</td>\n",
       "      <td>2020-11-06</td>\n",
       "      <td>13:27:15.046</td>\n",
       "      <td>344675</td>\n",
       "      <td>NaN</td>\n",
       "      <td>NaN</td>\n",
       "      <td>NaN</td>\n",
       "      <td>NaN</td>\n",
       "      <td>NaN</td>\n",
       "      <td>NaN</td>\n",
       "      <td>...</td>\n",
       "      <td>0.01</td>\n",
       "      <td>0.15</td>\n",
       "      <td>0.75</td>\n",
       "      <td>4.1</td>\n",
       "      <td>2.6</td>\n",
       "      <td>19.0</td>\n",
       "      <td>0.01</td>\n",
       "      <td>NaN</td>\n",
       "      <td>NaN</td>\n",
       "      <td>NaN</td>\n",
       "    </tr>\n",
       "    <tr>\n",
       "      <th>689435</th>\n",
       "      <td>1604669235937</td>\n",
       "      <td>2020-11-06</td>\n",
       "      <td>13:27:15.937</td>\n",
       "      <td>344676</td>\n",
       "      <td>0.22</td>\n",
       "      <td>0.22</td>\n",
       "      <td>0.05</td>\n",
       "      <td>164.0</td>\n",
       "      <td>0.0</td>\n",
       "      <td>150.0</td>\n",
       "      <td>...</td>\n",
       "      <td>NaN</td>\n",
       "      <td>NaN</td>\n",
       "      <td>NaN</td>\n",
       "      <td>NaN</td>\n",
       "      <td>NaN</td>\n",
       "      <td>NaN</td>\n",
       "      <td>NaN</td>\n",
       "      <td>NaN</td>\n",
       "      <td>NaN</td>\n",
       "      <td>NaN</td>\n",
       "    </tr>\n",
       "  </tbody>\n",
       "</table>\n",
       "<p>689436 rows × 47 columns</p>\n",
       "</div>"
      ],
      "text/plain": [
       "            Time [ms]        Date          Time  Rel.Time [s]  \\\n",
       "0       1604324559904  2020-11-02  13:42:39.904             0   \n",
       "1       1604324560029  2020-11-02  13:42:40.029             0   \n",
       "2       1604324560951  2020-11-02  13:42:40.951             1   \n",
       "3       1604324561060  2020-11-02  13:42:41.060             1   \n",
       "4       1604324561935  2020-11-02  13:42:41.935             2   \n",
       "...               ...         ...           ...           ...   \n",
       "689431  1604669233906  2020-11-06  13:27:13.906        344674   \n",
       "689432  1604669234031  2020-11-06  13:27:14.031        344674   \n",
       "689433  1604669234906  2020-11-06  13:27:14.906        344675   \n",
       "689434  1604669235046  2020-11-06  13:27:15.046        344675   \n",
       "689435  1604669235937  2020-11-06  13:27:15.937        344676   \n",
       "\n",
       "        5001|MVe [L/min]  5001|MVi [L/min]  5001|Cdyn [L/bar]  \\\n",
       "0                   0.20              0.21               0.21   \n",
       "1                    NaN               NaN                NaN   \n",
       "2                   0.20              0.21               0.22   \n",
       "3                    NaN               NaN                NaN   \n",
       "4                   0.20              0.21               0.26   \n",
       "...                  ...               ...                ...   \n",
       "689431              0.22              0.22               0.21   \n",
       "689432               NaN               NaN                NaN   \n",
       "689433              0.22              0.22               0.21   \n",
       "689434               NaN               NaN                NaN   \n",
       "689435              0.22              0.22               0.05   \n",
       "\n",
       "        5001|R [mbar/L/s]  5001|MVespon [L/min]  5001|Rpat [mbar/L/s]  ...  \\\n",
       "0                   146.0                   0.0                 128.0  ...   \n",
       "1                     NaN                   NaN                   NaN  ...   \n",
       "2                   146.0                   0.0                 128.0  ...   \n",
       "3                     NaN                   NaN                   NaN  ...   \n",
       "4                   154.0                   0.0                 136.0  ...   \n",
       "...                   ...                   ...                   ...  ...   \n",
       "689431              164.0                   0.0                 150.0  ...   \n",
       "689432                NaN                   NaN                   NaN  ...   \n",
       "689433              164.0                   0.0                 150.0  ...   \n",
       "689434                NaN                   NaN                   NaN  ...   \n",
       "689435              164.0                   0.0                 150.0  ...   \n",
       "\n",
       "        5001|TC [s]  5001|TCe [s]  5001|C20/Cdyn [no unit]  5001|VTe [mL]  \\\n",
       "0               NaN           NaN                      NaN            NaN   \n",
       "1              0.03          0.11                     0.55            3.4   \n",
       "2               NaN           NaN                      NaN            NaN   \n",
       "3              0.03          0.21                     0.55            8.2   \n",
       "4               NaN           NaN                      NaN            NaN   \n",
       "...             ...           ...                      ...            ...   \n",
       "689431          NaN           NaN                      NaN            NaN   \n",
       "689432         0.04          0.11                     0.75            3.1   \n",
       "689433          NaN           NaN                      NaN            NaN   \n",
       "689434         0.01          0.15                     0.75            4.1   \n",
       "689435          NaN           NaN                      NaN            NaN   \n",
       "\n",
       "        5001|VTi [mL]  5001|EIP [mbar]  5001|MVleak [L/min]  5001|Tispon [s]  \\\n",
       "0                 NaN              NaN                  NaN              NaN   \n",
       "1                 3.4             21.0                 0.00              NaN   \n",
       "2                 NaN              NaN                  NaN              NaN   \n",
       "3                 3.6             22.0                 0.00              NaN   \n",
       "4                 NaN              NaN                  NaN              NaN   \n",
       "...               ...              ...                  ...              ...   \n",
       "689431            NaN              NaN                  NaN              NaN   \n",
       "689432            2.6             18.0                 0.02              NaN   \n",
       "689433            NaN              NaN                  NaN              NaN   \n",
       "689434            2.6             19.0                 0.01              NaN   \n",
       "689435            NaN              NaN                  NaN              NaN   \n",
       "\n",
       "        5001|I:Espon (I-Part) [no unit]  5001|I:Espon (E-Part) [no unit]  \n",
       "0                                   NaN                              NaN  \n",
       "1                                   NaN                              NaN  \n",
       "2                                   NaN                              NaN  \n",
       "3                                   NaN                              NaN  \n",
       "4                                   NaN                              NaN  \n",
       "...                                 ...                              ...  \n",
       "689431                              NaN                              NaN  \n",
       "689432                              NaN                              NaN  \n",
       "689433                              NaN                              NaN  \n",
       "689434                              NaN                              NaN  \n",
       "689435                              NaN                              NaN  \n",
       "\n",
       "[689436 rows x 47 columns]"
      ]
     },
     "execution_count": 76,
     "metadata": {},
     "output_type": "execute_result"
    }
   ],
   "source": [
    "# My absolute path:\n",
    "\n",
    "pd.read_csv('/Users/guszti/data_science_course/data/CsvLogBase_2020-11-02_134238.904_slow_Measurement.csv.zip')"
   ]
  },
  {
   "cell_type": "code",
   "execution_count": null,
   "metadata": {},
   "outputs": [],
   "source": [
    "pd.read_csv(os.path.join('/Users', 'guszti', 'data_science_course', 'data',\n",
    "                         'CsvLogBase_2020-11-02_134238.904_slow_Measurement.csv.zip'))"
   ]
  },
  {
   "cell_type": "code",
   "execution_count": null,
   "metadata": {},
   "outputs": [],
   "source": [
    "# Why is this working ?\n",
    "\n",
    "pd.read_csv(os.path.join('.','data', 'CsvLogBase_2020-11-02_134238.904_slow_Measurement.csv.zip'))"
   ]
  },
  {
   "cell_type": "code",
   "execution_count": null,
   "metadata": {},
   "outputs": [],
   "source": [
    "# And why is this working ?\n",
    "\n",
    "pd.read_csv(os.path.join('..', 'data_science_course', 'data', 'CsvLogBase_2020-11-02_134238.904_slow_Measurement.csv.zip'))"
   ]
  },
  {
   "cell_type": "markdown",
   "metadata": {},
   "source": [
    "### Slicing and dicing in Python"
   ]
  },
  {
   "cell_type": "code",
   "execution_count": 118,
   "metadata": {},
   "outputs": [
    {
     "data": {
      "text/plain": [
       "['January',\n",
       " 'February',\n",
       " 'March',\n",
       " 'April',\n",
       " 'May',\n",
       " 'June',\n",
       " 'July',\n",
       " 'August',\n",
       " 'September',\n",
       " 'October',\n",
       " 'November',\n",
       " 'December']"
      ]
     },
     "execution_count": 118,
     "metadata": {},
     "output_type": "execute_result"
    }
   ],
   "source": [
    "# List of strings\n",
    "\n",
    "lst = ['January', 'February', 'March', 'April', 'May', 'June', 'July', 'August', 'September', 'October',\n",
    "       'November', 'December']\n",
    "\n",
    "lst"
   ]
  },
  {
   "cell_type": "code",
   "execution_count": 121,
   "metadata": {},
   "outputs": [
    {
     "data": {
      "text/plain": [
       "['January', 'February', 'March', 'April']"
      ]
     },
     "execution_count": 121,
     "metadata": {},
     "output_type": "execute_result"
    }
   ],
   "source": [
    "# Indexing is zero based\n",
    "\n",
    "lst[0:4]"
   ]
  },
  {
   "cell_type": "markdown",
   "metadata": {},
   "source": [
    "##### So - write the input to generate the output"
   ]
  },
  {
   "cell_type": "markdown",
   "metadata": {},
   "source": [
    "`['March', 'April', 'May']`"
   ]
  },
  {
   "cell_type": "code",
   "execution_count": null,
   "metadata": {},
   "outputs": [],
   "source": [
    "lst[]"
   ]
  },
  {
   "cell_type": "markdown",
   "metadata": {},
   "source": [
    "`['May', 'June', 'July', 'August']`"
   ]
  },
  {
   "cell_type": "code",
   "execution_count": null,
   "metadata": {},
   "outputs": [],
   "source": [
    "lst[]"
   ]
  },
  {
   "cell_type": "markdown",
   "metadata": {},
   "source": [
    "`['July', 'August', 'September', 'October', 'November', 'December']`"
   ]
  },
  {
   "cell_type": "code",
   "execution_count": null,
   "metadata": {},
   "outputs": [],
   "source": [
    "lst[]"
   ]
  },
  {
   "cell_type": "markdown",
   "metadata": {},
   "source": [
    "`['January', 'March', 'May', 'July', 'September']`"
   ]
  },
  {
   "cell_type": "code",
   "execution_count": null,
   "metadata": {},
   "outputs": [],
   "source": [
    "lst[]"
   ]
  },
  {
   "cell_type": "markdown",
   "metadata": {},
   "source": [
    "`['March', 'April', 'May']`"
   ]
  },
  {
   "cell_type": "markdown",
   "metadata": {},
   "source": [
    "`['January',\n",
    " 'February',\n",
    " 'March',\n",
    " 'April',\n",
    " 'May',\n",
    " 'June',\n",
    " 'July',\n",
    " 'August',\n",
    " 'September',\n",
    " 'October',\n",
    " 'November',\n",
    " 'December']`"
   ]
  },
  {
   "cell_type": "code",
   "execution_count": null,
   "metadata": {},
   "outputs": [],
   "source": [
    "lst[]"
   ]
  },
  {
   "cell_type": "markdown",
   "metadata": {},
   "source": [
    "`['April', 'June', 'August', 'October']`"
   ]
  },
  {
   "cell_type": "code",
   "execution_count": null,
   "metadata": {
    "scrolled": true
   },
   "outputs": [],
   "source": [
    "lst[]"
   ]
  },
  {
   "cell_type": "markdown",
   "metadata": {},
   "source": [
    "`['December', 'November', 'October', 'September', 'August']`"
   ]
  },
  {
   "cell_type": "code",
   "execution_count": null,
   "metadata": {},
   "outputs": [],
   "source": [
    "lst[]"
   ]
  },
  {
   "cell_type": "markdown",
   "metadata": {},
   "source": [
    "`['November', 'September', 'July', 'May']`"
   ]
  },
  {
   "cell_type": "code",
   "execution_count": null,
   "metadata": {},
   "outputs": [],
   "source": [
    "lst[]"
   ]
  },
  {
   "cell_type": "markdown",
   "metadata": {},
   "source": [
    "`['December',\n",
    " 'November',\n",
    " 'October',\n",
    " 'September',\n",
    " 'August',\n",
    " 'July',\n",
    " 'June',\n",
    " 'May',\n",
    " 'April',\n",
    " 'March',\n",
    " 'February',\n",
    " 'January']`"
   ]
  },
  {
   "cell_type": "code",
   "execution_count": null,
   "metadata": {},
   "outputs": [],
   "source": [
    "lst[]"
   ]
  },
  {
   "cell_type": "code",
   "execution_count": null,
   "metadata": {},
   "outputs": [],
   "source": []
  }
 ],
 "metadata": {
  "anaconda-cloud": {},
  "kernelspec": {
   "display_name": "Python 3",
   "language": "python",
   "name": "python3"
  },
  "language_info": {
   "codemirror_mode": {
    "name": "ipython",
    "version": 3
   },
   "file_extension": ".py",
   "mimetype": "text/x-python",
   "name": "python",
   "nbconvert_exporter": "python",
   "pygments_lexer": "ipython3",
   "version": "3.7.9"
  }
 },
 "nbformat": 4,
 "nbformat_minor": 2
}
