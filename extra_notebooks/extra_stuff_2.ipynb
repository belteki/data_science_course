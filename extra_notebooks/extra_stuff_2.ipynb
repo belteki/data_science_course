{
 "cells": [
  {
   "cell_type": "markdown",
   "metadata": {},
   "source": [
    "![alt text](./pageheader_rose2_babies.jpg)"
   ]
  },
  {
   "cell_type": "markdown",
   "metadata": {},
   "source": [
    "# Data Science in Medicine using Python\n",
    "\n",
    "### Author: Dr Gusztav Belteki"
   ]
  },
  {
   "cell_type": "markdown",
   "metadata": {},
   "source": [
    "## 1. Type of medical data"
   ]
  },
  {
   "cell_type": "markdown",
   "metadata": {},
   "source": [
    "1.  Tabular data\n",
    "    - Obtained from sensors of medical devices, monitors etc.\n",
    "    - Typically retrieved as csv or other text format \n",
    "    - Usually two-dimensional\n",
    "    - Usually time series data\n",
    "    \n",
    "    ![alt text](./data/tabular_data.jpg)\n",
    "    \n",
    "_____\n",
    "\n",
    "\n",
    "2.  Image data\n",
    "    - Obtained from imaging medical devices\n",
    "    - Usually as raster images (jpg,png, tiff etc file format, different compression methods)\n",
    "    - At least 3-dimensional, but frequently 4 or 5 dimensional\n",
    "   \n",
    "   \n",
    "  \n",
    "  ![alt text](./data/newborn_brain_image.jpg)\n",
    "  \n",
    "_____  \n",
    "\n",
    "\n",
    "  3. Medical free text\n",
    "    - From electronic medical notes or from medical knowledge databases (e.g., PubMed)\n",
    "    - Typically retrieved as text (.txt) files\n",
    "    - Unstructured\n",
    "    - Can be time series\n",
    "    \n",
    "    \n",
    "   ![alt text](./data/medical_freetext.jpg)"
   ]
  },
  {
   "cell_type": "markdown",
   "metadata": {},
   "source": [
    "## 4 Data structures in Python\n",
    "\n",
    "Store some data (from nothing to the whole universe)\n",
    "\n",
    "All data structures are `objects` but not objects are data structures \n",
    "\n",
    "Evaluating them return the data is some format:"
   ]
  },
  {
   "cell_type": "code",
   "execution_count": null,
   "metadata": {},
   "outputs": [],
   "source": [
    "a = 'Hello World'\n",
    "a"
   ]
  },
  {
   "cell_type": "code",
   "execution_count": null,
   "metadata": {},
   "outputs": [],
   "source": [
    "b = 42\n",
    "b"
   ]
  },
  {
   "cell_type": "code",
   "execution_count": null,
   "metadata": {},
   "outputs": [],
   "source": [
    "data"
   ]
  },
  {
   "cell_type": "markdown",
   "metadata": {},
   "source": [
    "`print()` usually but not always results in a nicer format"
   ]
  },
  {
   "cell_type": "code",
   "execution_count": null,
   "metadata": {},
   "outputs": [],
   "source": [
    "print(a)"
   ]
  },
  {
   "cell_type": "code",
   "execution_count": null,
   "metadata": {},
   "outputs": [],
   "source": [
    "print(b)"
   ]
  },
  {
   "cell_type": "code",
   "execution_count": null,
   "metadata": {},
   "outputs": [],
   "source": [
    "print(data)"
   ]
  },
  {
   "cell_type": "markdown",
   "metadata": {},
   "source": [
    "They have different types"
   ]
  },
  {
   "cell_type": "code",
   "execution_count": null,
   "metadata": {},
   "outputs": [],
   "source": [
    "type(a)"
   ]
  },
  {
   "cell_type": "code",
   "execution_count": null,
   "metadata": {},
   "outputs": [],
   "source": [
    "type(b)"
   ]
  },
  {
   "cell_type": "code",
   "execution_count": null,
   "metadata": {},
   "outputs": [],
   "source": [
    "type(data)"
   ]
  },
  {
   "cell_type": "markdown",
   "metadata": {},
   "source": [
    "Built-in functions work differently on different data structures"
   ]
  },
  {
   "cell_type": "code",
   "execution_count": null,
   "metadata": {},
   "outputs": [],
   "source": [
    "# This is obvious\n",
    "\n",
    "len(a)"
   ]
  },
  {
   "cell_type": "code",
   "execution_count": null,
   "metadata": {},
   "outputs": [],
   "source": [
    "# This will produce an error which is perhaps unexpected\n",
    "\n",
    "len(b)"
   ]
  },
  {
   "cell_type": "code",
   "execution_count": null,
   "metadata": {},
   "outputs": [],
   "source": [
    "# This is by no means obvious\n",
    "\n",
    "len(data)"
   ]
  },
  {
   "cell_type": "markdown",
   "metadata": {},
   "source": [
    "They also have different methods associated with them"
   ]
  },
  {
   "cell_type": "markdown",
   "metadata": {},
   "source": [
    "#### Methods for text strings"
   ]
  },
  {
   "cell_type": "code",
   "execution_count": null,
   "metadata": {
    "scrolled": false
   },
   "outputs": [],
   "source": [
    "dir(a)"
   ]
  },
  {
   "cell_type": "code",
   "execution_count": null,
   "metadata": {},
   "outputs": [],
   "source": [
    "a.upper()"
   ]
  },
  {
   "cell_type": "code",
   "execution_count": null,
   "metadata": {},
   "outputs": [],
   "source": [
    "# Counting and indexing in Python starts from zero\n",
    "\n",
    "a.find('o')"
   ]
  },
  {
   "cell_type": "code",
   "execution_count": null,
   "metadata": {},
   "outputs": [],
   "source": [
    "a.index('o')"
   ]
  },
  {
   "cell_type": "code",
   "execution_count": null,
   "metadata": {},
   "outputs": [],
   "source": [
    "a.count('o')"
   ]
  },
  {
   "cell_type": "code",
   "execution_count": null,
   "metadata": {},
   "outputs": [],
   "source": [
    "a.startswith('H'), a.startswith('h')"
   ]
  },
  {
   "cell_type": "code",
   "execution_count": null,
   "metadata": {},
   "outputs": [],
   "source": [
    "a.isnumeric()"
   ]
  },
  {
   "cell_type": "code",
   "execution_count": null,
   "metadata": {},
   "outputs": [],
   "source": [
    "a.rjust(30)"
   ]
  },
  {
   "cell_type": "markdown",
   "metadata": {},
   "source": [
    "#### Methods for integer numbers"
   ]
  },
  {
   "cell_type": "code",
   "execution_count": null,
   "metadata": {},
   "outputs": [],
   "source": [
    "dir(b)"
   ]
  },
  {
   "cell_type": "code",
   "execution_count": null,
   "metadata": {},
   "outputs": [],
   "source": [
    "b.bit_length()"
   ]
  },
  {
   "cell_type": "code",
   "execution_count": null,
   "metadata": {},
   "outputs": [],
   "source": [
    "b, b.__add__(2)"
   ]
  },
  {
   "cell_type": "code",
   "execution_count": null,
   "metadata": {},
   "outputs": [],
   "source": [
    "c = -42\n",
    "c.__abs__()"
   ]
  },
  {
   "cell_type": "code",
   "execution_count": null,
   "metadata": {},
   "outputs": [],
   "source": [
    "abs(c)"
   ]
  },
  {
   "cell_type": "markdown",
   "metadata": {},
   "source": [
    "#### Methods for complex data structures (pandas DataFrames)"
   ]
  },
  {
   "cell_type": "code",
   "execution_count": null,
   "metadata": {
    "scrolled": false
   },
   "outputs": [],
   "source": [
    "dir(data)"
   ]
  },
  {
   "cell_type": "code",
   "execution_count": null,
   "metadata": {},
   "outputs": [],
   "source": [
    "len(dir(data))"
   ]
  },
  {
   "cell_type": "code",
   "execution_count": null,
   "metadata": {
    "scrolled": true
   },
   "outputs": [],
   "source": [
    "data"
   ]
  },
  {
   "cell_type": "code",
   "execution_count": null,
   "metadata": {
    "scrolled": true
   },
   "outputs": [],
   "source": [
    "data.mean()"
   ]
  },
  {
   "cell_type": "code",
   "execution_count": null,
   "metadata": {
    "scrolled": false
   },
   "outputs": [],
   "source": [
    "data.isnull()"
   ]
  },
  {
   "cell_type": "code",
   "execution_count": null,
   "metadata": {},
   "outputs": [],
   "source": [
    "data.isnull().sum()"
   ]
  },
  {
   "cell_type": "code",
   "execution_count": null,
   "metadata": {},
   "outputs": [],
   "source": [
    "%%time\n",
    "data.plot()"
   ]
  },
  {
   "cell_type": "markdown",
   "metadata": {},
   "source": [
    "#### `HOMEWORK` : Exploratory data analysis"
   ]
  },
  {
   "cell_type": "markdown",
   "metadata": {},
   "source": [
    "## 5. Reading in images"
   ]
  },
  {
   "cell_type": "code",
   "execution_count": null,
   "metadata": {},
   "outputs": [],
   "source": [
    "# importing matplotlib module \n",
    "import matplotlib.image as mpimg \n",
    "\n",
    "img = mpimg.imread('data/newborn_heart_image.jpg') "
   ]
  },
  {
   "cell_type": "code",
   "execution_count": null,
   "metadata": {},
   "outputs": [],
   "source": [
    "img.ndim"
   ]
  },
  {
   "cell_type": "code",
   "execution_count": null,
   "metadata": {},
   "outputs": [],
   "source": [
    "img.shape"
   ]
  },
  {
   "cell_type": "code",
   "execution_count": null,
   "metadata": {},
   "outputs": [],
   "source": [
    "369 * 636 * 3"
   ]
  },
  {
   "cell_type": "code",
   "execution_count": null,
   "metadata": {},
   "outputs": [],
   "source": [
    "img.flatten()"
   ]
  },
  {
   "cell_type": "code",
   "execution_count": null,
   "metadata": {},
   "outputs": [],
   "source": [
    "len(img.flatten())"
   ]
  },
  {
   "cell_type": "code",
   "execution_count": null,
   "metadata": {},
   "outputs": [],
   "source": [
    "print(set(img.flatten()))"
   ]
  },
  {
   "cell_type": "code",
   "execution_count": null,
   "metadata": {},
   "outputs": [],
   "source": [
    "img[:, :, 1]"
   ]
  },
  {
   "cell_type": "code",
   "execution_count": null,
   "metadata": {},
   "outputs": [],
   "source": [
    "img[:, :, 2]"
   ]
  },
  {
   "cell_type": "code",
   "execution_count": null,
   "metadata": {
    "scrolled": false
   },
   "outputs": [],
   "source": [
    "img[1, :, :]"
   ]
  },
  {
   "cell_type": "code",
   "execution_count": null,
   "metadata": {},
   "outputs": [],
   "source": [
    "# Output Image\n",
    "\n",
    "# importing matplotlib module \n",
    "import matplotlib.pyplot as plt \n",
    "\n",
    "plt.imshow(img) "
   ]
  },
  {
   "cell_type": "markdown",
   "metadata": {},
   "source": [
    "## 6. Reading in text data"
   ]
  },
  {
   "cell_type": "code",
   "execution_count": null,
   "metadata": {},
   "outputs": [],
   "source": [
    "f_handle = open('data/karamazov_brothers.txt', 'r')\n",
    "text = f_handle.read()\n",
    "f_handle.close()"
   ]
  },
  {
   "cell_type": "code",
   "execution_count": null,
   "metadata": {},
   "outputs": [],
   "source": [
    "len(text)"
   ]
  },
  {
   "cell_type": "code",
   "execution_count": null,
   "metadata": {},
   "outputs": [],
   "source": [
    "text"
   ]
  },
  {
   "cell_type": "code",
   "execution_count": null,
   "metadata": {
    "scrolled": true
   },
   "outputs": [],
   "source": [
    "text[:10000]"
   ]
  },
  {
   "cell_type": "code",
   "execution_count": null,
   "metadata": {
    "scrolled": false
   },
   "outputs": [],
   "source": [
    "print(text[:10000])"
   ]
  },
  {
   "cell_type": "code",
   "execution_count": null,
   "metadata": {},
   "outputs": [],
   "source": [
    "print(text[5016:10000])"
   ]
  },
  {
   "cell_type": "markdown",
   "metadata": {},
   "source": [
    "## 7. Homework"
   ]
  },
  {
   "cell_type": "markdown",
   "metadata": {},
   "source": [
    "##### Get tabular data and import and play around with it"
   ]
  },
  {
   "cell_type": "markdown",
   "metadata": {},
   "source": [
    "#### Absolute and relative file paths"
   ]
  },
  {
   "cell_type": "code",
   "execution_count": 74,
   "metadata": {},
   "outputs": [
    {
     "data": {
      "text/html": [
       "<div>\n",
       "<style scoped>\n",
       "    .dataframe tbody tr th:only-of-type {\n",
       "        vertical-align: middle;\n",
       "    }\n",
       "\n",
       "    .dataframe tbody tr th {\n",
       "        vertical-align: top;\n",
       "    }\n",
       "\n",
       "    .dataframe thead th {\n",
       "        text-align: right;\n",
       "    }\n",
       "</style>\n",
       "<table border=\"1\" class=\"dataframe\">\n",
       "  <thead>\n",
       "    <tr style=\"text-align: right;\">\n",
       "      <th></th>\n",
       "      <th>Time [ms]</th>\n",
       "      <th>Date</th>\n",
       "      <th>Time</th>\n",
       "      <th>Rel.Time [s]</th>\n",
       "      <th>5001|MVe [L/min]</th>\n",
       "      <th>5001|MVi [L/min]</th>\n",
       "      <th>5001|Cdyn [L/bar]</th>\n",
       "      <th>5001|R [mbar/L/s]</th>\n",
       "      <th>5001|MVespon [L/min]</th>\n",
       "      <th>5001|Rpat [mbar/L/s]</th>\n",
       "      <th>...</th>\n",
       "      <th>5001|TC [s]</th>\n",
       "      <th>5001|TCe [s]</th>\n",
       "      <th>5001|C20/Cdyn [no unit]</th>\n",
       "      <th>5001|VTe [mL]</th>\n",
       "      <th>5001|VTi [mL]</th>\n",
       "      <th>5001|EIP [mbar]</th>\n",
       "      <th>5001|MVleak [L/min]</th>\n",
       "      <th>5001|Tispon [s]</th>\n",
       "      <th>5001|I:Espon (I-Part) [no unit]</th>\n",
       "      <th>5001|I:Espon (E-Part) [no unit]</th>\n",
       "    </tr>\n",
       "  </thead>\n",
       "  <tbody>\n",
       "    <tr>\n",
       "      <th>0</th>\n",
       "      <td>1604324559904</td>\n",
       "      <td>2020-11-02</td>\n",
       "      <td>13:42:39.904</td>\n",
       "      <td>0</td>\n",
       "      <td>0.20</td>\n",
       "      <td>0.21</td>\n",
       "      <td>0.21</td>\n",
       "      <td>146.0</td>\n",
       "      <td>0.0</td>\n",
       "      <td>128.0</td>\n",
       "      <td>...</td>\n",
       "      <td>NaN</td>\n",
       "      <td>NaN</td>\n",
       "      <td>NaN</td>\n",
       "      <td>NaN</td>\n",
       "      <td>NaN</td>\n",
       "      <td>NaN</td>\n",
       "      <td>NaN</td>\n",
       "      <td>NaN</td>\n",
       "      <td>NaN</td>\n",
       "      <td>NaN</td>\n",
       "    </tr>\n",
       "    <tr>\n",
       "      <th>1</th>\n",
       "      <td>1604324560029</td>\n",
       "      <td>2020-11-02</td>\n",
       "      <td>13:42:40.029</td>\n",
       "      <td>0</td>\n",
       "      <td>NaN</td>\n",
       "      <td>NaN</td>\n",
       "      <td>NaN</td>\n",
       "      <td>NaN</td>\n",
       "      <td>NaN</td>\n",
       "      <td>NaN</td>\n",
       "      <td>...</td>\n",
       "      <td>0.03</td>\n",
       "      <td>0.11</td>\n",
       "      <td>0.55</td>\n",
       "      <td>3.4</td>\n",
       "      <td>3.4</td>\n",
       "      <td>21.0</td>\n",
       "      <td>0.00</td>\n",
       "      <td>NaN</td>\n",
       "      <td>NaN</td>\n",
       "      <td>NaN</td>\n",
       "    </tr>\n",
       "    <tr>\n",
       "      <th>2</th>\n",
       "      <td>1604324560951</td>\n",
       "      <td>2020-11-02</td>\n",
       "      <td>13:42:40.951</td>\n",
       "      <td>1</td>\n",
       "      <td>0.20</td>\n",
       "      <td>0.21</td>\n",
       "      <td>0.22</td>\n",
       "      <td>146.0</td>\n",
       "      <td>0.0</td>\n",
       "      <td>128.0</td>\n",
       "      <td>...</td>\n",
       "      <td>NaN</td>\n",
       "      <td>NaN</td>\n",
       "      <td>NaN</td>\n",
       "      <td>NaN</td>\n",
       "      <td>NaN</td>\n",
       "      <td>NaN</td>\n",
       "      <td>NaN</td>\n",
       "      <td>NaN</td>\n",
       "      <td>NaN</td>\n",
       "      <td>NaN</td>\n",
       "    </tr>\n",
       "    <tr>\n",
       "      <th>3</th>\n",
       "      <td>1604324561060</td>\n",
       "      <td>2020-11-02</td>\n",
       "      <td>13:42:41.060</td>\n",
       "      <td>1</td>\n",
       "      <td>NaN</td>\n",
       "      <td>NaN</td>\n",
       "      <td>NaN</td>\n",
       "      <td>NaN</td>\n",
       "      <td>NaN</td>\n",
       "      <td>NaN</td>\n",
       "      <td>...</td>\n",
       "      <td>0.03</td>\n",
       "      <td>0.21</td>\n",
       "      <td>0.55</td>\n",
       "      <td>8.2</td>\n",
       "      <td>3.6</td>\n",
       "      <td>22.0</td>\n",
       "      <td>0.00</td>\n",
       "      <td>NaN</td>\n",
       "      <td>NaN</td>\n",
       "      <td>NaN</td>\n",
       "    </tr>\n",
       "    <tr>\n",
       "      <th>4</th>\n",
       "      <td>1604324561935</td>\n",
       "      <td>2020-11-02</td>\n",
       "      <td>13:42:41.935</td>\n",
       "      <td>2</td>\n",
       "      <td>0.20</td>\n",
       "      <td>0.21</td>\n",
       "      <td>0.26</td>\n",
       "      <td>154.0</td>\n",
       "      <td>0.0</td>\n",
       "      <td>136.0</td>\n",
       "      <td>...</td>\n",
       "      <td>NaN</td>\n",
       "      <td>NaN</td>\n",
       "      <td>NaN</td>\n",
       "      <td>NaN</td>\n",
       "      <td>NaN</td>\n",
       "      <td>NaN</td>\n",
       "      <td>NaN</td>\n",
       "      <td>NaN</td>\n",
       "      <td>NaN</td>\n",
       "      <td>NaN</td>\n",
       "    </tr>\n",
       "    <tr>\n",
       "      <th>...</th>\n",
       "      <td>...</td>\n",
       "      <td>...</td>\n",
       "      <td>...</td>\n",
       "      <td>...</td>\n",
       "      <td>...</td>\n",
       "      <td>...</td>\n",
       "      <td>...</td>\n",
       "      <td>...</td>\n",
       "      <td>...</td>\n",
       "      <td>...</td>\n",
       "      <td>...</td>\n",
       "      <td>...</td>\n",
       "      <td>...</td>\n",
       "      <td>...</td>\n",
       "      <td>...</td>\n",
       "      <td>...</td>\n",
       "      <td>...</td>\n",
       "      <td>...</td>\n",
       "      <td>...</td>\n",
       "      <td>...</td>\n",
       "      <td>...</td>\n",
       "    </tr>\n",
       "    <tr>\n",
       "      <th>689431</th>\n",
       "      <td>1604669233906</td>\n",
       "      <td>2020-11-06</td>\n",
       "      <td>13:27:13.906</td>\n",
       "      <td>344674</td>\n",
       "      <td>0.22</td>\n",
       "      <td>0.22</td>\n",
       "      <td>0.21</td>\n",
       "      <td>164.0</td>\n",
       "      <td>0.0</td>\n",
       "      <td>150.0</td>\n",
       "      <td>...</td>\n",
       "      <td>NaN</td>\n",
       "      <td>NaN</td>\n",
       "      <td>NaN</td>\n",
       "      <td>NaN</td>\n",
       "      <td>NaN</td>\n",
       "      <td>NaN</td>\n",
       "      <td>NaN</td>\n",
       "      <td>NaN</td>\n",
       "      <td>NaN</td>\n",
       "      <td>NaN</td>\n",
       "    </tr>\n",
       "    <tr>\n",
       "      <th>689432</th>\n",
       "      <td>1604669234031</td>\n",
       "      <td>2020-11-06</td>\n",
       "      <td>13:27:14.031</td>\n",
       "      <td>344674</td>\n",
       "      <td>NaN</td>\n",
       "      <td>NaN</td>\n",
       "      <td>NaN</td>\n",
       "      <td>NaN</td>\n",
       "      <td>NaN</td>\n",
       "      <td>NaN</td>\n",
       "      <td>...</td>\n",
       "      <td>0.04</td>\n",
       "      <td>0.11</td>\n",
       "      <td>0.75</td>\n",
       "      <td>3.1</td>\n",
       "      <td>2.6</td>\n",
       "      <td>18.0</td>\n",
       "      <td>0.02</td>\n",
       "      <td>NaN</td>\n",
       "      <td>NaN</td>\n",
       "      <td>NaN</td>\n",
       "    </tr>\n",
       "    <tr>\n",
       "      <th>689433</th>\n",
       "      <td>1604669234906</td>\n",
       "      <td>2020-11-06</td>\n",
       "      <td>13:27:14.906</td>\n",
       "      <td>344675</td>\n",
       "      <td>0.22</td>\n",
       "      <td>0.22</td>\n",
       "      <td>0.21</td>\n",
       "      <td>164.0</td>\n",
       "      <td>0.0</td>\n",
       "      <td>150.0</td>\n",
       "      <td>...</td>\n",
       "      <td>NaN</td>\n",
       "      <td>NaN</td>\n",
       "      <td>NaN</td>\n",
       "      <td>NaN</td>\n",
       "      <td>NaN</td>\n",
       "      <td>NaN</td>\n",
       "      <td>NaN</td>\n",
       "      <td>NaN</td>\n",
       "      <td>NaN</td>\n",
       "      <td>NaN</td>\n",
       "    </tr>\n",
       "    <tr>\n",
       "      <th>689434</th>\n",
       "      <td>1604669235046</td>\n",
       "      <td>2020-11-06</td>\n",
       "      <td>13:27:15.046</td>\n",
       "      <td>344675</td>\n",
       "      <td>NaN</td>\n",
       "      <td>NaN</td>\n",
       "      <td>NaN</td>\n",
       "      <td>NaN</td>\n",
       "      <td>NaN</td>\n",
       "      <td>NaN</td>\n",
       "      <td>...</td>\n",
       "      <td>0.01</td>\n",
       "      <td>0.15</td>\n",
       "      <td>0.75</td>\n",
       "      <td>4.1</td>\n",
       "      <td>2.6</td>\n",
       "      <td>19.0</td>\n",
       "      <td>0.01</td>\n",
       "      <td>NaN</td>\n",
       "      <td>NaN</td>\n",
       "      <td>NaN</td>\n",
       "    </tr>\n",
       "    <tr>\n",
       "      <th>689435</th>\n",
       "      <td>1604669235937</td>\n",
       "      <td>2020-11-06</td>\n",
       "      <td>13:27:15.937</td>\n",
       "      <td>344676</td>\n",
       "      <td>0.22</td>\n",
       "      <td>0.22</td>\n",
       "      <td>0.05</td>\n",
       "      <td>164.0</td>\n",
       "      <td>0.0</td>\n",
       "      <td>150.0</td>\n",
       "      <td>...</td>\n",
       "      <td>NaN</td>\n",
       "      <td>NaN</td>\n",
       "      <td>NaN</td>\n",
       "      <td>NaN</td>\n",
       "      <td>NaN</td>\n",
       "      <td>NaN</td>\n",
       "      <td>NaN</td>\n",
       "      <td>NaN</td>\n",
       "      <td>NaN</td>\n",
       "      <td>NaN</td>\n",
       "    </tr>\n",
       "  </tbody>\n",
       "</table>\n",
       "<p>689436 rows × 47 columns</p>\n",
       "</div>"
      ],
      "text/plain": [
       "            Time [ms]        Date          Time  Rel.Time [s]  \\\n",
       "0       1604324559904  2020-11-02  13:42:39.904             0   \n",
       "1       1604324560029  2020-11-02  13:42:40.029             0   \n",
       "2       1604324560951  2020-11-02  13:42:40.951             1   \n",
       "3       1604324561060  2020-11-02  13:42:41.060             1   \n",
       "4       1604324561935  2020-11-02  13:42:41.935             2   \n",
       "...               ...         ...           ...           ...   \n",
       "689431  1604669233906  2020-11-06  13:27:13.906        344674   \n",
       "689432  1604669234031  2020-11-06  13:27:14.031        344674   \n",
       "689433  1604669234906  2020-11-06  13:27:14.906        344675   \n",
       "689434  1604669235046  2020-11-06  13:27:15.046        344675   \n",
       "689435  1604669235937  2020-11-06  13:27:15.937        344676   \n",
       "\n",
       "        5001|MVe [L/min]  5001|MVi [L/min]  5001|Cdyn [L/bar]  \\\n",
       "0                   0.20              0.21               0.21   \n",
       "1                    NaN               NaN                NaN   \n",
       "2                   0.20              0.21               0.22   \n",
       "3                    NaN               NaN                NaN   \n",
       "4                   0.20              0.21               0.26   \n",
       "...                  ...               ...                ...   \n",
       "689431              0.22              0.22               0.21   \n",
       "689432               NaN               NaN                NaN   \n",
       "689433              0.22              0.22               0.21   \n",
       "689434               NaN               NaN                NaN   \n",
       "689435              0.22              0.22               0.05   \n",
       "\n",
       "        5001|R [mbar/L/s]  5001|MVespon [L/min]  5001|Rpat [mbar/L/s]  ...  \\\n",
       "0                   146.0                   0.0                 128.0  ...   \n",
       "1                     NaN                   NaN                   NaN  ...   \n",
       "2                   146.0                   0.0                 128.0  ...   \n",
       "3                     NaN                   NaN                   NaN  ...   \n",
       "4                   154.0                   0.0                 136.0  ...   \n",
       "...                   ...                   ...                   ...  ...   \n",
       "689431              164.0                   0.0                 150.0  ...   \n",
       "689432                NaN                   NaN                   NaN  ...   \n",
       "689433              164.0                   0.0                 150.0  ...   \n",
       "689434                NaN                   NaN                   NaN  ...   \n",
       "689435              164.0                   0.0                 150.0  ...   \n",
       "\n",
       "        5001|TC [s]  5001|TCe [s]  5001|C20/Cdyn [no unit]  5001|VTe [mL]  \\\n",
       "0               NaN           NaN                      NaN            NaN   \n",
       "1              0.03          0.11                     0.55            3.4   \n",
       "2               NaN           NaN                      NaN            NaN   \n",
       "3              0.03          0.21                     0.55            8.2   \n",
       "4               NaN           NaN                      NaN            NaN   \n",
       "...             ...           ...                      ...            ...   \n",
       "689431          NaN           NaN                      NaN            NaN   \n",
       "689432         0.04          0.11                     0.75            3.1   \n",
       "689433          NaN           NaN                      NaN            NaN   \n",
       "689434         0.01          0.15                     0.75            4.1   \n",
       "689435          NaN           NaN                      NaN            NaN   \n",
       "\n",
       "        5001|VTi [mL]  5001|EIP [mbar]  5001|MVleak [L/min]  5001|Tispon [s]  \\\n",
       "0                 NaN              NaN                  NaN              NaN   \n",
       "1                 3.4             21.0                 0.00              NaN   \n",
       "2                 NaN              NaN                  NaN              NaN   \n",
       "3                 3.6             22.0                 0.00              NaN   \n",
       "4                 NaN              NaN                  NaN              NaN   \n",
       "...               ...              ...                  ...              ...   \n",
       "689431            NaN              NaN                  NaN              NaN   \n",
       "689432            2.6             18.0                 0.02              NaN   \n",
       "689433            NaN              NaN                  NaN              NaN   \n",
       "689434            2.6             19.0                 0.01              NaN   \n",
       "689435            NaN              NaN                  NaN              NaN   \n",
       "\n",
       "        5001|I:Espon (I-Part) [no unit]  5001|I:Espon (E-Part) [no unit]  \n",
       "0                                   NaN                              NaN  \n",
       "1                                   NaN                              NaN  \n",
       "2                                   NaN                              NaN  \n",
       "3                                   NaN                              NaN  \n",
       "4                                   NaN                              NaN  \n",
       "...                                 ...                              ...  \n",
       "689431                              NaN                              NaN  \n",
       "689432                              NaN                              NaN  \n",
       "689433                              NaN                              NaN  \n",
       "689434                              NaN                              NaN  \n",
       "689435                              NaN                              NaN  \n",
       "\n",
       "[689436 rows x 47 columns]"
      ]
     },
     "execution_count": 74,
     "metadata": {},
     "output_type": "execute_result"
    }
   ],
   "source": [
    "# Relative path:\n",
    "\n",
    "pd.read_csv('data/data_new/CsvLogBase_2020-11-02_134238.904_slow_Measurement.csv.zip')"
   ]
  },
  {
   "cell_type": "code",
   "execution_count": null,
   "metadata": {},
   "outputs": [],
   "source": [
    "pd.read_csv(os.path.join('data', 'CsvLogBase_2020-11-02_134238.904_slow_Measurement.csv.zip'))"
   ]
  },
  {
   "cell_type": "code",
   "execution_count": null,
   "metadata": {},
   "outputs": [],
   "source": [
    "'D:\\dddldd\\ddddd\\vfvff\\'"
   ]
  },
  {
   "cell_type": "code",
   "execution_count": 76,
   "metadata": {},
   "outputs": [
    {
     "data": {
      "text/html": [
       "<div>\n",
       "<style scoped>\n",
       "    .dataframe tbody tr th:only-of-type {\n",
       "        vertical-align: middle;\n",
       "    }\n",
       "\n",
       "    .dataframe tbody tr th {\n",
       "        vertical-align: top;\n",
       "    }\n",
       "\n",
       "    .dataframe thead th {\n",
       "        text-align: right;\n",
       "    }\n",
       "</style>\n",
       "<table border=\"1\" class=\"dataframe\">\n",
       "  <thead>\n",
       "    <tr style=\"text-align: right;\">\n",
       "      <th></th>\n",
       "      <th>Time [ms]</th>\n",
       "      <th>Date</th>\n",
       "      <th>Time</th>\n",
       "      <th>Rel.Time [s]</th>\n",
       "      <th>5001|MVe [L/min]</th>\n",
       "      <th>5001|MVi [L/min]</th>\n",
       "      <th>5001|Cdyn [L/bar]</th>\n",
       "      <th>5001|R [mbar/L/s]</th>\n",
       "      <th>5001|MVespon [L/min]</th>\n",
       "      <th>5001|Rpat [mbar/L/s]</th>\n",
       "      <th>...</th>\n",
       "      <th>5001|TC [s]</th>\n",
       "      <th>5001|TCe [s]</th>\n",
       "      <th>5001|C20/Cdyn [no unit]</th>\n",
       "      <th>5001|VTe [mL]</th>\n",
       "      <th>5001|VTi [mL]</th>\n",
       "      <th>5001|EIP [mbar]</th>\n",
       "      <th>5001|MVleak [L/min]</th>\n",
       "      <th>5001|Tispon [s]</th>\n",
       "      <th>5001|I:Espon (I-Part) [no unit]</th>\n",
       "      <th>5001|I:Espon (E-Part) [no unit]</th>\n",
       "    </tr>\n",
       "  </thead>\n",
       "  <tbody>\n",
       "    <tr>\n",
       "      <th>0</th>\n",
       "      <td>1604324559904</td>\n",
       "      <td>2020-11-02</td>\n",
       "      <td>13:42:39.904</td>\n",
       "      <td>0</td>\n",
       "      <td>0.20</td>\n",
       "      <td>0.21</td>\n",
       "      <td>0.21</td>\n",
       "      <td>146.0</td>\n",
       "      <td>0.0</td>\n",
       "      <td>128.0</td>\n",
       "      <td>...</td>\n",
       "      <td>NaN</td>\n",
       "      <td>NaN</td>\n",
       "      <td>NaN</td>\n",
       "      <td>NaN</td>\n",
       "      <td>NaN</td>\n",
       "      <td>NaN</td>\n",
       "      <td>NaN</td>\n",
       "      <td>NaN</td>\n",
       "      <td>NaN</td>\n",
       "      <td>NaN</td>\n",
       "    </tr>\n",
       "    <tr>\n",
       "      <th>1</th>\n",
       "      <td>1604324560029</td>\n",
       "      <td>2020-11-02</td>\n",
       "      <td>13:42:40.029</td>\n",
       "      <td>0</td>\n",
       "      <td>NaN</td>\n",
       "      <td>NaN</td>\n",
       "      <td>NaN</td>\n",
       "      <td>NaN</td>\n",
       "      <td>NaN</td>\n",
       "      <td>NaN</td>\n",
       "      <td>...</td>\n",
       "      <td>0.03</td>\n",
       "      <td>0.11</td>\n",
       "      <td>0.55</td>\n",
       "      <td>3.4</td>\n",
       "      <td>3.4</td>\n",
       "      <td>21.0</td>\n",
       "      <td>0.00</td>\n",
       "      <td>NaN</td>\n",
       "      <td>NaN</td>\n",
       "      <td>NaN</td>\n",
       "    </tr>\n",
       "    <tr>\n",
       "      <th>2</th>\n",
       "      <td>1604324560951</td>\n",
       "      <td>2020-11-02</td>\n",
       "      <td>13:42:40.951</td>\n",
       "      <td>1</td>\n",
       "      <td>0.20</td>\n",
       "      <td>0.21</td>\n",
       "      <td>0.22</td>\n",
       "      <td>146.0</td>\n",
       "      <td>0.0</td>\n",
       "      <td>128.0</td>\n",
       "      <td>...</td>\n",
       "      <td>NaN</td>\n",
       "      <td>NaN</td>\n",
       "      <td>NaN</td>\n",
       "      <td>NaN</td>\n",
       "      <td>NaN</td>\n",
       "      <td>NaN</td>\n",
       "      <td>NaN</td>\n",
       "      <td>NaN</td>\n",
       "      <td>NaN</td>\n",
       "      <td>NaN</td>\n",
       "    </tr>\n",
       "    <tr>\n",
       "      <th>3</th>\n",
       "      <td>1604324561060</td>\n",
       "      <td>2020-11-02</td>\n",
       "      <td>13:42:41.060</td>\n",
       "      <td>1</td>\n",
       "      <td>NaN</td>\n",
       "      <td>NaN</td>\n",
       "      <td>NaN</td>\n",
       "      <td>NaN</td>\n",
       "      <td>NaN</td>\n",
       "      <td>NaN</td>\n",
       "      <td>...</td>\n",
       "      <td>0.03</td>\n",
       "      <td>0.21</td>\n",
       "      <td>0.55</td>\n",
       "      <td>8.2</td>\n",
       "      <td>3.6</td>\n",
       "      <td>22.0</td>\n",
       "      <td>0.00</td>\n",
       "      <td>NaN</td>\n",
       "      <td>NaN</td>\n",
       "      <td>NaN</td>\n",
       "    </tr>\n",
       "    <tr>\n",
       "      <th>4</th>\n",
       "      <td>1604324561935</td>\n",
       "      <td>2020-11-02</td>\n",
       "      <td>13:42:41.935</td>\n",
       "      <td>2</td>\n",
       "      <td>0.20</td>\n",
       "      <td>0.21</td>\n",
       "      <td>0.26</td>\n",
       "      <td>154.0</td>\n",
       "      <td>0.0</td>\n",
       "      <td>136.0</td>\n",
       "      <td>...</td>\n",
       "      <td>NaN</td>\n",
       "      <td>NaN</td>\n",
       "      <td>NaN</td>\n",
       "      <td>NaN</td>\n",
       "      <td>NaN</td>\n",
       "      <td>NaN</td>\n",
       "      <td>NaN</td>\n",
       "      <td>NaN</td>\n",
       "      <td>NaN</td>\n",
       "      <td>NaN</td>\n",
       "    </tr>\n",
       "    <tr>\n",
       "      <th>...</th>\n",
       "      <td>...</td>\n",
       "      <td>...</td>\n",
       "      <td>...</td>\n",
       "      <td>...</td>\n",
       "      <td>...</td>\n",
       "      <td>...</td>\n",
       "      <td>...</td>\n",
       "      <td>...</td>\n",
       "      <td>...</td>\n",
       "      <td>...</td>\n",
       "      <td>...</td>\n",
       "      <td>...</td>\n",
       "      <td>...</td>\n",
       "      <td>...</td>\n",
       "      <td>...</td>\n",
       "      <td>...</td>\n",
       "      <td>...</td>\n",
       "      <td>...</td>\n",
       "      <td>...</td>\n",
       "      <td>...</td>\n",
       "      <td>...</td>\n",
       "    </tr>\n",
       "    <tr>\n",
       "      <th>689431</th>\n",
       "      <td>1604669233906</td>\n",
       "      <td>2020-11-06</td>\n",
       "      <td>13:27:13.906</td>\n",
       "      <td>344674</td>\n",
       "      <td>0.22</td>\n",
       "      <td>0.22</td>\n",
       "      <td>0.21</td>\n",
       "      <td>164.0</td>\n",
       "      <td>0.0</td>\n",
       "      <td>150.0</td>\n",
       "      <td>...</td>\n",
       "      <td>NaN</td>\n",
       "      <td>NaN</td>\n",
       "      <td>NaN</td>\n",
       "      <td>NaN</td>\n",
       "      <td>NaN</td>\n",
       "      <td>NaN</td>\n",
       "      <td>NaN</td>\n",
       "      <td>NaN</td>\n",
       "      <td>NaN</td>\n",
       "      <td>NaN</td>\n",
       "    </tr>\n",
       "    <tr>\n",
       "      <th>689432</th>\n",
       "      <td>1604669234031</td>\n",
       "      <td>2020-11-06</td>\n",
       "      <td>13:27:14.031</td>\n",
       "      <td>344674</td>\n",
       "      <td>NaN</td>\n",
       "      <td>NaN</td>\n",
       "      <td>NaN</td>\n",
       "      <td>NaN</td>\n",
       "      <td>NaN</td>\n",
       "      <td>NaN</td>\n",
       "      <td>...</td>\n",
       "      <td>0.04</td>\n",
       "      <td>0.11</td>\n",
       "      <td>0.75</td>\n",
       "      <td>3.1</td>\n",
       "      <td>2.6</td>\n",
       "      <td>18.0</td>\n",
       "      <td>0.02</td>\n",
       "      <td>NaN</td>\n",
       "      <td>NaN</td>\n",
       "      <td>NaN</td>\n",
       "    </tr>\n",
       "    <tr>\n",
       "      <th>689433</th>\n",
       "      <td>1604669234906</td>\n",
       "      <td>2020-11-06</td>\n",
       "      <td>13:27:14.906</td>\n",
       "      <td>344675</td>\n",
       "      <td>0.22</td>\n",
       "      <td>0.22</td>\n",
       "      <td>0.21</td>\n",
       "      <td>164.0</td>\n",
       "      <td>0.0</td>\n",
       "      <td>150.0</td>\n",
       "      <td>...</td>\n",
       "      <td>NaN</td>\n",
       "      <td>NaN</td>\n",
       "      <td>NaN</td>\n",
       "      <td>NaN</td>\n",
       "      <td>NaN</td>\n",
       "      <td>NaN</td>\n",
       "      <td>NaN</td>\n",
       "      <td>NaN</td>\n",
       "      <td>NaN</td>\n",
       "      <td>NaN</td>\n",
       "    </tr>\n",
       "    <tr>\n",
       "      <th>689434</th>\n",
       "      <td>1604669235046</td>\n",
       "      <td>2020-11-06</td>\n",
       "      <td>13:27:15.046</td>\n",
       "      <td>344675</td>\n",
       "      <td>NaN</td>\n",
       "      <td>NaN</td>\n",
       "      <td>NaN</td>\n",
       "      <td>NaN</td>\n",
       "      <td>NaN</td>\n",
       "      <td>NaN</td>\n",
       "      <td>...</td>\n",
       "      <td>0.01</td>\n",
       "      <td>0.15</td>\n",
       "      <td>0.75</td>\n",
       "      <td>4.1</td>\n",
       "      <td>2.6</td>\n",
       "      <td>19.0</td>\n",
       "      <td>0.01</td>\n",
       "      <td>NaN</td>\n",
       "      <td>NaN</td>\n",
       "      <td>NaN</td>\n",
       "    </tr>\n",
       "    <tr>\n",
       "      <th>689435</th>\n",
       "      <td>1604669235937</td>\n",
       "      <td>2020-11-06</td>\n",
       "      <td>13:27:15.937</td>\n",
       "      <td>344676</td>\n",
       "      <td>0.22</td>\n",
       "      <td>0.22</td>\n",
       "      <td>0.05</td>\n",
       "      <td>164.0</td>\n",
       "      <td>0.0</td>\n",
       "      <td>150.0</td>\n",
       "      <td>...</td>\n",
       "      <td>NaN</td>\n",
       "      <td>NaN</td>\n",
       "      <td>NaN</td>\n",
       "      <td>NaN</td>\n",
       "      <td>NaN</td>\n",
       "      <td>NaN</td>\n",
       "      <td>NaN</td>\n",
       "      <td>NaN</td>\n",
       "      <td>NaN</td>\n",
       "      <td>NaN</td>\n",
       "    </tr>\n",
       "  </tbody>\n",
       "</table>\n",
       "<p>689436 rows × 47 columns</p>\n",
       "</div>"
      ],
      "text/plain": [
       "            Time [ms]        Date          Time  Rel.Time [s]  \\\n",
       "0       1604324559904  2020-11-02  13:42:39.904             0   \n",
       "1       1604324560029  2020-11-02  13:42:40.029             0   \n",
       "2       1604324560951  2020-11-02  13:42:40.951             1   \n",
       "3       1604324561060  2020-11-02  13:42:41.060             1   \n",
       "4       1604324561935  2020-11-02  13:42:41.935             2   \n",
       "...               ...         ...           ...           ...   \n",
       "689431  1604669233906  2020-11-06  13:27:13.906        344674   \n",
       "689432  1604669234031  2020-11-06  13:27:14.031        344674   \n",
       "689433  1604669234906  2020-11-06  13:27:14.906        344675   \n",
       "689434  1604669235046  2020-11-06  13:27:15.046        344675   \n",
       "689435  1604669235937  2020-11-06  13:27:15.937        344676   \n",
       "\n",
       "        5001|MVe [L/min]  5001|MVi [L/min]  5001|Cdyn [L/bar]  \\\n",
       "0                   0.20              0.21               0.21   \n",
       "1                    NaN               NaN                NaN   \n",
       "2                   0.20              0.21               0.22   \n",
       "3                    NaN               NaN                NaN   \n",
       "4                   0.20              0.21               0.26   \n",
       "...                  ...               ...                ...   \n",
       "689431              0.22              0.22               0.21   \n",
       "689432               NaN               NaN                NaN   \n",
       "689433              0.22              0.22               0.21   \n",
       "689434               NaN               NaN                NaN   \n",
       "689435              0.22              0.22               0.05   \n",
       "\n",
       "        5001|R [mbar/L/s]  5001|MVespon [L/min]  5001|Rpat [mbar/L/s]  ...  \\\n",
       "0                   146.0                   0.0                 128.0  ...   \n",
       "1                     NaN                   NaN                   NaN  ...   \n",
       "2                   146.0                   0.0                 128.0  ...   \n",
       "3                     NaN                   NaN                   NaN  ...   \n",
       "4                   154.0                   0.0                 136.0  ...   \n",
       "...                   ...                   ...                   ...  ...   \n",
       "689431              164.0                   0.0                 150.0  ...   \n",
       "689432                NaN                   NaN                   NaN  ...   \n",
       "689433              164.0                   0.0                 150.0  ...   \n",
       "689434                NaN                   NaN                   NaN  ...   \n",
       "689435              164.0                   0.0                 150.0  ...   \n",
       "\n",
       "        5001|TC [s]  5001|TCe [s]  5001|C20/Cdyn [no unit]  5001|VTe [mL]  \\\n",
       "0               NaN           NaN                      NaN            NaN   \n",
       "1              0.03          0.11                     0.55            3.4   \n",
       "2               NaN           NaN                      NaN            NaN   \n",
       "3              0.03          0.21                     0.55            8.2   \n",
       "4               NaN           NaN                      NaN            NaN   \n",
       "...             ...           ...                      ...            ...   \n",
       "689431          NaN           NaN                      NaN            NaN   \n",
       "689432         0.04          0.11                     0.75            3.1   \n",
       "689433          NaN           NaN                      NaN            NaN   \n",
       "689434         0.01          0.15                     0.75            4.1   \n",
       "689435          NaN           NaN                      NaN            NaN   \n",
       "\n",
       "        5001|VTi [mL]  5001|EIP [mbar]  5001|MVleak [L/min]  5001|Tispon [s]  \\\n",
       "0                 NaN              NaN                  NaN              NaN   \n",
       "1                 3.4             21.0                 0.00              NaN   \n",
       "2                 NaN              NaN                  NaN              NaN   \n",
       "3                 3.6             22.0                 0.00              NaN   \n",
       "4                 NaN              NaN                  NaN              NaN   \n",
       "...               ...              ...                  ...              ...   \n",
       "689431            NaN              NaN                  NaN              NaN   \n",
       "689432            2.6             18.0                 0.02              NaN   \n",
       "689433            NaN              NaN                  NaN              NaN   \n",
       "689434            2.6             19.0                 0.01              NaN   \n",
       "689435            NaN              NaN                  NaN              NaN   \n",
       "\n",
       "        5001|I:Espon (I-Part) [no unit]  5001|I:Espon (E-Part) [no unit]  \n",
       "0                                   NaN                              NaN  \n",
       "1                                   NaN                              NaN  \n",
       "2                                   NaN                              NaN  \n",
       "3                                   NaN                              NaN  \n",
       "4                                   NaN                              NaN  \n",
       "...                                 ...                              ...  \n",
       "689431                              NaN                              NaN  \n",
       "689432                              NaN                              NaN  \n",
       "689433                              NaN                              NaN  \n",
       "689434                              NaN                              NaN  \n",
       "689435                              NaN                              NaN  \n",
       "\n",
       "[689436 rows x 47 columns]"
      ]
     },
     "execution_count": 76,
     "metadata": {},
     "output_type": "execute_result"
    }
   ],
   "source": [
    "# My absolute path:\n",
    "\n",
    "pd.read_csv('/Users/guszti/data_science_course/data/CsvLogBase_2020-11-02_134238.904_slow_Measurement.csv.zip')"
   ]
  },
  {
   "cell_type": "code",
   "execution_count": null,
   "metadata": {},
   "outputs": [],
   "source": [
    "pd.read_csv(os.path.join('/Users', 'guszti', 'data_science_course', 'data',\n",
    "                         'CsvLogBase_2020-11-02_134238.904_slow_Measurement.csv.zip'))"
   ]
  },
  {
   "cell_type": "code",
   "execution_count": null,
   "metadata": {},
   "outputs": [],
   "source": [
    "# Why is this working ?\n",
    "\n",
    "pd.read_csv(os.path.join('.','data', 'CsvLogBase_2020-11-02_134238.904_slow_Measurement.csv.zip'))"
   ]
  },
  {
   "cell_type": "code",
   "execution_count": null,
   "metadata": {},
   "outputs": [],
   "source": [
    "# And why is this working ?\n",
    "\n",
    "pd.read_csv(os.path.join('..', 'data_science_course', 'data', 'CsvLogBase_2020-11-02_134238.904_slow_Measurement.csv.zip'))"
   ]
  },
  {
   "cell_type": "markdown",
   "metadata": {},
   "source": [
    "### Slicing and dicing in Python"
   ]
  },
  {
   "cell_type": "code",
   "execution_count": 118,
   "metadata": {},
   "outputs": [
    {
     "data": {
      "text/plain": [
       "['January',\n",
       " 'February',\n",
       " 'March',\n",
       " 'April',\n",
       " 'May',\n",
       " 'June',\n",
       " 'July',\n",
       " 'August',\n",
       " 'September',\n",
       " 'October',\n",
       " 'November',\n",
       " 'December']"
      ]
     },
     "execution_count": 118,
     "metadata": {},
     "output_type": "execute_result"
    }
   ],
   "source": [
    "# List of strings\n",
    "\n",
    "lst = ['January', 'February', 'March', 'April', 'May', 'June', 'July', 'August', 'September', 'October',\n",
    "       'November', 'December']\n",
    "\n",
    "lst"
   ]
  },
  {
   "cell_type": "code",
   "execution_count": 121,
   "metadata": {},
   "outputs": [
    {
     "data": {
      "text/plain": [
       "['January', 'February', 'March', 'April']"
      ]
     },
     "execution_count": 121,
     "metadata": {},
     "output_type": "execute_result"
    }
   ],
   "source": [
    "# Indexing is zero based\n",
    "\n",
    "lst[0:4]"
   ]
  },
  {
   "cell_type": "markdown",
   "metadata": {},
   "source": [
    "##### So - write the input to generate the output"
   ]
  },
  {
   "cell_type": "markdown",
   "metadata": {},
   "source": [
    "`['March', 'April', 'May']`"
   ]
  },
  {
   "cell_type": "code",
   "execution_count": null,
   "metadata": {},
   "outputs": [],
   "source": [
    "lst[]"
   ]
  },
  {
   "cell_type": "markdown",
   "metadata": {},
   "source": [
    "`['May', 'June', 'July', 'August']`"
   ]
  },
  {
   "cell_type": "code",
   "execution_count": null,
   "metadata": {},
   "outputs": [],
   "source": [
    "lst[]"
   ]
  },
  {
   "cell_type": "markdown",
   "metadata": {},
   "source": [
    "`['July', 'August', 'September', 'October', 'November', 'December']`"
   ]
  },
  {
   "cell_type": "code",
   "execution_count": null,
   "metadata": {},
   "outputs": [],
   "source": [
    "lst[]"
   ]
  },
  {
   "cell_type": "markdown",
   "metadata": {},
   "source": [
    "`['January', 'March', 'May', 'July', 'September']`"
   ]
  },
  {
   "cell_type": "code",
   "execution_count": null,
   "metadata": {},
   "outputs": [],
   "source": [
    "lst[]"
   ]
  },
  {
   "cell_type": "markdown",
   "metadata": {},
   "source": [
    "`['March', 'April', 'May']`"
   ]
  },
  {
   "cell_type": "markdown",
   "metadata": {},
   "source": [
    "`['January',\n",
    " 'February',\n",
    " 'March',\n",
    " 'April',\n",
    " 'May',\n",
    " 'June',\n",
    " 'July',\n",
    " 'August',\n",
    " 'September',\n",
    " 'October',\n",
    " 'November',\n",
    " 'December']`"
   ]
  },
  {
   "cell_type": "code",
   "execution_count": null,
   "metadata": {},
   "outputs": [],
   "source": [
    "lst[]"
   ]
  },
  {
   "cell_type": "markdown",
   "metadata": {},
   "source": [
    "`['April', 'June', 'August', 'October']`"
   ]
  },
  {
   "cell_type": "code",
   "execution_count": null,
   "metadata": {
    "scrolled": true
   },
   "outputs": [],
   "source": [
    "lst[]"
   ]
  },
  {
   "cell_type": "markdown",
   "metadata": {},
   "source": [
    "`['December', 'November', 'October', 'September', 'August']`"
   ]
  },
  {
   "cell_type": "code",
   "execution_count": null,
   "metadata": {},
   "outputs": [],
   "source": [
    "lst[]"
   ]
  },
  {
   "cell_type": "markdown",
   "metadata": {},
   "source": [
    "`['November', 'September', 'July', 'May']`"
   ]
  },
  {
   "cell_type": "code",
   "execution_count": null,
   "metadata": {},
   "outputs": [],
   "source": [
    "lst[]"
   ]
  },
  {
   "cell_type": "markdown",
   "metadata": {},
   "source": [
    "`['December',\n",
    " 'November',\n",
    " 'October',\n",
    " 'September',\n",
    " 'August',\n",
    " 'July',\n",
    " 'June',\n",
    " 'May',\n",
    " 'April',\n",
    " 'March',\n",
    " 'February',\n",
    " 'January']`"
   ]
  },
  {
   "cell_type": "code",
   "execution_count": null,
   "metadata": {},
   "outputs": [],
   "source": [
    "lst[]"
   ]
  },
  {
   "cell_type": "code",
   "execution_count": null,
   "metadata": {},
   "outputs": [],
   "source": [
    "# I would like to show you a different way to produce histograms"
   ]
  },
  {
   "cell_type": "code",
   "execution_count": null,
   "metadata": {
    "scrolled": true
   },
   "outputs": [],
   "source": [
    "VTemand_binned = pd.cut(data_dict['2019-01-14_124200.144']['VTemand [mL]'], bins = 10)\n",
    "VTemand_binned.head(10)"
   ]
  },
  {
   "cell_type": "code",
   "execution_count": null,
   "metadata": {},
   "outputs": [],
   "source": [
    "VTemand_binned.value_counts()"
   ]
  },
  {
   "cell_type": "code",
   "execution_count": null,
   "metadata": {},
   "outputs": [],
   "source": [
    "# Sort according the index, not the values\n",
    "# Also, what one function returns can be passed on to the next function\n",
    "VTemand_binned.value_counts().sort_index()"
   ]
  },
  {
   "cell_type": "code",
   "execution_count": null,
   "metadata": {},
   "outputs": [],
   "source": [
    "# Better but still not what you want\n",
    "VTemand_binned.value_counts().sort_index().plot()"
   ]
  },
  {
   "cell_type": "code",
   "execution_count": null,
   "metadata": {},
   "outputs": [],
   "source": [
    "# Better but still not what you want\n",
    "VTemand_binned.value_counts().sort_index().plot(kind = 'bar')"
   ]
  },
  {
   "cell_type": "code",
   "execution_count": null,
   "metadata": {},
   "outputs": [],
   "source": [
    "plot = VTemand_binned.value_counts().sort_index().plot(kind = 'bar')"
   ]
  },
  {
   "cell_type": "code",
   "execution_count": null,
   "metadata": {},
   "outputs": [],
   "source": [
    "import matplotlib.pyplot as plt\n",
    "\n",
    "plot = VTemand_binned.value_counts().sort_index().plot(kind = 'bar')\n",
    "plt.savefig(fname = os.path.join('results', 'VTemand'))"
   ]
  },
  {
   "cell_type": "code",
   "execution_count": null,
   "metadata": {},
   "outputs": [],
   "source": [
    "import matplotlib.pyplot as plt\n",
    "\n",
    "plot = VTemand_binned.value_counts().sort_index().plot(kind = 'bar', color = 'black', alpha = 0.7, \n",
    "            xlabel = 'VTemand_kg', ylabel = 'number of inflations',)\n",
    "#plt.grid(True)\n",
    "plt.savefig(fname = os.path.join('results', 'VTemand'))"
   ]
  },
  {
   "cell_type": "code",
   "execution_count": null,
   "metadata": {},
   "outputs": [],
   "source": [
    "import matplotlib.pyplot as plt\n",
    "\n",
    "plot = VTemand_binned.value_counts().sort_index().plot(kind = 'bar', color = 'black', alpha = 0.7, \n",
    "            xlabel = 'VTemand_kg', ylabel = 'number of inflations', logy = True)\n",
    "#plt.grid(True)\n",
    "plt.savefig(fname = os.path.join('results', 'VTemand'))"
   ]
  },
  {
   "cell_type": "code",
   "execution_count": null,
   "metadata": {},
   "outputs": [],
   "source": []
  }
 ],
 "metadata": {
  "anaconda-cloud": {},
  "kernelspec": {
   "display_name": "Python 3",
   "language": "python",
   "name": "python3"
  },
  "language_info": {
   "codemirror_mode": {
    "name": "ipython",
    "version": 3
   },
   "file_extension": ".py",
   "mimetype": "text/x-python",
   "name": "python",
   "nbconvert_exporter": "python",
   "pygments_lexer": "ipython3",
   "version": "3.7.9"
  }
 },
 "nbformat": 4,
 "nbformat_minor": 2
}
