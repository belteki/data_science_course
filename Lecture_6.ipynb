{
 "cells": [
  {
   "cell_type": "markdown",
   "metadata": {},
   "source": [
    "![alt text](./image_files/pageheader_rose2_babies.jpg)"
   ]
  },
  {
   "cell_type": "markdown",
   "metadata": {},
   "source": [
    "# Data Science in Medicine using Python\n",
    "\n",
    "### Author: Dr Gusztav Belteki"
   ]
  },
  {
   "cell_type": "markdown",
   "metadata": {},
   "source": [
    "### 1. Summary of the data processing we did so far and a little reminder"
   ]
  },
  {
   "cell_type": "code",
   "execution_count": 1,
   "metadata": {},
   "outputs": [
    {
     "name": "stdout",
     "output_type": "stream",
     "text": [
      "2021-05-07 14:43:00.417962 CsvLogBase_2019-01-16_090910.423_slow_Measurement.csv.zip\n",
      "2021-05-07 14:43:04.606432 CsvLogBase_2020-11-02_134238.904_slow_Measurement.csv.zip\n",
      "2021-05-07 14:43:18.689530 CsvLogBase_2019-01-14_124200.144_slow_Measurement.csv.zip\n",
      "CPU times: user 21.2 s, sys: 1.57 s, total: 22.8 s\n",
      "Wall time: 23.5 s\n"
     ]
    }
   ],
   "source": [
    "%%time\n",
    "\n",
    "import datetime\n",
    "import os\n",
    "import pandas as pd\n",
    "\n",
    "flist = [fle for fle in os.listdir('data') if 'slow_Measurement' in fle]\n",
    "\n",
    "data_dict = {} # Creates an empty dictionary\n",
    "\n",
    "for file in flist:\n",
    "    print(datetime.datetime.now(), file)\n",
    "    path = os.path.join('data', file,)\n",
    "    tag = file[11:-25]\n",
    "    data_dict[tag] = pd.read_csv(path, parse_dates = [['Date', 'Time']])\n",
    "    data_dict[tag] = data_dict[tag].set_index('Date_Time')\n",
    "    \n",
    "    new_columns = [item[5:] for item in data_dict[tag].columns if item.startswith('5001')]\n",
    "    new_columns = ['Time [ms]', 'Rel.Time [s]'] + new_columns\n",
    "    data_dict[tag].columns = new_columns\n",
    "    \n",
    "    data_dict[tag] = data_dict[tag].resample('1S').mean()\n",
    "    \n",
    "    columns_to_drop = ['Tispon [s]', 'I:Espon (I-Part) [no unit]', 'I:Espon (E-Part) [no unit]']\n",
    "    data_dict[tag] = data_dict[tag].drop(columns_to_drop, axis = 1)\n",
    "    data_dict[tag].to_csv('%s' %tag)"
   ]
  },
  {
   "cell_type": "markdown",
   "metadata": {},
   "source": [
    "##### \"Computer programs are for human to read and occasionally for computers to run\"\n",
    "\n",
    "You want to be more verbose particularly when learning Python"
   ]
  },
  {
   "cell_type": "code",
   "execution_count": 2,
   "metadata": {
    "scrolled": false
   },
   "outputs": [
    {
     "name": "stdout",
     "output_type": "stream",
     "text": [
      "2021-05-07 14:43:40.797913 CsvLogBase_2019-01-16_090910.423_slow_Measurement.csv.zip\n",
      "2021-05-07 14:43:45.320492 CsvLogBase_2020-11-02_134238.904_slow_Measurement.csv.zip\n",
      "2021-05-07 14:43:59.613151 CsvLogBase_2019-01-14_124200.144_slow_Measurement.csv.zip\n",
      "CPU times: user 21.4 s, sys: 1.54 s, total: 22.9 s\n",
      "Wall time: 23.1 s\n"
     ]
    }
   ],
   "source": [
    "%%time\n",
    "\n",
    "# Import the required libraries\n",
    "import datetime\n",
    "import os\n",
    "import pandas as pd\n",
    "\n",
    "# From the files in 'Data' sub-directory only consider those ones which contain 'slow_Measurement'\n",
    "flist = [fle for fle in os.listdir('data') if 'slow_Measurement' in fle]\n",
    "\n",
    "data_dict = {} # Creates an empty dictionary\n",
    "\n",
    "for file in flist: # Loop through all relevant data files\n",
    "    \n",
    "    print(datetime.datetime.now(), file)\n",
    "    \n",
    "    # The relative filepath to the files\n",
    "    path = os.path.join('data', file,)\n",
    "    \n",
    "    # Use the specific part of the filename as a unique key for the dictionary\n",
    "    tag = file[11:-25]\n",
    "    \n",
    "    # Import data, parse the 'Date' and 'Time' columns as datetime and combine them\n",
    "    data_dict[tag] = pd.read_csv(path, parse_dates = [['Date', 'Time']])\n",
    "    # Set the combined 'Date_Time' column as row index \n",
    "    data_dict[tag] = data_dict[tag].set_index('Date_Time')\n",
    "    \n",
    "    # Remove the '5001' pre-tag from the column names\n",
    "    new_columns = [item[5:] for item in data_dict[tag].columns if item.startswith('5001')]\n",
    "    new_columns = ['Time [ms]', 'Rel.Time [s]'] + new_columns\n",
    "    data_dict[tag].columns = new_columns\n",
    "    \n",
    "    # As data were retrieved in two batches every second, combine these data by using the mean() function\n",
    "    data_dict[tag] = data_dict[tag].resample('1S').mean()\n",
    "    \n",
    "    # Drop columes which have barely any data\n",
    "    columns_to_drop = ['Tispon [s]', 'I:Espon (I-Part) [no unit]', 'I:Espon (E-Part) [no unit]']\n",
    "    data_dict[tag] = data_dict[tag].drop(columns_to_drop, axis = 1)\n",
    "    \n",
    "    # Export processed data as .csv files with unique names\n",
    "    data_dict[tag].to_csv('%s' %tag)"
   ]
  },
  {
   "cell_type": "markdown",
   "metadata": {},
   "source": [
    "### 2. A quick look at allt the data"
   ]
  },
  {
   "cell_type": "markdown",
   "metadata": {},
   "source": [
    "Let us look at the data in more details"
   ]
  },
  {
   "cell_type": "code",
   "execution_count": 6,
   "metadata": {},
   "outputs": [],
   "source": [
    "# This is a dictionary of DataFrames\n",
    "data_dict;"
   ]
  },
  {
   "cell_type": "code",
   "execution_count": 7,
   "metadata": {},
   "outputs": [
    {
     "data": {
      "text/plain": [
       "dict_keys(['2019-01-16_090910.423', '2020-11-02_134238.904', '2019-01-14_124200.144'])"
      ]
     },
     "execution_count": 7,
     "metadata": {},
     "output_type": "execute_result"
    }
   ],
   "source": [
    "data_dict.keys()"
   ]
  },
  {
   "cell_type": "code",
   "execution_count": 9,
   "metadata": {
    "scrolled": false
   },
   "outputs": [],
   "source": [
    "data_dict.values();"
   ]
  },
  {
   "cell_type": "code",
   "execution_count": 10,
   "metadata": {},
   "outputs": [
    {
     "data": {
      "text/plain": [
       "[101443, 344677, 104934]"
      ]
     },
     "execution_count": 10,
     "metadata": {},
     "output_type": "execute_result"
    }
   ],
   "source": [
    "[len(value) for value in data_dict.values()]"
   ]
  },
  {
   "cell_type": "code",
   "execution_count": 11,
   "metadata": {},
   "outputs": [
    {
     "data": {
      "text/plain": [
       "[(101443, 42), (344677, 42), (104934, 42)]"
      ]
     },
     "execution_count": 11,
     "metadata": {},
     "output_type": "execute_result"
    }
   ],
   "source": [
    "[value.shape for value in data_dict.values()]"
   ]
  },
  {
   "cell_type": "markdown",
   "metadata": {},
   "source": [
    "### 3. How to process the data further?\n",
    "\n",
    "Choose one of the 3 recordings initially and study further"
   ]
  },
  {
   "cell_type": "code",
   "execution_count": 12,
   "metadata": {},
   "outputs": [
    {
     "data": {
      "text/html": [
       "<div>\n",
       "<style scoped>\n",
       "    .dataframe tbody tr th:only-of-type {\n",
       "        vertical-align: middle;\n",
       "    }\n",
       "\n",
       "    .dataframe tbody tr th {\n",
       "        vertical-align: top;\n",
       "    }\n",
       "\n",
       "    .dataframe thead th {\n",
       "        text-align: right;\n",
       "    }\n",
       "</style>\n",
       "<table border=\"1\" class=\"dataframe\">\n",
       "  <thead>\n",
       "    <tr style=\"text-align: right;\">\n",
       "      <th></th>\n",
       "      <th>Time [ms]</th>\n",
       "      <th>Rel.Time [s]</th>\n",
       "      <th>MVe [L/min]</th>\n",
       "      <th>MVi [L/min]</th>\n",
       "      <th>Cdyn [L/bar]</th>\n",
       "      <th>R [mbar/L/s]</th>\n",
       "      <th>MVespon [L/min]</th>\n",
       "      <th>Rpat [mbar/L/s]</th>\n",
       "      <th>MVemand [L/min]</th>\n",
       "      <th>FlowDev [L/min]</th>\n",
       "      <th>...</th>\n",
       "      <th>VTspon [mL]</th>\n",
       "      <th>E [mbar/L]</th>\n",
       "      <th>TC [s]</th>\n",
       "      <th>TCe [s]</th>\n",
       "      <th>C20/Cdyn [no unit]</th>\n",
       "      <th>VTe [mL]</th>\n",
       "      <th>VTi [mL]</th>\n",
       "      <th>EIP [mbar]</th>\n",
       "      <th>MVleak [L/min]</th>\n",
       "      <th>RRspon [1/min]</th>\n",
       "    </tr>\n",
       "    <tr>\n",
       "      <th>Date_Time</th>\n",
       "      <th></th>\n",
       "      <th></th>\n",
       "      <th></th>\n",
       "      <th></th>\n",
       "      <th></th>\n",
       "      <th></th>\n",
       "      <th></th>\n",
       "      <th></th>\n",
       "      <th></th>\n",
       "      <th></th>\n",
       "      <th></th>\n",
       "      <th></th>\n",
       "      <th></th>\n",
       "      <th></th>\n",
       "      <th></th>\n",
       "      <th></th>\n",
       "      <th></th>\n",
       "      <th></th>\n",
       "      <th></th>\n",
       "      <th></th>\n",
       "      <th></th>\n",
       "    </tr>\n",
       "  </thead>\n",
       "  <tbody>\n",
       "    <tr>\n",
       "      <th>2019-01-14 12:42:01</th>\n",
       "      <td>1.547470e+12</td>\n",
       "      <td>0.0</td>\n",
       "      <td>0.15</td>\n",
       "      <td>0.13</td>\n",
       "      <td>0.29</td>\n",
       "      <td>142.0</td>\n",
       "      <td>0.0</td>\n",
       "      <td>129.0</td>\n",
       "      <td>0.15</td>\n",
       "      <td>6.5</td>\n",
       "      <td>...</td>\n",
       "      <td>0.0</td>\n",
       "      <td>3393.0</td>\n",
       "      <td>0.04</td>\n",
       "      <td>0.11</td>\n",
       "      <td>0.58</td>\n",
       "      <td>2.7</td>\n",
       "      <td>2.4</td>\n",
       "      <td>16.0</td>\n",
       "      <td>0.0</td>\n",
       "      <td>NaN</td>\n",
       "    </tr>\n",
       "    <tr>\n",
       "      <th>2019-01-14 12:42:02</th>\n",
       "      <td>1.547470e+12</td>\n",
       "      <td>1.0</td>\n",
       "      <td>0.15</td>\n",
       "      <td>0.13</td>\n",
       "      <td>0.29</td>\n",
       "      <td>152.0</td>\n",
       "      <td>0.0</td>\n",
       "      <td>139.0</td>\n",
       "      <td>0.15</td>\n",
       "      <td>6.5</td>\n",
       "      <td>...</td>\n",
       "      <td>0.0</td>\n",
       "      <td>3393.0</td>\n",
       "      <td>0.04</td>\n",
       "      <td>0.11</td>\n",
       "      <td>0.66</td>\n",
       "      <td>2.8</td>\n",
       "      <td>2.6</td>\n",
       "      <td>16.0</td>\n",
       "      <td>0.0</td>\n",
       "      <td>NaN</td>\n",
       "    </tr>\n",
       "    <tr>\n",
       "      <th>2019-01-14 12:42:03</th>\n",
       "      <td>1.547470e+12</td>\n",
       "      <td>2.0</td>\n",
       "      <td>0.15</td>\n",
       "      <td>0.13</td>\n",
       "      <td>0.29</td>\n",
       "      <td>152.0</td>\n",
       "      <td>0.0</td>\n",
       "      <td>139.0</td>\n",
       "      <td>0.15</td>\n",
       "      <td>6.5</td>\n",
       "      <td>...</td>\n",
       "      <td>0.0</td>\n",
       "      <td>3429.0</td>\n",
       "      <td>0.04</td>\n",
       "      <td>0.11</td>\n",
       "      <td>0.66</td>\n",
       "      <td>2.8</td>\n",
       "      <td>2.6</td>\n",
       "      <td>16.0</td>\n",
       "      <td>0.0</td>\n",
       "      <td>NaN</td>\n",
       "    </tr>\n",
       "    <tr>\n",
       "      <th>2019-01-14 12:42:04</th>\n",
       "      <td>1.547470e+12</td>\n",
       "      <td>3.0</td>\n",
       "      <td>0.15</td>\n",
       "      <td>0.13</td>\n",
       "      <td>0.27</td>\n",
       "      <td>152.0</td>\n",
       "      <td>0.0</td>\n",
       "      <td>139.0</td>\n",
       "      <td>0.15</td>\n",
       "      <td>6.5</td>\n",
       "      <td>...</td>\n",
       "      <td>0.0</td>\n",
       "      <td>3754.0</td>\n",
       "      <td>0.04</td>\n",
       "      <td>0.11</td>\n",
       "      <td>0.66</td>\n",
       "      <td>2.9</td>\n",
       "      <td>2.4</td>\n",
       "      <td>16.0</td>\n",
       "      <td>0.0</td>\n",
       "      <td>NaN</td>\n",
       "    </tr>\n",
       "    <tr>\n",
       "      <th>2019-01-14 12:42:05</th>\n",
       "      <td>1.547470e+12</td>\n",
       "      <td>4.0</td>\n",
       "      <td>0.15</td>\n",
       "      <td>0.13</td>\n",
       "      <td>0.27</td>\n",
       "      <td>143.0</td>\n",
       "      <td>0.0</td>\n",
       "      <td>129.0</td>\n",
       "      <td>0.15</td>\n",
       "      <td>6.5</td>\n",
       "      <td>...</td>\n",
       "      <td>0.0</td>\n",
       "      <td>3528.0</td>\n",
       "      <td>0.04</td>\n",
       "      <td>0.11</td>\n",
       "      <td>0.62</td>\n",
       "      <td>2.8</td>\n",
       "      <td>2.6</td>\n",
       "      <td>16.0</td>\n",
       "      <td>0.0</td>\n",
       "      <td>NaN</td>\n",
       "    </tr>\n",
       "    <tr>\n",
       "      <th>...</th>\n",
       "      <td>...</td>\n",
       "      <td>...</td>\n",
       "      <td>...</td>\n",
       "      <td>...</td>\n",
       "      <td>...</td>\n",
       "      <td>...</td>\n",
       "      <td>...</td>\n",
       "      <td>...</td>\n",
       "      <td>...</td>\n",
       "      <td>...</td>\n",
       "      <td>...</td>\n",
       "      <td>...</td>\n",
       "      <td>...</td>\n",
       "      <td>...</td>\n",
       "      <td>...</td>\n",
       "      <td>...</td>\n",
       "      <td>...</td>\n",
       "      <td>...</td>\n",
       "      <td>...</td>\n",
       "      <td>...</td>\n",
       "      <td>...</td>\n",
       "    </tr>\n",
       "    <tr>\n",
       "      <th>2019-01-15 17:50:50</th>\n",
       "      <td>1.547575e+12</td>\n",
       "      <td>104929.0</td>\n",
       "      <td>0.00</td>\n",
       "      <td>2.38</td>\n",
       "      <td>NaN</td>\n",
       "      <td>NaN</td>\n",
       "      <td>0.0</td>\n",
       "      <td>NaN</td>\n",
       "      <td>0.00</td>\n",
       "      <td>NaN</td>\n",
       "      <td>...</td>\n",
       "      <td>0.0</td>\n",
       "      <td>NaN</td>\n",
       "      <td>NaN</td>\n",
       "      <td>NaN</td>\n",
       "      <td>NaN</td>\n",
       "      <td>NaN</td>\n",
       "      <td>NaN</td>\n",
       "      <td>0.0</td>\n",
       "      <td>0.0</td>\n",
       "      <td>NaN</td>\n",
       "    </tr>\n",
       "    <tr>\n",
       "      <th>2019-01-15 17:50:51</th>\n",
       "      <td>1.547575e+12</td>\n",
       "      <td>104930.0</td>\n",
       "      <td>0.00</td>\n",
       "      <td>2.38</td>\n",
       "      <td>NaN</td>\n",
       "      <td>NaN</td>\n",
       "      <td>0.0</td>\n",
       "      <td>NaN</td>\n",
       "      <td>0.00</td>\n",
       "      <td>NaN</td>\n",
       "      <td>...</td>\n",
       "      <td>0.0</td>\n",
       "      <td>NaN</td>\n",
       "      <td>NaN</td>\n",
       "      <td>NaN</td>\n",
       "      <td>NaN</td>\n",
       "      <td>NaN</td>\n",
       "      <td>NaN</td>\n",
       "      <td>0.0</td>\n",
       "      <td>0.0</td>\n",
       "      <td>NaN</td>\n",
       "    </tr>\n",
       "    <tr>\n",
       "      <th>2019-01-15 17:50:52</th>\n",
       "      <td>1.547575e+12</td>\n",
       "      <td>104931.0</td>\n",
       "      <td>0.00</td>\n",
       "      <td>2.38</td>\n",
       "      <td>NaN</td>\n",
       "      <td>NaN</td>\n",
       "      <td>0.0</td>\n",
       "      <td>NaN</td>\n",
       "      <td>0.00</td>\n",
       "      <td>NaN</td>\n",
       "      <td>...</td>\n",
       "      <td>0.0</td>\n",
       "      <td>NaN</td>\n",
       "      <td>NaN</td>\n",
       "      <td>NaN</td>\n",
       "      <td>NaN</td>\n",
       "      <td>NaN</td>\n",
       "      <td>NaN</td>\n",
       "      <td>NaN</td>\n",
       "      <td>0.0</td>\n",
       "      <td>0.0</td>\n",
       "    </tr>\n",
       "    <tr>\n",
       "      <th>2019-01-15 17:50:53</th>\n",
       "      <td>1.547575e+12</td>\n",
       "      <td>104932.0</td>\n",
       "      <td>0.00</td>\n",
       "      <td>2.38</td>\n",
       "      <td>NaN</td>\n",
       "      <td>NaN</td>\n",
       "      <td>0.0</td>\n",
       "      <td>NaN</td>\n",
       "      <td>0.00</td>\n",
       "      <td>NaN</td>\n",
       "      <td>...</td>\n",
       "      <td>0.0</td>\n",
       "      <td>NaN</td>\n",
       "      <td>NaN</td>\n",
       "      <td>NaN</td>\n",
       "      <td>NaN</td>\n",
       "      <td>NaN</td>\n",
       "      <td>NaN</td>\n",
       "      <td>NaN</td>\n",
       "      <td>0.0</td>\n",
       "      <td>0.0</td>\n",
       "    </tr>\n",
       "    <tr>\n",
       "      <th>2019-01-15 17:50:54</th>\n",
       "      <td>1.547575e+12</td>\n",
       "      <td>104933.0</td>\n",
       "      <td>0.00</td>\n",
       "      <td>2.38</td>\n",
       "      <td>NaN</td>\n",
       "      <td>NaN</td>\n",
       "      <td>0.0</td>\n",
       "      <td>NaN</td>\n",
       "      <td>0.00</td>\n",
       "      <td>NaN</td>\n",
       "      <td>...</td>\n",
       "      <td>0.0</td>\n",
       "      <td>NaN</td>\n",
       "      <td>NaN</td>\n",
       "      <td>NaN</td>\n",
       "      <td>NaN</td>\n",
       "      <td>NaN</td>\n",
       "      <td>NaN</td>\n",
       "      <td>0.0</td>\n",
       "      <td>0.0</td>\n",
       "      <td>0.0</td>\n",
       "    </tr>\n",
       "  </tbody>\n",
       "</table>\n",
       "<p>104934 rows × 42 columns</p>\n",
       "</div>"
      ],
      "text/plain": [
       "                        Time [ms]  Rel.Time [s]  MVe [L/min]  MVi [L/min]  \\\n",
       "Date_Time                                                                   \n",
       "2019-01-14 12:42:01  1.547470e+12           0.0         0.15         0.13   \n",
       "2019-01-14 12:42:02  1.547470e+12           1.0         0.15         0.13   \n",
       "2019-01-14 12:42:03  1.547470e+12           2.0         0.15         0.13   \n",
       "2019-01-14 12:42:04  1.547470e+12           3.0         0.15         0.13   \n",
       "2019-01-14 12:42:05  1.547470e+12           4.0         0.15         0.13   \n",
       "...                           ...           ...          ...          ...   \n",
       "2019-01-15 17:50:50  1.547575e+12      104929.0         0.00         2.38   \n",
       "2019-01-15 17:50:51  1.547575e+12      104930.0         0.00         2.38   \n",
       "2019-01-15 17:50:52  1.547575e+12      104931.0         0.00         2.38   \n",
       "2019-01-15 17:50:53  1.547575e+12      104932.0         0.00         2.38   \n",
       "2019-01-15 17:50:54  1.547575e+12      104933.0         0.00         2.38   \n",
       "\n",
       "                     Cdyn [L/bar]  R [mbar/L/s]  MVespon [L/min]  \\\n",
       "Date_Time                                                          \n",
       "2019-01-14 12:42:01          0.29         142.0              0.0   \n",
       "2019-01-14 12:42:02          0.29         152.0              0.0   \n",
       "2019-01-14 12:42:03          0.29         152.0              0.0   \n",
       "2019-01-14 12:42:04          0.27         152.0              0.0   \n",
       "2019-01-14 12:42:05          0.27         143.0              0.0   \n",
       "...                           ...           ...              ...   \n",
       "2019-01-15 17:50:50           NaN           NaN              0.0   \n",
       "2019-01-15 17:50:51           NaN           NaN              0.0   \n",
       "2019-01-15 17:50:52           NaN           NaN              0.0   \n",
       "2019-01-15 17:50:53           NaN           NaN              0.0   \n",
       "2019-01-15 17:50:54           NaN           NaN              0.0   \n",
       "\n",
       "                     Rpat [mbar/L/s]  MVemand [L/min]  FlowDev [L/min]  ...  \\\n",
       "Date_Time                                                               ...   \n",
       "2019-01-14 12:42:01            129.0             0.15              6.5  ...   \n",
       "2019-01-14 12:42:02            139.0             0.15              6.5  ...   \n",
       "2019-01-14 12:42:03            139.0             0.15              6.5  ...   \n",
       "2019-01-14 12:42:04            139.0             0.15              6.5  ...   \n",
       "2019-01-14 12:42:05            129.0             0.15              6.5  ...   \n",
       "...                              ...              ...              ...  ...   \n",
       "2019-01-15 17:50:50              NaN             0.00              NaN  ...   \n",
       "2019-01-15 17:50:51              NaN             0.00              NaN  ...   \n",
       "2019-01-15 17:50:52              NaN             0.00              NaN  ...   \n",
       "2019-01-15 17:50:53              NaN             0.00              NaN  ...   \n",
       "2019-01-15 17:50:54              NaN             0.00              NaN  ...   \n",
       "\n",
       "                     VTspon [mL]  E [mbar/L]  TC [s]  TCe [s]  \\\n",
       "Date_Time                                                       \n",
       "2019-01-14 12:42:01          0.0      3393.0    0.04     0.11   \n",
       "2019-01-14 12:42:02          0.0      3393.0    0.04     0.11   \n",
       "2019-01-14 12:42:03          0.0      3429.0    0.04     0.11   \n",
       "2019-01-14 12:42:04          0.0      3754.0    0.04     0.11   \n",
       "2019-01-14 12:42:05          0.0      3528.0    0.04     0.11   \n",
       "...                          ...         ...     ...      ...   \n",
       "2019-01-15 17:50:50          0.0         NaN     NaN      NaN   \n",
       "2019-01-15 17:50:51          0.0         NaN     NaN      NaN   \n",
       "2019-01-15 17:50:52          0.0         NaN     NaN      NaN   \n",
       "2019-01-15 17:50:53          0.0         NaN     NaN      NaN   \n",
       "2019-01-15 17:50:54          0.0         NaN     NaN      NaN   \n",
       "\n",
       "                     C20/Cdyn [no unit]  VTe [mL]  VTi [mL]  EIP [mbar]  \\\n",
       "Date_Time                                                                 \n",
       "2019-01-14 12:42:01                0.58       2.7       2.4        16.0   \n",
       "2019-01-14 12:42:02                0.66       2.8       2.6        16.0   \n",
       "2019-01-14 12:42:03                0.66       2.8       2.6        16.0   \n",
       "2019-01-14 12:42:04                0.66       2.9       2.4        16.0   \n",
       "2019-01-14 12:42:05                0.62       2.8       2.6        16.0   \n",
       "...                                 ...       ...       ...         ...   \n",
       "2019-01-15 17:50:50                 NaN       NaN       NaN         0.0   \n",
       "2019-01-15 17:50:51                 NaN       NaN       NaN         0.0   \n",
       "2019-01-15 17:50:52                 NaN       NaN       NaN         NaN   \n",
       "2019-01-15 17:50:53                 NaN       NaN       NaN         NaN   \n",
       "2019-01-15 17:50:54                 NaN       NaN       NaN         0.0   \n",
       "\n",
       "                     MVleak [L/min]  RRspon [1/min]  \n",
       "Date_Time                                            \n",
       "2019-01-14 12:42:01             0.0             NaN  \n",
       "2019-01-14 12:42:02             0.0             NaN  \n",
       "2019-01-14 12:42:03             0.0             NaN  \n",
       "2019-01-14 12:42:04             0.0             NaN  \n",
       "2019-01-14 12:42:05             0.0             NaN  \n",
       "...                             ...             ...  \n",
       "2019-01-15 17:50:50             0.0             NaN  \n",
       "2019-01-15 17:50:51             0.0             NaN  \n",
       "2019-01-15 17:50:52             0.0             0.0  \n",
       "2019-01-15 17:50:53             0.0             0.0  \n",
       "2019-01-15 17:50:54             0.0             0.0  \n",
       "\n",
       "[104934 rows x 42 columns]"
      ]
     },
     "execution_count": 12,
     "metadata": {},
     "output_type": "execute_result"
    }
   ],
   "source": [
    "data_dict['2019-01-14_124200.144']"
   ]
  },
  {
   "cell_type": "code",
   "execution_count": 13,
   "metadata": {},
   "outputs": [
    {
     "name": "stdout",
     "output_type": "stream",
     "text": [
      "<class 'pandas.core.frame.DataFrame'>\n",
      "DatetimeIndex: 104934 entries, 2019-01-14 12:42:01 to 2019-01-15 17:50:54\n",
      "Freq: S\n",
      "Data columns (total 42 columns):\n",
      " #   Column              Non-Null Count   Dtype  \n",
      "---  ------              --------------   -----  \n",
      " 0   Time [ms]           104934 non-null  float64\n",
      " 1   Rel.Time [s]        104934 non-null  float64\n",
      " 2   MVe [L/min]         104893 non-null  float64\n",
      " 3   MVi [L/min]         104899 non-null  float64\n",
      " 4   Cdyn [L/bar]        102860 non-null  float64\n",
      " 5   R [mbar/L/s]        103751 non-null  float64\n",
      " 6   MVespon [L/min]     104893 non-null  float64\n",
      " 7   Rpat [mbar/L/s]     102230 non-null  float64\n",
      " 8   MVemand [L/min]     104893 non-null  float64\n",
      " 9   FlowDev [L/min]     104899 non-null  float64\n",
      " 10  VTmand [mL]         104748 non-null  float64\n",
      " 11  r2 [no unit]        103947 non-null  float64\n",
      " 12  VTispon [mL]        104916 non-null  float64\n",
      " 13  Pmin [mbar]         104934 non-null  float64\n",
      " 14  Pmean [mbar]        104934 non-null  float64\n",
      " 15  PEEP [mbar]         104934 non-null  float64\n",
      " 16  RRmand [1/min]      104934 non-null  float64\n",
      " 17  PIP [mbar]          104930 non-null  float64\n",
      " 18  VTmand [L]          104748 non-null  float64\n",
      " 19  VTspon [L]          104916 non-null  float64\n",
      " 20  VTemand [mL]        104748 non-null  float64\n",
      " 21  VTespon [mL]        104916 non-null  float64\n",
      " 22  VTimand [mL]        104747 non-null  float64\n",
      " 23  VT [mL]             104748 non-null  float64\n",
      " 24  % leak [%]          104899 non-null  float64\n",
      " 25  % MVspon [%]        104893 non-null  float64\n",
      " 26  MV [L/min]          104899 non-null  float64\n",
      " 27  RRtrig [1/min]      104898 non-null  float64\n",
      " 28  RR [1/min]          104898 non-null  float64\n",
      " 29  I (I:E) [no unit]   104934 non-null  float64\n",
      " 30  E (I:E) [no unit]   104934 non-null  float64\n",
      " 31  FiO2 [%]            104934 non-null  float64\n",
      " 32  VTspon [mL]         104917 non-null  float64\n",
      " 33  E [mbar/L]          102188 non-null  float64\n",
      " 34  TC [s]              102879 non-null  float64\n",
      " 35  TCe [s]             104739 non-null  float64\n",
      " 36  C20/Cdyn [no unit]  99423 non-null   float64\n",
      " 37  VTe [mL]            104749 non-null  float64\n",
      " 38  VTi [mL]            104747 non-null  float64\n",
      " 39  EIP [mbar]          104896 non-null  float64\n",
      " 40  MVleak [L/min]      104899 non-null  float64\n",
      " 41  RRspon [1/min]      77367 non-null   float64\n",
      "dtypes: float64(42)\n",
      "memory usage: 34.4 MB\n"
     ]
    }
   ],
   "source": [
    "data_dict['2019-01-14_124200.144'].info()"
   ]
  },
  {
   "cell_type": "markdown",
   "metadata": {},
   "source": [
    "Now all the data are in the right format, but...\n",
    "\n",
    "##### Further issues:\n",
    "- Tidal volumes, minute volumes and compliance only make sense when normalised to body\n",
    "- We would like to know the distribution of the data to make sure that they make sense (are there non-sensical data or clear outliers)\n",
    "- We still have some missing data, what should we do with them?"
   ]
  },
  {
   "cell_type": "markdown",
   "metadata": {},
   "source": [
    "### 4. Some parameters (`VTs, MVs, Cdyn`) only make sense if normalised to body weight"
   ]
  },
  {
   "cell_type": "code",
   "execution_count": 14,
   "metadata": {},
   "outputs": [
    {
     "data": {
      "text/plain": [
       "Index(['Time [ms]', 'Rel.Time [s]', 'MVe [L/min]', 'MVi [L/min]',\n",
       "       'Cdyn [L/bar]', 'R [mbar/L/s]', 'MVespon [L/min]', 'Rpat [mbar/L/s]',\n",
       "       'MVemand [L/min]', 'FlowDev [L/min]', 'VTmand [mL]', 'r2 [no unit]',\n",
       "       'VTispon [mL]', 'Pmin [mbar]', 'Pmean [mbar]', 'PEEP [mbar]',\n",
       "       'RRmand [1/min]', 'PIP [mbar]', 'VTmand [L]', 'VTspon [L]',\n",
       "       'VTemand [mL]', 'VTespon [mL]', 'VTimand [mL]', 'VT [mL]', '% leak [%]',\n",
       "       '% MVspon [%]', 'MV [L/min]', 'RRtrig [1/min]', 'RR [1/min]',\n",
       "       'I (I:E) [no unit]', 'E (I:E) [no unit]', 'FiO2 [%]', 'VTspon [mL]',\n",
       "       'E [mbar/L]', 'TC [s]', 'TCe [s]', 'C20/Cdyn [no unit]', 'VTe [mL]',\n",
       "       'VTi [mL]', 'EIP [mbar]', 'MVleak [L/min]', 'RRspon [1/min]'],\n",
       "      dtype='object')"
      ]
     },
     "execution_count": 14,
     "metadata": {},
     "output_type": "execute_result"
    }
   ],
   "source": [
    "data_dict['2019-01-14_124200.144'].columns"
   ]
  },
  {
   "cell_type": "code",
   "execution_count": 15,
   "metadata": {},
   "outputs": [],
   "source": [
    "to_normalise = ['MVe [L/min]', 'MVi [L/min]', 'Cdyn [L/bar]', 'MVespon [L/min]', 'MVemand [L/min]', 'VTmand [mL]', \n",
    "    'VTispon [mL]', 'VTmand [L]', 'VTspon [L]', 'VTemand [mL]', 'VTespon [mL]', 'VTimand [mL]', 'VT [mL]', \n",
    "    'MV [L/min]',  'VTspon [mL]', 'VTe [mL]', 'VTi [mL]', 'MVleak [L/min]',]"
   ]
  },
  {
   "cell_type": "code",
   "execution_count": 16,
   "metadata": {
    "scrolled": true
   },
   "outputs": [
    {
     "data": {
      "text/plain": [
       "dict_keys(['2019-01-16_090910.423', '2020-11-02_134238.904', '2019-01-14_124200.144'])"
      ]
     },
     "execution_count": 16,
     "metadata": {},
     "output_type": "execute_result"
    }
   ],
   "source": [
    "data_dict.keys()"
   ]
  },
  {
   "cell_type": "markdown",
   "metadata": {},
   "source": [
    "Here we are creating a dictionary with the same keys on the fly but it would be more usefuls (and less prone to error) to import weights from a csv or Excel file into a DataFrame"
   ]
  },
  {
   "cell_type": "code",
   "execution_count": 17,
   "metadata": {},
   "outputs": [],
   "source": [
    "# Weights in kilogram\n",
    "weights = {'2019-01-14_124200.144' : 0.575, '2019-01-16_090910.423' : 0.575 , '2020-11-02_134238.904' : 775}"
   ]
  },
  {
   "cell_type": "code",
   "execution_count": 18,
   "metadata": {},
   "outputs": [],
   "source": [
    "for recording in data_dict: # I could have written datadict.keys(), it is the same\n",
    "    for par in to_normalise:\n",
    "        data_dict[recording][f'{par[:-1]}/kg{par[-1]}'] = data_dict[recording][par] / weights[recording]"
   ]
  },
  {
   "cell_type": "code",
   "execution_count": 19,
   "metadata": {},
   "outputs": [
    {
     "data": {
      "text/html": [
       "<div>\n",
       "<style scoped>\n",
       "    .dataframe tbody tr th:only-of-type {\n",
       "        vertical-align: middle;\n",
       "    }\n",
       "\n",
       "    .dataframe tbody tr th {\n",
       "        vertical-align: top;\n",
       "    }\n",
       "\n",
       "    .dataframe thead th {\n",
       "        text-align: right;\n",
       "    }\n",
       "</style>\n",
       "<table border=\"1\" class=\"dataframe\">\n",
       "  <thead>\n",
       "    <tr style=\"text-align: right;\">\n",
       "      <th></th>\n",
       "      <th>Time [ms]</th>\n",
       "      <th>Rel.Time [s]</th>\n",
       "      <th>MVe [L/min]</th>\n",
       "      <th>MVi [L/min]</th>\n",
       "      <th>Cdyn [L/bar]</th>\n",
       "      <th>R [mbar/L/s]</th>\n",
       "      <th>MVespon [L/min]</th>\n",
       "      <th>Rpat [mbar/L/s]</th>\n",
       "      <th>MVemand [L/min]</th>\n",
       "      <th>FlowDev [L/min]</th>\n",
       "      <th>...</th>\n",
       "      <th>VTspon [L/kg]</th>\n",
       "      <th>VTemand [mL/kg]</th>\n",
       "      <th>VTespon [mL/kg]</th>\n",
       "      <th>VTimand [mL/kg]</th>\n",
       "      <th>VT [mL/kg]</th>\n",
       "      <th>MV [L/min/kg]</th>\n",
       "      <th>VTspon [mL/kg]</th>\n",
       "      <th>VTe [mL/kg]</th>\n",
       "      <th>VTi [mL/kg]</th>\n",
       "      <th>MVleak [L/min/kg]</th>\n",
       "    </tr>\n",
       "    <tr>\n",
       "      <th>Date_Time</th>\n",
       "      <th></th>\n",
       "      <th></th>\n",
       "      <th></th>\n",
       "      <th></th>\n",
       "      <th></th>\n",
       "      <th></th>\n",
       "      <th></th>\n",
       "      <th></th>\n",
       "      <th></th>\n",
       "      <th></th>\n",
       "      <th></th>\n",
       "      <th></th>\n",
       "      <th></th>\n",
       "      <th></th>\n",
       "      <th></th>\n",
       "      <th></th>\n",
       "      <th></th>\n",
       "      <th></th>\n",
       "      <th></th>\n",
       "      <th></th>\n",
       "      <th></th>\n",
       "    </tr>\n",
       "  </thead>\n",
       "  <tbody>\n",
       "    <tr>\n",
       "      <th>2019-01-14 12:42:01</th>\n",
       "      <td>1.547470e+12</td>\n",
       "      <td>0.0</td>\n",
       "      <td>0.15</td>\n",
       "      <td>0.13</td>\n",
       "      <td>0.29</td>\n",
       "      <td>142.0</td>\n",
       "      <td>0.0</td>\n",
       "      <td>129.0</td>\n",
       "      <td>0.15</td>\n",
       "      <td>6.5</td>\n",
       "      <td>...</td>\n",
       "      <td>0.0</td>\n",
       "      <td>4.695652</td>\n",
       "      <td>0.0</td>\n",
       "      <td>4.173913</td>\n",
       "      <td>4.695652</td>\n",
       "      <td>0.260870</td>\n",
       "      <td>0.0</td>\n",
       "      <td>4.695652</td>\n",
       "      <td>4.173913</td>\n",
       "      <td>0.0</td>\n",
       "    </tr>\n",
       "    <tr>\n",
       "      <th>2019-01-14 12:42:02</th>\n",
       "      <td>1.547470e+12</td>\n",
       "      <td>1.0</td>\n",
       "      <td>0.15</td>\n",
       "      <td>0.13</td>\n",
       "      <td>0.29</td>\n",
       "      <td>152.0</td>\n",
       "      <td>0.0</td>\n",
       "      <td>139.0</td>\n",
       "      <td>0.15</td>\n",
       "      <td>6.5</td>\n",
       "      <td>...</td>\n",
       "      <td>0.0</td>\n",
       "      <td>4.869565</td>\n",
       "      <td>0.0</td>\n",
       "      <td>4.521739</td>\n",
       "      <td>4.869565</td>\n",
       "      <td>0.260870</td>\n",
       "      <td>0.0</td>\n",
       "      <td>4.869565</td>\n",
       "      <td>4.521739</td>\n",
       "      <td>0.0</td>\n",
       "    </tr>\n",
       "    <tr>\n",
       "      <th>2019-01-14 12:42:03</th>\n",
       "      <td>1.547470e+12</td>\n",
       "      <td>2.0</td>\n",
       "      <td>0.15</td>\n",
       "      <td>0.13</td>\n",
       "      <td>0.29</td>\n",
       "      <td>152.0</td>\n",
       "      <td>0.0</td>\n",
       "      <td>139.0</td>\n",
       "      <td>0.15</td>\n",
       "      <td>6.5</td>\n",
       "      <td>...</td>\n",
       "      <td>0.0</td>\n",
       "      <td>4.869565</td>\n",
       "      <td>0.0</td>\n",
       "      <td>4.521739</td>\n",
       "      <td>4.869565</td>\n",
       "      <td>0.260870</td>\n",
       "      <td>0.0</td>\n",
       "      <td>4.869565</td>\n",
       "      <td>4.521739</td>\n",
       "      <td>0.0</td>\n",
       "    </tr>\n",
       "    <tr>\n",
       "      <th>2019-01-14 12:42:04</th>\n",
       "      <td>1.547470e+12</td>\n",
       "      <td>3.0</td>\n",
       "      <td>0.15</td>\n",
       "      <td>0.13</td>\n",
       "      <td>0.27</td>\n",
       "      <td>152.0</td>\n",
       "      <td>0.0</td>\n",
       "      <td>139.0</td>\n",
       "      <td>0.15</td>\n",
       "      <td>6.5</td>\n",
       "      <td>...</td>\n",
       "      <td>0.0</td>\n",
       "      <td>5.043478</td>\n",
       "      <td>0.0</td>\n",
       "      <td>4.173913</td>\n",
       "      <td>5.043478</td>\n",
       "      <td>0.260870</td>\n",
       "      <td>0.0</td>\n",
       "      <td>5.043478</td>\n",
       "      <td>4.173913</td>\n",
       "      <td>0.0</td>\n",
       "    </tr>\n",
       "    <tr>\n",
       "      <th>2019-01-14 12:42:05</th>\n",
       "      <td>1.547470e+12</td>\n",
       "      <td>4.0</td>\n",
       "      <td>0.15</td>\n",
       "      <td>0.13</td>\n",
       "      <td>0.27</td>\n",
       "      <td>143.0</td>\n",
       "      <td>0.0</td>\n",
       "      <td>129.0</td>\n",
       "      <td>0.15</td>\n",
       "      <td>6.5</td>\n",
       "      <td>...</td>\n",
       "      <td>0.0</td>\n",
       "      <td>5.043478</td>\n",
       "      <td>0.0</td>\n",
       "      <td>4.173913</td>\n",
       "      <td>5.043478</td>\n",
       "      <td>0.260870</td>\n",
       "      <td>0.0</td>\n",
       "      <td>4.869565</td>\n",
       "      <td>4.521739</td>\n",
       "      <td>0.0</td>\n",
       "    </tr>\n",
       "    <tr>\n",
       "      <th>...</th>\n",
       "      <td>...</td>\n",
       "      <td>...</td>\n",
       "      <td>...</td>\n",
       "      <td>...</td>\n",
       "      <td>...</td>\n",
       "      <td>...</td>\n",
       "      <td>...</td>\n",
       "      <td>...</td>\n",
       "      <td>...</td>\n",
       "      <td>...</td>\n",
       "      <td>...</td>\n",
       "      <td>...</td>\n",
       "      <td>...</td>\n",
       "      <td>...</td>\n",
       "      <td>...</td>\n",
       "      <td>...</td>\n",
       "      <td>...</td>\n",
       "      <td>...</td>\n",
       "      <td>...</td>\n",
       "      <td>...</td>\n",
       "      <td>...</td>\n",
       "    </tr>\n",
       "    <tr>\n",
       "      <th>2019-01-15 17:50:50</th>\n",
       "      <td>1.547575e+12</td>\n",
       "      <td>104929.0</td>\n",
       "      <td>0.00</td>\n",
       "      <td>2.38</td>\n",
       "      <td>NaN</td>\n",
       "      <td>NaN</td>\n",
       "      <td>0.0</td>\n",
       "      <td>NaN</td>\n",
       "      <td>0.00</td>\n",
       "      <td>NaN</td>\n",
       "      <td>...</td>\n",
       "      <td>0.0</td>\n",
       "      <td>NaN</td>\n",
       "      <td>0.0</td>\n",
       "      <td>NaN</td>\n",
       "      <td>NaN</td>\n",
       "      <td>0.417391</td>\n",
       "      <td>0.0</td>\n",
       "      <td>NaN</td>\n",
       "      <td>NaN</td>\n",
       "      <td>0.0</td>\n",
       "    </tr>\n",
       "    <tr>\n",
       "      <th>2019-01-15 17:50:51</th>\n",
       "      <td>1.547575e+12</td>\n",
       "      <td>104930.0</td>\n",
       "      <td>0.00</td>\n",
       "      <td>2.38</td>\n",
       "      <td>NaN</td>\n",
       "      <td>NaN</td>\n",
       "      <td>0.0</td>\n",
       "      <td>NaN</td>\n",
       "      <td>0.00</td>\n",
       "      <td>NaN</td>\n",
       "      <td>...</td>\n",
       "      <td>0.0</td>\n",
       "      <td>NaN</td>\n",
       "      <td>0.0</td>\n",
       "      <td>NaN</td>\n",
       "      <td>NaN</td>\n",
       "      <td>0.417391</td>\n",
       "      <td>0.0</td>\n",
       "      <td>NaN</td>\n",
       "      <td>NaN</td>\n",
       "      <td>0.0</td>\n",
       "    </tr>\n",
       "    <tr>\n",
       "      <th>2019-01-15 17:50:52</th>\n",
       "      <td>1.547575e+12</td>\n",
       "      <td>104931.0</td>\n",
       "      <td>0.00</td>\n",
       "      <td>2.38</td>\n",
       "      <td>NaN</td>\n",
       "      <td>NaN</td>\n",
       "      <td>0.0</td>\n",
       "      <td>NaN</td>\n",
       "      <td>0.00</td>\n",
       "      <td>NaN</td>\n",
       "      <td>...</td>\n",
       "      <td>0.0</td>\n",
       "      <td>NaN</td>\n",
       "      <td>0.0</td>\n",
       "      <td>NaN</td>\n",
       "      <td>NaN</td>\n",
       "      <td>0.417391</td>\n",
       "      <td>0.0</td>\n",
       "      <td>NaN</td>\n",
       "      <td>NaN</td>\n",
       "      <td>0.0</td>\n",
       "    </tr>\n",
       "    <tr>\n",
       "      <th>2019-01-15 17:50:53</th>\n",
       "      <td>1.547575e+12</td>\n",
       "      <td>104932.0</td>\n",
       "      <td>0.00</td>\n",
       "      <td>2.38</td>\n",
       "      <td>NaN</td>\n",
       "      <td>NaN</td>\n",
       "      <td>0.0</td>\n",
       "      <td>NaN</td>\n",
       "      <td>0.00</td>\n",
       "      <td>NaN</td>\n",
       "      <td>...</td>\n",
       "      <td>0.0</td>\n",
       "      <td>NaN</td>\n",
       "      <td>0.0</td>\n",
       "      <td>NaN</td>\n",
       "      <td>NaN</td>\n",
       "      <td>0.417391</td>\n",
       "      <td>0.0</td>\n",
       "      <td>NaN</td>\n",
       "      <td>NaN</td>\n",
       "      <td>0.0</td>\n",
       "    </tr>\n",
       "    <tr>\n",
       "      <th>2019-01-15 17:50:54</th>\n",
       "      <td>1.547575e+12</td>\n",
       "      <td>104933.0</td>\n",
       "      <td>0.00</td>\n",
       "      <td>2.38</td>\n",
       "      <td>NaN</td>\n",
       "      <td>NaN</td>\n",
       "      <td>0.0</td>\n",
       "      <td>NaN</td>\n",
       "      <td>0.00</td>\n",
       "      <td>NaN</td>\n",
       "      <td>...</td>\n",
       "      <td>0.0</td>\n",
       "      <td>NaN</td>\n",
       "      <td>0.0</td>\n",
       "      <td>NaN</td>\n",
       "      <td>NaN</td>\n",
       "      <td>0.417391</td>\n",
       "      <td>0.0</td>\n",
       "      <td>NaN</td>\n",
       "      <td>NaN</td>\n",
       "      <td>0.0</td>\n",
       "    </tr>\n",
       "  </tbody>\n",
       "</table>\n",
       "<p>104934 rows × 60 columns</p>\n",
       "</div>"
      ],
      "text/plain": [
       "                        Time [ms]  Rel.Time [s]  MVe [L/min]  MVi [L/min]  \\\n",
       "Date_Time                                                                   \n",
       "2019-01-14 12:42:01  1.547470e+12           0.0         0.15         0.13   \n",
       "2019-01-14 12:42:02  1.547470e+12           1.0         0.15         0.13   \n",
       "2019-01-14 12:42:03  1.547470e+12           2.0         0.15         0.13   \n",
       "2019-01-14 12:42:04  1.547470e+12           3.0         0.15         0.13   \n",
       "2019-01-14 12:42:05  1.547470e+12           4.0         0.15         0.13   \n",
       "...                           ...           ...          ...          ...   \n",
       "2019-01-15 17:50:50  1.547575e+12      104929.0         0.00         2.38   \n",
       "2019-01-15 17:50:51  1.547575e+12      104930.0         0.00         2.38   \n",
       "2019-01-15 17:50:52  1.547575e+12      104931.0         0.00         2.38   \n",
       "2019-01-15 17:50:53  1.547575e+12      104932.0         0.00         2.38   \n",
       "2019-01-15 17:50:54  1.547575e+12      104933.0         0.00         2.38   \n",
       "\n",
       "                     Cdyn [L/bar]  R [mbar/L/s]  MVespon [L/min]  \\\n",
       "Date_Time                                                          \n",
       "2019-01-14 12:42:01          0.29         142.0              0.0   \n",
       "2019-01-14 12:42:02          0.29         152.0              0.0   \n",
       "2019-01-14 12:42:03          0.29         152.0              0.0   \n",
       "2019-01-14 12:42:04          0.27         152.0              0.0   \n",
       "2019-01-14 12:42:05          0.27         143.0              0.0   \n",
       "...                           ...           ...              ...   \n",
       "2019-01-15 17:50:50           NaN           NaN              0.0   \n",
       "2019-01-15 17:50:51           NaN           NaN              0.0   \n",
       "2019-01-15 17:50:52           NaN           NaN              0.0   \n",
       "2019-01-15 17:50:53           NaN           NaN              0.0   \n",
       "2019-01-15 17:50:54           NaN           NaN              0.0   \n",
       "\n",
       "                     Rpat [mbar/L/s]  MVemand [L/min]  FlowDev [L/min]  ...  \\\n",
       "Date_Time                                                               ...   \n",
       "2019-01-14 12:42:01            129.0             0.15              6.5  ...   \n",
       "2019-01-14 12:42:02            139.0             0.15              6.5  ...   \n",
       "2019-01-14 12:42:03            139.0             0.15              6.5  ...   \n",
       "2019-01-14 12:42:04            139.0             0.15              6.5  ...   \n",
       "2019-01-14 12:42:05            129.0             0.15              6.5  ...   \n",
       "...                              ...              ...              ...  ...   \n",
       "2019-01-15 17:50:50              NaN             0.00              NaN  ...   \n",
       "2019-01-15 17:50:51              NaN             0.00              NaN  ...   \n",
       "2019-01-15 17:50:52              NaN             0.00              NaN  ...   \n",
       "2019-01-15 17:50:53              NaN             0.00              NaN  ...   \n",
       "2019-01-15 17:50:54              NaN             0.00              NaN  ...   \n",
       "\n",
       "                     VTspon [L/kg]  VTemand [mL/kg]  VTespon [mL/kg]  \\\n",
       "Date_Time                                                              \n",
       "2019-01-14 12:42:01            0.0         4.695652              0.0   \n",
       "2019-01-14 12:42:02            0.0         4.869565              0.0   \n",
       "2019-01-14 12:42:03            0.0         4.869565              0.0   \n",
       "2019-01-14 12:42:04            0.0         5.043478              0.0   \n",
       "2019-01-14 12:42:05            0.0         5.043478              0.0   \n",
       "...                            ...              ...              ...   \n",
       "2019-01-15 17:50:50            0.0              NaN              0.0   \n",
       "2019-01-15 17:50:51            0.0              NaN              0.0   \n",
       "2019-01-15 17:50:52            0.0              NaN              0.0   \n",
       "2019-01-15 17:50:53            0.0              NaN              0.0   \n",
       "2019-01-15 17:50:54            0.0              NaN              0.0   \n",
       "\n",
       "                     VTimand [mL/kg]  VT [mL/kg]  MV [L/min/kg]  \\\n",
       "Date_Time                                                         \n",
       "2019-01-14 12:42:01         4.173913    4.695652       0.260870   \n",
       "2019-01-14 12:42:02         4.521739    4.869565       0.260870   \n",
       "2019-01-14 12:42:03         4.521739    4.869565       0.260870   \n",
       "2019-01-14 12:42:04         4.173913    5.043478       0.260870   \n",
       "2019-01-14 12:42:05         4.173913    5.043478       0.260870   \n",
       "...                              ...         ...            ...   \n",
       "2019-01-15 17:50:50              NaN         NaN       0.417391   \n",
       "2019-01-15 17:50:51              NaN         NaN       0.417391   \n",
       "2019-01-15 17:50:52              NaN         NaN       0.417391   \n",
       "2019-01-15 17:50:53              NaN         NaN       0.417391   \n",
       "2019-01-15 17:50:54              NaN         NaN       0.417391   \n",
       "\n",
       "                     VTspon [mL/kg]  VTe [mL/kg]  VTi [mL/kg]  \\\n",
       "Date_Time                                                       \n",
       "2019-01-14 12:42:01             0.0     4.695652     4.173913   \n",
       "2019-01-14 12:42:02             0.0     4.869565     4.521739   \n",
       "2019-01-14 12:42:03             0.0     4.869565     4.521739   \n",
       "2019-01-14 12:42:04             0.0     5.043478     4.173913   \n",
       "2019-01-14 12:42:05             0.0     4.869565     4.521739   \n",
       "...                             ...          ...          ...   \n",
       "2019-01-15 17:50:50             0.0          NaN          NaN   \n",
       "2019-01-15 17:50:51             0.0          NaN          NaN   \n",
       "2019-01-15 17:50:52             0.0          NaN          NaN   \n",
       "2019-01-15 17:50:53             0.0          NaN          NaN   \n",
       "2019-01-15 17:50:54             0.0          NaN          NaN   \n",
       "\n",
       "                     MVleak [L/min/kg]  \n",
       "Date_Time                               \n",
       "2019-01-14 12:42:01                0.0  \n",
       "2019-01-14 12:42:02                0.0  \n",
       "2019-01-14 12:42:03                0.0  \n",
       "2019-01-14 12:42:04                0.0  \n",
       "2019-01-14 12:42:05                0.0  \n",
       "...                                ...  \n",
       "2019-01-15 17:50:50                0.0  \n",
       "2019-01-15 17:50:51                0.0  \n",
       "2019-01-15 17:50:52                0.0  \n",
       "2019-01-15 17:50:53                0.0  \n",
       "2019-01-15 17:50:54                0.0  \n",
       "\n",
       "[104934 rows x 60 columns]"
      ]
     },
     "execution_count": 19,
     "metadata": {},
     "output_type": "execute_result"
    }
   ],
   "source": [
    "data_dict['2019-01-14_124200.144']"
   ]
  },
  {
   "cell_type": "code",
   "execution_count": 20,
   "metadata": {},
   "outputs": [
    {
     "data": {
      "text/plain": [
       "Index(['Time [ms]', 'Rel.Time [s]', 'MVe [L/min]', 'MVi [L/min]',\n",
       "       'Cdyn [L/bar]', 'R [mbar/L/s]', 'MVespon [L/min]', 'Rpat [mbar/L/s]',\n",
       "       'MVemand [L/min]', 'FlowDev [L/min]', 'VTmand [mL]', 'r2 [no unit]',\n",
       "       'VTispon [mL]', 'Pmin [mbar]', 'Pmean [mbar]', 'PEEP [mbar]',\n",
       "       'RRmand [1/min]', 'PIP [mbar]', 'VTmand [L]', 'VTspon [L]',\n",
       "       'VTemand [mL]', 'VTespon [mL]', 'VTimand [mL]', 'VT [mL]', '% leak [%]',\n",
       "       '% MVspon [%]', 'MV [L/min]', 'RRtrig [1/min]', 'RR [1/min]',\n",
       "       'I (I:E) [no unit]', 'E (I:E) [no unit]', 'FiO2 [%]', 'VTspon [mL]',\n",
       "       'E [mbar/L]', 'TC [s]', 'TCe [s]', 'C20/Cdyn [no unit]', 'VTe [mL]',\n",
       "       'VTi [mL]', 'EIP [mbar]', 'MVleak [L/min]', 'RRspon [1/min]',\n",
       "       'MVe [L/min/kg]', 'MVi [L/min/kg]', 'Cdyn [L/bar/kg]',\n",
       "       'MVespon [L/min/kg]', 'MVemand [L/min/kg]', 'VTmand [mL/kg]',\n",
       "       'VTispon [mL/kg]', 'VTmand [L/kg]', 'VTspon [L/kg]', 'VTemand [mL/kg]',\n",
       "       'VTespon [mL/kg]', 'VTimand [mL/kg]', 'VT [mL/kg]', 'MV [L/min/kg]',\n",
       "       'VTspon [mL/kg]', 'VTe [mL/kg]', 'VTi [mL/kg]', 'MVleak [L/min/kg]'],\n",
       "      dtype='object')"
      ]
     },
     "execution_count": 20,
     "metadata": {},
     "output_type": "execute_result"
    }
   ],
   "source": [
    "data_dict['2019-01-14_124200.144'].columns"
   ]
  },
  {
   "cell_type": "markdown",
   "metadata": {},
   "source": [
    "### 5. Analyse the distribution of the data"
   ]
  },
  {
   "cell_type": "code",
   "execution_count": 21,
   "metadata": {},
   "outputs": [
    {
     "data": {
      "text/html": [
       "<div>\n",
       "<style scoped>\n",
       "    .dataframe tbody tr th:only-of-type {\n",
       "        vertical-align: middle;\n",
       "    }\n",
       "\n",
       "    .dataframe tbody tr th {\n",
       "        vertical-align: top;\n",
       "    }\n",
       "\n",
       "    .dataframe thead th {\n",
       "        text-align: right;\n",
       "    }\n",
       "</style>\n",
       "<table border=\"1\" class=\"dataframe\">\n",
       "  <thead>\n",
       "    <tr style=\"text-align: right;\">\n",
       "      <th></th>\n",
       "      <th>Time [ms]</th>\n",
       "      <th>Rel.Time [s]</th>\n",
       "      <th>MVe [L/min]</th>\n",
       "      <th>MVi [L/min]</th>\n",
       "      <th>Cdyn [L/bar]</th>\n",
       "      <th>R [mbar/L/s]</th>\n",
       "      <th>MVespon [L/min]</th>\n",
       "      <th>Rpat [mbar/L/s]</th>\n",
       "      <th>MVemand [L/min]</th>\n",
       "      <th>FlowDev [L/min]</th>\n",
       "      <th>...</th>\n",
       "      <th>VTspon [L/kg]</th>\n",
       "      <th>VTemand [mL/kg]</th>\n",
       "      <th>VTespon [mL/kg]</th>\n",
       "      <th>VTimand [mL/kg]</th>\n",
       "      <th>VT [mL/kg]</th>\n",
       "      <th>MV [L/min/kg]</th>\n",
       "      <th>VTspon [mL/kg]</th>\n",
       "      <th>VTe [mL/kg]</th>\n",
       "      <th>VTi [mL/kg]</th>\n",
       "      <th>MVleak [L/min/kg]</th>\n",
       "    </tr>\n",
       "  </thead>\n",
       "  <tbody>\n",
       "    <tr>\n",
       "      <th>count</th>\n",
       "      <td>1.049340e+05</td>\n",
       "      <td>104934.000000</td>\n",
       "      <td>104893.000000</td>\n",
       "      <td>104899.000000</td>\n",
       "      <td>102860.000000</td>\n",
       "      <td>103751.000000</td>\n",
       "      <td>104893.000000</td>\n",
       "      <td>102230.000000</td>\n",
       "      <td>104893.000000</td>\n",
       "      <td>104899.000000</td>\n",
       "      <td>...</td>\n",
       "      <td>104916.000000</td>\n",
       "      <td>104748.000000</td>\n",
       "      <td>104916.000000</td>\n",
       "      <td>104747.000000</td>\n",
       "      <td>104748.000000</td>\n",
       "      <td>104899.000000</td>\n",
       "      <td>104917.000000</td>\n",
       "      <td>104749.000000</td>\n",
       "      <td>104747.000000</td>\n",
       "      <td>104899.000000</td>\n",
       "    </tr>\n",
       "    <tr>\n",
       "      <th>mean</th>\n",
       "      <td>1.547522e+12</td>\n",
       "      <td>52466.500010</td>\n",
       "      <td>0.168037</td>\n",
       "      <td>0.180578</td>\n",
       "      <td>0.294409</td>\n",
       "      <td>188.858211</td>\n",
       "      <td>0.001355</td>\n",
       "      <td>177.272765</td>\n",
       "      <td>0.166236</td>\n",
       "      <td>6.654325</td>\n",
       "      <td>...</td>\n",
       "      <td>0.000005</td>\n",
       "      <td>5.372631</td>\n",
       "      <td>0.055365</td>\n",
       "      <td>5.467265</td>\n",
       "      <td>5.541377</td>\n",
       "      <td>0.310298</td>\n",
       "      <td>0.057951</td>\n",
       "      <td>5.371867</td>\n",
       "      <td>5.460153</td>\n",
       "      <td>0.024839</td>\n",
       "    </tr>\n",
       "    <tr>\n",
       "      <th>std</th>\n",
       "      <td>3.029198e+07</td>\n",
       "      <td>30291.980908</td>\n",
       "      <td>0.045607</td>\n",
       "      <td>0.156095</td>\n",
       "      <td>0.177860</td>\n",
       "      <td>66.492037</td>\n",
       "      <td>0.005534</td>\n",
       "      <td>66.164369</td>\n",
       "      <td>0.042622</td>\n",
       "      <td>0.643688</td>\n",
       "      <td>...</td>\n",
       "      <td>0.000304</td>\n",
       "      <td>1.696273</td>\n",
       "      <td>0.529565</td>\n",
       "      <td>4.680110</td>\n",
       "      <td>1.833996</td>\n",
       "      <td>0.214027</td>\n",
       "      <td>0.555555</td>\n",
       "      <td>1.698462</td>\n",
       "      <td>4.300934</td>\n",
       "      <td>0.327836</td>\n",
       "    </tr>\n",
       "    <tr>\n",
       "      <th>min</th>\n",
       "      <td>1.547470e+12</td>\n",
       "      <td>0.000000</td>\n",
       "      <td>0.000000</td>\n",
       "      <td>0.000000</td>\n",
       "      <td>0.000000</td>\n",
       "      <td>18.200000</td>\n",
       "      <td>0.000000</td>\n",
       "      <td>17.800000</td>\n",
       "      <td>0.000000</td>\n",
       "      <td>0.000000</td>\n",
       "      <td>...</td>\n",
       "      <td>0.000000</td>\n",
       "      <td>1.043478</td>\n",
       "      <td>0.000000</td>\n",
       "      <td>1.043478</td>\n",
       "      <td>1.043478</td>\n",
       "      <td>0.017391</td>\n",
       "      <td>0.000000</td>\n",
       "      <td>1.043478</td>\n",
       "      <td>1.043478</td>\n",
       "      <td>0.000000</td>\n",
       "    </tr>\n",
       "    <tr>\n",
       "      <th>25%</th>\n",
       "      <td>1.547496e+12</td>\n",
       "      <td>26233.250000</td>\n",
       "      <td>0.140000</td>\n",
       "      <td>0.150000</td>\n",
       "      <td>0.230000</td>\n",
       "      <td>151.000000</td>\n",
       "      <td>0.000000</td>\n",
       "      <td>138.000000</td>\n",
       "      <td>0.140000</td>\n",
       "      <td>6.500000</td>\n",
       "      <td>...</td>\n",
       "      <td>0.000000</td>\n",
       "      <td>4.695652</td>\n",
       "      <td>0.000000</td>\n",
       "      <td>4.695652</td>\n",
       "      <td>4.869565</td>\n",
       "      <td>0.260870</td>\n",
       "      <td>0.000000</td>\n",
       "      <td>4.695652</td>\n",
       "      <td>4.695652</td>\n",
       "      <td>0.000000</td>\n",
       "    </tr>\n",
       "    <tr>\n",
       "      <th>50%</th>\n",
       "      <td>1.547522e+12</td>\n",
       "      <td>52466.500000</td>\n",
       "      <td>0.150000</td>\n",
       "      <td>0.160000</td>\n",
       "      <td>0.270000</td>\n",
       "      <td>180.000000</td>\n",
       "      <td>0.000000</td>\n",
       "      <td>167.000000</td>\n",
       "      <td>0.150000</td>\n",
       "      <td>6.600000</td>\n",
       "      <td>...</td>\n",
       "      <td>0.000000</td>\n",
       "      <td>5.043478</td>\n",
       "      <td>0.000000</td>\n",
       "      <td>5.217391</td>\n",
       "      <td>5.217391</td>\n",
       "      <td>0.278261</td>\n",
       "      <td>0.000000</td>\n",
       "      <td>5.043478</td>\n",
       "      <td>5.217391</td>\n",
       "      <td>0.000000</td>\n",
       "    </tr>\n",
       "    <tr>\n",
       "      <th>75%</th>\n",
       "      <td>1.547548e+12</td>\n",
       "      <td>78699.750000</td>\n",
       "      <td>0.180000</td>\n",
       "      <td>0.180000</td>\n",
       "      <td>0.310000</td>\n",
       "      <td>217.000000</td>\n",
       "      <td>0.000000</td>\n",
       "      <td>205.000000</td>\n",
       "      <td>0.180000</td>\n",
       "      <td>6.700000</td>\n",
       "      <td>...</td>\n",
       "      <td>0.000000</td>\n",
       "      <td>5.565217</td>\n",
       "      <td>0.000000</td>\n",
       "      <td>5.739130</td>\n",
       "      <td>5.739130</td>\n",
       "      <td>0.330435</td>\n",
       "      <td>0.000000</td>\n",
       "      <td>5.565217</td>\n",
       "      <td>5.739130</td>\n",
       "      <td>0.017391</td>\n",
       "    </tr>\n",
       "    <tr>\n",
       "      <th>max</th>\n",
       "      <td>1.547575e+12</td>\n",
       "      <td>104933.000000</td>\n",
       "      <td>0.650000</td>\n",
       "      <td>13.500000</td>\n",
       "      <td>15.700000</td>\n",
       "      <td>996.000000</td>\n",
       "      <td>0.280000</td>\n",
       "      <td>990.000000</td>\n",
       "      <td>0.630000</td>\n",
       "      <td>25.500000</td>\n",
       "      <td>...</td>\n",
       "      <td>0.017391</td>\n",
       "      <td>30.434783</td>\n",
       "      <td>17.043478</td>\n",
       "      <td>594.782609</td>\n",
       "      <td>58.260870</td>\n",
       "      <td>23.304348</td>\n",
       "      <td>17.217391</td>\n",
       "      <td>30.782609</td>\n",
       "      <td>594.782609</td>\n",
       "      <td>34.956522</td>\n",
       "    </tr>\n",
       "  </tbody>\n",
       "</table>\n",
       "<p>8 rows × 60 columns</p>\n",
       "</div>"
      ],
      "text/plain": [
       "          Time [ms]   Rel.Time [s]    MVe [L/min]    MVi [L/min]  \\\n",
       "count  1.049340e+05  104934.000000  104893.000000  104899.000000   \n",
       "mean   1.547522e+12   52466.500010       0.168037       0.180578   \n",
       "std    3.029198e+07   30291.980908       0.045607       0.156095   \n",
       "min    1.547470e+12       0.000000       0.000000       0.000000   \n",
       "25%    1.547496e+12   26233.250000       0.140000       0.150000   \n",
       "50%    1.547522e+12   52466.500000       0.150000       0.160000   \n",
       "75%    1.547548e+12   78699.750000       0.180000       0.180000   \n",
       "max    1.547575e+12  104933.000000       0.650000      13.500000   \n",
       "\n",
       "        Cdyn [L/bar]   R [mbar/L/s]  MVespon [L/min]  Rpat [mbar/L/s]  \\\n",
       "count  102860.000000  103751.000000    104893.000000    102230.000000   \n",
       "mean        0.294409     188.858211         0.001355       177.272765   \n",
       "std         0.177860      66.492037         0.005534        66.164369   \n",
       "min         0.000000      18.200000         0.000000        17.800000   \n",
       "25%         0.230000     151.000000         0.000000       138.000000   \n",
       "50%         0.270000     180.000000         0.000000       167.000000   \n",
       "75%         0.310000     217.000000         0.000000       205.000000   \n",
       "max        15.700000     996.000000         0.280000       990.000000   \n",
       "\n",
       "       MVemand [L/min]  FlowDev [L/min]  ...  VTspon [L/kg]  VTemand [mL/kg]  \\\n",
       "count    104893.000000    104899.000000  ...  104916.000000    104748.000000   \n",
       "mean          0.166236         6.654325  ...       0.000005         5.372631   \n",
       "std           0.042622         0.643688  ...       0.000304         1.696273   \n",
       "min           0.000000         0.000000  ...       0.000000         1.043478   \n",
       "25%           0.140000         6.500000  ...       0.000000         4.695652   \n",
       "50%           0.150000         6.600000  ...       0.000000         5.043478   \n",
       "75%           0.180000         6.700000  ...       0.000000         5.565217   \n",
       "max           0.630000        25.500000  ...       0.017391        30.434783   \n",
       "\n",
       "       VTespon [mL/kg]  VTimand [mL/kg]     VT [mL/kg]  MV [L/min/kg]  \\\n",
       "count    104916.000000    104747.000000  104748.000000  104899.000000   \n",
       "mean          0.055365         5.467265       5.541377       0.310298   \n",
       "std           0.529565         4.680110       1.833996       0.214027   \n",
       "min           0.000000         1.043478       1.043478       0.017391   \n",
       "25%           0.000000         4.695652       4.869565       0.260870   \n",
       "50%           0.000000         5.217391       5.217391       0.278261   \n",
       "75%           0.000000         5.739130       5.739130       0.330435   \n",
       "max          17.043478       594.782609      58.260870      23.304348   \n",
       "\n",
       "       VTspon [mL/kg]    VTe [mL/kg]    VTi [mL/kg]  MVleak [L/min/kg]  \n",
       "count   104917.000000  104749.000000  104747.000000      104899.000000  \n",
       "mean         0.057951       5.371867       5.460153           0.024839  \n",
       "std          0.555555       1.698462       4.300934           0.327836  \n",
       "min          0.000000       1.043478       1.043478           0.000000  \n",
       "25%          0.000000       4.695652       4.695652           0.000000  \n",
       "50%          0.000000       5.043478       5.217391           0.000000  \n",
       "75%          0.000000       5.565217       5.739130           0.017391  \n",
       "max         17.217391      30.782609     594.782609          34.956522  \n",
       "\n",
       "[8 rows x 60 columns]"
      ]
     },
     "execution_count": 21,
     "metadata": {},
     "output_type": "execute_result"
    }
   ],
   "source": [
    "data_dict['2019-01-14_124200.144'].describe()"
   ]
  },
  {
   "cell_type": "code",
   "execution_count": 22,
   "metadata": {},
   "outputs": [
    {
     "data": {
      "text/html": [
       "<div>\n",
       "<style scoped>\n",
       "    .dataframe tbody tr th:only-of-type {\n",
       "        vertical-align: middle;\n",
       "    }\n",
       "\n",
       "    .dataframe tbody tr th {\n",
       "        vertical-align: top;\n",
       "    }\n",
       "\n",
       "    .dataframe thead th {\n",
       "        text-align: right;\n",
       "    }\n",
       "</style>\n",
       "<table border=\"1\" class=\"dataframe\">\n",
       "  <thead>\n",
       "    <tr style=\"text-align: right;\">\n",
       "      <th></th>\n",
       "      <th>Time [ms]</th>\n",
       "      <th>Rel.Time [s]</th>\n",
       "      <th>MVe [L/min]</th>\n",
       "      <th>MVi [L/min]</th>\n",
       "      <th>Cdyn [L/bar]</th>\n",
       "      <th>R [mbar/L/s]</th>\n",
       "      <th>MVespon [L/min]</th>\n",
       "      <th>Rpat [mbar/L/s]</th>\n",
       "      <th>MVemand [L/min]</th>\n",
       "      <th>FlowDev [L/min]</th>\n",
       "      <th>...</th>\n",
       "      <th>VTspon [L/kg]</th>\n",
       "      <th>VTemand [mL/kg]</th>\n",
       "      <th>VTespon [mL/kg]</th>\n",
       "      <th>VTimand [mL/kg]</th>\n",
       "      <th>VT [mL/kg]</th>\n",
       "      <th>MV [L/min/kg]</th>\n",
       "      <th>VTspon [mL/kg]</th>\n",
       "      <th>VTe [mL/kg]</th>\n",
       "      <th>VTi [mL/kg]</th>\n",
       "      <th>MVleak [L/min/kg]</th>\n",
       "    </tr>\n",
       "  </thead>\n",
       "  <tbody>\n",
       "    <tr>\n",
       "      <th>count</th>\n",
       "      <td>1.049340e+05</td>\n",
       "      <td>104934.000000</td>\n",
       "      <td>104893.000000</td>\n",
       "      <td>104899.000000</td>\n",
       "      <td>102860.000000</td>\n",
       "      <td>103751.000000</td>\n",
       "      <td>104893.000000</td>\n",
       "      <td>102230.000000</td>\n",
       "      <td>104893.000000</td>\n",
       "      <td>104899.000000</td>\n",
       "      <td>...</td>\n",
       "      <td>104916.000000</td>\n",
       "      <td>104748.000000</td>\n",
       "      <td>104916.000000</td>\n",
       "      <td>104747.000000</td>\n",
       "      <td>104748.000000</td>\n",
       "      <td>104899.000000</td>\n",
       "      <td>104917.000000</td>\n",
       "      <td>104749.000000</td>\n",
       "      <td>104747.000000</td>\n",
       "      <td>104899.000000</td>\n",
       "    </tr>\n",
       "    <tr>\n",
       "      <th>mean</th>\n",
       "      <td>1.547522e+12</td>\n",
       "      <td>52466.500010</td>\n",
       "      <td>0.168037</td>\n",
       "      <td>0.180578</td>\n",
       "      <td>0.294409</td>\n",
       "      <td>188.858211</td>\n",
       "      <td>0.001355</td>\n",
       "      <td>177.272765</td>\n",
       "      <td>0.166236</td>\n",
       "      <td>6.654325</td>\n",
       "      <td>...</td>\n",
       "      <td>0.000005</td>\n",
       "      <td>5.372631</td>\n",
       "      <td>0.055365</td>\n",
       "      <td>5.467265</td>\n",
       "      <td>5.541377</td>\n",
       "      <td>0.310298</td>\n",
       "      <td>0.057951</td>\n",
       "      <td>5.371867</td>\n",
       "      <td>5.460153</td>\n",
       "      <td>0.024839</td>\n",
       "    </tr>\n",
       "    <tr>\n",
       "      <th>std</th>\n",
       "      <td>3.029198e+07</td>\n",
       "      <td>30291.980908</td>\n",
       "      <td>0.045607</td>\n",
       "      <td>0.156095</td>\n",
       "      <td>0.177860</td>\n",
       "      <td>66.492037</td>\n",
       "      <td>0.005534</td>\n",
       "      <td>66.164369</td>\n",
       "      <td>0.042622</td>\n",
       "      <td>0.643688</td>\n",
       "      <td>...</td>\n",
       "      <td>0.000304</td>\n",
       "      <td>1.696273</td>\n",
       "      <td>0.529565</td>\n",
       "      <td>4.680110</td>\n",
       "      <td>1.833996</td>\n",
       "      <td>0.214027</td>\n",
       "      <td>0.555555</td>\n",
       "      <td>1.698462</td>\n",
       "      <td>4.300934</td>\n",
       "      <td>0.327836</td>\n",
       "    </tr>\n",
       "    <tr>\n",
       "      <th>min</th>\n",
       "      <td>1.547470e+12</td>\n",
       "      <td>0.000000</td>\n",
       "      <td>0.000000</td>\n",
       "      <td>0.000000</td>\n",
       "      <td>0.000000</td>\n",
       "      <td>18.200000</td>\n",
       "      <td>0.000000</td>\n",
       "      <td>17.800000</td>\n",
       "      <td>0.000000</td>\n",
       "      <td>0.000000</td>\n",
       "      <td>...</td>\n",
       "      <td>0.000000</td>\n",
       "      <td>1.043478</td>\n",
       "      <td>0.000000</td>\n",
       "      <td>1.043478</td>\n",
       "      <td>1.043478</td>\n",
       "      <td>0.017391</td>\n",
       "      <td>0.000000</td>\n",
       "      <td>1.043478</td>\n",
       "      <td>1.043478</td>\n",
       "      <td>0.000000</td>\n",
       "    </tr>\n",
       "    <tr>\n",
       "      <th>0.1%</th>\n",
       "      <td>1.547470e+12</td>\n",
       "      <td>104.933000</td>\n",
       "      <td>0.000000</td>\n",
       "      <td>0.110000</td>\n",
       "      <td>0.010000</td>\n",
       "      <td>32.200000</td>\n",
       "      <td>0.000000</td>\n",
       "      <td>32.900000</td>\n",
       "      <td>0.000000</td>\n",
       "      <td>6.100000</td>\n",
       "      <td>...</td>\n",
       "      <td>0.000000</td>\n",
       "      <td>1.217391</td>\n",
       "      <td>0.000000</td>\n",
       "      <td>1.739130</td>\n",
       "      <td>1.391304</td>\n",
       "      <td>0.191304</td>\n",
       "      <td>0.000000</td>\n",
       "      <td>1.217391</td>\n",
       "      <td>1.739130</td>\n",
       "      <td>0.000000</td>\n",
       "    </tr>\n",
       "    <tr>\n",
       "      <th>1%</th>\n",
       "      <td>1.547471e+12</td>\n",
       "      <td>1049.330000</td>\n",
       "      <td>0.120000</td>\n",
       "      <td>0.130000</td>\n",
       "      <td>0.070000</td>\n",
       "      <td>60.800000</td>\n",
       "      <td>0.000000</td>\n",
       "      <td>57.600000</td>\n",
       "      <td>0.120000</td>\n",
       "      <td>6.300000</td>\n",
       "      <td>...</td>\n",
       "      <td>0.000000</td>\n",
       "      <td>2.260870</td>\n",
       "      <td>0.000000</td>\n",
       "      <td>2.956522</td>\n",
       "      <td>2.434783</td>\n",
       "      <td>0.226087</td>\n",
       "      <td>0.000000</td>\n",
       "      <td>2.260870</td>\n",
       "      <td>2.956522</td>\n",
       "      <td>0.000000</td>\n",
       "    </tr>\n",
       "    <tr>\n",
       "      <th>5%</th>\n",
       "      <td>1.547475e+12</td>\n",
       "      <td>5246.650000</td>\n",
       "      <td>0.130000</td>\n",
       "      <td>0.130000</td>\n",
       "      <td>0.170000</td>\n",
       "      <td>103.000000</td>\n",
       "      <td>0.000000</td>\n",
       "      <td>94.700000</td>\n",
       "      <td>0.130000</td>\n",
       "      <td>6.400000</td>\n",
       "      <td>...</td>\n",
       "      <td>0.000000</td>\n",
       "      <td>3.652174</td>\n",
       "      <td>0.000000</td>\n",
       "      <td>3.826087</td>\n",
       "      <td>3.826087</td>\n",
       "      <td>0.243478</td>\n",
       "      <td>0.000000</td>\n",
       "      <td>3.652174</td>\n",
       "      <td>3.826087</td>\n",
       "      <td>0.000000</td>\n",
       "    </tr>\n",
       "    <tr>\n",
       "      <th>10%</th>\n",
       "      <td>1.547480e+12</td>\n",
       "      <td>10493.300000</td>\n",
       "      <td>0.140000</td>\n",
       "      <td>0.140000</td>\n",
       "      <td>0.200000</td>\n",
       "      <td>124.000000</td>\n",
       "      <td>0.000000</td>\n",
       "      <td>113.000000</td>\n",
       "      <td>0.140000</td>\n",
       "      <td>6.500000</td>\n",
       "      <td>...</td>\n",
       "      <td>0.000000</td>\n",
       "      <td>4.173913</td>\n",
       "      <td>0.000000</td>\n",
       "      <td>4.173913</td>\n",
       "      <td>4.347826</td>\n",
       "      <td>0.243478</td>\n",
       "      <td>0.000000</td>\n",
       "      <td>4.173913</td>\n",
       "      <td>4.173913</td>\n",
       "      <td>0.000000</td>\n",
       "    </tr>\n",
       "    <tr>\n",
       "      <th>25%</th>\n",
       "      <td>1.547496e+12</td>\n",
       "      <td>26233.250000</td>\n",
       "      <td>0.140000</td>\n",
       "      <td>0.150000</td>\n",
       "      <td>0.230000</td>\n",
       "      <td>151.000000</td>\n",
       "      <td>0.000000</td>\n",
       "      <td>138.000000</td>\n",
       "      <td>0.140000</td>\n",
       "      <td>6.500000</td>\n",
       "      <td>...</td>\n",
       "      <td>0.000000</td>\n",
       "      <td>4.695652</td>\n",
       "      <td>0.000000</td>\n",
       "      <td>4.695652</td>\n",
       "      <td>4.869565</td>\n",
       "      <td>0.260870</td>\n",
       "      <td>0.000000</td>\n",
       "      <td>4.695652</td>\n",
       "      <td>4.695652</td>\n",
       "      <td>0.000000</td>\n",
       "    </tr>\n",
       "    <tr>\n",
       "      <th>50%</th>\n",
       "      <td>1.547522e+12</td>\n",
       "      <td>52466.500000</td>\n",
       "      <td>0.150000</td>\n",
       "      <td>0.160000</td>\n",
       "      <td>0.270000</td>\n",
       "      <td>180.000000</td>\n",
       "      <td>0.000000</td>\n",
       "      <td>167.000000</td>\n",
       "      <td>0.150000</td>\n",
       "      <td>6.600000</td>\n",
       "      <td>...</td>\n",
       "      <td>0.000000</td>\n",
       "      <td>5.043478</td>\n",
       "      <td>0.000000</td>\n",
       "      <td>5.217391</td>\n",
       "      <td>5.217391</td>\n",
       "      <td>0.278261</td>\n",
       "      <td>0.000000</td>\n",
       "      <td>5.043478</td>\n",
       "      <td>5.217391</td>\n",
       "      <td>0.000000</td>\n",
       "    </tr>\n",
       "    <tr>\n",
       "      <th>75%</th>\n",
       "      <td>1.547548e+12</td>\n",
       "      <td>78699.750000</td>\n",
       "      <td>0.180000</td>\n",
       "      <td>0.180000</td>\n",
       "      <td>0.310000</td>\n",
       "      <td>217.000000</td>\n",
       "      <td>0.000000</td>\n",
       "      <td>205.000000</td>\n",
       "      <td>0.180000</td>\n",
       "      <td>6.700000</td>\n",
       "      <td>...</td>\n",
       "      <td>0.000000</td>\n",
       "      <td>5.565217</td>\n",
       "      <td>0.000000</td>\n",
       "      <td>5.739130</td>\n",
       "      <td>5.739130</td>\n",
       "      <td>0.330435</td>\n",
       "      <td>0.000000</td>\n",
       "      <td>5.565217</td>\n",
       "      <td>5.739130</td>\n",
       "      <td>0.017391</td>\n",
       "    </tr>\n",
       "    <tr>\n",
       "      <th>95%</th>\n",
       "      <td>1.547569e+12</td>\n",
       "      <td>99686.350000</td>\n",
       "      <td>0.240000</td>\n",
       "      <td>0.260000</td>\n",
       "      <td>0.500000</td>\n",
       "      <td>298.000000</td>\n",
       "      <td>0.010000</td>\n",
       "      <td>287.000000</td>\n",
       "      <td>0.240000</td>\n",
       "      <td>6.800000</td>\n",
       "      <td>...</td>\n",
       "      <td>0.000000</td>\n",
       "      <td>8.521739</td>\n",
       "      <td>0.000000</td>\n",
       "      <td>7.652174</td>\n",
       "      <td>8.869565</td>\n",
       "      <td>0.452174</td>\n",
       "      <td>0.000000</td>\n",
       "      <td>8.521739</td>\n",
       "      <td>7.652174</td>\n",
       "      <td>0.052174</td>\n",
       "    </tr>\n",
       "    <tr>\n",
       "      <th>99%</th>\n",
       "      <td>1.547574e+12</td>\n",
       "      <td>103883.670000</td>\n",
       "      <td>0.350000</td>\n",
       "      <td>0.470000</td>\n",
       "      <td>0.910000</td>\n",
       "      <td>411.000000</td>\n",
       "      <td>0.020000</td>\n",
       "      <td>400.000000</td>\n",
       "      <td>0.330000</td>\n",
       "      <td>8.702000</td>\n",
       "      <td>...</td>\n",
       "      <td>0.000000</td>\n",
       "      <td>12.521739</td>\n",
       "      <td>2.260870</td>\n",
       "      <td>10.608696</td>\n",
       "      <td>12.869565</td>\n",
       "      <td>0.678261</td>\n",
       "      <td>2.434783</td>\n",
       "      <td>12.521739</td>\n",
       "      <td>10.608696</td>\n",
       "      <td>0.104348</td>\n",
       "    </tr>\n",
       "    <tr>\n",
       "      <th>99.9%</th>\n",
       "      <td>1.547575e+12</td>\n",
       "      <td>104828.067000</td>\n",
       "      <td>0.560000</td>\n",
       "      <td>2.400000</td>\n",
       "      <td>2.468460</td>\n",
       "      <td>701.000000</td>\n",
       "      <td>0.060000</td>\n",
       "      <td>694.000000</td>\n",
       "      <td>0.530000</td>\n",
       "      <td>15.000000</td>\n",
       "      <td>...</td>\n",
       "      <td>0.000000</td>\n",
       "      <td>18.260870</td>\n",
       "      <td>6.434783</td>\n",
       "      <td>14.782609</td>\n",
       "      <td>19.522261</td>\n",
       "      <td>1.078261</td>\n",
       "      <td>7.304348</td>\n",
       "      <td>18.130783</td>\n",
       "      <td>14.782609</td>\n",
       "      <td>4.173913</td>\n",
       "    </tr>\n",
       "    <tr>\n",
       "      <th>max</th>\n",
       "      <td>1.547575e+12</td>\n",
       "      <td>104933.000000</td>\n",
       "      <td>0.650000</td>\n",
       "      <td>13.500000</td>\n",
       "      <td>15.700000</td>\n",
       "      <td>996.000000</td>\n",
       "      <td>0.280000</td>\n",
       "      <td>990.000000</td>\n",
       "      <td>0.630000</td>\n",
       "      <td>25.500000</td>\n",
       "      <td>...</td>\n",
       "      <td>0.017391</td>\n",
       "      <td>30.434783</td>\n",
       "      <td>17.043478</td>\n",
       "      <td>594.782609</td>\n",
       "      <td>58.260870</td>\n",
       "      <td>23.304348</td>\n",
       "      <td>17.217391</td>\n",
       "      <td>30.782609</td>\n",
       "      <td>594.782609</td>\n",
       "      <td>34.956522</td>\n",
       "    </tr>\n",
       "  </tbody>\n",
       "</table>\n",
       "<p>15 rows × 60 columns</p>\n",
       "</div>"
      ],
      "text/plain": [
       "          Time [ms]   Rel.Time [s]    MVe [L/min]    MVi [L/min]  \\\n",
       "count  1.049340e+05  104934.000000  104893.000000  104899.000000   \n",
       "mean   1.547522e+12   52466.500010       0.168037       0.180578   \n",
       "std    3.029198e+07   30291.980908       0.045607       0.156095   \n",
       "min    1.547470e+12       0.000000       0.000000       0.000000   \n",
       "0.1%   1.547470e+12     104.933000       0.000000       0.110000   \n",
       "1%     1.547471e+12    1049.330000       0.120000       0.130000   \n",
       "5%     1.547475e+12    5246.650000       0.130000       0.130000   \n",
       "10%    1.547480e+12   10493.300000       0.140000       0.140000   \n",
       "25%    1.547496e+12   26233.250000       0.140000       0.150000   \n",
       "50%    1.547522e+12   52466.500000       0.150000       0.160000   \n",
       "75%    1.547548e+12   78699.750000       0.180000       0.180000   \n",
       "95%    1.547569e+12   99686.350000       0.240000       0.260000   \n",
       "99%    1.547574e+12  103883.670000       0.350000       0.470000   \n",
       "99.9%  1.547575e+12  104828.067000       0.560000       2.400000   \n",
       "max    1.547575e+12  104933.000000       0.650000      13.500000   \n",
       "\n",
       "        Cdyn [L/bar]   R [mbar/L/s]  MVespon [L/min]  Rpat [mbar/L/s]  \\\n",
       "count  102860.000000  103751.000000    104893.000000    102230.000000   \n",
       "mean        0.294409     188.858211         0.001355       177.272765   \n",
       "std         0.177860      66.492037         0.005534        66.164369   \n",
       "min         0.000000      18.200000         0.000000        17.800000   \n",
       "0.1%        0.010000      32.200000         0.000000        32.900000   \n",
       "1%          0.070000      60.800000         0.000000        57.600000   \n",
       "5%          0.170000     103.000000         0.000000        94.700000   \n",
       "10%         0.200000     124.000000         0.000000       113.000000   \n",
       "25%         0.230000     151.000000         0.000000       138.000000   \n",
       "50%         0.270000     180.000000         0.000000       167.000000   \n",
       "75%         0.310000     217.000000         0.000000       205.000000   \n",
       "95%         0.500000     298.000000         0.010000       287.000000   \n",
       "99%         0.910000     411.000000         0.020000       400.000000   \n",
       "99.9%       2.468460     701.000000         0.060000       694.000000   \n",
       "max        15.700000     996.000000         0.280000       990.000000   \n",
       "\n",
       "       MVemand [L/min]  FlowDev [L/min]  ...  VTspon [L/kg]  VTemand [mL/kg]  \\\n",
       "count    104893.000000    104899.000000  ...  104916.000000    104748.000000   \n",
       "mean          0.166236         6.654325  ...       0.000005         5.372631   \n",
       "std           0.042622         0.643688  ...       0.000304         1.696273   \n",
       "min           0.000000         0.000000  ...       0.000000         1.043478   \n",
       "0.1%          0.000000         6.100000  ...       0.000000         1.217391   \n",
       "1%            0.120000         6.300000  ...       0.000000         2.260870   \n",
       "5%            0.130000         6.400000  ...       0.000000         3.652174   \n",
       "10%           0.140000         6.500000  ...       0.000000         4.173913   \n",
       "25%           0.140000         6.500000  ...       0.000000         4.695652   \n",
       "50%           0.150000         6.600000  ...       0.000000         5.043478   \n",
       "75%           0.180000         6.700000  ...       0.000000         5.565217   \n",
       "95%           0.240000         6.800000  ...       0.000000         8.521739   \n",
       "99%           0.330000         8.702000  ...       0.000000        12.521739   \n",
       "99.9%         0.530000        15.000000  ...       0.000000        18.260870   \n",
       "max           0.630000        25.500000  ...       0.017391        30.434783   \n",
       "\n",
       "       VTespon [mL/kg]  VTimand [mL/kg]     VT [mL/kg]  MV [L/min/kg]  \\\n",
       "count    104916.000000    104747.000000  104748.000000  104899.000000   \n",
       "mean          0.055365         5.467265       5.541377       0.310298   \n",
       "std           0.529565         4.680110       1.833996       0.214027   \n",
       "min           0.000000         1.043478       1.043478       0.017391   \n",
       "0.1%          0.000000         1.739130       1.391304       0.191304   \n",
       "1%            0.000000         2.956522       2.434783       0.226087   \n",
       "5%            0.000000         3.826087       3.826087       0.243478   \n",
       "10%           0.000000         4.173913       4.347826       0.243478   \n",
       "25%           0.000000         4.695652       4.869565       0.260870   \n",
       "50%           0.000000         5.217391       5.217391       0.278261   \n",
       "75%           0.000000         5.739130       5.739130       0.330435   \n",
       "95%           0.000000         7.652174       8.869565       0.452174   \n",
       "99%           2.260870        10.608696      12.869565       0.678261   \n",
       "99.9%         6.434783        14.782609      19.522261       1.078261   \n",
       "max          17.043478       594.782609      58.260870      23.304348   \n",
       "\n",
       "       VTspon [mL/kg]    VTe [mL/kg]    VTi [mL/kg]  MVleak [L/min/kg]  \n",
       "count   104917.000000  104749.000000  104747.000000      104899.000000  \n",
       "mean         0.057951       5.371867       5.460153           0.024839  \n",
       "std          0.555555       1.698462       4.300934           0.327836  \n",
       "min          0.000000       1.043478       1.043478           0.000000  \n",
       "0.1%         0.000000       1.217391       1.739130           0.000000  \n",
       "1%           0.000000       2.260870       2.956522           0.000000  \n",
       "5%           0.000000       3.652174       3.826087           0.000000  \n",
       "10%          0.000000       4.173913       4.173913           0.000000  \n",
       "25%          0.000000       4.695652       4.695652           0.000000  \n",
       "50%          0.000000       5.043478       5.217391           0.000000  \n",
       "75%          0.000000       5.565217       5.739130           0.017391  \n",
       "95%          0.000000       8.521739       7.652174           0.052174  \n",
       "99%          2.434783      12.521739      10.608696           0.104348  \n",
       "99.9%        7.304348      18.130783      14.782609           4.173913  \n",
       "max         17.217391      30.782609     594.782609          34.956522  \n",
       "\n",
       "[15 rows x 60 columns]"
      ]
     },
     "execution_count": 22,
     "metadata": {},
     "output_type": "execute_result"
    }
   ],
   "source": [
    "# You can customize the percentiles\n",
    "percentiles_to_show = [0.001, 0.01, 0.05, 0.1, 0.25, 0.5, 0.75, 0.95, 0.99, 0.999]\n",
    "data_dict['2019-01-14_124200.144'].describe(percentiles = percentiles_to_show )"
   ]
  },
  {
   "cell_type": "code",
   "execution_count": 23,
   "metadata": {},
   "outputs": [
    {
     "data": {
      "text/html": [
       "<div>\n",
       "<style scoped>\n",
       "    .dataframe tbody tr th:only-of-type {\n",
       "        vertical-align: middle;\n",
       "    }\n",
       "\n",
       "    .dataframe tbody tr th {\n",
       "        vertical-align: top;\n",
       "    }\n",
       "\n",
       "    .dataframe thead th {\n",
       "        text-align: right;\n",
       "    }\n",
       "</style>\n",
       "<table border=\"1\" class=\"dataframe\">\n",
       "  <thead>\n",
       "    <tr style=\"text-align: right;\">\n",
       "      <th></th>\n",
       "      <th>Time [ms]</th>\n",
       "      <th>Rel.Time [s]</th>\n",
       "      <th>MVe [L/min]</th>\n",
       "      <th>MVi [L/min]</th>\n",
       "      <th>Cdyn [L/bar]</th>\n",
       "      <th>R [mbar/L/s]</th>\n",
       "      <th>MVespon [L/min]</th>\n",
       "      <th>Rpat [mbar/L/s]</th>\n",
       "      <th>MVemand [L/min]</th>\n",
       "      <th>FlowDev [L/min]</th>\n",
       "      <th>...</th>\n",
       "      <th>VTspon [L/kg]</th>\n",
       "      <th>VTemand [mL/kg]</th>\n",
       "      <th>VTespon [mL/kg]</th>\n",
       "      <th>VTimand [mL/kg]</th>\n",
       "      <th>VT [mL/kg]</th>\n",
       "      <th>MV [L/min/kg]</th>\n",
       "      <th>VTspon [mL/kg]</th>\n",
       "      <th>VTe [mL/kg]</th>\n",
       "      <th>VTi [mL/kg]</th>\n",
       "      <th>MVleak [L/min/kg]</th>\n",
       "    </tr>\n",
       "  </thead>\n",
       "  <tbody>\n",
       "    <tr>\n",
       "      <th>count</th>\n",
       "      <td>1.049340e+05</td>\n",
       "      <td>104934.00</td>\n",
       "      <td>104893.00</td>\n",
       "      <td>104899.00</td>\n",
       "      <td>102860.00</td>\n",
       "      <td>103751.00</td>\n",
       "      <td>104893.00</td>\n",
       "      <td>102230.00</td>\n",
       "      <td>104893.00</td>\n",
       "      <td>104899.00</td>\n",
       "      <td>...</td>\n",
       "      <td>104916.00</td>\n",
       "      <td>104748.00</td>\n",
       "      <td>104916.00</td>\n",
       "      <td>104747.00</td>\n",
       "      <td>104748.00</td>\n",
       "      <td>104899.00</td>\n",
       "      <td>104917.00</td>\n",
       "      <td>104749.00</td>\n",
       "      <td>104747.00</td>\n",
       "      <td>104899.00</td>\n",
       "    </tr>\n",
       "    <tr>\n",
       "      <th>mean</th>\n",
       "      <td>1.547522e+12</td>\n",
       "      <td>52466.50</td>\n",
       "      <td>0.17</td>\n",
       "      <td>0.18</td>\n",
       "      <td>0.29</td>\n",
       "      <td>188.86</td>\n",
       "      <td>0.00</td>\n",
       "      <td>177.27</td>\n",
       "      <td>0.17</td>\n",
       "      <td>6.65</td>\n",
       "      <td>...</td>\n",
       "      <td>0.00</td>\n",
       "      <td>5.37</td>\n",
       "      <td>0.06</td>\n",
       "      <td>5.47</td>\n",
       "      <td>5.54</td>\n",
       "      <td>0.31</td>\n",
       "      <td>0.06</td>\n",
       "      <td>5.37</td>\n",
       "      <td>5.46</td>\n",
       "      <td>0.02</td>\n",
       "    </tr>\n",
       "    <tr>\n",
       "      <th>std</th>\n",
       "      <td>3.029198e+07</td>\n",
       "      <td>30291.98</td>\n",
       "      <td>0.05</td>\n",
       "      <td>0.16</td>\n",
       "      <td>0.18</td>\n",
       "      <td>66.49</td>\n",
       "      <td>0.01</td>\n",
       "      <td>66.16</td>\n",
       "      <td>0.04</td>\n",
       "      <td>0.64</td>\n",
       "      <td>...</td>\n",
       "      <td>0.00</td>\n",
       "      <td>1.70</td>\n",
       "      <td>0.53</td>\n",
       "      <td>4.68</td>\n",
       "      <td>1.83</td>\n",
       "      <td>0.21</td>\n",
       "      <td>0.56</td>\n",
       "      <td>1.70</td>\n",
       "      <td>4.30</td>\n",
       "      <td>0.33</td>\n",
       "    </tr>\n",
       "    <tr>\n",
       "      <th>min</th>\n",
       "      <td>1.547470e+12</td>\n",
       "      <td>0.00</td>\n",
       "      <td>0.00</td>\n",
       "      <td>0.00</td>\n",
       "      <td>0.00</td>\n",
       "      <td>18.20</td>\n",
       "      <td>0.00</td>\n",
       "      <td>17.80</td>\n",
       "      <td>0.00</td>\n",
       "      <td>0.00</td>\n",
       "      <td>...</td>\n",
       "      <td>0.00</td>\n",
       "      <td>1.04</td>\n",
       "      <td>0.00</td>\n",
       "      <td>1.04</td>\n",
       "      <td>1.04</td>\n",
       "      <td>0.02</td>\n",
       "      <td>0.00</td>\n",
       "      <td>1.04</td>\n",
       "      <td>1.04</td>\n",
       "      <td>0.00</td>\n",
       "    </tr>\n",
       "    <tr>\n",
       "      <th>0.1%</th>\n",
       "      <td>1.547470e+12</td>\n",
       "      <td>104.93</td>\n",
       "      <td>0.00</td>\n",
       "      <td>0.11</td>\n",
       "      <td>0.01</td>\n",
       "      <td>32.20</td>\n",
       "      <td>0.00</td>\n",
       "      <td>32.90</td>\n",
       "      <td>0.00</td>\n",
       "      <td>6.10</td>\n",
       "      <td>...</td>\n",
       "      <td>0.00</td>\n",
       "      <td>1.22</td>\n",
       "      <td>0.00</td>\n",
       "      <td>1.74</td>\n",
       "      <td>1.39</td>\n",
       "      <td>0.19</td>\n",
       "      <td>0.00</td>\n",
       "      <td>1.22</td>\n",
       "      <td>1.74</td>\n",
       "      <td>0.00</td>\n",
       "    </tr>\n",
       "    <tr>\n",
       "      <th>1%</th>\n",
       "      <td>1.547471e+12</td>\n",
       "      <td>1049.33</td>\n",
       "      <td>0.12</td>\n",
       "      <td>0.13</td>\n",
       "      <td>0.07</td>\n",
       "      <td>60.80</td>\n",
       "      <td>0.00</td>\n",
       "      <td>57.60</td>\n",
       "      <td>0.12</td>\n",
       "      <td>6.30</td>\n",
       "      <td>...</td>\n",
       "      <td>0.00</td>\n",
       "      <td>2.26</td>\n",
       "      <td>0.00</td>\n",
       "      <td>2.96</td>\n",
       "      <td>2.43</td>\n",
       "      <td>0.23</td>\n",
       "      <td>0.00</td>\n",
       "      <td>2.26</td>\n",
       "      <td>2.96</td>\n",
       "      <td>0.00</td>\n",
       "    </tr>\n",
       "    <tr>\n",
       "      <th>5%</th>\n",
       "      <td>1.547475e+12</td>\n",
       "      <td>5246.65</td>\n",
       "      <td>0.13</td>\n",
       "      <td>0.13</td>\n",
       "      <td>0.17</td>\n",
       "      <td>103.00</td>\n",
       "      <td>0.00</td>\n",
       "      <td>94.70</td>\n",
       "      <td>0.13</td>\n",
       "      <td>6.40</td>\n",
       "      <td>...</td>\n",
       "      <td>0.00</td>\n",
       "      <td>3.65</td>\n",
       "      <td>0.00</td>\n",
       "      <td>3.83</td>\n",
       "      <td>3.83</td>\n",
       "      <td>0.24</td>\n",
       "      <td>0.00</td>\n",
       "      <td>3.65</td>\n",
       "      <td>3.83</td>\n",
       "      <td>0.00</td>\n",
       "    </tr>\n",
       "    <tr>\n",
       "      <th>10%</th>\n",
       "      <td>1.547480e+12</td>\n",
       "      <td>10493.30</td>\n",
       "      <td>0.14</td>\n",
       "      <td>0.14</td>\n",
       "      <td>0.20</td>\n",
       "      <td>124.00</td>\n",
       "      <td>0.00</td>\n",
       "      <td>113.00</td>\n",
       "      <td>0.14</td>\n",
       "      <td>6.50</td>\n",
       "      <td>...</td>\n",
       "      <td>0.00</td>\n",
       "      <td>4.17</td>\n",
       "      <td>0.00</td>\n",
       "      <td>4.17</td>\n",
       "      <td>4.35</td>\n",
       "      <td>0.24</td>\n",
       "      <td>0.00</td>\n",
       "      <td>4.17</td>\n",
       "      <td>4.17</td>\n",
       "      <td>0.00</td>\n",
       "    </tr>\n",
       "    <tr>\n",
       "      <th>25%</th>\n",
       "      <td>1.547496e+12</td>\n",
       "      <td>26233.25</td>\n",
       "      <td>0.14</td>\n",
       "      <td>0.15</td>\n",
       "      <td>0.23</td>\n",
       "      <td>151.00</td>\n",
       "      <td>0.00</td>\n",
       "      <td>138.00</td>\n",
       "      <td>0.14</td>\n",
       "      <td>6.50</td>\n",
       "      <td>...</td>\n",
       "      <td>0.00</td>\n",
       "      <td>4.70</td>\n",
       "      <td>0.00</td>\n",
       "      <td>4.70</td>\n",
       "      <td>4.87</td>\n",
       "      <td>0.26</td>\n",
       "      <td>0.00</td>\n",
       "      <td>4.70</td>\n",
       "      <td>4.70</td>\n",
       "      <td>0.00</td>\n",
       "    </tr>\n",
       "    <tr>\n",
       "      <th>50%</th>\n",
       "      <td>1.547522e+12</td>\n",
       "      <td>52466.50</td>\n",
       "      <td>0.15</td>\n",
       "      <td>0.16</td>\n",
       "      <td>0.27</td>\n",
       "      <td>180.00</td>\n",
       "      <td>0.00</td>\n",
       "      <td>167.00</td>\n",
       "      <td>0.15</td>\n",
       "      <td>6.60</td>\n",
       "      <td>...</td>\n",
       "      <td>0.00</td>\n",
       "      <td>5.04</td>\n",
       "      <td>0.00</td>\n",
       "      <td>5.22</td>\n",
       "      <td>5.22</td>\n",
       "      <td>0.28</td>\n",
       "      <td>0.00</td>\n",
       "      <td>5.04</td>\n",
       "      <td>5.22</td>\n",
       "      <td>0.00</td>\n",
       "    </tr>\n",
       "    <tr>\n",
       "      <th>75%</th>\n",
       "      <td>1.547548e+12</td>\n",
       "      <td>78699.75</td>\n",
       "      <td>0.18</td>\n",
       "      <td>0.18</td>\n",
       "      <td>0.31</td>\n",
       "      <td>217.00</td>\n",
       "      <td>0.00</td>\n",
       "      <td>205.00</td>\n",
       "      <td>0.18</td>\n",
       "      <td>6.70</td>\n",
       "      <td>...</td>\n",
       "      <td>0.00</td>\n",
       "      <td>5.57</td>\n",
       "      <td>0.00</td>\n",
       "      <td>5.74</td>\n",
       "      <td>5.74</td>\n",
       "      <td>0.33</td>\n",
       "      <td>0.00</td>\n",
       "      <td>5.57</td>\n",
       "      <td>5.74</td>\n",
       "      <td>0.02</td>\n",
       "    </tr>\n",
       "    <tr>\n",
       "      <th>95%</th>\n",
       "      <td>1.547569e+12</td>\n",
       "      <td>99686.35</td>\n",
       "      <td>0.24</td>\n",
       "      <td>0.26</td>\n",
       "      <td>0.50</td>\n",
       "      <td>298.00</td>\n",
       "      <td>0.01</td>\n",
       "      <td>287.00</td>\n",
       "      <td>0.24</td>\n",
       "      <td>6.80</td>\n",
       "      <td>...</td>\n",
       "      <td>0.00</td>\n",
       "      <td>8.52</td>\n",
       "      <td>0.00</td>\n",
       "      <td>7.65</td>\n",
       "      <td>8.87</td>\n",
       "      <td>0.45</td>\n",
       "      <td>0.00</td>\n",
       "      <td>8.52</td>\n",
       "      <td>7.65</td>\n",
       "      <td>0.05</td>\n",
       "    </tr>\n",
       "    <tr>\n",
       "      <th>99%</th>\n",
       "      <td>1.547574e+12</td>\n",
       "      <td>103883.67</td>\n",
       "      <td>0.35</td>\n",
       "      <td>0.47</td>\n",
       "      <td>0.91</td>\n",
       "      <td>411.00</td>\n",
       "      <td>0.02</td>\n",
       "      <td>400.00</td>\n",
       "      <td>0.33</td>\n",
       "      <td>8.70</td>\n",
       "      <td>...</td>\n",
       "      <td>0.00</td>\n",
       "      <td>12.52</td>\n",
       "      <td>2.26</td>\n",
       "      <td>10.61</td>\n",
       "      <td>12.87</td>\n",
       "      <td>0.68</td>\n",
       "      <td>2.43</td>\n",
       "      <td>12.52</td>\n",
       "      <td>10.61</td>\n",
       "      <td>0.10</td>\n",
       "    </tr>\n",
       "    <tr>\n",
       "      <th>99.9%</th>\n",
       "      <td>1.547575e+12</td>\n",
       "      <td>104828.07</td>\n",
       "      <td>0.56</td>\n",
       "      <td>2.40</td>\n",
       "      <td>2.47</td>\n",
       "      <td>701.00</td>\n",
       "      <td>0.06</td>\n",
       "      <td>694.00</td>\n",
       "      <td>0.53</td>\n",
       "      <td>15.00</td>\n",
       "      <td>...</td>\n",
       "      <td>0.00</td>\n",
       "      <td>18.26</td>\n",
       "      <td>6.43</td>\n",
       "      <td>14.78</td>\n",
       "      <td>19.52</td>\n",
       "      <td>1.08</td>\n",
       "      <td>7.30</td>\n",
       "      <td>18.13</td>\n",
       "      <td>14.78</td>\n",
       "      <td>4.17</td>\n",
       "    </tr>\n",
       "    <tr>\n",
       "      <th>max</th>\n",
       "      <td>1.547575e+12</td>\n",
       "      <td>104933.00</td>\n",
       "      <td>0.65</td>\n",
       "      <td>13.50</td>\n",
       "      <td>15.70</td>\n",
       "      <td>996.00</td>\n",
       "      <td>0.28</td>\n",
       "      <td>990.00</td>\n",
       "      <td>0.63</td>\n",
       "      <td>25.50</td>\n",
       "      <td>...</td>\n",
       "      <td>0.02</td>\n",
       "      <td>30.43</td>\n",
       "      <td>17.04</td>\n",
       "      <td>594.78</td>\n",
       "      <td>58.26</td>\n",
       "      <td>23.30</td>\n",
       "      <td>17.22</td>\n",
       "      <td>30.78</td>\n",
       "      <td>594.78</td>\n",
       "      <td>34.96</td>\n",
       "    </tr>\n",
       "  </tbody>\n",
       "</table>\n",
       "<p>15 rows × 60 columns</p>\n",
       "</div>"
      ],
      "text/plain": [
       "          Time [ms]  Rel.Time [s]  MVe [L/min]  MVi [L/min]  Cdyn [L/bar]  \\\n",
       "count  1.049340e+05     104934.00    104893.00    104899.00     102860.00   \n",
       "mean   1.547522e+12      52466.50         0.17         0.18          0.29   \n",
       "std    3.029198e+07      30291.98         0.05         0.16          0.18   \n",
       "min    1.547470e+12          0.00         0.00         0.00          0.00   \n",
       "0.1%   1.547470e+12        104.93         0.00         0.11          0.01   \n",
       "1%     1.547471e+12       1049.33         0.12         0.13          0.07   \n",
       "5%     1.547475e+12       5246.65         0.13         0.13          0.17   \n",
       "10%    1.547480e+12      10493.30         0.14         0.14          0.20   \n",
       "25%    1.547496e+12      26233.25         0.14         0.15          0.23   \n",
       "50%    1.547522e+12      52466.50         0.15         0.16          0.27   \n",
       "75%    1.547548e+12      78699.75         0.18         0.18          0.31   \n",
       "95%    1.547569e+12      99686.35         0.24         0.26          0.50   \n",
       "99%    1.547574e+12     103883.67         0.35         0.47          0.91   \n",
       "99.9%  1.547575e+12     104828.07         0.56         2.40          2.47   \n",
       "max    1.547575e+12     104933.00         0.65        13.50         15.70   \n",
       "\n",
       "       R [mbar/L/s]  MVespon [L/min]  Rpat [mbar/L/s]  MVemand [L/min]  \\\n",
       "count     103751.00        104893.00        102230.00        104893.00   \n",
       "mean         188.86             0.00           177.27             0.17   \n",
       "std           66.49             0.01            66.16             0.04   \n",
       "min           18.20             0.00            17.80             0.00   \n",
       "0.1%          32.20             0.00            32.90             0.00   \n",
       "1%            60.80             0.00            57.60             0.12   \n",
       "5%           103.00             0.00            94.70             0.13   \n",
       "10%          124.00             0.00           113.00             0.14   \n",
       "25%          151.00             0.00           138.00             0.14   \n",
       "50%          180.00             0.00           167.00             0.15   \n",
       "75%          217.00             0.00           205.00             0.18   \n",
       "95%          298.00             0.01           287.00             0.24   \n",
       "99%          411.00             0.02           400.00             0.33   \n",
       "99.9%        701.00             0.06           694.00             0.53   \n",
       "max          996.00             0.28           990.00             0.63   \n",
       "\n",
       "       FlowDev [L/min]  ...  VTspon [L/kg]  VTemand [mL/kg]  VTespon [mL/kg]  \\\n",
       "count        104899.00  ...      104916.00        104748.00        104916.00   \n",
       "mean              6.65  ...           0.00             5.37             0.06   \n",
       "std               0.64  ...           0.00             1.70             0.53   \n",
       "min               0.00  ...           0.00             1.04             0.00   \n",
       "0.1%              6.10  ...           0.00             1.22             0.00   \n",
       "1%                6.30  ...           0.00             2.26             0.00   \n",
       "5%                6.40  ...           0.00             3.65             0.00   \n",
       "10%               6.50  ...           0.00             4.17             0.00   \n",
       "25%               6.50  ...           0.00             4.70             0.00   \n",
       "50%               6.60  ...           0.00             5.04             0.00   \n",
       "75%               6.70  ...           0.00             5.57             0.00   \n",
       "95%               6.80  ...           0.00             8.52             0.00   \n",
       "99%               8.70  ...           0.00            12.52             2.26   \n",
       "99.9%            15.00  ...           0.00            18.26             6.43   \n",
       "max              25.50  ...           0.02            30.43            17.04   \n",
       "\n",
       "       VTimand [mL/kg]  VT [mL/kg]  MV [L/min/kg]  VTspon [mL/kg]  \\\n",
       "count        104747.00   104748.00      104899.00       104917.00   \n",
       "mean              5.47        5.54           0.31            0.06   \n",
       "std               4.68        1.83           0.21            0.56   \n",
       "min               1.04        1.04           0.02            0.00   \n",
       "0.1%              1.74        1.39           0.19            0.00   \n",
       "1%                2.96        2.43           0.23            0.00   \n",
       "5%                3.83        3.83           0.24            0.00   \n",
       "10%               4.17        4.35           0.24            0.00   \n",
       "25%               4.70        4.87           0.26            0.00   \n",
       "50%               5.22        5.22           0.28            0.00   \n",
       "75%               5.74        5.74           0.33            0.00   \n",
       "95%               7.65        8.87           0.45            0.00   \n",
       "99%              10.61       12.87           0.68            2.43   \n",
       "99.9%            14.78       19.52           1.08            7.30   \n",
       "max             594.78       58.26          23.30           17.22   \n",
       "\n",
       "       VTe [mL/kg]  VTi [mL/kg]  MVleak [L/min/kg]  \n",
       "count    104749.00    104747.00          104899.00  \n",
       "mean          5.37         5.46               0.02  \n",
       "std           1.70         4.30               0.33  \n",
       "min           1.04         1.04               0.00  \n",
       "0.1%          1.22         1.74               0.00  \n",
       "1%            2.26         2.96               0.00  \n",
       "5%            3.65         3.83               0.00  \n",
       "10%           4.17         4.17               0.00  \n",
       "25%           4.70         4.70               0.00  \n",
       "50%           5.04         5.22               0.00  \n",
       "75%           5.57         5.74               0.02  \n",
       "95%           8.52         7.65               0.05  \n",
       "99%          12.52        10.61               0.10  \n",
       "99.9%        18.13        14.78               4.17  \n",
       "max          30.78       594.78              34.96  \n",
       "\n",
       "[15 rows x 60 columns]"
      ]
     },
     "execution_count": 23,
     "metadata": {},
     "output_type": "execute_result"
    }
   ],
   "source": [
    "# Too many zeros - you can round it\n",
    "percentiles_to_show = [0.001, 0.01, 0.05, 0.1, 0.25, 0.5, 0.75, 0.95, 0.99, 0.999]\n",
    "round(data_dict['2019-01-14_124200.144'].describe(percentiles = percentiles_to_show ), 2)"
   ]
  },
  {
   "cell_type": "code",
   "execution_count": 24,
   "metadata": {},
   "outputs": [
    {
     "data": {
      "text/plain": [
       "Index(['Time [ms]', 'Rel.Time [s]', 'MVe [L/min]', 'MVi [L/min]',\n",
       "       'Cdyn [L/bar]', 'R [mbar/L/s]', 'MVespon [L/min]', 'Rpat [mbar/L/s]',\n",
       "       'MVemand [L/min]', 'FlowDev [L/min]', 'VTmand [mL]', 'r2 [no unit]',\n",
       "       'VTispon [mL]', 'Pmin [mbar]', 'Pmean [mbar]', 'PEEP [mbar]',\n",
       "       'RRmand [1/min]', 'PIP [mbar]', 'VTmand [L]', 'VTspon [L]',\n",
       "       'VTemand [mL]', 'VTespon [mL]', 'VTimand [mL]', 'VT [mL]', '% leak [%]',\n",
       "       '% MVspon [%]', 'MV [L/min]', 'RRtrig [1/min]', 'RR [1/min]',\n",
       "       'I (I:E) [no unit]', 'E (I:E) [no unit]', 'FiO2 [%]', 'VTspon [mL]',\n",
       "       'E [mbar/L]', 'TC [s]', 'TCe [s]', 'C20/Cdyn [no unit]', 'VTe [mL]',\n",
       "       'VTi [mL]', 'EIP [mbar]', 'MVleak [L/min]', 'RRspon [1/min]',\n",
       "       'MVe [L/min/kg]', 'MVi [L/min/kg]', 'Cdyn [L/bar/kg]',\n",
       "       'MVespon [L/min/kg]', 'MVemand [L/min/kg]', 'VTmand [mL/kg]',\n",
       "       'VTispon [mL/kg]', 'VTmand [L/kg]', 'VTspon [L/kg]', 'VTemand [mL/kg]',\n",
       "       'VTespon [mL/kg]', 'VTimand [mL/kg]', 'VT [mL/kg]', 'MV [L/min/kg]',\n",
       "       'VTspon [mL/kg]', 'VTe [mL/kg]', 'VTi [mL/kg]', 'MVleak [L/min/kg]'],\n",
       "      dtype='object')"
      ]
     },
     "execution_count": 24,
     "metadata": {},
     "output_type": "execute_result"
    }
   ],
   "source": [
    "data_dict['2019-01-14_124200.144'].columns"
   ]
  },
  {
   "cell_type": "code",
   "execution_count": 25,
   "metadata": {},
   "outputs": [
    {
     "data": {
      "text/plain": [
       "count    104748.00\n",
       "mean          5.37\n",
       "std           1.70\n",
       "min           1.04\n",
       "0.1%          1.22\n",
       "1%            2.26\n",
       "5%            3.65\n",
       "10%           4.17\n",
       "25%           4.70\n",
       "50%           5.04\n",
       "75%           5.57\n",
       "95%           8.52\n",
       "99%          12.52\n",
       "99.9%        18.26\n",
       "max          30.43\n",
       "Name: VTemand [mL/kg], dtype: float64"
      ]
     },
     "execution_count": 25,
     "metadata": {},
     "output_type": "execute_result"
    }
   ],
   "source": [
    "# Too many columns - study them individually\n",
    "percentiles_to_show = [0.001, 0.01, 0.05, 0.1, 0.25, 0.5, 0.75, 0.95, 0.99, 0.999]\n",
    "round(data_dict['2019-01-14_124200.144']['VTemand [mL/kg]'].describe(percentiles = percentiles_to_show ), 2)"
   ]
  },
  {
   "cell_type": "markdown",
   "metadata": {},
   "source": [
    "##### One picture speaks a thousand words\n",
    "\n",
    "The main purpose of generating graphs is not to present the data to others but for yourself to visualise and inspect them."
   ]
  },
  {
   "cell_type": "markdown",
   "metadata": {},
   "source": [
    "You can use the default .plot() method of DataFrames"
   ]
  },
  {
   "cell_type": "code",
   "execution_count": 26,
   "metadata": {},
   "outputs": [
    {
     "data": {
      "text/plain": [
       "<AxesSubplot:xlabel='Date_Time'>"
      ]
     },
     "execution_count": 26,
     "metadata": {},
     "output_type": "execute_result"
    },
    {
     "data": {
      "image/png": "[encoded data removed]",
      "text/plain": [
       "<Figure size 432x288 with 1 Axes>"
      ]
     },
     "metadata": {
      "needs_background": "light"
     },
     "output_type": "display_data"
    }
   ],
   "source": [
    "# This gives you a plot but not the one your want (shows time series data)\n",
    "data_dict['2019-01-14_124200.144']['VTemand [mL]'].plot()"
   ]
  },
  {
   "cell_type": "markdown",
   "metadata": {},
   "source": [
    "Two useful way of displaying the distribution of continuous data are `boxplots` and `histograms`"
   ]
  },
  {
   "cell_type": "markdown",
   "metadata": {},
   "source": [
    "#### Boxplots"
   ]
  },
  {
   "cell_type": "code",
   "execution_count": 28,
   "metadata": {
    "scrolled": true
   },
   "outputs": [
    {
     "data": {
      "text/plain": [
       "<AxesSubplot:>"
      ]
     },
     "execution_count": 28,
     "metadata": {},
     "output_type": "execute_result"
    },
    {
     "data": {
      "image/png": "[encoded data removed]",
      "text/plain": [
       "<Figure size 432x288 with 1 Axes>"
      ]
     },
     "metadata": {
      "needs_background": "light"
     },
     "output_type": "display_data"
    }
   ],
   "source": [
    "# That is better but it does not look nice because it shows all the outliers\n",
    "\n",
    "data_dict['2019-01-14_124200.144']['VTemand [mL]'].plot(kind = 'box')"
   ]
  },
  {
   "cell_type": "markdown",
   "metadata": {},
   "source": [
    "You can customize it - to some extent\n",
    "Google DataFrame.plot()\n",
    "\n",
    "[this is the first hit](https://pandas.pydata.org/docs/reference/api/pandas.DataFrame.plot.html)\n",
    "    "
   ]
  },
  {
   "cell_type": "code",
   "execution_count": 33,
   "metadata": {
    "scrolled": true
   },
   "outputs": [
    {
     "data": {
      "text/plain": [
       "<AxesSubplot:ylabel='mL/kg'>"
      ]
     },
     "execution_count": 33,
     "metadata": {},
     "output_type": "execute_result"
    },
    {
     "data": {
      "image/png": "[encoded data removed]",
      "text/plain": [
       "<Figure size 432x288 with 1 Axes>"
      ]
     },
     "metadata": {
      "needs_background": "light"
     },
     "output_type": "display_data"
    }
   ],
   "source": [
    "# That is better but it does not look nice because it shows all the outliers\n",
    "\n",
    "data_dict['2019-01-14_124200.144']['VTemand [mL]'].plot(kind = 'box', ylim = [0,5], ylabel = 'mL/kg')"
   ]
  },
  {
   "cell_type": "markdown",
   "metadata": {},
   "source": [
    "Even better - use `matplotlib` for plotting"
   ]
  },
  {
   "cell_type": "code",
   "execution_count": 70,
   "metadata": {
    "scrolled": false
   },
   "outputs": [
    {
     "data": {
      "text/plain": [
       "{'whiskers': [<matplotlib.lines.Line2D at 0x7f89d8476550>,\n",
       "  <matplotlib.lines.Line2D at 0x7f89d8476990>],\n",
       " 'caps': [<matplotlib.lines.Line2D at 0x7f89d8476dd0>,\n",
       "  <matplotlib.lines.Line2D at 0x7f89d8483250>],\n",
       " 'boxes': [<matplotlib.lines.Line2D at 0x7f89d84761d0>],\n",
       " 'medians': [<matplotlib.lines.Line2D at 0x7f89d84836d0>],\n",
       " 'fliers': [<matplotlib.lines.Line2D at 0x7f89d8483ad0>],\n",
       " 'means': []}"
      ]
     },
     "execution_count": 70,
     "metadata": {},
     "output_type": "execute_result"
    },
    {
     "data": {
      "image/png": "[encoded data removed]",
      "text/plain": [
       "<Figure size 432x288 with 1 Axes>"
      ]
     },
     "metadata": {
      "needs_background": "light"
     },
     "output_type": "display_data"
    }
   ],
   "source": [
    "import matplotlib.pyplot as plt # Imports the matplotlib plotting library\n",
    "\n",
    "# First we create the figure and the subplot(s)\n",
    "fig, ax = plt.subplots()\n",
    "\n",
    "# Then we populate the subplot(s)\n",
    "ax.boxplot(data_dict['2019-01-14_124200.144']['VTemand [mL]'])\n",
    "\n",
    "# It is an empty plot (although it does not throw an error)  - why ?"
   ]
  },
  {
   "cell_type": "code",
   "execution_count": 69,
   "metadata": {},
   "outputs": [
    {
     "data": {
      "text/plain": [
       "Date_Time\n",
       "2019-01-14 12:42:01    2.7\n",
       "2019-01-14 12:42:02    2.8\n",
       "2019-01-14 12:42:03    2.8\n",
       "2019-01-14 12:42:04    2.9\n",
       "2019-01-14 12:42:05    2.9\n",
       "                      ... \n",
       "2019-01-15 17:50:50    NaN\n",
       "2019-01-15 17:50:51    NaN\n",
       "2019-01-15 17:50:52    NaN\n",
       "2019-01-15 17:50:53    NaN\n",
       "2019-01-15 17:50:54    NaN\n",
       "Freq: S, Name: VTemand [mL], Length: 104934, dtype: float64"
      ]
     },
     "execution_count": 69,
     "metadata": {},
     "output_type": "execute_result"
    }
   ],
   "source": [
    "# Check there is data !!\n",
    "data_dict['2019-01-14_124200.144']['VTemand [mL]']"
   ]
  },
  {
   "cell_type": "markdown",
   "metadata": {},
   "source": [
    "Let us Google it: \"matplotlib boxplot empty\"\n",
    "\n",
    "[Look at Stackoverflow top hits](https://stackoverflow.com/questions/52960482/plt-boxplot-showing-up-blank-despite-thousands-of-varying-datapoints)"
   ]
  },
  {
   "cell_type": "code",
   "execution_count": 72,
   "metadata": {
    "scrolled": false
   },
   "outputs": [
    {
     "data": {
      "image/png": "[encoded data removed]",
      "text/plain": [
       "<Figure size 432x288 with 1 Axes>"
      ]
     },
     "metadata": {
      "needs_background": "light"
     },
     "output_type": "display_data"
    }
   ],
   "source": [
    "import matplotlib.pyplot as plt # Imports the matplotlib plotting library\n",
    "\n",
    "# Removing empty data points helps\n",
    "\n",
    "fig, ax = plt.subplots()\n",
    "ax.boxplot(data_dict['2019-01-14_124200.144']['VTemand [mL]'].dropna());"
   ]
  },
  {
   "cell_type": "markdown",
   "metadata": {},
   "source": [
    "How can we improve this further ??"
   ]
  },
  {
   "cell_type": "code",
   "execution_count": 86,
   "metadata": {
    "scrolled": true
   },
   "outputs": [
    {
     "data": {
      "image/png": "[encoded data removed]",
      "text/plain": [
       "<Figure size 432x288 with 1 Axes>"
      ]
     },
     "metadata": {
      "needs_background": "light"
     },
     "output_type": "display_data"
    }
   ],
   "source": [
    "# Now the outliers are removed and the mean is shown\n",
    "\n",
    "fig, ax = plt.subplots()\n",
    "ax.boxplot(data_dict['2019-01-14_124200.144']['VTemand [mL]'].dropna(), showfliers = False, showmeans = True,);"
   ]
  },
  {
   "cell_type": "markdown",
   "metadata": {},
   "source": [
    "This looks better but I would like to modify the error bars and the layout"
   ]
  },
  {
   "cell_type": "code",
   "execution_count": 88,
   "metadata": {},
   "outputs": [
    {
     "data": {
      "image/png": "[encoded data removed]",
      "text/plain": [
       "<Figure size 432x288 with 1 Axes>"
      ]
     },
     "metadata": {
      "needs_background": "light"
     },
     "output_type": "display_data"
    }
   ],
   "source": [
    "# # Whiskers show IQR by default, you can change it\n",
    "\n",
    "fig, ax = plt.subplots()\n",
    "ax.boxplot(data_dict['2019-01-14_124200.144']['VTemand [mL]'].dropna(), \n",
    "           whis = [5,95], showfliers = False, showmeans = True,);"
   ]
  },
  {
   "cell_type": "code",
   "execution_count": 110,
   "metadata": {
    "scrolled": false
   },
   "outputs": [
    {
     "data": {
      "image/png": "[encoded data removed]",
      "text/plain": [
       "<Figure size 432x288 with 1 Axes>"
      ]
     },
     "metadata": {
      "needs_background": "light"
     },
     "output_type": "display_data"
    }
   ],
   "source": [
    "# You can customize the plot further\n",
    "\n",
    "# Define styling for each boxplot component\n",
    "\n",
    "meanprops = {'marker':'s', 'markeredgecolor':'black', 'markerfacecolor':'firebrick'}\n",
    "medianprops = {'color': 'black', 'linewidth': 2}\n",
    "boxprops = {'color': 'blue', 'linestyle': '-'}\n",
    "whiskerprops = { 'color': 'red', 'linestyle': '-'}\n",
    "capprops = {'color': 'green', 'linestyle': '-'}\n",
    "flierprops = {'color': 'black', 'marker': '.'}\n",
    "\n",
    "fig, ax = plt.subplots()\n",
    "ax.boxplot(data_dict['2019-01-14_124200.144']['VTemand [mL]'].dropna(), \n",
    "    whis = [5, 95], showfliers = False, showmeans = True, meanprops = meanprops,\n",
    "    medianprops=medianprops, boxprops=boxprops, whiskerprops=whiskerprops, \n",
    "    capprops=capprops,flierprops = flierprops);"
   ]
  },
  {
   "cell_type": "code",
   "execution_count": 121,
   "metadata": {},
   "outputs": [
    {
     "data": {
      "image/png": "[encoded data removed]",
      "text/plain": [
       "<Figure size 432x288 with 1 Axes>"
      ]
     },
     "metadata": {
      "needs_background": "light"
     },
     "output_type": "display_data"
    }
   ],
   "source": [
    "# Add more useful customisation\n",
    "meanprops = {'marker':'s', 'markeredgecolor':'black', 'markerfacecolor':'black'}\n",
    "medianprops = {'color': 'black', 'linewidth': 2}\n",
    "boxprops = {'color': 'black', 'linestyle': '-'}\n",
    "whiskerprops = { 'color': 'black', 'linestyle': '-'}\n",
    "capprops = {'color': 'black', 'linestyle': '-'}\n",
    "flierprops = {'color': 'black', 'marker': '.'}\n",
    "\n",
    "fig, ax = plt.subplots()\n",
    "ax.boxplot(data_dict['2019-01-14_124200.144']['VTemand [mL]'].dropna(), \n",
    "    whis = [5, 95], showfliers = False, showmeans = True, meanprops = meanprops,\n",
    "    medianprops=medianprops, boxprops=boxprops, whiskerprops=whiskerprops, \n",
    "    capprops=capprops,flierprops = flierprops);\n",
    "\n",
    "ax.set_xlabel('VTemand')\n",
    "ax.set_ylabel('mL/kg')\n",
    "ax.set_ylim(1.5, 5.5)\n",
    "ax.grid(True)\n",
    "\n",
    "# Further customization is possible"
   ]
  },
  {
   "cell_type": "code",
   "execution_count": 122,
   "metadata": {},
   "outputs": [
    {
     "data": {
      "image/png": "[encoded data removed]",
      "text/plain": [
       "<Figure size 432x288 with 1 Axes>"
      ]
     },
     "metadata": {
      "needs_background": "light"
     },
     "output_type": "display_data"
    }
   ],
   "source": [
    "# How to save the graph\n",
    "\n",
    "dpi = 300\n",
    "filetype = 'jpg'\n",
    "\n",
    "# Add more useful customisation\n",
    "meanprops = {'marker':'s', 'markeredgecolor':'black', 'markerfacecolor':'black'}\n",
    "medianprops = {'color': 'black', 'linewidth': 2}\n",
    "boxprops = {'color': 'black', 'linestyle': '-'}\n",
    "whiskerprops = { 'color': 'black', 'linestyle': '-'}\n",
    "capprops = {'color': 'black', 'linestyle': '-'}\n",
    "flierprops = {'color': 'black', 'marker': '.'}\n",
    "\n",
    "fig, ax = plt.subplots()\n",
    "ax.boxplot(data_dict['2019-01-14_124200.144']['VTemand [mL]'].dropna(), \n",
    "    whis = [5, 95], showfliers = False, showmeans = True, meanprops = meanprops,\n",
    "    medianprops=medianprops, boxprops=boxprops, whiskerprops=whiskerprops, \n",
    "    capprops=capprops,flierprops = flierprops);\n",
    "\n",
    "ax.set_xlabel('VTemand')\n",
    "ax.set_ylabel('mL/kg')\n",
    "ax.set_ylim(1.5, 5.5)\n",
    "\n",
    "fig.savefig(os.path.join('results', f'boxplot_1{filetype}'), dpi = dpi, format = filetype, \n",
    "    bbox_inches='tight',);"
   ]
  },
  {
   "cell_type": "markdown",
   "metadata": {},
   "source": [
    "#### Histograms"
   ]
  },
  {
   "cell_type": "code",
   "execution_count": 138,
   "metadata": {
    "scrolled": true
   },
   "outputs": [
    {
     "data": {
      "image/png": "[encoded data removed]",
      "text/plain": [
       "<Figure size 432x288 with 1 Axes>"
      ]
     },
     "metadata": {
      "needs_background": "light"
     },
     "output_type": "display_data"
    }
   ],
   "source": [
    "# First attempt..\n",
    "\n",
    "fig, ax = plt.subplots()\n",
    "ax.hist(data_dict['2019-01-14_124200.144']['VTemand [mL]']);\n",
    "\n",
    "# You can customize the format further as for boxplots..."
   ]
  },
  {
   "cell_type": "code",
   "execution_count": 139,
   "metadata": {
    "scrolled": true
   },
   "outputs": [
    {
     "data": {
      "image/png": "[encoded data removed]",
      "text/plain": [
       "<Figure size 432x288 with 1 Axes>"
      ]
     },
     "metadata": {
      "needs_background": "light"
     },
     "output_type": "display_data"
    }
   ],
   "source": [
    "# A logarithmic y axis is useful to appreciate the present of outliers\n",
    "\n",
    "fig, ax = plt.subplots()\n",
    "ax.hist(data_dict['2019-01-14_124200.144']['VTemand [mL]'], log= True);"
   ]
  },
  {
   "cell_type": "code",
   "execution_count": 140,
   "metadata": {
    "scrolled": false
   },
   "outputs": [
    {
     "data": {
      "image/png": "[encoded data removed]",
      "text/plain": [
       "<Figure size 432x288 with 1 Axes>"
      ]
     },
     "metadata": {
      "needs_background": "light"
     },
     "output_type": "display_data"
    }
   ],
   "source": [
    "# Use more bins to reveal the actual distribution\n",
    "\n",
    "fig, ax = plt.subplots()\n",
    "ax.hist(data_dict['2019-01-14_124200.144']['VTemand [mL]'], bins = 50);"
   ]
  },
  {
   "cell_type": "code",
   "execution_count": 144,
   "metadata": {},
   "outputs": [
    {
     "data": {
      "image/png": "[encoded data removed]",
      "text/plain": [
       "<Figure size 432x288 with 1 Axes>"
      ]
     },
     "metadata": {
      "needs_background": "light"
     },
     "output_type": "display_data"
    }
   ],
   "source": [
    "# You can define your own bins\n",
    "\n",
    "# imports the numpy package\n",
    "import numpy as np\n",
    "\n",
    "bins = np.arange(0, 10, 0.2)\n",
    "fig, ax = plt.subplots()\n",
    "ax.hist(data_dict['2019-01-14_124200.144']['VTemand [mL]'], bins = bins);"
   ]
  },
  {
   "cell_type": "code",
   "execution_count": 147,
   "metadata": {},
   "outputs": [
    {
     "data": {
      "image/png": "[encoded data removed]",
      "text/plain": [
       "<Figure size 432x288 with 1 Axes>"
      ]
     },
     "metadata": {
      "needs_background": "light"
     },
     "output_type": "display_data"
    }
   ],
   "source": [
    "# You can define your own bins\n",
    "\n",
    "# imports the numpy package\n",
    "import numpy as np\n",
    "\n",
    "bins = np.arange(0, 10, 0.2)\n",
    "fig, ax = plt.subplots()\n",
    "ax.hist(data_dict['2019-01-14_124200.144']['VTemand [mL]'], bins = bins);"
   ]
  },
  {
   "cell_type": "code",
   "execution_count": null,
   "metadata": {},
   "outputs": [],
   "source": [
    "# I would like to show you a different way to produce histograms"
   ]
  },
  {
   "cell_type": "code",
   "execution_count": null,
   "metadata": {
    "scrolled": true
   },
   "outputs": [],
   "source": [
    "VTemand_binned = pd.cut(data_dict['2019-01-14_124200.144']['VTemand [mL]'], bins = 10)\n",
    "VTemand_binned.head(10)"
   ]
  },
  {
   "cell_type": "code",
   "execution_count": null,
   "metadata": {},
   "outputs": [],
   "source": [
    "VTemand_binned.value_counts()"
   ]
  },
  {
   "cell_type": "code",
   "execution_count": null,
   "metadata": {},
   "outputs": [],
   "source": [
    "# Sort according the index, not the values\n",
    "# Also, what one function returns can be passed on to the next function\n",
    "VTemand_binned.value_counts().sort_index()"
   ]
  },
  {
   "cell_type": "code",
   "execution_count": null,
   "metadata": {},
   "outputs": [],
   "source": [
    "# Better but still not what you want\n",
    "VTemand_binned.value_counts().sort_index().plot()"
   ]
  },
  {
   "cell_type": "code",
   "execution_count": null,
   "metadata": {},
   "outputs": [],
   "source": [
    "# Better but still not what you want\n",
    "VTemand_binned.value_counts().sort_index().plot(kind = 'bar')"
   ]
  },
  {
   "cell_type": "code",
   "execution_count": null,
   "metadata": {},
   "outputs": [],
   "source": [
    "plot = VTemand_binned.value_counts().sort_index().plot(kind = 'bar')"
   ]
  },
  {
   "cell_type": "code",
   "execution_count": null,
   "metadata": {},
   "outputs": [],
   "source": [
    "import matplotlib.pyplot as plt\n",
    "\n",
    "plot = VTemand_binned.value_counts().sort_index().plot(kind = 'bar')\n",
    "plt.savefig(fname = os.path.join('results', 'VTemand'))"
   ]
  },
  {
   "cell_type": "code",
   "execution_count": null,
   "metadata": {},
   "outputs": [],
   "source": [
    "import matplotlib.pyplot as plt\n",
    "\n",
    "plot = VTemand_binned.value_counts().sort_index().plot(kind = 'bar', color = 'black', alpha = 0.7, \n",
    "            xlabel = 'VTemand_kg', ylabel = 'number of inflations',)\n",
    "#plt.grid(True)\n",
    "plt.savefig(fname = os.path.join('results', 'VTemand'))"
   ]
  },
  {
   "cell_type": "code",
   "execution_count": null,
   "metadata": {},
   "outputs": [],
   "source": [
    "import matplotlib.pyplot as plt\n",
    "\n",
    "plot = VTemand_binned.value_counts().sort_index().plot(kind = 'bar', color = 'black', alpha = 0.7, \n",
    "            xlabel = 'VTemand_kg', ylabel = 'number of inflations', logy = True)\n",
    "#plt.grid(True)\n",
    "plt.savefig(fname = os.path.join('results', 'VTemand'))"
   ]
  },
  {
   "cell_type": "markdown",
   "metadata": {},
   "source": [
    "##### You need to do this for all relevant columns"
   ]
  },
  {
   "cell_type": "code",
   "execution_count": 148,
   "metadata": {},
   "outputs": [
    {
     "data": {
      "text/plain": [
       "Index(['Time [ms]', 'Rel.Time [s]', 'MVe [L/min]', 'MVi [L/min]',\n",
       "       'Cdyn [L/bar]', 'R [mbar/L/s]', 'MVespon [L/min]', 'Rpat [mbar/L/s]',\n",
       "       'MVemand [L/min]', 'FlowDev [L/min]', 'VTmand [mL]', 'r2 [no unit]',\n",
       "       'VTispon [mL]', 'Pmin [mbar]', 'Pmean [mbar]', 'PEEP [mbar]',\n",
       "       'RRmand [1/min]', 'PIP [mbar]', 'VTmand [L]', 'VTspon [L]',\n",
       "       'VTemand [mL]', 'VTespon [mL]', 'VTimand [mL]', 'VT [mL]', '% leak [%]',\n",
       "       '% MVspon [%]', 'MV [L/min]', 'RRtrig [1/min]', 'RR [1/min]',\n",
       "       'I (I:E) [no unit]', 'E (I:E) [no unit]', 'FiO2 [%]', 'VTspon [mL]',\n",
       "       'E [mbar/L]', 'TC [s]', 'TCe [s]', 'C20/Cdyn [no unit]', 'VTe [mL]',\n",
       "       'VTi [mL]', 'EIP [mbar]', 'MVleak [L/min]', 'RRspon [1/min]',\n",
       "       'MVe [L/min/kg]', 'MVi [L/min/kg]', 'Cdyn [L/bar/kg]',\n",
       "       'MVespon [L/min/kg]', 'MVemand [L/min/kg]', 'VTmand [mL/kg]',\n",
       "       'VTispon [mL/kg]', 'VTmand [L/kg]', 'VTspon [L/kg]', 'VTemand [mL/kg]',\n",
       "       'VTespon [mL/kg]', 'VTimand [mL/kg]', 'VT [mL/kg]', 'MV [L/min/kg]',\n",
       "       'VTspon [mL/kg]', 'VTe [mL/kg]', 'VTi [mL/kg]', 'MVleak [L/min/kg]'],\n",
       "      dtype='object')"
      ]
     },
     "execution_count": 148,
     "metadata": {},
     "output_type": "execute_result"
    }
   ],
   "source": [
    "data_dict['2019-01-14_124200.144'].columns"
   ]
  },
  {
   "cell_type": "code",
   "execution_count": 149,
   "metadata": {},
   "outputs": [
    {
     "data": {
      "text/plain": [
       "['MVe [L/min]',\n",
       " 'MVi [L/min]',\n",
       " 'Cdyn [L/bar]',\n",
       " 'R [mbar/L/s]',\n",
       " 'MVespon [L/min]',\n",
       " 'Rpat [mbar/L/s]',\n",
       " 'MVemand [L/min]',\n",
       " 'FlowDev [L/min]',\n",
       " 'VTmand [mL]',\n",
       " 'r2 [no unit]',\n",
       " 'VTispon [mL]',\n",
       " 'Pmin [mbar]',\n",
       " 'Pmean [mbar]',\n",
       " 'PEEP [mbar]',\n",
       " 'RRmand [1/min]',\n",
       " 'PIP [mbar]',\n",
       " 'VTmand [L]',\n",
       " 'VTspon [L]',\n",
       " 'VTemand [mL]',\n",
       " 'VTespon [mL]',\n",
       " 'VTimand [mL]',\n",
       " 'VT [mL]',\n",
       " '% leak [%]',\n",
       " '% MVspon [%]',\n",
       " 'MV [L/min]',\n",
       " 'RRtrig [1/min]',\n",
       " 'RR [1/min]',\n",
       " 'I (I:E) [no unit]',\n",
       " 'E (I:E) [no unit]',\n",
       " 'FiO2 [%]',\n",
       " 'VTspon [mL]',\n",
       " 'E [mbar/L]',\n",
       " 'TC [s]',\n",
       " 'TCe [s]',\n",
       " 'C20/Cdyn [no unit]',\n",
       " 'VTe [mL]',\n",
       " 'VTi [mL]',\n",
       " 'EIP [mbar]',\n",
       " 'MVleak [L/min]',\n",
       " 'RRspon [1/min]',\n",
       " 'MVe [L/min/kg]',\n",
       " 'MVi [L/min/kg]',\n",
       " 'Cdyn [L/bar/kg]',\n",
       " 'MVespon [L/min/kg]',\n",
       " 'MVemand [L/min/kg]',\n",
       " 'VTmand [mL/kg]',\n",
       " 'VTispon [mL/kg]',\n",
       " 'VTmand [L/kg]',\n",
       " 'VTspon [L/kg]',\n",
       " 'VTemand [mL/kg]',\n",
       " 'VTespon [mL/kg]',\n",
       " 'VTimand [mL/kg]',\n",
       " 'VT [mL/kg]',\n",
       " 'MV [L/min/kg]',\n",
       " 'VTspon [mL/kg]',\n",
       " 'VTe [mL/kg]',\n",
       " 'VTi [mL/kg]',\n",
       " 'MVleak [L/min/kg]']"
      ]
     },
     "execution_count": 149,
     "metadata": {},
     "output_type": "execute_result"
    }
   ],
   "source": [
    "columns_to_plot = [column for column in data_dict['2019-01-14_124200.144'].columns \n",
    "                  if column not in ['Time [ms]', 'Rel.Time [s]']]\n",
    "\n",
    "columns_to_plot"
   ]
  },
  {
   "cell_type": "code",
   "execution_count": 162,
   "metadata": {
    "scrolled": false
   },
   "outputs": [
    {
     "name": "stdout",
     "output_type": "stream",
     "text": [
      "2021-05-07 16:46:04.744637 Working on MVe [L/min]\n",
      "2021-05-07 16:46:05.043009 Working on MVi [L/min]\n",
      "2021-05-07 16:46:05.275939 Working on Cdyn [L/bar]\n",
      "2021-05-07 16:46:05.545401 Working on R [mbar/L/s]\n",
      "2021-05-07 16:46:05.820107 Working on MVespon [L/min]\n",
      "2021-05-07 16:46:06.041764 Working on Rpat [mbar/L/s]\n",
      "2021-05-07 16:46:06.293536 Working on MVemand [L/min]\n",
      "2021-05-07 16:46:06.546665 Working on FlowDev [L/min]\n",
      "2021-05-07 16:46:06.817979 Working on VTmand [mL]\n",
      "2021-05-07 16:46:07.061732 Working on r2 [no unit]\n",
      "2021-05-07 16:46:07.330954 Working on VTispon [mL]\n",
      "2021-05-07 16:46:07.565759 Working on Pmin [mbar]\n",
      "2021-05-07 16:46:07.881314 Working on Pmean [mbar]\n",
      "2021-05-07 16:46:08.113749 Working on PEEP [mbar]\n",
      "2021-05-07 16:46:08.372187 Working on RRmand [1/min]\n",
      "2021-05-07 16:46:08.634950 Working on PIP [mbar]\n",
      "2021-05-07 16:46:08.938573 Working on VTmand [L]\n",
      "2021-05-07 16:46:09.191332 Working on VTspon [L]\n",
      "2021-05-07 16:46:09.441507 Working on VTemand [mL]\n",
      "2021-05-07 16:46:09.729135 Working on VTespon [mL]\n",
      "2021-05-07 16:46:09.978588 Working on VTimand [mL]\n",
      "2021-05-07 16:46:10.236327 Working on VT [mL]\n",
      "2021-05-07 16:46:10.498396 Working on % leak [%]\n",
      "2021-05-07 16:46:10.752036 Working on % MVspon [%]\n",
      "2021-05-07 16:46:11.021677 Working on MV [L/min]\n",
      "2021-05-07 16:46:12.252436 Working on RRtrig [1/min]\n",
      "2021-05-07 16:46:12.505934 Working on RR [1/min]\n",
      "2021-05-07 16:46:12.774806 Working on I (I:E) [no unit]\n",
      "2021-05-07 16:46:13.018795 Working on E (I:E) [no unit]\n",
      "2021-05-07 16:46:13.290289 Working on FiO2 [%]\n",
      "2021-05-07 16:46:13.542830 Working on VTspon [mL]\n",
      "2021-05-07 16:46:13.808337 Working on E [mbar/L]\n",
      "2021-05-07 16:46:14.050623 Working on TC [s]\n",
      "2021-05-07 16:46:14.284637 Working on TCe [s]\n",
      "2021-05-07 16:46:14.533128 Working on C20/Cdyn [no unit]\n"
     ]
    },
    {
     "ename": "FileNotFoundError",
     "evalue": "[Errno 2] No such file or directory: 'results/C20/Cdyn.jpg'",
     "output_type": "error",
     "traceback": [
      "\u001b[0;31m---------------------------------------------------------------------------\u001b[0m",
      "\u001b[0;31mFileNotFoundError\u001b[0m                         Traceback (most recent call last)",
      "\u001b[0;32m<ipython-input-162-9cf7b59408f5>\u001b[0m in \u001b[0;36m<module>\u001b[0;34m\u001b[0m\n\u001b[1;32m     10\u001b[0m     \u001b[0mfname\u001b[0m \u001b[0;34m=\u001b[0m \u001b[0mcolumn\u001b[0m\u001b[0;34m.\u001b[0m\u001b[0msplit\u001b[0m\u001b[0;34m(\u001b[0m\u001b[0;34m' '\u001b[0m\u001b[0;34m)\u001b[0m\u001b[0;34m[\u001b[0m\u001b[0;36m0\u001b[0m\u001b[0;34m]\u001b[0m\u001b[0;34m\u001b[0m\u001b[0;34m\u001b[0m\u001b[0m\n\u001b[1;32m     11\u001b[0m     plt.savefig(fname = os.path.join('results', f'{fname}.{filetype}'), dpi = dpi, format = filetype, \n\u001b[0;32m---> 12\u001b[0;31m     bbox_inches='tight',)\n\u001b[0m\u001b[1;32m     13\u001b[0m     \u001b[0mplt\u001b[0m\u001b[0;34m.\u001b[0m\u001b[0mclose\u001b[0m\u001b[0;34m(\u001b[0m\u001b[0;34m)\u001b[0m\u001b[0;34m\u001b[0m\u001b[0;34m\u001b[0m\u001b[0m\n",
      "\u001b[0;32m~/opt/anaconda3/lib/python3.7/site-packages/matplotlib/pyplot.py\u001b[0m in \u001b[0;36msavefig\u001b[0;34m(*args, **kwargs)\u001b[0m\n\u001b[1;32m    857\u001b[0m \u001b[0;32mdef\u001b[0m \u001b[0msavefig\u001b[0m\u001b[0;34m(\u001b[0m\u001b[0;34m*\u001b[0m\u001b[0margs\u001b[0m\u001b[0;34m,\u001b[0m \u001b[0;34m**\u001b[0m\u001b[0mkwargs\u001b[0m\u001b[0;34m)\u001b[0m\u001b[0;34m:\u001b[0m\u001b[0;34m\u001b[0m\u001b[0;34m\u001b[0m\u001b[0m\n\u001b[1;32m    858\u001b[0m     \u001b[0mfig\u001b[0m \u001b[0;34m=\u001b[0m \u001b[0mgcf\u001b[0m\u001b[0;34m(\u001b[0m\u001b[0;34m)\u001b[0m\u001b[0;34m\u001b[0m\u001b[0;34m\u001b[0m\u001b[0m\n\u001b[0;32m--> 859\u001b[0;31m     \u001b[0mres\u001b[0m \u001b[0;34m=\u001b[0m \u001b[0mfig\u001b[0m\u001b[0;34m.\u001b[0m\u001b[0msavefig\u001b[0m\u001b[0;34m(\u001b[0m\u001b[0;34m*\u001b[0m\u001b[0margs\u001b[0m\u001b[0;34m,\u001b[0m \u001b[0;34m**\u001b[0m\u001b[0mkwargs\u001b[0m\u001b[0;34m)\u001b[0m\u001b[0;34m\u001b[0m\u001b[0;34m\u001b[0m\u001b[0m\n\u001b[0m\u001b[1;32m    860\u001b[0m     \u001b[0mfig\u001b[0m\u001b[0;34m.\u001b[0m\u001b[0mcanvas\u001b[0m\u001b[0;34m.\u001b[0m\u001b[0mdraw_idle\u001b[0m\u001b[0;34m(\u001b[0m\u001b[0;34m)\u001b[0m   \u001b[0;31m# need this if 'transparent=True' to reset colors\u001b[0m\u001b[0;34m\u001b[0m\u001b[0;34m\u001b[0m\u001b[0m\n\u001b[1;32m    861\u001b[0m     \u001b[0;32mreturn\u001b[0m \u001b[0mres\u001b[0m\u001b[0;34m\u001b[0m\u001b[0;34m\u001b[0m\u001b[0m\n",
      "\u001b[0;32m~/opt/anaconda3/lib/python3.7/site-packages/matplotlib/figure.py\u001b[0m in \u001b[0;36msavefig\u001b[0;34m(self, fname, transparent, **kwargs)\u001b[0m\n\u001b[1;32m   2309\u001b[0m                 \u001b[0mpatch\u001b[0m\u001b[0;34m.\u001b[0m\u001b[0mset_edgecolor\u001b[0m\u001b[0;34m(\u001b[0m\u001b[0;34m'none'\u001b[0m\u001b[0;34m)\u001b[0m\u001b[0;34m\u001b[0m\u001b[0;34m\u001b[0m\u001b[0m\n\u001b[1;32m   2310\u001b[0m \u001b[0;34m\u001b[0m\u001b[0m\n\u001b[0;32m-> 2311\u001b[0;31m         \u001b[0mself\u001b[0m\u001b[0;34m.\u001b[0m\u001b[0mcanvas\u001b[0m\u001b[0;34m.\u001b[0m\u001b[0mprint_figure\u001b[0m\u001b[0;34m(\u001b[0m\u001b[0mfname\u001b[0m\u001b[0;34m,\u001b[0m \u001b[0;34m**\u001b[0m\u001b[0mkwargs\u001b[0m\u001b[0;34m)\u001b[0m\u001b[0;34m\u001b[0m\u001b[0;34m\u001b[0m\u001b[0m\n\u001b[0m\u001b[1;32m   2312\u001b[0m \u001b[0;34m\u001b[0m\u001b[0m\n\u001b[1;32m   2313\u001b[0m         \u001b[0;32mif\u001b[0m \u001b[0mtransparent\u001b[0m\u001b[0;34m:\u001b[0m\u001b[0;34m\u001b[0m\u001b[0;34m\u001b[0m\u001b[0m\n",
      "\u001b[0;32m~/opt/anaconda3/lib/python3.7/site-packages/matplotlib/backend_bases.py\u001b[0m in \u001b[0;36mprint_figure\u001b[0;34m(self, filename, dpi, facecolor, edgecolor, orientation, format, bbox_inches, pad_inches, bbox_extra_artists, backend, **kwargs)\u001b[0m\n\u001b[1;32m   2215\u001b[0m                     \u001b[0morientation\u001b[0m\u001b[0;34m=\u001b[0m\u001b[0morientation\u001b[0m\u001b[0;34m,\u001b[0m\u001b[0;34m\u001b[0m\u001b[0;34m\u001b[0m\u001b[0m\n\u001b[1;32m   2216\u001b[0m                     \u001b[0mbbox_inches_restore\u001b[0m\u001b[0;34m=\u001b[0m\u001b[0m_bbox_inches_restore\u001b[0m\u001b[0;34m,\u001b[0m\u001b[0;34m\u001b[0m\u001b[0;34m\u001b[0m\u001b[0m\n\u001b[0;32m-> 2217\u001b[0;31m                     **kwargs)\n\u001b[0m\u001b[1;32m   2218\u001b[0m             \u001b[0;32mfinally\u001b[0m\u001b[0;34m:\u001b[0m\u001b[0;34m\u001b[0m\u001b[0;34m\u001b[0m\u001b[0m\n\u001b[1;32m   2219\u001b[0m                 \u001b[0;32mif\u001b[0m \u001b[0mbbox_inches\u001b[0m \u001b[0;32mand\u001b[0m \u001b[0mrestore_bbox\u001b[0m\u001b[0;34m:\u001b[0m\u001b[0;34m\u001b[0m\u001b[0;34m\u001b[0m\u001b[0m\n",
      "\u001b[0;32m~/opt/anaconda3/lib/python3.7/site-packages/matplotlib/backend_bases.py\u001b[0m in \u001b[0;36mwrapper\u001b[0;34m(*args, **kwargs)\u001b[0m\n\u001b[1;32m   1637\u001b[0m             \u001b[0mkwargs\u001b[0m\u001b[0;34m.\u001b[0m\u001b[0mpop\u001b[0m\u001b[0;34m(\u001b[0m\u001b[0marg\u001b[0m\u001b[0;34m)\u001b[0m\u001b[0;34m\u001b[0m\u001b[0;34m\u001b[0m\u001b[0m\n\u001b[1;32m   1638\u001b[0m \u001b[0;34m\u001b[0m\u001b[0m\n\u001b[0;32m-> 1639\u001b[0;31m         \u001b[0;32mreturn\u001b[0m \u001b[0mfunc\u001b[0m\u001b[0;34m(\u001b[0m\u001b[0;34m*\u001b[0m\u001b[0margs\u001b[0m\u001b[0;34m,\u001b[0m \u001b[0;34m**\u001b[0m\u001b[0mkwargs\u001b[0m\u001b[0;34m)\u001b[0m\u001b[0;34m\u001b[0m\u001b[0;34m\u001b[0m\u001b[0m\n\u001b[0m\u001b[1;32m   1640\u001b[0m \u001b[0;34m\u001b[0m\u001b[0m\n\u001b[1;32m   1641\u001b[0m     \u001b[0;32mreturn\u001b[0m \u001b[0mwrapper\u001b[0m\u001b[0;34m\u001b[0m\u001b[0;34m\u001b[0m\u001b[0m\n",
      "\u001b[0;32m~/opt/anaconda3/lib/python3.7/site-packages/matplotlib/cbook/deprecation.py\u001b[0m in \u001b[0;36mwrapper\u001b[0;34m(*inner_args, **inner_kwargs)\u001b[0m\n\u001b[1;32m    409\u001b[0m                          \u001b[0;32melse\u001b[0m \u001b[0mdeprecation_addendum\u001b[0m\u001b[0;34m,\u001b[0m\u001b[0;34m\u001b[0m\u001b[0;34m\u001b[0m\u001b[0m\n\u001b[1;32m    410\u001b[0m                 **kwargs)\n\u001b[0;32m--> 411\u001b[0;31m         \u001b[0;32mreturn\u001b[0m \u001b[0mfunc\u001b[0m\u001b[0;34m(\u001b[0m\u001b[0;34m*\u001b[0m\u001b[0minner_args\u001b[0m\u001b[0;34m,\u001b[0m \u001b[0;34m**\u001b[0m\u001b[0minner_kwargs\u001b[0m\u001b[0;34m)\u001b[0m\u001b[0;34m\u001b[0m\u001b[0;34m\u001b[0m\u001b[0m\n\u001b[0m\u001b[1;32m    412\u001b[0m \u001b[0;34m\u001b[0m\u001b[0m\n\u001b[1;32m    413\u001b[0m     \u001b[0;32mreturn\u001b[0m \u001b[0mwrapper\u001b[0m\u001b[0;34m\u001b[0m\u001b[0;34m\u001b[0m\u001b[0m\n",
      "\u001b[0;32m~/opt/anaconda3/lib/python3.7/site-packages/matplotlib/cbook/deprecation.py\u001b[0m in \u001b[0;36mwrapper\u001b[0;34m(*inner_args, **inner_kwargs)\u001b[0m\n\u001b[1;32m    409\u001b[0m                          \u001b[0;32melse\u001b[0m \u001b[0mdeprecation_addendum\u001b[0m\u001b[0;34m,\u001b[0m\u001b[0;34m\u001b[0m\u001b[0;34m\u001b[0m\u001b[0m\n\u001b[1;32m    410\u001b[0m                 **kwargs)\n\u001b[0;32m--> 411\u001b[0;31m         \u001b[0;32mreturn\u001b[0m \u001b[0mfunc\u001b[0m\u001b[0;34m(\u001b[0m\u001b[0;34m*\u001b[0m\u001b[0minner_args\u001b[0m\u001b[0;34m,\u001b[0m \u001b[0;34m**\u001b[0m\u001b[0minner_kwargs\u001b[0m\u001b[0;34m)\u001b[0m\u001b[0;34m\u001b[0m\u001b[0;34m\u001b[0m\u001b[0m\n\u001b[0m\u001b[1;32m    412\u001b[0m \u001b[0;34m\u001b[0m\u001b[0m\n\u001b[1;32m    413\u001b[0m     \u001b[0;32mreturn\u001b[0m \u001b[0mwrapper\u001b[0m\u001b[0;34m\u001b[0m\u001b[0;34m\u001b[0m\u001b[0m\n",
      "\u001b[0;32m~/opt/anaconda3/lib/python3.7/site-packages/matplotlib/cbook/deprecation.py\u001b[0m in \u001b[0;36mwrapper\u001b[0;34m(*inner_args, **inner_kwargs)\u001b[0m\n\u001b[1;32m    409\u001b[0m                          \u001b[0;32melse\u001b[0m \u001b[0mdeprecation_addendum\u001b[0m\u001b[0;34m,\u001b[0m\u001b[0;34m\u001b[0m\u001b[0;34m\u001b[0m\u001b[0m\n\u001b[1;32m    410\u001b[0m                 **kwargs)\n\u001b[0;32m--> 411\u001b[0;31m         \u001b[0;32mreturn\u001b[0m \u001b[0mfunc\u001b[0m\u001b[0;34m(\u001b[0m\u001b[0;34m*\u001b[0m\u001b[0minner_args\u001b[0m\u001b[0;34m,\u001b[0m \u001b[0;34m**\u001b[0m\u001b[0minner_kwargs\u001b[0m\u001b[0;34m)\u001b[0m\u001b[0;34m\u001b[0m\u001b[0;34m\u001b[0m\u001b[0m\n\u001b[0m\u001b[1;32m    412\u001b[0m \u001b[0;34m\u001b[0m\u001b[0m\n\u001b[1;32m    413\u001b[0m     \u001b[0;32mreturn\u001b[0m \u001b[0mwrapper\u001b[0m\u001b[0;34m\u001b[0m\u001b[0;34m\u001b[0m\u001b[0m\n",
      "\u001b[0;32m~/opt/anaconda3/lib/python3.7/site-packages/matplotlib/cbook/deprecation.py\u001b[0m in \u001b[0;36mwrapper\u001b[0;34m(*inner_args, **inner_kwargs)\u001b[0m\n\u001b[1;32m    409\u001b[0m                          \u001b[0;32melse\u001b[0m \u001b[0mdeprecation_addendum\u001b[0m\u001b[0;34m,\u001b[0m\u001b[0;34m\u001b[0m\u001b[0;34m\u001b[0m\u001b[0m\n\u001b[1;32m    410\u001b[0m                 **kwargs)\n\u001b[0;32m--> 411\u001b[0;31m         \u001b[0;32mreturn\u001b[0m \u001b[0mfunc\u001b[0m\u001b[0;34m(\u001b[0m\u001b[0;34m*\u001b[0m\u001b[0minner_args\u001b[0m\u001b[0;34m,\u001b[0m \u001b[0;34m**\u001b[0m\u001b[0minner_kwargs\u001b[0m\u001b[0;34m)\u001b[0m\u001b[0;34m\u001b[0m\u001b[0;34m\u001b[0m\u001b[0m\n\u001b[0m\u001b[1;32m    412\u001b[0m \u001b[0;34m\u001b[0m\u001b[0m\n\u001b[1;32m    413\u001b[0m     \u001b[0;32mreturn\u001b[0m \u001b[0mwrapper\u001b[0m\u001b[0;34m\u001b[0m\u001b[0;34m\u001b[0m\u001b[0m\n",
      "\u001b[0;32m~/opt/anaconda3/lib/python3.7/site-packages/matplotlib/backends/backend_agg.py\u001b[0m in \u001b[0;36mprint_jpg\u001b[0;34m(self, filename_or_obj, dryrun, pil_kwargs, *args, **kwargs)\u001b[0m\n\u001b[1;32m    591\u001b[0m         \u001b[0;31m# Drop alpha channel now.\u001b[0m\u001b[0;34m\u001b[0m\u001b[0;34m\u001b[0m\u001b[0;34m\u001b[0m\u001b[0m\n\u001b[1;32m    592\u001b[0m         return (Image.fromarray(np.asarray(self.buffer_rgba())[..., :3])\n\u001b[0;32m--> 593\u001b[0;31m                 .save(filename_or_obj, format='jpeg', **pil_kwargs))\n\u001b[0m\u001b[1;32m    594\u001b[0m \u001b[0;34m\u001b[0m\u001b[0m\n\u001b[1;32m    595\u001b[0m     \u001b[0mprint_jpeg\u001b[0m \u001b[0;34m=\u001b[0m \u001b[0mprint_jpg\u001b[0m\u001b[0;34m\u001b[0m\u001b[0;34m\u001b[0m\u001b[0m\n",
      "\u001b[0;32m~/opt/anaconda3/lib/python3.7/site-packages/PIL/Image.py\u001b[0m in \u001b[0;36msave\u001b[0;34m(self, fp, format, **params)\u001b[0m\n\u001b[1;32m   2146\u001b[0m                 \u001b[0mfp\u001b[0m \u001b[0;34m=\u001b[0m \u001b[0mbuiltins\u001b[0m\u001b[0;34m.\u001b[0m\u001b[0mopen\u001b[0m\u001b[0;34m(\u001b[0m\u001b[0mfilename\u001b[0m\u001b[0;34m,\u001b[0m \u001b[0;34m\"r+b\"\u001b[0m\u001b[0;34m)\u001b[0m\u001b[0;34m\u001b[0m\u001b[0;34m\u001b[0m\u001b[0m\n\u001b[1;32m   2147\u001b[0m             \u001b[0;32melse\u001b[0m\u001b[0;34m:\u001b[0m\u001b[0;34m\u001b[0m\u001b[0;34m\u001b[0m\u001b[0m\n\u001b[0;32m-> 2148\u001b[0;31m                 \u001b[0mfp\u001b[0m \u001b[0;34m=\u001b[0m \u001b[0mbuiltins\u001b[0m\u001b[0;34m.\u001b[0m\u001b[0mopen\u001b[0m\u001b[0;34m(\u001b[0m\u001b[0mfilename\u001b[0m\u001b[0;34m,\u001b[0m \u001b[0;34m\"w+b\"\u001b[0m\u001b[0;34m)\u001b[0m\u001b[0;34m\u001b[0m\u001b[0;34m\u001b[0m\u001b[0m\n\u001b[0m\u001b[1;32m   2149\u001b[0m \u001b[0;34m\u001b[0m\u001b[0m\n\u001b[1;32m   2150\u001b[0m         \u001b[0;32mtry\u001b[0m\u001b[0;34m:\u001b[0m\u001b[0;34m\u001b[0m\u001b[0;34m\u001b[0m\u001b[0m\n",
      "\u001b[0;31mFileNotFoundError\u001b[0m: [Errno 2] No such file or directory: 'results/C20/Cdyn.jpg'"
     ]
    },
    {
     "data": {
      "image/png": "[encoded data removed]",
      "text/plain": [
       "<Figure size 432x288 with 1 Axes>"
      ]
     },
     "metadata": {
      "needs_background": "light"
     },
     "output_type": "display_data"
    }
   ],
   "source": [
    "dpi = 300\n",
    "filetype\n",
    "\n",
    "for column in columns_to_plot:\n",
    "    print(datetime.datetime.now(), f'Working on {column}')\n",
    "    \n",
    "    fig, ax = plt.subplots()\n",
    "    ax.hist(data_dict['2019-01-14_124200.144'][column], bins = 50)\n",
    "    \n",
    "    fname = column.split(' ')[0]\n",
    "    plt.savefig(fname = os.path.join('results', f'{fname}.{filetype}'), dpi = dpi, format = filetype, \n",
    "    bbox_inches='tight',)\n",
    "    plt.close()"
   ]
  },
  {
   "cell_type": "code",
   "execution_count": 163,
   "metadata": {
    "scrolled": false
   },
   "outputs": [
    {
     "name": "stdout",
     "output_type": "stream",
     "text": [
      "2021-05-07 16:46:19.020051 Working on MVe [L/min]\n",
      "2021-05-07 16:46:19.360689 Working on MVi [L/min]\n",
      "2021-05-07 16:46:19.628141 Working on Cdyn [L/bar]\n",
      "2021-05-07 16:46:19.913359 Working on R [mbar/L/s]\n",
      "2021-05-07 16:46:20.220113 Working on MVespon [L/min]\n",
      "2021-05-07 16:46:20.778737 Working on Rpat [mbar/L/s]\n",
      "2021-05-07 16:46:21.075537 Working on MVemand [L/min]\n",
      "2021-05-07 16:46:21.376278 Working on FlowDev [L/min]\n",
      "2021-05-07 16:46:21.668910 Working on VTmand [mL]\n",
      "2021-05-07 16:46:21.958803 Working on r2 [no unit]\n",
      "2021-05-07 16:46:22.270588 Working on VTispon [mL]\n",
      "2021-05-07 16:46:22.548991 Working on Pmin [mbar]\n",
      "2021-05-07 16:46:22.833310 Working on Pmean [mbar]\n",
      "2021-05-07 16:46:23.116213 Working on PEEP [mbar]\n",
      "2021-05-07 16:46:23.552419 Working on RRmand [1/min]\n",
      "2021-05-07 16:46:23.821480 Working on PIP [mbar]\n",
      "2021-05-07 16:46:24.129788 Working on VTmand [L]\n",
      "2021-05-07 16:46:24.436325 Working on VTspon [L]\n",
      "2021-05-07 16:46:24.713365 Working on VTemand [mL]\n",
      "2021-05-07 16:46:25.015821 Working on VTespon [mL]\n"
     ]
    },
    {
     "name": "stderr",
     "output_type": "stream",
     "text": [
      "/Users/guszti/opt/anaconda3/lib/python3.7/site-packages/ipykernel_launcher.py:7: RuntimeWarning: More than 20 figures have been opened. Figures created through the pyplot interface (`matplotlib.pyplot.figure`) are retained until explicitly closed and may consume too much memory. (To control this warning, see the rcParam `figure.max_open_warning`).\n",
      "  import sys\n"
     ]
    },
    {
     "name": "stdout",
     "output_type": "stream",
     "text": [
      "2021-05-07 16:46:25.325247 Working on VTimand [mL]\n"
     ]
    },
    {
     "name": "stderr",
     "output_type": "stream",
     "text": [
      "/Users/guszti/opt/anaconda3/lib/python3.7/site-packages/ipykernel_launcher.py:4: RuntimeWarning: More than 20 figures have been opened. Figures created through the pyplot interface (`matplotlib.pyplot.figure`) are retained until explicitly closed and may consume too much memory. (To control this warning, see the rcParam `figure.max_open_warning`).\n",
      "  after removing the cwd from sys.path.\n"
     ]
    },
    {
     "name": "stdout",
     "output_type": "stream",
     "text": [
      "2021-05-07 16:46:25.660751 Working on VT [mL]\n",
      "2021-05-07 16:46:25.969447 Working on % leak [%]\n",
      "2021-05-07 16:46:26.305172 Working on % MVspon [%]\n",
      "2021-05-07 16:46:26.648506 Working on MV [L/min]\n",
      "2021-05-07 16:46:27.179274 Working on RRtrig [1/min]\n",
      "2021-05-07 16:46:27.482561 Working on RR [1/min]\n",
      "2021-05-07 16:46:27.743869 Working on I (I:E) [no unit]\n",
      "2021-05-07 16:46:28.002241 Working on E (I:E) [no unit]\n",
      "2021-05-07 16:46:28.301145 Working on FiO2 [%]\n",
      "2021-05-07 16:46:28.571328 Working on VTspon [mL]\n",
      "2021-05-07 16:46:28.833928 Working on E [mbar/L]\n",
      "2021-05-07 16:46:29.104084 Working on TC [s]\n",
      "2021-05-07 16:46:29.400158 Working on TCe [s]\n",
      "2021-05-07 16:46:29.672705 Working on C20/Cdyn [no unit]\n",
      "2021-05-07 16:46:29.936250 Working on VTe [mL]\n",
      "2021-05-07 16:46:30.247847 Working on VTi [mL]\n",
      "2021-05-07 16:46:30.534345 Working on EIP [mbar]\n",
      "2021-05-07 16:46:30.818982 Working on MVleak [L/min]\n",
      "2021-05-07 16:46:31.381464 Working on RRspon [1/min]\n",
      "2021-05-07 16:46:31.692708 Working on MVe [L/min/kg]\n",
      "2021-05-07 16:46:31.959860 Working on MVi [L/min/kg]\n",
      "2021-05-07 16:46:32.245990 Working on Cdyn [L/bar/kg]\n",
      "2021-05-07 16:46:32.545065 Working on MVespon [L/min/kg]\n",
      "2021-05-07 16:46:32.805520 Working on MVemand [L/min/kg]\n",
      "2021-05-07 16:46:33.068195 Working on VTmand [mL/kg]\n",
      "2021-05-07 16:46:33.381787 Working on VTispon [mL/kg]\n",
      "2021-05-07 16:46:33.663343 Working on VTmand [L/kg]\n",
      "2021-05-07 16:46:33.931921 Working on VTspon [L/kg]\n",
      "2021-05-07 16:46:34.226782 Working on VTemand [mL/kg]\n",
      "2021-05-07 16:46:34.522085 Working on VTespon [mL/kg]\n",
      "2021-05-07 16:46:34.802999 Working on VTimand [mL/kg]\n",
      "2021-05-07 16:46:35.073381 Working on VT [mL/kg]\n",
      "2021-05-07 16:46:35.386826 Working on MV [L/min/kg]\n",
      "2021-05-07 16:46:35.653265 Working on VTspon [mL/kg]\n",
      "2021-05-07 16:46:36.284191 Working on VTe [mL/kg]\n",
      "2021-05-07 16:46:36.568875 Working on VTi [mL/kg]\n",
      "2021-05-07 16:46:36.842146 Working on MVleak [L/min/kg]\n"
     ]
    },
    {
     "data": {
      "image/png": "[encoded data removed]",
      "text/plain": [
       "<Figure size 432x288 with 1 Axes>"
      ]
     },
     "metadata": {
      "needs_background": "light"
     },
     "output_type": "display_data"
    },
    {
     "data": {
      "image/png": "[encoded data removed]",
      "text/plain": [
       "<Figure size 432x288 with 1 Axes>"
      ]
     },
     "metadata": {
      "needs_background": "light"
     },
     "output_type": "display_data"
    },
    {
     "data": {
      "image/png": "[encoded data removed]",
      "text/plain": [
       "<Figure size 432x288 with 1 Axes>"
      ]
     },
     "metadata": {
      "needs_background": "light"
     },
     "output_type": "display_data"
    },
    {
     "data": {
      "image/png": "[encoded data removed]",
      "text/plain": [
       "<Figure size 432x288 with 1 Axes>"
      ]
     },
     "metadata": {
      "needs_background": "light"
     },
     "output_type": "display_data"
    },
    {
     "data": {
      "image/png": "[encoded data removed]",
      "text/plain": [
       "<Figure size 432x288 with 1 Axes>"
      ]
     },
     "metadata": {
      "needs_background": "light"
     },
     "output_type": "display_data"
    },
    {
     "data": {
      "image/png": "[encoded data removed]",
      "text/plain": [
       "<Figure size 432x288 with 1 Axes>"
      ]
     },
     "metadata": {
      "needs_background": "light"
     },
     "output_type": "display_data"
    },
    {
     "data": {
      "image/png": "[encoded data removed]",
      "text/plain": [
       "<Figure size 432x288 with 1 Axes>"
      ]
     },
     "metadata": {
      "needs_background": "light"
     },
     "output_type": "display_data"
    },
    {
     "data": {
      "image/png": "[encoded data removed]",
      "text/plain": [
       "<Figure size 432x288 with 1 Axes>"
      ]
     },
     "metadata": {
      "needs_background": "light"
     },
     "output_type": "display_data"
    },
    {
     "data": {
      "image/png": "[encoded data removed]",
      "text/plain": [
       "<Figure size 432x288 with 1 Axes>"
      ]
     },
     "metadata": {
      "needs_background": "light"
     },
     "output_type": "display_data"
    },
    {
     "data": {
      "image/png": "[encoded data removed]",
      "text/plain": [
       "<Figure size 432x288 with 1 Axes>"
      ]
     },
     "metadata": {
      "needs_background": "light"
     },
     "output_type": "display_data"
    },
    {
     "data": {
      "image/png": "[encoded data removed]",
      "text/plain": [
       "<Figure size 432x288 with 1 Axes>"
      ]
     },
     "metadata": {
      "needs_background": "light"
     },
     "output_type": "display_data"
    },
    {
     "data": {
      "image/png": "[encoded data removed]",
      "text/plain": [
       "<Figure size 432x288 with 1 Axes>"
      ]
     },
     "metadata": {
      "needs_background": "light"
     },
     "output_type": "display_data"
    },
    {
     "data": {
      "image/png": "[encoded data removed]",
      "text/plain": [
       "<Figure size 432x288 with 1 Axes>"
      ]
     },
     "metadata": {
      "needs_background": "light"
     },
     "output_type": "display_data"
    },
    {
     "data": {
      "image/png": "[encoded data removed]",
      "text/plain": [
       "<Figure size 432x288 with 1 Axes>"
      ]
     },
     "metadata": {
      "needs_background": "light"
     },
     "output_type": "display_data"
    },
    {
     "data": {
      "image/png": "[encoded data removed]",
      "text/plain": [
       "<Figure size 432x288 with 1 Axes>"
      ]
     },
     "metadata": {
      "needs_background": "light"
     },
     "output_type": "display_data"
    },
    {
     "data": {
      "image/png": "[encoded data removed]",
      "text/plain": [
       "<Figure size 432x288 with 1 Axes>"
      ]
     },
     "metadata": {
      "needs_background": "light"
     },
     "output_type": "display_data"
    },
    {
     "data": {
      "image/png": "[encoded data removed]",
      "text/plain": [
       "<Figure size 432x288 with 1 Axes>"
      ]
     },
     "metadata": {
      "needs_background": "light"
     },
     "output_type": "display_data"
    },
    {
     "data": {
      "image/png": "[encoded data removed]",
      "text/plain": [
       "<Figure size 432x288 with 1 Axes>"
      ]
     },
     "metadata": {
      "needs_background": "light"
     },
     "output_type": "display_data"
    },
    {
     "data": {
      "image/png": "[encoded data removed]",
      "text/plain": [
       "<Figure size 432x288 with 1 Axes>"
      ]
     },
     "metadata": {
      "needs_background": "light"
     },
     "output_type": "display_data"
    },
    {
     "data": {
      "image/png": "[encoded data removed]",
      "text/plain": [
       "<Figure size 432x288 with 1 Axes>"
      ]
     },
     "metadata": {
      "needs_background": "light"
     },
     "output_type": "display_data"
    },
    {
     "data": {
      "image/png": "[encoded data removed]",
      "text/plain": [
       "<Figure size 432x288 with 1 Axes>"
      ]
     },
     "metadata": {
      "needs_background": "light"
     },
     "output_type": "display_data"
    },
    {
     "data": {
      "image/png": "[encoded data removed]",
      "text/plain": [
       "<Figure size 432x288 with 1 Axes>"
      ]
     },
     "metadata": {
      "needs_background": "light"
     },
     "output_type": "display_data"
    },
    {
     "data": {
      "image/png": "[encoded data removed]",
      "text/plain": [
       "<Figure size 432x288 with 1 Axes>"
      ]
     },
     "metadata": {
      "needs_background": "light"
     },
     "output_type": "display_data"
    },
    {
     "data": {
      "image/png": "[encoded data removed]",
      "text/plain": [
       "<Figure size 432x288 with 1 Axes>"
      ]
     },
     "metadata": {
      "needs_background": "light"
     },
     "output_type": "display_data"
    },
    {
     "data": {
      "image/png": "[encoded data removed]",
      "text/plain": [
       "<Figure size 432x288 with 1 Axes>"
      ]
     },
     "metadata": {
      "needs_background": "light"
     },
     "output_type": "display_data"
    },
    {
     "data": {
      "image/png": "[encoded data removed]",
      "text/plain": [
       "<Figure size 432x288 with 1 Axes>"
      ]
     },
     "metadata": {
      "needs_background": "light"
     },
     "output_type": "display_data"
    },
    {
     "data": {
      "image/png": "[encoded data removed]",
      "text/plain": [
       "<Figure size 432x288 with 1 Axes>"
      ]
     },
     "metadata": {
      "needs_background": "light"
     },
     "output_type": "display_data"
    },
    {
     "data": {
      "image/png": "[encoded data removed]",
      "text/plain": [
       "<Figure size 432x288 with 1 Axes>"
      ]
     },
     "metadata": {
      "needs_background": "light"
     },
     "output_type": "display_data"
    },
    {
     "data": {
      "image/png": "[encoded data removed]",
      "text/plain": [
       "<Figure size 432x288 with 1 Axes>"
      ]
     },
     "metadata": {
      "needs_background": "light"
     },
     "output_type": "display_data"
    },
    {
     "data": {
      "image/png": "[encoded data removed]",
      "text/plain": [
       "<Figure size 432x288 with 1 Axes>"
      ]
     },
     "metadata": {
      "needs_background": "light"
     },
     "output_type": "display_data"
    },
    {
     "data": {
      "image/png": "[encoded data removed]",
      "text/plain": [
       "<Figure size 432x288 with 1 Axes>"
      ]
     },
     "metadata": {
      "needs_background": "light"
     },
     "output_type": "display_data"
    },
    {
     "data": {
      "image/png": "[encoded data removed]",
      "text/plain": [
       "<Figure size 432x288 with 1 Axes>"
      ]
     },
     "metadata": {
      "needs_background": "light"
     },
     "output_type": "display_data"
    },
    {
     "data": {
      "image/png": "[encoded data removed]",
      "text/plain": [
       "<Figure size 432x288 with 1 Axes>"
      ]
     },
     "metadata": {
      "needs_background": "light"
     },
     "output_type": "display_data"
    },
    {
     "data": {
      "image/png": "[encoded data removed]",
      "text/plain": [
       "<Figure size 432x288 with 1 Axes>"
      ]
     },
     "metadata": {
      "needs_background": "light"
     },
     "output_type": "display_data"
    },
    {
     "data": {
      "image/png": "[encoded data removed]",
      "text/plain": [
       "<Figure size 432x288 with 1 Axes>"
      ]
     },
     "metadata": {
      "needs_background": "light"
     },
     "output_type": "display_data"
    },
    {
     "data": {
      "image/png": "[encoded data removed]",
      "text/plain": [
       "<Figure size 432x288 with 1 Axes>"
      ]
     },
     "metadata": {
      "needs_background": "light"
     },
     "output_type": "display_data"
    },
    {
     "data": {
      "image/png": "[encoded data removed]",
      "text/plain": [
       "<Figure size 432x288 with 1 Axes>"
      ]
     },
     "metadata": {
      "needs_background": "light"
     },
     "output_type": "display_data"
    },
    {
     "data": {
      "image/png": "[encoded data removed]",
      "text/plain": [
       "<Figure size 432x288 with 1 Axes>"
      ]
     },
     "metadata": {
      "needs_background": "light"
     },
     "output_type": "display_data"
    },
    {
     "data": {
      "image/png": "[encoded data removed]",
      "text/plain": [
       "<Figure size 432x288 with 1 Axes>"
      ]
     },
     "metadata": {
      "needs_background": "light"
     },
     "output_type": "display_data"
    },
    {
     "data": {
      "image/png": "[encoded data removed]",
      "text/plain": [
       "<Figure size 432x288 with 1 Axes>"
      ]
     },
     "metadata": {
      "needs_background": "light"
     },
     "output_type": "display_data"
    },
    {
     "data": {
      "image/png": "[encoded data removed]",
      "text/plain": [
       "<Figure size 432x288 with 1 Axes>"
      ]
     },
     "metadata": {
      "needs_background": "light"
     },
     "output_type": "display_data"
    },
    {
     "data": {
      "image/png": "[encoded data removed]",
      "text/plain": [
       "<Figure size 432x288 with 1 Axes>"
      ]
     },
     "metadata": {
      "needs_background": "light"
     },
     "output_type": "display_data"
    },
    {
     "data": {
      "image/png": "[encoded data removed]",
      "text/plain": [
       "<Figure size 432x288 with 1 Axes>"
      ]
     },
     "metadata": {
      "needs_background": "light"
     },
     "output_type": "display_data"
    },
    {
     "data": {
      "image/png": "[encoded data removed]",
      "text/plain": [
       "<Figure size 432x288 with 1 Axes>"
      ]
     },
     "metadata": {
      "needs_background": "light"
     },
     "output_type": "display_data"
    },
    {
     "data": {
      "image/png": "[encoded data removed]",
      "text/plain": [
       "<Figure size 432x288 with 1 Axes>"
      ]
     },
     "metadata": {
      "needs_background": "light"
     },
     "output_type": "display_data"
    },
    {
     "data": {
      "image/png": "[encoded data removed]",
      "text/plain": [
       "<Figure size 432x288 with 1 Axes>"
      ]
     },
     "metadata": {
      "needs_background": "light"
     },
     "output_type": "display_data"
    },
    {
     "data": {
      "image/png": "[encoded data removed]",
      "text/plain": [
       "<Figure size 432x288 with 1 Axes>"
      ]
     },
     "metadata": {
      "needs_background": "light"
     },
     "output_type": "display_data"
    },
    {
     "data": {
      "image/png": "[encoded data removed]",
      "text/plain": [
       "<Figure size 432x288 with 1 Axes>"
      ]
     },
     "metadata": {
      "needs_background": "light"
     },
     "output_type": "display_data"
    },
    {
     "data": {
      "image/png": "[encoded data removed]",
      "text/plain": [
       "<Figure size 432x288 with 1 Axes>"
      ]
     },
     "metadata": {
      "needs_background": "light"
     },
     "output_type": "display_data"
    },
    {
     "data": {
      "image/png": "[encoded data removed]",
      "text/plain": [
       "<Figure size 432x288 with 1 Axes>"
      ]
     },
     "metadata": {
      "needs_background": "light"
     },
     "output_type": "display_data"
    },
    {
     "data": {
      "image/png": "[encoded data removed]",
      "text/plain": [
       "<Figure size 432x288 with 1 Axes>"
      ]
     },
     "metadata": {
      "needs_background": "light"
     },
     "output_type": "display_data"
    },
    {
     "data": {
      "image/png": "[encoded data removed]",
      "text/plain": [
       "<Figure size 432x288 with 1 Axes>"
      ]
     },
     "metadata": {
      "needs_background": "light"
     },
     "output_type": "display_data"
    },
    {
     "data": {
      "image/png": "[encoded data removed]",
      "text/plain": [
       "<Figure size 432x288 with 1 Axes>"
      ]
     },
     "metadata": {
      "needs_background": "light"
     },
     "output_type": "display_data"
    },
    {
     "data": {
      "image/png": "[encoded data removed]",
      "text/plain": [
       "<Figure size 432x288 with 1 Axes>"
      ]
     },
     "metadata": {
      "needs_background": "light"
     },
     "output_type": "display_data"
    },
    {
     "data": {
      "image/png": "[encoded data removed]",
      "text/plain": [
       "<Figure size 432x288 with 1 Axes>"
      ]
     },
     "metadata": {
      "needs_background": "light"
     },
     "output_type": "display_data"
    },
    {
     "data": {
      "image/png": "[encoded data removed]",
      "text/plain": [
       "<Figure size 432x288 with 1 Axes>"
      ]
     },
     "metadata": {
      "needs_background": "light"
     },
     "output_type": "display_data"
    },
    {
     "data": {
      "image/png": "[encoded data removed]",
      "text/plain": [
       "<Figure size 432x288 with 1 Axes>"
      ]
     },
     "metadata": {
      "needs_background": "light"
     },
     "output_type": "display_data"
    },
    {
     "data": {
      "image/png": "[encoded data removed]",
      "text/plain": [
       "<Figure size 432x288 with 1 Axes>"
      ]
     },
     "metadata": {
      "needs_background": "light"
     },
     "output_type": "display_data"
    }
   ],
   "source": [
    "for column in columns_to_plot:\n",
    "    print(datetime.datetime.now(), f'Working on {column}')\n",
    "    \n",
    "    fig, ax = plt.subplots()\n",
    "    ax.hist(data_dict['2019-01-14_124200.144']['VTemand [mL]'], bins = 50)\n",
    "    \n",
    "    fig, ax = plt.subplots()\n",
    "    ax.hist(data_dict['2019-01-14_124200.144'][column], bins = 50)\n",
    "    \n",
    "    if column == 'C20/Cdyn [no unit]':\n",
    "        fname = 'C20_Cdyn'\n",
    "    else:\n",
    "        fname = column.split(' ')[0]\n",
    "    \n",
    "    plt.savefig(fname = os.path.join('results', f'{fname}.{filetype}'), dpi = dpi, format = filetype, \n",
    "    bbox_inches='tight')\n",
    "    plt.close()"
   ]
  },
  {
   "cell_type": "code",
   "execution_count": null,
   "metadata": {},
   "outputs": [],
   "source": []
  }
 ],
 "metadata": {
  "anaconda-cloud": {},
  "kernelspec": {
   "display_name": "Python 3",
   "language": "python",
   "name": "python3"
  },
  "language_info": {
   "codemirror_mode": {
    "name": "ipython",
    "version": 3
   },
   "file_extension": ".py",
   "mimetype": "text/x-python",
   "name": "python",
   "nbconvert_exporter": "python",
   "pygments_lexer": "ipython3",
   "version": "3.7.9"
  }
 },
 "nbformat": 4,
 "nbformat_minor": 2
}
