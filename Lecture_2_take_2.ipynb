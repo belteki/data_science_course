{
 "cells": [
  {
   "cell_type": "markdown",
   "metadata": {},
   "source": [
    "![alt text](./pageheader_rose2_babies.jpg)"
   ]
  },
  {
   "cell_type": "markdown",
   "metadata": {},
   "source": [
    "# Data Science in Medicine using Python\n",
    "\n",
    "### Author: Dr Gusztav Belteki"
   ]
  },
  {
   "cell_type": "markdown",
   "metadata": {},
   "source": [
    "## 1. Precedence of arithmetical operators"
   ]
  },
  {
   "cell_type": "code",
   "execution_count": 1,
   "metadata": {
    "scrolled": true
   },
   "outputs": [
    {
     "data": {
      "text/plain": [
       "(20.0, 20.0)"
      ]
     },
     "execution_count": 1,
     "metadata": {},
     "output_type": "execute_result"
    }
   ],
   "source": [
    "# This is a comment. Even when it is in a code cell, it will not be executed\n",
    "\n",
    "# Addition and subtraction are of equal priority so they will be done sequentially but actually it does not matter. \n",
    "# Note the decimal point. Division always returns a floating point number even if the decimal is zero.\n",
    "\n",
    "10 * 10 / 5, 10 * (10 / 5)"
   ]
  },
  {
   "cell_type": "code",
   "execution_count": 2,
   "metadata": {},
   "outputs": [
    {
     "data": {
      "text/plain": [
       "(int, float)"
      ]
     },
     "execution_count": 2,
     "metadata": {},
     "output_type": "execute_result"
    }
   ],
   "source": [
    "type(20), type (20.0)"
   ]
  },
  {
   "cell_type": "code",
   "execution_count": 3,
   "metadata": {},
   "outputs": [
    {
     "data": {
      "text/plain": [
       "2.0"
      ]
     },
     "execution_count": 3,
     "metadata": {},
     "output_type": "execute_result"
    }
   ],
   "source": [
    "# Division takes priority over addition - as in maths\n",
    "\n",
    "(10 + 10) / 10"
   ]
  },
  {
   "cell_type": "code",
   "execution_count": 4,
   "metadata": {},
   "outputs": [
    {
     "data": {
      "text/plain": [
       "7"
      ]
     },
     "execution_count": 4,
     "metadata": {},
     "output_type": "execute_result"
    }
   ],
   "source": [
    "# This is integer division\n",
    "\n",
    "15 // 2"
   ]
  },
  {
   "cell_type": "code",
   "execution_count": 5,
   "metadata": {},
   "outputs": [
    {
     "data": {
      "text/plain": [
       "3"
      ]
     },
     "execution_count": 5,
     "metadata": {},
     "output_type": "execute_result"
    }
   ],
   "source": [
    "# Modulo operator, returning the remainder after the division\n",
    "\n",
    "15 % 4"
   ]
  },
  {
   "cell_type": "markdown",
   "metadata": {},
   "source": [
    "- `int` returns the ingeters part = always rounding down\n",
    "- for `round` one can provide the nummber of digits as an argument\n",
    "\n"
   ]
  },
  {
   "cell_type": "code",
   "execution_count": 6,
   "metadata": {},
   "outputs": [
    {
     "data": {
      "text/plain": [
       "(16, 17, 16.864)"
      ]
     },
     "execution_count": 6,
     "metadata": {},
     "output_type": "execute_result"
    }
   ],
   "source": [
    "int(16.864295), round(16.864295), round(16.864295, 3)"
   ]
  },
  {
   "cell_type": "markdown",
   "metadata": {},
   "source": [
    "## 2. What is `True` and what is `False` ?"
   ]
  },
  {
   "cell_type": "markdown",
   "metadata": {},
   "source": [
    "#### Rules\n",
    "\n",
    "1. True is `True` and False is `False`"
   ]
  },
  {
   "cell_type": "code",
   "execution_count": 7,
   "metadata": {},
   "outputs": [
    {
     "data": {
      "text/plain": [
       "True"
      ]
     },
     "execution_count": 7,
     "metadata": {},
     "output_type": "execute_result"
    }
   ],
   "source": [
    "True"
   ]
  },
  {
   "cell_type": "code",
   "execution_count": 8,
   "metadata": {},
   "outputs": [
    {
     "data": {
      "text/plain": [
       "False"
      ]
     },
     "execution_count": 8,
     "metadata": {},
     "output_type": "execute_result"
    }
   ],
   "source": [
    "False"
   ]
  },
  {
   "cell_type": "markdown",
   "metadata": {},
   "source": [
    "2. Everything is implicitly either `True` or `False`"
   ]
  },
  {
   "cell_type": "code",
   "execution_count": 9,
   "metadata": {},
   "outputs": [
    {
     "data": {
      "text/plain": [
       "(True, True, False)"
      ]
     },
     "execution_count": 9,
     "metadata": {},
     "output_type": "execute_result"
    }
   ],
   "source": [
    "bool(42), bool(-42), bool(0)"
   ]
  },
  {
   "cell_type": "code",
   "execution_count": 10,
   "metadata": {},
   "outputs": [
    {
     "data": {
      "text/plain": [
       "(True, True, True, False)"
      ]
     },
     "execution_count": 10,
     "metadata": {},
     "output_type": "execute_result"
    }
   ],
   "source": [
    "# Empty text evaluates as 'False' any other text as 'True'\n",
    "# You can you single or double quotation marks but you cannot mix them\n",
    "\n",
    "bool('Hello'), bool(\"Hello\"), bool(' '), bool('')"
   ]
  },
  {
   "cell_type": "markdown",
   "metadata": {},
   "source": [
    "3. `A and B` is True if both A and B are True "
   ]
  },
  {
   "cell_type": "code",
   "execution_count": 11,
   "metadata": {},
   "outputs": [
    {
     "data": {
      "text/plain": [
       "(True, False, False, False)"
      ]
     },
     "execution_count": 11,
     "metadata": {},
     "output_type": "execute_result"
    }
   ],
   "source": [
    "True and True,  True and False, False and True, False and False"
   ]
  },
  {
   "cell_type": "markdown",
   "metadata": {},
   "source": [
    "Please note that the second argument (the one after `and`) is returned if the first argument is True, otherwise the first argument is returned"
   ]
  },
  {
   "cell_type": "markdown",
   "metadata": {},
   "source": [
    "4. `A or B` is True if either A or B is True "
   ]
  },
  {
   "cell_type": "code",
   "execution_count": 12,
   "metadata": {},
   "outputs": [
    {
     "data": {
      "text/plain": [
       "(True, True, True, False)"
      ]
     },
     "execution_count": 12,
     "metadata": {},
     "output_type": "execute_result"
    }
   ],
   "source": [
    "True or True,  True or False, False or True, False or False"
   ]
  },
  {
   "cell_type": "markdown",
   "metadata": {},
   "source": [
    "Please note that the first argument (the one before `or`) is returned if it is True, otherwise the second argument is returned"
   ]
  },
  {
   "cell_type": "markdown",
   "metadata": {},
   "source": [
    "This can be generalised to everything"
   ]
  },
  {
   "cell_type": "code",
   "execution_count": 13,
   "metadata": {},
   "outputs": [
    {
     "data": {
      "text/plain": [
       "-42"
      ]
     },
     "execution_count": 13,
     "metadata": {},
     "output_type": "execute_result"
    }
   ],
   "source": [
    "# First is True and therefore the second is returned\n",
    "\n",
    "42 and -42"
   ]
  },
  {
   "cell_type": "code",
   "execution_count": 14,
   "metadata": {},
   "outputs": [
    {
     "data": {
      "text/plain": [
       "''"
      ]
     },
     "execution_count": 14,
     "metadata": {},
     "output_type": "execute_result"
    }
   ],
   "source": [
    "# First is False and therefore it is returned\n",
    "\n",
    "'' and 'Hello'"
   ]
  },
  {
   "cell_type": "code",
   "execution_count": 15,
   "metadata": {},
   "outputs": [
    {
     "data": {
      "text/plain": [
       "42"
      ]
     },
     "execution_count": 15,
     "metadata": {},
     "output_type": "execute_result"
    }
   ],
   "source": [
    "# First is True and therefore it is returned\n",
    "\n",
    "42 or -42"
   ]
  },
  {
   "cell_type": "code",
   "execution_count": 16,
   "metadata": {},
   "outputs": [
    {
     "data": {
      "text/plain": [
       "'Hello'"
      ]
     },
     "execution_count": 16,
     "metadata": {},
     "output_type": "execute_result"
    }
   ],
   "source": [
    "# First is False and therefore the second is returned\n",
    "\n",
    "'' or 'Hello'"
   ]
  },
  {
   "cell_type": "markdown",
   "metadata": {},
   "source": [
    "`and` takes priority over `or`. "
   ]
  },
  {
   "cell_type": "code",
   "execution_count": 17,
   "metadata": {},
   "outputs": [
    {
     "data": {
      "text/plain": [
       "42"
      ]
     },
     "execution_count": 17,
     "metadata": {},
     "output_type": "execute_result"
    }
   ],
   "source": [
    "42 or 0 and 'Hello'"
   ]
  },
  {
   "cell_type": "code",
   "execution_count": 18,
   "metadata": {},
   "outputs": [
    {
     "data": {
      "text/plain": [
       "'Hello'"
      ]
     },
     "execution_count": 18,
     "metadata": {},
     "output_type": "execute_result"
    }
   ],
   "source": [
    "(42 or 0) and 'Hello'"
   ]
  },
  {
   "cell_type": "code",
   "execution_count": 19,
   "metadata": {},
   "outputs": [
    {
     "data": {
      "text/plain": [
       "0"
      ]
     },
     "execution_count": 19,
     "metadata": {},
     "output_type": "execute_result"
    }
   ],
   "source": [
    "not 42 or 0 and 'Hello'"
   ]
  },
  {
   "cell_type": "markdown",
   "metadata": {},
   "source": [
    "`not` takes priority over both."
   ]
  },
  {
   "cell_type": "code",
   "execution_count": 20,
   "metadata": {},
   "outputs": [
    {
     "data": {
      "text/plain": [
       "False"
      ]
     },
     "execution_count": 20,
     "metadata": {},
     "output_type": "execute_result"
    }
   ],
   "source": [
    "not (42 or 0 and 'Hello')"
   ]
  },
  {
   "cell_type": "markdown",
   "metadata": {},
   "source": [
    "## 3. String methods"
   ]
  },
  {
   "cell_type": "code",
   "execution_count": 21,
   "metadata": {},
   "outputs": [
    {
     "name": "stdout",
     "output_type": "stream",
     "text": [
      "Midway upon the journey of our life I found myself within a forest dark, \n",
      "For the straightforward pathway had been lost.\n"
     ]
    }
   ],
   "source": [
    "B = '''Midway upon the journey of our life I found myself within a forest dark, \n",
    "For the straightforward pathway had been lost.'''\n",
    "\n",
    "print(B)"
   ]
  },
  {
   "cell_type": "code",
   "execution_count": 22,
   "metadata": {},
   "outputs": [
    {
     "data": {
      "text/plain": [
       "'Midway upon the journey of our life I found myself within a forest dark, \\nFor the straightforward pathway had been lost.'"
      ]
     },
     "execution_count": 22,
     "metadata": {},
     "output_type": "execute_result"
    }
   ],
   "source": [
    "B"
   ]
  },
  {
   "cell_type": "code",
   "execution_count": 23,
   "metadata": {},
   "outputs": [
    {
     "data": {
      "text/plain": [
       "1"
      ]
     },
     "execution_count": 23,
     "metadata": {},
     "output_type": "execute_result"
    }
   ],
   "source": [
    "# Case sensitive\n",
    "\n",
    "B.count('m')"
   ]
  },
  {
   "cell_type": "code",
   "execution_count": 24,
   "metadata": {},
   "outputs": [
    {
     "data": {
      "text/plain": [
       "'midway upon the journey of our life i found myself within a forest dark, \\nfor the straightforward pathway had been lost.'"
      ]
     },
     "execution_count": 24,
     "metadata": {},
     "output_type": "execute_result"
    }
   ],
   "source": [
    "B.lower()"
   ]
  },
  {
   "cell_type": "code",
   "execution_count": 25,
   "metadata": {},
   "outputs": [
    {
     "data": {
      "text/plain": [
       "2"
      ]
     },
     "execution_count": 25,
     "metadata": {},
     "output_type": "execute_result"
    }
   ],
   "source": [
    "C = B.lower()\n",
    "C.count('m')"
   ]
  },
  {
   "cell_type": "code",
   "execution_count": 26,
   "metadata": {},
   "outputs": [
    {
     "data": {
      "text/plain": [
       "2"
      ]
     },
     "execution_count": 26,
     "metadata": {},
     "output_type": "execute_result"
    }
   ],
   "source": [
    "# You can chain methods\n",
    "\n",
    "B.lower().count('m')"
   ]
  },
  {
   "cell_type": "code",
   "execution_count": 27,
   "metadata": {},
   "outputs": [
    {
     "data": {
      "text/plain": [
       "['Midway',\n",
       " 'upon',\n",
       " 'the',\n",
       " 'journey',\n",
       " 'of',\n",
       " 'our',\n",
       " 'life',\n",
       " 'I',\n",
       " 'found',\n",
       " 'myself',\n",
       " 'within',\n",
       " 'a',\n",
       " 'forest',\n",
       " 'dark,',\n",
       " '\\nFor',\n",
       " 'the',\n",
       " 'straightforward',\n",
       " 'pathway',\n",
       " 'had',\n",
       " 'been',\n",
       " 'lost.']"
      ]
     },
     "execution_count": 27,
     "metadata": {},
     "output_type": "execute_result"
    }
   ],
   "source": [
    "# Splits a text into a list - introduce 'lists'\n",
    "\n",
    "B.split(' ')"
   ]
  },
  {
   "cell_type": "code",
   "execution_count": 28,
   "metadata": {},
   "outputs": [
    {
     "data": {
      "text/plain": [
       "120"
      ]
     },
     "execution_count": 28,
     "metadata": {},
     "output_type": "execute_result"
    }
   ],
   "source": [
    "len(B)"
   ]
  },
  {
   "cell_type": "code",
   "execution_count": 29,
   "metadata": {},
   "outputs": [
    {
     "data": {
      "text/plain": [
       "21"
      ]
     },
     "execution_count": 29,
     "metadata": {},
     "output_type": "execute_result"
    }
   ],
   "source": [
    "D = B.split(' ')\n",
    "len(D)"
   ]
  },
  {
   "cell_type": "code",
   "execution_count": 30,
   "metadata": {},
   "outputs": [
    {
     "data": {
      "text/plain": [
       "21"
      ]
     },
     "execution_count": 30,
     "metadata": {},
     "output_type": "execute_result"
    }
   ],
   "source": [
    "# You can embed methods in each other\n",
    "\n",
    "len(B.split(' '))"
   ]
  },
  {
   "cell_type": "markdown",
   "metadata": {},
   "source": [
    "Lists all attributes and methods of an object"
   ]
  },
  {
   "cell_type": "code",
   "execution_count": 31,
   "metadata": {
    "scrolled": false
   },
   "outputs": [
    {
     "data": {
      "text/plain": [
       "['__add__',\n",
       " '__class__',\n",
       " '__contains__',\n",
       " '__delattr__',\n",
       " '__dir__',\n",
       " '__doc__',\n",
       " '__eq__',\n",
       " '__format__',\n",
       " '__ge__',\n",
       " '__getattribute__',\n",
       " '__getitem__',\n",
       " '__getnewargs__',\n",
       " '__gt__',\n",
       " '__hash__',\n",
       " '__init__',\n",
       " '__init_subclass__',\n",
       " '__iter__',\n",
       " '__le__',\n",
       " '__len__',\n",
       " '__lt__',\n",
       " '__mod__',\n",
       " '__mul__',\n",
       " '__ne__',\n",
       " '__new__',\n",
       " '__reduce__',\n",
       " '__reduce_ex__',\n",
       " '__repr__',\n",
       " '__rmod__',\n",
       " '__rmul__',\n",
       " '__setattr__',\n",
       " '__sizeof__',\n",
       " '__str__',\n",
       " '__subclasshook__',\n",
       " 'capitalize',\n",
       " 'casefold',\n",
       " 'center',\n",
       " 'count',\n",
       " 'encode',\n",
       " 'endswith',\n",
       " 'expandtabs',\n",
       " 'find',\n",
       " 'format',\n",
       " 'format_map',\n",
       " 'index',\n",
       " 'isalnum',\n",
       " 'isalpha',\n",
       " 'isascii',\n",
       " 'isdecimal',\n",
       " 'isdigit',\n",
       " 'isidentifier',\n",
       " 'islower',\n",
       " 'isnumeric',\n",
       " 'isprintable',\n",
       " 'isspace',\n",
       " 'istitle',\n",
       " 'isupper',\n",
       " 'join',\n",
       " 'ljust',\n",
       " 'lower',\n",
       " 'lstrip',\n",
       " 'maketrans',\n",
       " 'partition',\n",
       " 'replace',\n",
       " 'rfind',\n",
       " 'rindex',\n",
       " 'rjust',\n",
       " 'rpartition',\n",
       " 'rsplit',\n",
       " 'rstrip',\n",
       " 'split',\n",
       " 'splitlines',\n",
       " 'startswith',\n",
       " 'strip',\n",
       " 'swapcase',\n",
       " 'title',\n",
       " 'translate',\n",
       " 'upper',\n",
       " 'zfill']"
      ]
     },
     "execution_count": 31,
     "metadata": {},
     "output_type": "execute_result"
    }
   ],
   "source": [
    "dir(B)"
   ]
  },
  {
   "cell_type": "code",
   "execution_count": 32,
   "metadata": {
    "scrolled": true
   },
   "outputs": [
    {
     "data": {
      "text/plain": [
       "'Midway Upon The Journey Of Our Life I Found Myself Within A Forest Dark, \\nFor The Straightforward Pathway Had Been Lost.'"
      ]
     },
     "execution_count": 32,
     "metadata": {},
     "output_type": "execute_result"
    }
   ],
   "source": [
    "B.title()"
   ]
  },
  {
   "cell_type": "code",
   "execution_count": 33,
   "metadata": {},
   "outputs": [
    {
     "name": "stdout",
     "output_type": "stream",
     "text": [
      "Midway Upon The Journey Of Our Life I Found Myself Within A Forest Dark, \n",
      "For The Straightforward Pathway Had Been Lost.\n"
     ]
    }
   ],
   "source": [
    "print(B.title())"
   ]
  },
  {
   "cell_type": "markdown",
   "metadata": {},
   "source": [
    "## 4. How to find files on your computer"
   ]
  },
  {
   "cell_type": "markdown",
   "metadata": {},
   "source": [
    "![alt text](./file_structure.jpg)"
   ]
  },
  {
   "cell_type": "markdown",
   "metadata": {},
   "source": [
    "Your current working directory"
   ]
  },
  {
   "cell_type": "code",
   "execution_count": 34,
   "metadata": {},
   "outputs": [
    {
     "data": {
      "text/plain": [
       "'/Users/guszti/data_science_course'"
      ]
     },
     "execution_count": 34,
     "metadata": {},
     "output_type": "execute_result"
    }
   ],
   "source": [
    "import os\n",
    "os.getcwd()"
   ]
  },
  {
   "cell_type": "markdown",
   "metadata": {},
   "source": [
    "On Mac: `/.../data_science_course`\n",
    "\n",
    "On Windows: `C:\\...\\data_science_course`"
   ]
  },
  {
   "cell_type": "markdown",
   "metadata": {},
   "source": [
    "##### Relative path from current directory\n",
    "\n",
    "- For Mac\n",
    "\n",
    "data/CsvLogBase_2020-11-02_134238.904_slow_Measurement.csv.zip\n",
    "\n",
    "OR\n",
    "\n",
    "./data/CsvLogBase_2020-11-02_134238.904_slow_Measurement.csv.zip\n",
    "\n",
    "\n",
    "- For Windows\n",
    "\n",
    ".\\data\\CsvLogBase_2020-11-02_134238.904_slow_Measurement.csv.zip\n",
    "\n",
    "\n",
    "##### Absolute path from the root directory\n",
    "\n",
    "- For me (Mac) \n",
    "\n",
    "/Users/guszti/data_science_course/data/CsvLogBase_2020-11-02_134238.904_slow_Measurement.csv.zip\n",
    "\n",
    "\n",
    "- For you (Mac)\n",
    "\n",
    "/.../data_science_course/data/CsvLogBase_2020-11-02_134238.904_slow_Measurement.csv.zip\n",
    "\n",
    "- For you (Windows)\n",
    "\n",
    "C:\\...\\data_science_course\\data\\CsvLogBase_2020-11-02_134238.904_slow_Measurement.csv.zip"
   ]
  },
  {
   "cell_type": "code",
   "execution_count": 37,
   "metadata": {},
   "outputs": [
    {
     "data": {
      "text/plain": [
       "'data/CsvLogBase_2020-11-02_134238.904_slow_Measurement.csv.zip'"
      ]
     },
     "execution_count": 37,
     "metadata": {},
     "output_type": "execute_result"
    }
   ],
   "source": [
    "# Platform independent file path\n",
    "\n",
    "# relative path\n",
    "rel_path = os.path.join('data', 'CsvLogBase_2020-11-02_134238.904_slow_Measurement.csv.zip')\n",
    "rel_path"
   ]
  },
  {
   "cell_type": "code",
   "execution_count": 40,
   "metadata": {},
   "outputs": [
    {
     "data": {
      "text/plain": [
       "'/guszti/data/CsvLogBase_2020-11-02_134238.904_slow_Measurement.csv.zip'"
      ]
     },
     "execution_count": 40,
     "metadata": {},
     "output_type": "execute_result"
    }
   ],
   "source": [
    "# absolute path for me\n",
    "abs_path = os.path.join(os.sep, 'guszti', 'data', 'CsvLogBase_2020-11-02_134238.904_slow_Measurement.csv.zip')\n",
    "abs_path"
   ]
  },
  {
   "cell_type": "raw",
   "metadata": {},
   "source": [
    "# Absolut path for Windows (hypothetical example)\n",
    "\n",
    "abs_path = os.path.join('C:', os.sep, 'guszti', 'data', 'CsvLogBase_2020-1102_134238.904_slow_Measurement.csv.zip')\n",
    "abs_path"
   ]
  },
  {
   "cell_type": "markdown",
   "metadata": {},
   "source": [
    "## 5. How to read in tabular data "
   ]
  },
  {
   "cell_type": "code",
   "execution_count": 44,
   "metadata": {},
   "outputs": [],
   "source": [
    "# Modules need to be imported first\n",
    "import os\n",
    "import pandas as pd"
   ]
  },
  {
   "cell_type": "markdown",
   "metadata": {},
   "source": [
    "##### Works on all systems"
   ]
  },
  {
   "cell_type": "code",
   "execution_count": 46,
   "metadata": {},
   "outputs": [
    {
     "data": {
      "text/html": [
       "<div>\n",
       "<style scoped>\n",
       "    .dataframe tbody tr th:only-of-type {\n",
       "        vertical-align: middle;\n",
       "    }\n",
       "\n",
       "    .dataframe tbody tr th {\n",
       "        vertical-align: top;\n",
       "    }\n",
       "\n",
       "    .dataframe thead th {\n",
       "        text-align: right;\n",
       "    }\n",
       "</style>\n",
       "<table border=\"1\" class=\"dataframe\">\n",
       "  <thead>\n",
       "    <tr style=\"text-align: right;\">\n",
       "      <th></th>\n",
       "      <th>Time [ms]</th>\n",
       "      <th>Date</th>\n",
       "      <th>Time</th>\n",
       "      <th>Rel.Time [s]</th>\n",
       "      <th>5001|MVe [L/min]</th>\n",
       "      <th>5001|MVi [L/min]</th>\n",
       "      <th>5001|Cdyn [L/bar]</th>\n",
       "      <th>5001|R [mbar/L/s]</th>\n",
       "      <th>5001|MVespon [L/min]</th>\n",
       "      <th>5001|Rpat [mbar/L/s]</th>\n",
       "      <th>...</th>\n",
       "      <th>5001|TC [s]</th>\n",
       "      <th>5001|TCe [s]</th>\n",
       "      <th>5001|C20/Cdyn [no unit]</th>\n",
       "      <th>5001|VTe [mL]</th>\n",
       "      <th>5001|VTi [mL]</th>\n",
       "      <th>5001|EIP [mbar]</th>\n",
       "      <th>5001|MVleak [L/min]</th>\n",
       "      <th>5001|Tispon [s]</th>\n",
       "      <th>5001|I:Espon (I-Part) [no unit]</th>\n",
       "      <th>5001|I:Espon (E-Part) [no unit]</th>\n",
       "    </tr>\n",
       "  </thead>\n",
       "  <tbody>\n",
       "    <tr>\n",
       "      <th>0</th>\n",
       "      <td>1604324559904</td>\n",
       "      <td>2020-11-02</td>\n",
       "      <td>13:42:39.904</td>\n",
       "      <td>0</td>\n",
       "      <td>0.20</td>\n",
       "      <td>0.21</td>\n",
       "      <td>0.21</td>\n",
       "      <td>146.0</td>\n",
       "      <td>0.0</td>\n",
       "      <td>128.0</td>\n",
       "      <td>...</td>\n",
       "      <td>NaN</td>\n",
       "      <td>NaN</td>\n",
       "      <td>NaN</td>\n",
       "      <td>NaN</td>\n",
       "      <td>NaN</td>\n",
       "      <td>NaN</td>\n",
       "      <td>NaN</td>\n",
       "      <td>NaN</td>\n",
       "      <td>NaN</td>\n",
       "      <td>NaN</td>\n",
       "    </tr>\n",
       "    <tr>\n",
       "      <th>1</th>\n",
       "      <td>1604324560029</td>\n",
       "      <td>2020-11-02</td>\n",
       "      <td>13:42:40.029</td>\n",
       "      <td>0</td>\n",
       "      <td>NaN</td>\n",
       "      <td>NaN</td>\n",
       "      <td>NaN</td>\n",
       "      <td>NaN</td>\n",
       "      <td>NaN</td>\n",
       "      <td>NaN</td>\n",
       "      <td>...</td>\n",
       "      <td>0.03</td>\n",
       "      <td>0.11</td>\n",
       "      <td>0.55</td>\n",
       "      <td>3.4</td>\n",
       "      <td>3.4</td>\n",
       "      <td>21.0</td>\n",
       "      <td>0.00</td>\n",
       "      <td>NaN</td>\n",
       "      <td>NaN</td>\n",
       "      <td>NaN</td>\n",
       "    </tr>\n",
       "    <tr>\n",
       "      <th>2</th>\n",
       "      <td>1604324560951</td>\n",
       "      <td>2020-11-02</td>\n",
       "      <td>13:42:40.951</td>\n",
       "      <td>1</td>\n",
       "      <td>0.20</td>\n",
       "      <td>0.21</td>\n",
       "      <td>0.22</td>\n",
       "      <td>146.0</td>\n",
       "      <td>0.0</td>\n",
       "      <td>128.0</td>\n",
       "      <td>...</td>\n",
       "      <td>NaN</td>\n",
       "      <td>NaN</td>\n",
       "      <td>NaN</td>\n",
       "      <td>NaN</td>\n",
       "      <td>NaN</td>\n",
       "      <td>NaN</td>\n",
       "      <td>NaN</td>\n",
       "      <td>NaN</td>\n",
       "      <td>NaN</td>\n",
       "      <td>NaN</td>\n",
       "    </tr>\n",
       "    <tr>\n",
       "      <th>3</th>\n",
       "      <td>1604324561060</td>\n",
       "      <td>2020-11-02</td>\n",
       "      <td>13:42:41.060</td>\n",
       "      <td>1</td>\n",
       "      <td>NaN</td>\n",
       "      <td>NaN</td>\n",
       "      <td>NaN</td>\n",
       "      <td>NaN</td>\n",
       "      <td>NaN</td>\n",
       "      <td>NaN</td>\n",
       "      <td>...</td>\n",
       "      <td>0.03</td>\n",
       "      <td>0.21</td>\n",
       "      <td>0.55</td>\n",
       "      <td>8.2</td>\n",
       "      <td>3.6</td>\n",
       "      <td>22.0</td>\n",
       "      <td>0.00</td>\n",
       "      <td>NaN</td>\n",
       "      <td>NaN</td>\n",
       "      <td>NaN</td>\n",
       "    </tr>\n",
       "    <tr>\n",
       "      <th>4</th>\n",
       "      <td>1604324561935</td>\n",
       "      <td>2020-11-02</td>\n",
       "      <td>13:42:41.935</td>\n",
       "      <td>2</td>\n",
       "      <td>0.20</td>\n",
       "      <td>0.21</td>\n",
       "      <td>0.26</td>\n",
       "      <td>154.0</td>\n",
       "      <td>0.0</td>\n",
       "      <td>136.0</td>\n",
       "      <td>...</td>\n",
       "      <td>NaN</td>\n",
       "      <td>NaN</td>\n",
       "      <td>NaN</td>\n",
       "      <td>NaN</td>\n",
       "      <td>NaN</td>\n",
       "      <td>NaN</td>\n",
       "      <td>NaN</td>\n",
       "      <td>NaN</td>\n",
       "      <td>NaN</td>\n",
       "      <td>NaN</td>\n",
       "    </tr>\n",
       "    <tr>\n",
       "      <th>...</th>\n",
       "      <td>...</td>\n",
       "      <td>...</td>\n",
       "      <td>...</td>\n",
       "      <td>...</td>\n",
       "      <td>...</td>\n",
       "      <td>...</td>\n",
       "      <td>...</td>\n",
       "      <td>...</td>\n",
       "      <td>...</td>\n",
       "      <td>...</td>\n",
       "      <td>...</td>\n",
       "      <td>...</td>\n",
       "      <td>...</td>\n",
       "      <td>...</td>\n",
       "      <td>...</td>\n",
       "      <td>...</td>\n",
       "      <td>...</td>\n",
       "      <td>...</td>\n",
       "      <td>...</td>\n",
       "      <td>...</td>\n",
       "      <td>...</td>\n",
       "    </tr>\n",
       "    <tr>\n",
       "      <th>689431</th>\n",
       "      <td>1604669233906</td>\n",
       "      <td>2020-11-06</td>\n",
       "      <td>13:27:13.906</td>\n",
       "      <td>344674</td>\n",
       "      <td>0.22</td>\n",
       "      <td>0.22</td>\n",
       "      <td>0.21</td>\n",
       "      <td>164.0</td>\n",
       "      <td>0.0</td>\n",
       "      <td>150.0</td>\n",
       "      <td>...</td>\n",
       "      <td>NaN</td>\n",
       "      <td>NaN</td>\n",
       "      <td>NaN</td>\n",
       "      <td>NaN</td>\n",
       "      <td>NaN</td>\n",
       "      <td>NaN</td>\n",
       "      <td>NaN</td>\n",
       "      <td>NaN</td>\n",
       "      <td>NaN</td>\n",
       "      <td>NaN</td>\n",
       "    </tr>\n",
       "    <tr>\n",
       "      <th>689432</th>\n",
       "      <td>1604669234031</td>\n",
       "      <td>2020-11-06</td>\n",
       "      <td>13:27:14.031</td>\n",
       "      <td>344674</td>\n",
       "      <td>NaN</td>\n",
       "      <td>NaN</td>\n",
       "      <td>NaN</td>\n",
       "      <td>NaN</td>\n",
       "      <td>NaN</td>\n",
       "      <td>NaN</td>\n",
       "      <td>...</td>\n",
       "      <td>0.04</td>\n",
       "      <td>0.11</td>\n",
       "      <td>0.75</td>\n",
       "      <td>3.1</td>\n",
       "      <td>2.6</td>\n",
       "      <td>18.0</td>\n",
       "      <td>0.02</td>\n",
       "      <td>NaN</td>\n",
       "      <td>NaN</td>\n",
       "      <td>NaN</td>\n",
       "    </tr>\n",
       "    <tr>\n",
       "      <th>689433</th>\n",
       "      <td>1604669234906</td>\n",
       "      <td>2020-11-06</td>\n",
       "      <td>13:27:14.906</td>\n",
       "      <td>344675</td>\n",
       "      <td>0.22</td>\n",
       "      <td>0.22</td>\n",
       "      <td>0.21</td>\n",
       "      <td>164.0</td>\n",
       "      <td>0.0</td>\n",
       "      <td>150.0</td>\n",
       "      <td>...</td>\n",
       "      <td>NaN</td>\n",
       "      <td>NaN</td>\n",
       "      <td>NaN</td>\n",
       "      <td>NaN</td>\n",
       "      <td>NaN</td>\n",
       "      <td>NaN</td>\n",
       "      <td>NaN</td>\n",
       "      <td>NaN</td>\n",
       "      <td>NaN</td>\n",
       "      <td>NaN</td>\n",
       "    </tr>\n",
       "    <tr>\n",
       "      <th>689434</th>\n",
       "      <td>1604669235046</td>\n",
       "      <td>2020-11-06</td>\n",
       "      <td>13:27:15.046</td>\n",
       "      <td>344675</td>\n",
       "      <td>NaN</td>\n",
       "      <td>NaN</td>\n",
       "      <td>NaN</td>\n",
       "      <td>NaN</td>\n",
       "      <td>NaN</td>\n",
       "      <td>NaN</td>\n",
       "      <td>...</td>\n",
       "      <td>0.01</td>\n",
       "      <td>0.15</td>\n",
       "      <td>0.75</td>\n",
       "      <td>4.1</td>\n",
       "      <td>2.6</td>\n",
       "      <td>19.0</td>\n",
       "      <td>0.01</td>\n",
       "      <td>NaN</td>\n",
       "      <td>NaN</td>\n",
       "      <td>NaN</td>\n",
       "    </tr>\n",
       "    <tr>\n",
       "      <th>689435</th>\n",
       "      <td>1604669235937</td>\n",
       "      <td>2020-11-06</td>\n",
       "      <td>13:27:15.937</td>\n",
       "      <td>344676</td>\n",
       "      <td>0.22</td>\n",
       "      <td>0.22</td>\n",
       "      <td>0.05</td>\n",
       "      <td>164.0</td>\n",
       "      <td>0.0</td>\n",
       "      <td>150.0</td>\n",
       "      <td>...</td>\n",
       "      <td>NaN</td>\n",
       "      <td>NaN</td>\n",
       "      <td>NaN</td>\n",
       "      <td>NaN</td>\n",
       "      <td>NaN</td>\n",
       "      <td>NaN</td>\n",
       "      <td>NaN</td>\n",
       "      <td>NaN</td>\n",
       "      <td>NaN</td>\n",
       "      <td>NaN</td>\n",
       "    </tr>\n",
       "  </tbody>\n",
       "</table>\n",
       "<p>689436 rows × 47 columns</p>\n",
       "</div>"
      ],
      "text/plain": [
       "            Time [ms]        Date          Time  Rel.Time [s]  \\\n",
       "0       1604324559904  2020-11-02  13:42:39.904             0   \n",
       "1       1604324560029  2020-11-02  13:42:40.029             0   \n",
       "2       1604324560951  2020-11-02  13:42:40.951             1   \n",
       "3       1604324561060  2020-11-02  13:42:41.060             1   \n",
       "4       1604324561935  2020-11-02  13:42:41.935             2   \n",
       "...               ...         ...           ...           ...   \n",
       "689431  1604669233906  2020-11-06  13:27:13.906        344674   \n",
       "689432  1604669234031  2020-11-06  13:27:14.031        344674   \n",
       "689433  1604669234906  2020-11-06  13:27:14.906        344675   \n",
       "689434  1604669235046  2020-11-06  13:27:15.046        344675   \n",
       "689435  1604669235937  2020-11-06  13:27:15.937        344676   \n",
       "\n",
       "        5001|MVe [L/min]  5001|MVi [L/min]  5001|Cdyn [L/bar]  \\\n",
       "0                   0.20              0.21               0.21   \n",
       "1                    NaN               NaN                NaN   \n",
       "2                   0.20              0.21               0.22   \n",
       "3                    NaN               NaN                NaN   \n",
       "4                   0.20              0.21               0.26   \n",
       "...                  ...               ...                ...   \n",
       "689431              0.22              0.22               0.21   \n",
       "689432               NaN               NaN                NaN   \n",
       "689433              0.22              0.22               0.21   \n",
       "689434               NaN               NaN                NaN   \n",
       "689435              0.22              0.22               0.05   \n",
       "\n",
       "        5001|R [mbar/L/s]  5001|MVespon [L/min]  5001|Rpat [mbar/L/s]  ...  \\\n",
       "0                   146.0                   0.0                 128.0  ...   \n",
       "1                     NaN                   NaN                   NaN  ...   \n",
       "2                   146.0                   0.0                 128.0  ...   \n",
       "3                     NaN                   NaN                   NaN  ...   \n",
       "4                   154.0                   0.0                 136.0  ...   \n",
       "...                   ...                   ...                   ...  ...   \n",
       "689431              164.0                   0.0                 150.0  ...   \n",
       "689432                NaN                   NaN                   NaN  ...   \n",
       "689433              164.0                   0.0                 150.0  ...   \n",
       "689434                NaN                   NaN                   NaN  ...   \n",
       "689435              164.0                   0.0                 150.0  ...   \n",
       "\n",
       "        5001|TC [s]  5001|TCe [s]  5001|C20/Cdyn [no unit]  5001|VTe [mL]  \\\n",
       "0               NaN           NaN                      NaN            NaN   \n",
       "1              0.03          0.11                     0.55            3.4   \n",
       "2               NaN           NaN                      NaN            NaN   \n",
       "3              0.03          0.21                     0.55            8.2   \n",
       "4               NaN           NaN                      NaN            NaN   \n",
       "...             ...           ...                      ...            ...   \n",
       "689431          NaN           NaN                      NaN            NaN   \n",
       "689432         0.04          0.11                     0.75            3.1   \n",
       "689433          NaN           NaN                      NaN            NaN   \n",
       "689434         0.01          0.15                     0.75            4.1   \n",
       "689435          NaN           NaN                      NaN            NaN   \n",
       "\n",
       "        5001|VTi [mL]  5001|EIP [mbar]  5001|MVleak [L/min]  5001|Tispon [s]  \\\n",
       "0                 NaN              NaN                  NaN              NaN   \n",
       "1                 3.4             21.0                 0.00              NaN   \n",
       "2                 NaN              NaN                  NaN              NaN   \n",
       "3                 3.6             22.0                 0.00              NaN   \n",
       "4                 NaN              NaN                  NaN              NaN   \n",
       "...               ...              ...                  ...              ...   \n",
       "689431            NaN              NaN                  NaN              NaN   \n",
       "689432            2.6             18.0                 0.02              NaN   \n",
       "689433            NaN              NaN                  NaN              NaN   \n",
       "689434            2.6             19.0                 0.01              NaN   \n",
       "689435            NaN              NaN                  NaN              NaN   \n",
       "\n",
       "        5001|I:Espon (I-Part) [no unit]  5001|I:Espon (E-Part) [no unit]  \n",
       "0                                   NaN                              NaN  \n",
       "1                                   NaN                              NaN  \n",
       "2                                   NaN                              NaN  \n",
       "3                                   NaN                              NaN  \n",
       "4                                   NaN                              NaN  \n",
       "...                                 ...                              ...  \n",
       "689431                              NaN                              NaN  \n",
       "689432                              NaN                              NaN  \n",
       "689433                              NaN                              NaN  \n",
       "689434                              NaN                              NaN  \n",
       "689435                              NaN                              NaN  \n",
       "\n",
       "[689436 rows x 47 columns]"
      ]
     },
     "execution_count": 46,
     "metadata": {},
     "output_type": "execute_result"
    }
   ],
   "source": [
    "# Imported by not bound to a variable. We cannot use it later.\n",
    "\n",
    "path = os.path.join('data', 'CsvLogBase_2020-11-02_134238.904_slow_Measurement.csv.zip')\n",
    "pd.read_csv(path)"
   ]
  },
  {
   "cell_type": "markdown",
   "metadata": {},
   "source": [
    "Analogy"
   ]
  },
  {
   "cell_type": "code",
   "execution_count": 56,
   "metadata": {},
   "outputs": [
    {
     "data": {
      "text/plain": [
       "42"
      ]
     },
     "execution_count": 56,
     "metadata": {},
     "output_type": "execute_result"
    }
   ],
   "source": [
    "42"
   ]
  },
  {
   "cell_type": "code",
   "execution_count": 57,
   "metadata": {},
   "outputs": [],
   "source": [
    "a = 42"
   ]
  },
  {
   "cell_type": "code",
   "execution_count": 58,
   "metadata": {},
   "outputs": [
    {
     "data": {
      "text/plain": [
       "42"
      ]
     },
     "execution_count": 58,
     "metadata": {},
     "output_type": "execute_result"
    }
   ],
   "source": [
    "a"
   ]
  },
  {
   "cell_type": "code",
   "execution_count": 68,
   "metadata": {},
   "outputs": [],
   "source": [
    "# Now it is there for later use\n",
    "\n",
    "path = os.path.join('data', 'CsvLogBase_2020-11-02_134238.904_slow_Measurement.csv.zip')\n",
    "data = pd.read_csv(path)"
   ]
  },
  {
   "cell_type": "code",
   "execution_count": 69,
   "metadata": {},
   "outputs": [
    {
     "data": {
      "text/html": [
       "<div>\n",
       "<style scoped>\n",
       "    .dataframe tbody tr th:only-of-type {\n",
       "        vertical-align: middle;\n",
       "    }\n",
       "\n",
       "    .dataframe tbody tr th {\n",
       "        vertical-align: top;\n",
       "    }\n",
       "\n",
       "    .dataframe thead th {\n",
       "        text-align: right;\n",
       "    }\n",
       "</style>\n",
       "<table border=\"1\" class=\"dataframe\">\n",
       "  <thead>\n",
       "    <tr style=\"text-align: right;\">\n",
       "      <th></th>\n",
       "      <th>Time [ms]</th>\n",
       "      <th>Date</th>\n",
       "      <th>Time</th>\n",
       "      <th>Rel.Time [s]</th>\n",
       "      <th>5001|MVe [L/min]</th>\n",
       "      <th>5001|MVi [L/min]</th>\n",
       "      <th>5001|Cdyn [L/bar]</th>\n",
       "      <th>5001|R [mbar/L/s]</th>\n",
       "      <th>5001|MVespon [L/min]</th>\n",
       "      <th>5001|Rpat [mbar/L/s]</th>\n",
       "      <th>...</th>\n",
       "      <th>5001|TC [s]</th>\n",
       "      <th>5001|TCe [s]</th>\n",
       "      <th>5001|C20/Cdyn [no unit]</th>\n",
       "      <th>5001|VTe [mL]</th>\n",
       "      <th>5001|VTi [mL]</th>\n",
       "      <th>5001|EIP [mbar]</th>\n",
       "      <th>5001|MVleak [L/min]</th>\n",
       "      <th>5001|Tispon [s]</th>\n",
       "      <th>5001|I:Espon (I-Part) [no unit]</th>\n",
       "      <th>5001|I:Espon (E-Part) [no unit]</th>\n",
       "    </tr>\n",
       "  </thead>\n",
       "  <tbody>\n",
       "    <tr>\n",
       "      <th>0</th>\n",
       "      <td>1604324559904</td>\n",
       "      <td>2020-11-02</td>\n",
       "      <td>13:42:39.904</td>\n",
       "      <td>0</td>\n",
       "      <td>0.20</td>\n",
       "      <td>0.21</td>\n",
       "      <td>0.21</td>\n",
       "      <td>146.0</td>\n",
       "      <td>0.0</td>\n",
       "      <td>128.0</td>\n",
       "      <td>...</td>\n",
       "      <td>NaN</td>\n",
       "      <td>NaN</td>\n",
       "      <td>NaN</td>\n",
       "      <td>NaN</td>\n",
       "      <td>NaN</td>\n",
       "      <td>NaN</td>\n",
       "      <td>NaN</td>\n",
       "      <td>NaN</td>\n",
       "      <td>NaN</td>\n",
       "      <td>NaN</td>\n",
       "    </tr>\n",
       "    <tr>\n",
       "      <th>1</th>\n",
       "      <td>1604324560029</td>\n",
       "      <td>2020-11-02</td>\n",
       "      <td>13:42:40.029</td>\n",
       "      <td>0</td>\n",
       "      <td>NaN</td>\n",
       "      <td>NaN</td>\n",
       "      <td>NaN</td>\n",
       "      <td>NaN</td>\n",
       "      <td>NaN</td>\n",
       "      <td>NaN</td>\n",
       "      <td>...</td>\n",
       "      <td>0.03</td>\n",
       "      <td>0.11</td>\n",
       "      <td>0.55</td>\n",
       "      <td>3.4</td>\n",
       "      <td>3.4</td>\n",
       "      <td>21.0</td>\n",
       "      <td>0.00</td>\n",
       "      <td>NaN</td>\n",
       "      <td>NaN</td>\n",
       "      <td>NaN</td>\n",
       "    </tr>\n",
       "    <tr>\n",
       "      <th>2</th>\n",
       "      <td>1604324560951</td>\n",
       "      <td>2020-11-02</td>\n",
       "      <td>13:42:40.951</td>\n",
       "      <td>1</td>\n",
       "      <td>0.20</td>\n",
       "      <td>0.21</td>\n",
       "      <td>0.22</td>\n",
       "      <td>146.0</td>\n",
       "      <td>0.0</td>\n",
       "      <td>128.0</td>\n",
       "      <td>...</td>\n",
       "      <td>NaN</td>\n",
       "      <td>NaN</td>\n",
       "      <td>NaN</td>\n",
       "      <td>NaN</td>\n",
       "      <td>NaN</td>\n",
       "      <td>NaN</td>\n",
       "      <td>NaN</td>\n",
       "      <td>NaN</td>\n",
       "      <td>NaN</td>\n",
       "      <td>NaN</td>\n",
       "    </tr>\n",
       "    <tr>\n",
       "      <th>3</th>\n",
       "      <td>1604324561060</td>\n",
       "      <td>2020-11-02</td>\n",
       "      <td>13:42:41.060</td>\n",
       "      <td>1</td>\n",
       "      <td>NaN</td>\n",
       "      <td>NaN</td>\n",
       "      <td>NaN</td>\n",
       "      <td>NaN</td>\n",
       "      <td>NaN</td>\n",
       "      <td>NaN</td>\n",
       "      <td>...</td>\n",
       "      <td>0.03</td>\n",
       "      <td>0.21</td>\n",
       "      <td>0.55</td>\n",
       "      <td>8.2</td>\n",
       "      <td>3.6</td>\n",
       "      <td>22.0</td>\n",
       "      <td>0.00</td>\n",
       "      <td>NaN</td>\n",
       "      <td>NaN</td>\n",
       "      <td>NaN</td>\n",
       "    </tr>\n",
       "    <tr>\n",
       "      <th>4</th>\n",
       "      <td>1604324561935</td>\n",
       "      <td>2020-11-02</td>\n",
       "      <td>13:42:41.935</td>\n",
       "      <td>2</td>\n",
       "      <td>0.20</td>\n",
       "      <td>0.21</td>\n",
       "      <td>0.26</td>\n",
       "      <td>154.0</td>\n",
       "      <td>0.0</td>\n",
       "      <td>136.0</td>\n",
       "      <td>...</td>\n",
       "      <td>NaN</td>\n",
       "      <td>NaN</td>\n",
       "      <td>NaN</td>\n",
       "      <td>NaN</td>\n",
       "      <td>NaN</td>\n",
       "      <td>NaN</td>\n",
       "      <td>NaN</td>\n",
       "      <td>NaN</td>\n",
       "      <td>NaN</td>\n",
       "      <td>NaN</td>\n",
       "    </tr>\n",
       "    <tr>\n",
       "      <th>...</th>\n",
       "      <td>...</td>\n",
       "      <td>...</td>\n",
       "      <td>...</td>\n",
       "      <td>...</td>\n",
       "      <td>...</td>\n",
       "      <td>...</td>\n",
       "      <td>...</td>\n",
       "      <td>...</td>\n",
       "      <td>...</td>\n",
       "      <td>...</td>\n",
       "      <td>...</td>\n",
       "      <td>...</td>\n",
       "      <td>...</td>\n",
       "      <td>...</td>\n",
       "      <td>...</td>\n",
       "      <td>...</td>\n",
       "      <td>...</td>\n",
       "      <td>...</td>\n",
       "      <td>...</td>\n",
       "      <td>...</td>\n",
       "      <td>...</td>\n",
       "    </tr>\n",
       "    <tr>\n",
       "      <th>689431</th>\n",
       "      <td>1604669233906</td>\n",
       "      <td>2020-11-06</td>\n",
       "      <td>13:27:13.906</td>\n",
       "      <td>344674</td>\n",
       "      <td>0.22</td>\n",
       "      <td>0.22</td>\n",
       "      <td>0.21</td>\n",
       "      <td>164.0</td>\n",
       "      <td>0.0</td>\n",
       "      <td>150.0</td>\n",
       "      <td>...</td>\n",
       "      <td>NaN</td>\n",
       "      <td>NaN</td>\n",
       "      <td>NaN</td>\n",
       "      <td>NaN</td>\n",
       "      <td>NaN</td>\n",
       "      <td>NaN</td>\n",
       "      <td>NaN</td>\n",
       "      <td>NaN</td>\n",
       "      <td>NaN</td>\n",
       "      <td>NaN</td>\n",
       "    </tr>\n",
       "    <tr>\n",
       "      <th>689432</th>\n",
       "      <td>1604669234031</td>\n",
       "      <td>2020-11-06</td>\n",
       "      <td>13:27:14.031</td>\n",
       "      <td>344674</td>\n",
       "      <td>NaN</td>\n",
       "      <td>NaN</td>\n",
       "      <td>NaN</td>\n",
       "      <td>NaN</td>\n",
       "      <td>NaN</td>\n",
       "      <td>NaN</td>\n",
       "      <td>...</td>\n",
       "      <td>0.04</td>\n",
       "      <td>0.11</td>\n",
       "      <td>0.75</td>\n",
       "      <td>3.1</td>\n",
       "      <td>2.6</td>\n",
       "      <td>18.0</td>\n",
       "      <td>0.02</td>\n",
       "      <td>NaN</td>\n",
       "      <td>NaN</td>\n",
       "      <td>NaN</td>\n",
       "    </tr>\n",
       "    <tr>\n",
       "      <th>689433</th>\n",
       "      <td>1604669234906</td>\n",
       "      <td>2020-11-06</td>\n",
       "      <td>13:27:14.906</td>\n",
       "      <td>344675</td>\n",
       "      <td>0.22</td>\n",
       "      <td>0.22</td>\n",
       "      <td>0.21</td>\n",
       "      <td>164.0</td>\n",
       "      <td>0.0</td>\n",
       "      <td>150.0</td>\n",
       "      <td>...</td>\n",
       "      <td>NaN</td>\n",
       "      <td>NaN</td>\n",
       "      <td>NaN</td>\n",
       "      <td>NaN</td>\n",
       "      <td>NaN</td>\n",
       "      <td>NaN</td>\n",
       "      <td>NaN</td>\n",
       "      <td>NaN</td>\n",
       "      <td>NaN</td>\n",
       "      <td>NaN</td>\n",
       "    </tr>\n",
       "    <tr>\n",
       "      <th>689434</th>\n",
       "      <td>1604669235046</td>\n",
       "      <td>2020-11-06</td>\n",
       "      <td>13:27:15.046</td>\n",
       "      <td>344675</td>\n",
       "      <td>NaN</td>\n",
       "      <td>NaN</td>\n",
       "      <td>NaN</td>\n",
       "      <td>NaN</td>\n",
       "      <td>NaN</td>\n",
       "      <td>NaN</td>\n",
       "      <td>...</td>\n",
       "      <td>0.01</td>\n",
       "      <td>0.15</td>\n",
       "      <td>0.75</td>\n",
       "      <td>4.1</td>\n",
       "      <td>2.6</td>\n",
       "      <td>19.0</td>\n",
       "      <td>0.01</td>\n",
       "      <td>NaN</td>\n",
       "      <td>NaN</td>\n",
       "      <td>NaN</td>\n",
       "    </tr>\n",
       "    <tr>\n",
       "      <th>689435</th>\n",
       "      <td>1604669235937</td>\n",
       "      <td>2020-11-06</td>\n",
       "      <td>13:27:15.937</td>\n",
       "      <td>344676</td>\n",
       "      <td>0.22</td>\n",
       "      <td>0.22</td>\n",
       "      <td>0.05</td>\n",
       "      <td>164.0</td>\n",
       "      <td>0.0</td>\n",
       "      <td>150.0</td>\n",
       "      <td>...</td>\n",
       "      <td>NaN</td>\n",
       "      <td>NaN</td>\n",
       "      <td>NaN</td>\n",
       "      <td>NaN</td>\n",
       "      <td>NaN</td>\n",
       "      <td>NaN</td>\n",
       "      <td>NaN</td>\n",
       "      <td>NaN</td>\n",
       "      <td>NaN</td>\n",
       "      <td>NaN</td>\n",
       "    </tr>\n",
       "  </tbody>\n",
       "</table>\n",
       "<p>689436 rows × 47 columns</p>\n",
       "</div>"
      ],
      "text/plain": [
       "            Time [ms]        Date          Time  Rel.Time [s]  \\\n",
       "0       1604324559904  2020-11-02  13:42:39.904             0   \n",
       "1       1604324560029  2020-11-02  13:42:40.029             0   \n",
       "2       1604324560951  2020-11-02  13:42:40.951             1   \n",
       "3       1604324561060  2020-11-02  13:42:41.060             1   \n",
       "4       1604324561935  2020-11-02  13:42:41.935             2   \n",
       "...               ...         ...           ...           ...   \n",
       "689431  1604669233906  2020-11-06  13:27:13.906        344674   \n",
       "689432  1604669234031  2020-11-06  13:27:14.031        344674   \n",
       "689433  1604669234906  2020-11-06  13:27:14.906        344675   \n",
       "689434  1604669235046  2020-11-06  13:27:15.046        344675   \n",
       "689435  1604669235937  2020-11-06  13:27:15.937        344676   \n",
       "\n",
       "        5001|MVe [L/min]  5001|MVi [L/min]  5001|Cdyn [L/bar]  \\\n",
       "0                   0.20              0.21               0.21   \n",
       "1                    NaN               NaN                NaN   \n",
       "2                   0.20              0.21               0.22   \n",
       "3                    NaN               NaN                NaN   \n",
       "4                   0.20              0.21               0.26   \n",
       "...                  ...               ...                ...   \n",
       "689431              0.22              0.22               0.21   \n",
       "689432               NaN               NaN                NaN   \n",
       "689433              0.22              0.22               0.21   \n",
       "689434               NaN               NaN                NaN   \n",
       "689435              0.22              0.22               0.05   \n",
       "\n",
       "        5001|R [mbar/L/s]  5001|MVespon [L/min]  5001|Rpat [mbar/L/s]  ...  \\\n",
       "0                   146.0                   0.0                 128.0  ...   \n",
       "1                     NaN                   NaN                   NaN  ...   \n",
       "2                   146.0                   0.0                 128.0  ...   \n",
       "3                     NaN                   NaN                   NaN  ...   \n",
       "4                   154.0                   0.0                 136.0  ...   \n",
       "...                   ...                   ...                   ...  ...   \n",
       "689431              164.0                   0.0                 150.0  ...   \n",
       "689432                NaN                   NaN                   NaN  ...   \n",
       "689433              164.0                   0.0                 150.0  ...   \n",
       "689434                NaN                   NaN                   NaN  ...   \n",
       "689435              164.0                   0.0                 150.0  ...   \n",
       "\n",
       "        5001|TC [s]  5001|TCe [s]  5001|C20/Cdyn [no unit]  5001|VTe [mL]  \\\n",
       "0               NaN           NaN                      NaN            NaN   \n",
       "1              0.03          0.11                     0.55            3.4   \n",
       "2               NaN           NaN                      NaN            NaN   \n",
       "3              0.03          0.21                     0.55            8.2   \n",
       "4               NaN           NaN                      NaN            NaN   \n",
       "...             ...           ...                      ...            ...   \n",
       "689431          NaN           NaN                      NaN            NaN   \n",
       "689432         0.04          0.11                     0.75            3.1   \n",
       "689433          NaN           NaN                      NaN            NaN   \n",
       "689434         0.01          0.15                     0.75            4.1   \n",
       "689435          NaN           NaN                      NaN            NaN   \n",
       "\n",
       "        5001|VTi [mL]  5001|EIP [mbar]  5001|MVleak [L/min]  5001|Tispon [s]  \\\n",
       "0                 NaN              NaN                  NaN              NaN   \n",
       "1                 3.4             21.0                 0.00              NaN   \n",
       "2                 NaN              NaN                  NaN              NaN   \n",
       "3                 3.6             22.0                 0.00              NaN   \n",
       "4                 NaN              NaN                  NaN              NaN   \n",
       "...               ...              ...                  ...              ...   \n",
       "689431            NaN              NaN                  NaN              NaN   \n",
       "689432            2.6             18.0                 0.02              NaN   \n",
       "689433            NaN              NaN                  NaN              NaN   \n",
       "689434            2.6             19.0                 0.01              NaN   \n",
       "689435            NaN              NaN                  NaN              NaN   \n",
       "\n",
       "        5001|I:Espon (I-Part) [no unit]  5001|I:Espon (E-Part) [no unit]  \n",
       "0                                   NaN                              NaN  \n",
       "1                                   NaN                              NaN  \n",
       "2                                   NaN                              NaN  \n",
       "3                                   NaN                              NaN  \n",
       "4                                   NaN                              NaN  \n",
       "...                                 ...                              ...  \n",
       "689431                              NaN                              NaN  \n",
       "689432                              NaN                              NaN  \n",
       "689433                              NaN                              NaN  \n",
       "689434                              NaN                              NaN  \n",
       "689435                              NaN                              NaN  \n",
       "\n",
       "[689436 rows x 47 columns]"
      ]
     },
     "execution_count": 69,
     "metadata": {},
     "output_type": "execute_result"
    }
   ],
   "source": [
    "data"
   ]
  },
  {
   "cell_type": "code",
   "execution_count": 70,
   "metadata": {},
   "outputs": [
    {
     "data": {
      "text/plain": [
       "pandas.core.frame.DataFrame"
      ]
     },
     "execution_count": 70,
     "metadata": {},
     "output_type": "execute_result"
    }
   ],
   "source": [
    "type(data)"
   ]
  },
  {
   "cell_type": "markdown",
   "metadata": {},
   "source": [
    "- DataFrames have rows (= `records`) and columns (= `fields`)\n",
    "- The first column is an index column (record identifiers)\n",
    "- The first first row contains the column names (field names)"
   ]
  },
  {
   "cell_type": "code",
   "execution_count": 71,
   "metadata": {},
   "outputs": [
    {
     "data": {
      "text/plain": [
       "RangeIndex(start=0, stop=689436, step=1)"
      ]
     },
     "execution_count": 71,
     "metadata": {},
     "output_type": "execute_result"
    }
   ],
   "source": [
    "data.index"
   ]
  },
  {
   "cell_type": "code",
   "execution_count": 72,
   "metadata": {},
   "outputs": [
    {
     "data": {
      "text/plain": [
       "Index(['Time [ms]', 'Date', 'Time', 'Rel.Time [s]', '5001|MVe [L/min]',\n",
       "       '5001|MVi [L/min]', '5001|Cdyn [L/bar]', '5001|R [mbar/L/s]',\n",
       "       '5001|MVespon [L/min]', '5001|Rpat [mbar/L/s]', '5001|MVemand [L/min]',\n",
       "       '5001|FlowDev [L/min]', '5001|VTmand [mL]', '5001|r2 [no unit]',\n",
       "       '5001|VTispon [mL]', '5001|Pmin [mbar]', '5001|Pmean [mbar]',\n",
       "       '5001|PEEP [mbar]', '5001|RRmand [1/min]', '5001|PIP [mbar]',\n",
       "       '5001|VTmand [L]', '5001|VTspon [L]', '5001|VTemand [mL]',\n",
       "       '5001|VTespon [mL]', '5001|VTimand [mL]', '5001|VT [mL]',\n",
       "       '5001|% leak [%]', '5001|RRspon [1/min]', '5001|% MVspon [%]',\n",
       "       '5001|MV [L/min]', '5001|RRtrig [1/min]', '5001|RR [1/min]',\n",
       "       '5001|I (I:E) [no unit]', '5001|E (I:E) [no unit]', '5001|FiO2 [%]',\n",
       "       '5001|VTspon [mL]', '5001|E [mbar/L]', '5001|TC [s]', '5001|TCe [s]',\n",
       "       '5001|C20/Cdyn [no unit]', '5001|VTe [mL]', '5001|VTi [mL]',\n",
       "       '5001|EIP [mbar]', '5001|MVleak [L/min]', '5001|Tispon [s]',\n",
       "       '5001|I:Espon (I-Part) [no unit]', '5001|I:Espon (E-Part) [no unit]'],\n",
       "      dtype='object')"
      ]
     },
     "execution_count": 72,
     "metadata": {},
     "output_type": "execute_result"
    }
   ],
   "source": [
    "data.columns"
   ]
  },
  {
   "cell_type": "markdown",
   "metadata": {},
   "source": [
    "There is only one positional argument, all other arguments are keyword arguments with default value\n",
    "\n",
    "Notice that lines can be broken inside parentheses."
   ]
  },
  {
   "cell_type": "code",
   "execution_count": 74,
   "metadata": {},
   "outputs": [],
   "source": [
    "# Keyword arguments with default values\n",
    "\n",
    "pd.read_csv?"
   ]
  },
  {
   "cell_type": "code",
   "execution_count": 75,
   "metadata": {},
   "outputs": [
    {
     "data": {
      "text/html": [
       "<div>\n",
       "<style scoped>\n",
       "    .dataframe tbody tr th:only-of-type {\n",
       "        vertical-align: middle;\n",
       "    }\n",
       "\n",
       "    .dataframe tbody tr th {\n",
       "        vertical-align: top;\n",
       "    }\n",
       "\n",
       "    .dataframe thead th {\n",
       "        text-align: right;\n",
       "    }\n",
       "</style>\n",
       "<table border=\"1\" class=\"dataframe\">\n",
       "  <thead>\n",
       "    <tr style=\"text-align: right;\">\n",
       "      <th></th>\n",
       "      <th>Time [ms]</th>\n",
       "      <th>Date</th>\n",
       "      <th>Time</th>\n",
       "      <th>Rel.Time [s]</th>\n",
       "      <th>5001|MVe [L/min]</th>\n",
       "      <th>5001|MVi [L/min]</th>\n",
       "      <th>5001|Cdyn [L/bar]</th>\n",
       "      <th>5001|R [mbar/L/s]</th>\n",
       "      <th>5001|MVespon [L/min]</th>\n",
       "      <th>5001|Rpat [mbar/L/s]</th>\n",
       "      <th>...</th>\n",
       "      <th>5001|TC [s]</th>\n",
       "      <th>5001|TCe [s]</th>\n",
       "      <th>5001|C20/Cdyn [no unit]</th>\n",
       "      <th>5001|VTe [mL]</th>\n",
       "      <th>5001|VTi [mL]</th>\n",
       "      <th>5001|EIP [mbar]</th>\n",
       "      <th>5001|MVleak [L/min]</th>\n",
       "      <th>5001|Tispon [s]</th>\n",
       "      <th>5001|I:Espon (I-Part) [no unit]</th>\n",
       "      <th>5001|I:Espon (E-Part) [no unit]</th>\n",
       "    </tr>\n",
       "  </thead>\n",
       "  <tbody>\n",
       "    <tr>\n",
       "      <th>0</th>\n",
       "      <td>1604324559904</td>\n",
       "      <td>2020-11-02</td>\n",
       "      <td>13:42:39.904</td>\n",
       "      <td>0</td>\n",
       "      <td>0.20</td>\n",
       "      <td>0.21</td>\n",
       "      <td>0.21</td>\n",
       "      <td>146.0</td>\n",
       "      <td>0.0</td>\n",
       "      <td>128.0</td>\n",
       "      <td>...</td>\n",
       "      <td>NaN</td>\n",
       "      <td>NaN</td>\n",
       "      <td>NaN</td>\n",
       "      <td>NaN</td>\n",
       "      <td>NaN</td>\n",
       "      <td>NaN</td>\n",
       "      <td>NaN</td>\n",
       "      <td>NaN</td>\n",
       "      <td>NaN</td>\n",
       "      <td>NaN</td>\n",
       "    </tr>\n",
       "    <tr>\n",
       "      <th>1</th>\n",
       "      <td>1604324560029</td>\n",
       "      <td>2020-11-02</td>\n",
       "      <td>13:42:40.029</td>\n",
       "      <td>0</td>\n",
       "      <td>NaN</td>\n",
       "      <td>NaN</td>\n",
       "      <td>NaN</td>\n",
       "      <td>NaN</td>\n",
       "      <td>NaN</td>\n",
       "      <td>NaN</td>\n",
       "      <td>...</td>\n",
       "      <td>0.03</td>\n",
       "      <td>0.11</td>\n",
       "      <td>0.55</td>\n",
       "      <td>3.4</td>\n",
       "      <td>3.4</td>\n",
       "      <td>21.0</td>\n",
       "      <td>0.0</td>\n",
       "      <td>NaN</td>\n",
       "      <td>NaN</td>\n",
       "      <td>NaN</td>\n",
       "    </tr>\n",
       "    <tr>\n",
       "      <th>2</th>\n",
       "      <td>1604324560951</td>\n",
       "      <td>2020-11-02</td>\n",
       "      <td>13:42:40.951</td>\n",
       "      <td>1</td>\n",
       "      <td>0.20</td>\n",
       "      <td>0.21</td>\n",
       "      <td>0.22</td>\n",
       "      <td>146.0</td>\n",
       "      <td>0.0</td>\n",
       "      <td>128.0</td>\n",
       "      <td>...</td>\n",
       "      <td>NaN</td>\n",
       "      <td>NaN</td>\n",
       "      <td>NaN</td>\n",
       "      <td>NaN</td>\n",
       "      <td>NaN</td>\n",
       "      <td>NaN</td>\n",
       "      <td>NaN</td>\n",
       "      <td>NaN</td>\n",
       "      <td>NaN</td>\n",
       "      <td>NaN</td>\n",
       "    </tr>\n",
       "    <tr>\n",
       "      <th>3</th>\n",
       "      <td>1604324561060</td>\n",
       "      <td>2020-11-02</td>\n",
       "      <td>13:42:41.060</td>\n",
       "      <td>1</td>\n",
       "      <td>NaN</td>\n",
       "      <td>NaN</td>\n",
       "      <td>NaN</td>\n",
       "      <td>NaN</td>\n",
       "      <td>NaN</td>\n",
       "      <td>NaN</td>\n",
       "      <td>...</td>\n",
       "      <td>0.03</td>\n",
       "      <td>0.21</td>\n",
       "      <td>0.55</td>\n",
       "      <td>8.2</td>\n",
       "      <td>3.6</td>\n",
       "      <td>22.0</td>\n",
       "      <td>0.0</td>\n",
       "      <td>NaN</td>\n",
       "      <td>NaN</td>\n",
       "      <td>NaN</td>\n",
       "    </tr>\n",
       "    <tr>\n",
       "      <th>4</th>\n",
       "      <td>1604324561935</td>\n",
       "      <td>2020-11-02</td>\n",
       "      <td>13:42:41.935</td>\n",
       "      <td>2</td>\n",
       "      <td>0.20</td>\n",
       "      <td>0.21</td>\n",
       "      <td>0.26</td>\n",
       "      <td>154.0</td>\n",
       "      <td>0.0</td>\n",
       "      <td>136.0</td>\n",
       "      <td>...</td>\n",
       "      <td>NaN</td>\n",
       "      <td>NaN</td>\n",
       "      <td>NaN</td>\n",
       "      <td>NaN</td>\n",
       "      <td>NaN</td>\n",
       "      <td>NaN</td>\n",
       "      <td>NaN</td>\n",
       "      <td>NaN</td>\n",
       "      <td>NaN</td>\n",
       "      <td>NaN</td>\n",
       "    </tr>\n",
       "    <tr>\n",
       "      <th>5</th>\n",
       "      <td>1604324562060</td>\n",
       "      <td>2020-11-02</td>\n",
       "      <td>13:42:42.060</td>\n",
       "      <td>2</td>\n",
       "      <td>NaN</td>\n",
       "      <td>NaN</td>\n",
       "      <td>NaN</td>\n",
       "      <td>NaN</td>\n",
       "      <td>NaN</td>\n",
       "      <td>NaN</td>\n",
       "      <td>...</td>\n",
       "      <td>0.04</td>\n",
       "      <td>0.12</td>\n",
       "      <td>0.66</td>\n",
       "      <td>4.1</td>\n",
       "      <td>3.5</td>\n",
       "      <td>19.0</td>\n",
       "      <td>0.0</td>\n",
       "      <td>NaN</td>\n",
       "      <td>NaN</td>\n",
       "      <td>NaN</td>\n",
       "    </tr>\n",
       "    <tr>\n",
       "      <th>6</th>\n",
       "      <td>1604324562888</td>\n",
       "      <td>2020-11-02</td>\n",
       "      <td>13:42:42.888</td>\n",
       "      <td>3</td>\n",
       "      <td>0.20</td>\n",
       "      <td>0.21</td>\n",
       "      <td>0.29</td>\n",
       "      <td>154.0</td>\n",
       "      <td>0.0</td>\n",
       "      <td>136.0</td>\n",
       "      <td>...</td>\n",
       "      <td>NaN</td>\n",
       "      <td>NaN</td>\n",
       "      <td>NaN</td>\n",
       "      <td>NaN</td>\n",
       "      <td>NaN</td>\n",
       "      <td>NaN</td>\n",
       "      <td>NaN</td>\n",
       "      <td>NaN</td>\n",
       "      <td>NaN</td>\n",
       "      <td>NaN</td>\n",
       "    </tr>\n",
       "    <tr>\n",
       "      <th>7</th>\n",
       "      <td>1604324563028</td>\n",
       "      <td>2020-11-02</td>\n",
       "      <td>13:42:43.028</td>\n",
       "      <td>3</td>\n",
       "      <td>NaN</td>\n",
       "      <td>NaN</td>\n",
       "      <td>NaN</td>\n",
       "      <td>NaN</td>\n",
       "      <td>NaN</td>\n",
       "      <td>NaN</td>\n",
       "      <td>...</td>\n",
       "      <td>0.05</td>\n",
       "      <td>0.19</td>\n",
       "      <td>0.66</td>\n",
       "      <td>5.5</td>\n",
       "      <td>3.8</td>\n",
       "      <td>18.0</td>\n",
       "      <td>0.0</td>\n",
       "      <td>NaN</td>\n",
       "      <td>NaN</td>\n",
       "      <td>NaN</td>\n",
       "    </tr>\n",
       "    <tr>\n",
       "      <th>8</th>\n",
       "      <td>1604324563919</td>\n",
       "      <td>2020-11-02</td>\n",
       "      <td>13:42:43.919</td>\n",
       "      <td>4</td>\n",
       "      <td>0.20</td>\n",
       "      <td>0.20</td>\n",
       "      <td>0.40</td>\n",
       "      <td>193.0</td>\n",
       "      <td>0.0</td>\n",
       "      <td>177.0</td>\n",
       "      <td>...</td>\n",
       "      <td>NaN</td>\n",
       "      <td>NaN</td>\n",
       "      <td>NaN</td>\n",
       "      <td>NaN</td>\n",
       "      <td>NaN</td>\n",
       "      <td>NaN</td>\n",
       "      <td>NaN</td>\n",
       "      <td>NaN</td>\n",
       "      <td>NaN</td>\n",
       "      <td>NaN</td>\n",
       "    </tr>\n",
       "    <tr>\n",
       "      <th>9</th>\n",
       "      <td>1604324564044</td>\n",
       "      <td>2020-11-02</td>\n",
       "      <td>13:42:44.044</td>\n",
       "      <td>4</td>\n",
       "      <td>NaN</td>\n",
       "      <td>NaN</td>\n",
       "      <td>NaN</td>\n",
       "      <td>NaN</td>\n",
       "      <td>NaN</td>\n",
       "      <td>NaN</td>\n",
       "      <td>...</td>\n",
       "      <td>0.06</td>\n",
       "      <td>0.10</td>\n",
       "      <td>0.69</td>\n",
       "      <td>2.6</td>\n",
       "      <td>4.3</td>\n",
       "      <td>16.0</td>\n",
       "      <td>0.0</td>\n",
       "      <td>NaN</td>\n",
       "      <td>NaN</td>\n",
       "      <td>NaN</td>\n",
       "    </tr>\n",
       "    <tr>\n",
       "      <th>10</th>\n",
       "      <td>1604324564934</td>\n",
       "      <td>2020-11-02</td>\n",
       "      <td>13:42:44.934</td>\n",
       "      <td>5</td>\n",
       "      <td>0.21</td>\n",
       "      <td>0.20</td>\n",
       "      <td>0.39</td>\n",
       "      <td>193.0</td>\n",
       "      <td>0.0</td>\n",
       "      <td>177.0</td>\n",
       "      <td>...</td>\n",
       "      <td>NaN</td>\n",
       "      <td>NaN</td>\n",
       "      <td>NaN</td>\n",
       "      <td>NaN</td>\n",
       "      <td>NaN</td>\n",
       "      <td>NaN</td>\n",
       "      <td>NaN</td>\n",
       "      <td>NaN</td>\n",
       "      <td>NaN</td>\n",
       "      <td>NaN</td>\n",
       "    </tr>\n",
       "    <tr>\n",
       "      <th>11</th>\n",
       "      <td>1604324565044</td>\n",
       "      <td>2020-11-02</td>\n",
       "      <td>13:42:45.044</td>\n",
       "      <td>5</td>\n",
       "      <td>NaN</td>\n",
       "      <td>NaN</td>\n",
       "      <td>NaN</td>\n",
       "      <td>NaN</td>\n",
       "      <td>NaN</td>\n",
       "      <td>NaN</td>\n",
       "      <td>...</td>\n",
       "      <td>0.08</td>\n",
       "      <td>0.20</td>\n",
       "      <td>0.69</td>\n",
       "      <td>5.2</td>\n",
       "      <td>4.0</td>\n",
       "      <td>18.0</td>\n",
       "      <td>0.0</td>\n",
       "      <td>NaN</td>\n",
       "      <td>NaN</td>\n",
       "      <td>NaN</td>\n",
       "    </tr>\n",
       "    <tr>\n",
       "      <th>12</th>\n",
       "      <td>1604324565903</td>\n",
       "      <td>2020-11-02</td>\n",
       "      <td>13:42:45.903</td>\n",
       "      <td>6</td>\n",
       "      <td>0.21</td>\n",
       "      <td>0.20</td>\n",
       "      <td>0.42</td>\n",
       "      <td>193.0</td>\n",
       "      <td>0.0</td>\n",
       "      <td>177.0</td>\n",
       "      <td>...</td>\n",
       "      <td>NaN</td>\n",
       "      <td>NaN</td>\n",
       "      <td>NaN</td>\n",
       "      <td>NaN</td>\n",
       "      <td>NaN</td>\n",
       "      <td>NaN</td>\n",
       "      <td>NaN</td>\n",
       "      <td>NaN</td>\n",
       "      <td>NaN</td>\n",
       "      <td>NaN</td>\n",
       "    </tr>\n",
       "    <tr>\n",
       "      <th>13</th>\n",
       "      <td>1604324566028</td>\n",
       "      <td>2020-11-02</td>\n",
       "      <td>13:42:46.028</td>\n",
       "      <td>6</td>\n",
       "      <td>NaN</td>\n",
       "      <td>NaN</td>\n",
       "      <td>NaN</td>\n",
       "      <td>NaN</td>\n",
       "      <td>NaN</td>\n",
       "      <td>NaN</td>\n",
       "      <td>...</td>\n",
       "      <td>0.08</td>\n",
       "      <td>0.12</td>\n",
       "      <td>0.69</td>\n",
       "      <td>2.2</td>\n",
       "      <td>4.3</td>\n",
       "      <td>17.0</td>\n",
       "      <td>0.0</td>\n",
       "      <td>NaN</td>\n",
       "      <td>NaN</td>\n",
       "      <td>NaN</td>\n",
       "    </tr>\n",
       "    <tr>\n",
       "      <th>14</th>\n",
       "      <td>1604324566934</td>\n",
       "      <td>2020-11-02</td>\n",
       "      <td>13:42:46.934</td>\n",
       "      <td>7</td>\n",
       "      <td>0.22</td>\n",
       "      <td>0.20</td>\n",
       "      <td>0.30</td>\n",
       "      <td>195.0</td>\n",
       "      <td>0.0</td>\n",
       "      <td>177.0</td>\n",
       "      <td>...</td>\n",
       "      <td>NaN</td>\n",
       "      <td>NaN</td>\n",
       "      <td>NaN</td>\n",
       "      <td>NaN</td>\n",
       "      <td>NaN</td>\n",
       "      <td>NaN</td>\n",
       "      <td>NaN</td>\n",
       "      <td>NaN</td>\n",
       "      <td>NaN</td>\n",
       "      <td>NaN</td>\n",
       "    </tr>\n",
       "  </tbody>\n",
       "</table>\n",
       "<p>15 rows × 47 columns</p>\n",
       "</div>"
      ],
      "text/plain": [
       "        Time [ms]        Date          Time  Rel.Time [s]  5001|MVe [L/min]  \\\n",
       "0   1604324559904  2020-11-02  13:42:39.904             0              0.20   \n",
       "1   1604324560029  2020-11-02  13:42:40.029             0               NaN   \n",
       "2   1604324560951  2020-11-02  13:42:40.951             1              0.20   \n",
       "3   1604324561060  2020-11-02  13:42:41.060             1               NaN   \n",
       "4   1604324561935  2020-11-02  13:42:41.935             2              0.20   \n",
       "5   1604324562060  2020-11-02  13:42:42.060             2               NaN   \n",
       "6   1604324562888  2020-11-02  13:42:42.888             3              0.20   \n",
       "7   1604324563028  2020-11-02  13:42:43.028             3               NaN   \n",
       "8   1604324563919  2020-11-02  13:42:43.919             4              0.20   \n",
       "9   1604324564044  2020-11-02  13:42:44.044             4               NaN   \n",
       "10  1604324564934  2020-11-02  13:42:44.934             5              0.21   \n",
       "11  1604324565044  2020-11-02  13:42:45.044             5               NaN   \n",
       "12  1604324565903  2020-11-02  13:42:45.903             6              0.21   \n",
       "13  1604324566028  2020-11-02  13:42:46.028             6               NaN   \n",
       "14  1604324566934  2020-11-02  13:42:46.934             7              0.22   \n",
       "\n",
       "    5001|MVi [L/min]  5001|Cdyn [L/bar]  5001|R [mbar/L/s]  \\\n",
       "0               0.21               0.21              146.0   \n",
       "1                NaN                NaN                NaN   \n",
       "2               0.21               0.22              146.0   \n",
       "3                NaN                NaN                NaN   \n",
       "4               0.21               0.26              154.0   \n",
       "5                NaN                NaN                NaN   \n",
       "6               0.21               0.29              154.0   \n",
       "7                NaN                NaN                NaN   \n",
       "8               0.20               0.40              193.0   \n",
       "9                NaN                NaN                NaN   \n",
       "10              0.20               0.39              193.0   \n",
       "11               NaN                NaN                NaN   \n",
       "12              0.20               0.42              193.0   \n",
       "13               NaN                NaN                NaN   \n",
       "14              0.20               0.30              195.0   \n",
       "\n",
       "    5001|MVespon [L/min]  5001|Rpat [mbar/L/s]  ...  5001|TC [s]  \\\n",
       "0                    0.0                 128.0  ...          NaN   \n",
       "1                    NaN                   NaN  ...         0.03   \n",
       "2                    0.0                 128.0  ...          NaN   \n",
       "3                    NaN                   NaN  ...         0.03   \n",
       "4                    0.0                 136.0  ...          NaN   \n",
       "5                    NaN                   NaN  ...         0.04   \n",
       "6                    0.0                 136.0  ...          NaN   \n",
       "7                    NaN                   NaN  ...         0.05   \n",
       "8                    0.0                 177.0  ...          NaN   \n",
       "9                    NaN                   NaN  ...         0.06   \n",
       "10                   0.0                 177.0  ...          NaN   \n",
       "11                   NaN                   NaN  ...         0.08   \n",
       "12                   0.0                 177.0  ...          NaN   \n",
       "13                   NaN                   NaN  ...         0.08   \n",
       "14                   0.0                 177.0  ...          NaN   \n",
       "\n",
       "    5001|TCe [s]  5001|C20/Cdyn [no unit]  5001|VTe [mL]  5001|VTi [mL]  \\\n",
       "0            NaN                      NaN            NaN            NaN   \n",
       "1           0.11                     0.55            3.4            3.4   \n",
       "2            NaN                      NaN            NaN            NaN   \n",
       "3           0.21                     0.55            8.2            3.6   \n",
       "4            NaN                      NaN            NaN            NaN   \n",
       "5           0.12                     0.66            4.1            3.5   \n",
       "6            NaN                      NaN            NaN            NaN   \n",
       "7           0.19                     0.66            5.5            3.8   \n",
       "8            NaN                      NaN            NaN            NaN   \n",
       "9           0.10                     0.69            2.6            4.3   \n",
       "10           NaN                      NaN            NaN            NaN   \n",
       "11          0.20                     0.69            5.2            4.0   \n",
       "12           NaN                      NaN            NaN            NaN   \n",
       "13          0.12                     0.69            2.2            4.3   \n",
       "14           NaN                      NaN            NaN            NaN   \n",
       "\n",
       "    5001|EIP [mbar]  5001|MVleak [L/min]  5001|Tispon [s]  \\\n",
       "0               NaN                  NaN              NaN   \n",
       "1              21.0                  0.0              NaN   \n",
       "2               NaN                  NaN              NaN   \n",
       "3              22.0                  0.0              NaN   \n",
       "4               NaN                  NaN              NaN   \n",
       "5              19.0                  0.0              NaN   \n",
       "6               NaN                  NaN              NaN   \n",
       "7              18.0                  0.0              NaN   \n",
       "8               NaN                  NaN              NaN   \n",
       "9              16.0                  0.0              NaN   \n",
       "10              NaN                  NaN              NaN   \n",
       "11             18.0                  0.0              NaN   \n",
       "12              NaN                  NaN              NaN   \n",
       "13             17.0                  0.0              NaN   \n",
       "14              NaN                  NaN              NaN   \n",
       "\n",
       "    5001|I:Espon (I-Part) [no unit]  5001|I:Espon (E-Part) [no unit]  \n",
       "0                               NaN                              NaN  \n",
       "1                               NaN                              NaN  \n",
       "2                               NaN                              NaN  \n",
       "3                               NaN                              NaN  \n",
       "4                               NaN                              NaN  \n",
       "5                               NaN                              NaN  \n",
       "6                               NaN                              NaN  \n",
       "7                               NaN                              NaN  \n",
       "8                               NaN                              NaN  \n",
       "9                               NaN                              NaN  \n",
       "10                              NaN                              NaN  \n",
       "11                              NaN                              NaN  \n",
       "12                              NaN                              NaN  \n",
       "13                              NaN                              NaN  \n",
       "14                              NaN                              NaN  \n",
       "\n",
       "[15 rows x 47 columns]"
      ]
     },
     "execution_count": 75,
     "metadata": {},
     "output_type": "execute_result"
    }
   ],
   "source": [
    "# Only import the first n rows\n",
    "\n",
    "path = os.path.join('data', 'CsvLogBase_2020-11-02_134238.904_slow_Measurement.csv.zip')\n",
    "data = pd.read_csv(path, nrows = 15)\n",
    "data"
   ]
  },
  {
   "cell_type": "markdown",
   "metadata": {},
   "source": [
    "1. Only limit columns to the ones you really need\n",
    "\n",
    "2. Only throw away rows (data points) you really need to drop"
   ]
  },
  {
   "cell_type": "code",
   "execution_count": 79,
   "metadata": {},
   "outputs": [
    {
     "data": {
      "text/html": [
       "<div>\n",
       "<style scoped>\n",
       "    .dataframe tbody tr th:only-of-type {\n",
       "        vertical-align: middle;\n",
       "    }\n",
       "\n",
       "    .dataframe tbody tr th {\n",
       "        vertical-align: top;\n",
       "    }\n",
       "\n",
       "    .dataframe thead th {\n",
       "        text-align: right;\n",
       "    }\n",
       "</style>\n",
       "<table border=\"1\" class=\"dataframe\">\n",
       "  <thead>\n",
       "    <tr style=\"text-align: right;\">\n",
       "      <th></th>\n",
       "      <th>Date</th>\n",
       "      <th>Time</th>\n",
       "      <th>5001|MVe [L/min]</th>\n",
       "      <th>5001|VTmand [mL]</th>\n",
       "      <th>5001|PIP [mbar]</th>\n",
       "      <th>5001|RRspon [1/min]</th>\n",
       "    </tr>\n",
       "    <tr>\n",
       "      <th>Rel.Time [s]</th>\n",
       "      <th></th>\n",
       "      <th></th>\n",
       "      <th></th>\n",
       "      <th></th>\n",
       "      <th></th>\n",
       "      <th></th>\n",
       "    </tr>\n",
       "  </thead>\n",
       "  <tbody>\n",
       "    <tr>\n",
       "      <th>0</th>\n",
       "      <td>2020-11-02</td>\n",
       "      <td>13:42:39.904</td>\n",
       "      <td>0.20</td>\n",
       "      <td>3.4</td>\n",
       "      <td>22.0</td>\n",
       "      <td>0.0</td>\n",
       "    </tr>\n",
       "    <tr>\n",
       "      <th>0</th>\n",
       "      <td>2020-11-02</td>\n",
       "      <td>13:42:40.029</td>\n",
       "      <td>NaN</td>\n",
       "      <td>NaN</td>\n",
       "      <td>NaN</td>\n",
       "      <td>NaN</td>\n",
       "    </tr>\n",
       "    <tr>\n",
       "      <th>1</th>\n",
       "      <td>2020-11-02</td>\n",
       "      <td>13:42:40.951</td>\n",
       "      <td>0.20</td>\n",
       "      <td>8.2</td>\n",
       "      <td>23.0</td>\n",
       "      <td>0.0</td>\n",
       "    </tr>\n",
       "    <tr>\n",
       "      <th>1</th>\n",
       "      <td>2020-11-02</td>\n",
       "      <td>13:42:41.060</td>\n",
       "      <td>NaN</td>\n",
       "      <td>NaN</td>\n",
       "      <td>NaN</td>\n",
       "      <td>NaN</td>\n",
       "    </tr>\n",
       "    <tr>\n",
       "      <th>2</th>\n",
       "      <td>2020-11-02</td>\n",
       "      <td>13:42:41.935</td>\n",
       "      <td>0.20</td>\n",
       "      <td>4.1</td>\n",
       "      <td>19.0</td>\n",
       "      <td>0.0</td>\n",
       "    </tr>\n",
       "    <tr>\n",
       "      <th>...</th>\n",
       "      <td>...</td>\n",
       "      <td>...</td>\n",
       "      <td>...</td>\n",
       "      <td>...</td>\n",
       "      <td>...</td>\n",
       "      <td>...</td>\n",
       "    </tr>\n",
       "    <tr>\n",
       "      <th>49990</th>\n",
       "      <td>2020-11-03</td>\n",
       "      <td>03:35:50.034</td>\n",
       "      <td>NaN</td>\n",
       "      <td>NaN</td>\n",
       "      <td>NaN</td>\n",
       "      <td>NaN</td>\n",
       "    </tr>\n",
       "    <tr>\n",
       "      <th>49991</th>\n",
       "      <td>2020-11-03</td>\n",
       "      <td>03:35:50.909</td>\n",
       "      <td>0.24</td>\n",
       "      <td>4.2</td>\n",
       "      <td>32.0</td>\n",
       "      <td>0.0</td>\n",
       "    </tr>\n",
       "    <tr>\n",
       "      <th>49991</th>\n",
       "      <td>2020-11-03</td>\n",
       "      <td>03:35:51.050</td>\n",
       "      <td>NaN</td>\n",
       "      <td>NaN</td>\n",
       "      <td>NaN</td>\n",
       "      <td>NaN</td>\n",
       "    </tr>\n",
       "    <tr>\n",
       "      <th>49992</th>\n",
       "      <td>2020-11-03</td>\n",
       "      <td>03:35:51.909</td>\n",
       "      <td>0.24</td>\n",
       "      <td>4.0</td>\n",
       "      <td>32.0</td>\n",
       "      <td>0.0</td>\n",
       "    </tr>\n",
       "    <tr>\n",
       "      <th>49992</th>\n",
       "      <td>2020-11-03</td>\n",
       "      <td>03:35:52.050</td>\n",
       "      <td>NaN</td>\n",
       "      <td>NaN</td>\n",
       "      <td>NaN</td>\n",
       "      <td>NaN</td>\n",
       "    </tr>\n",
       "  </tbody>\n",
       "</table>\n",
       "<p>100000 rows × 6 columns</p>\n",
       "</div>"
      ],
      "text/plain": [
       "                    Date          Time  5001|MVe [L/min]  5001|VTmand [mL]  \\\n",
       "Rel.Time [s]                                                                 \n",
       "0             2020-11-02  13:42:39.904              0.20               3.4   \n",
       "0             2020-11-02  13:42:40.029               NaN               NaN   \n",
       "1             2020-11-02  13:42:40.951              0.20               8.2   \n",
       "1             2020-11-02  13:42:41.060               NaN               NaN   \n",
       "2             2020-11-02  13:42:41.935              0.20               4.1   \n",
       "...                  ...           ...               ...               ...   \n",
       "49990         2020-11-03  03:35:50.034               NaN               NaN   \n",
       "49991         2020-11-03  03:35:50.909              0.24               4.2   \n",
       "49991         2020-11-03  03:35:51.050               NaN               NaN   \n",
       "49992         2020-11-03  03:35:51.909              0.24               4.0   \n",
       "49992         2020-11-03  03:35:52.050               NaN               NaN   \n",
       "\n",
       "              5001|PIP [mbar]  5001|RRspon [1/min]  \n",
       "Rel.Time [s]                                        \n",
       "0                        22.0                  0.0  \n",
       "0                         NaN                  NaN  \n",
       "1                        23.0                  0.0  \n",
       "1                         NaN                  NaN  \n",
       "2                        19.0                  0.0  \n",
       "...                       ...                  ...  \n",
       "49990                     NaN                  NaN  \n",
       "49991                    32.0                  0.0  \n",
       "49991                     NaN                  NaN  \n",
       "49992                    32.0                  0.0  \n",
       "49992                     NaN                  NaN  \n",
       "\n",
       "[100000 rows x 6 columns]"
      ]
     },
     "execution_count": 79,
     "metadata": {},
     "output_type": "execute_result"
    }
   ],
   "source": [
    "path = os.path.join('data', 'CsvLogBase_2020-11-02_134238.904_slow_Measurement.csv.zip')\n",
    "columns_to_keep = ['Date', 'Time', 'Rel.Time [s]','5001|MVe [L/min]', '5001|VTmand [mL]',\n",
    "                   '5001|PIP [mbar]', '5001|RRspon [1/min]']\n",
    "new_index = ['Rel.Time [s]']\n",
    "\n",
    "data = pd.read_csv(path, nrows = 100000, usecols = columns_to_keep, index_col = new_index)\n",
    "data"
   ]
  },
  {
   "cell_type": "code",
   "execution_count": 80,
   "metadata": {},
   "outputs": [
    {
     "name": "stdout",
     "output_type": "stream",
     "text": [
      "<class 'pandas.core.frame.DataFrame'>\n",
      "Int64Index: 100000 entries, 0 to 49992\n",
      "Data columns (total 6 columns):\n",
      " #   Column               Non-Null Count   Dtype  \n",
      "---  ------               --------------   -----  \n",
      " 0   Date                 100000 non-null  object \n",
      " 1   Time                 100000 non-null  object \n",
      " 2   5001|MVe [L/min]     49993 non-null   float64\n",
      " 3   5001|VTmand [mL]     49992 non-null   float64\n",
      " 4   5001|PIP [mbar]      49993 non-null   float64\n",
      " 5   5001|RRspon [1/min]  38115 non-null   float64\n",
      "dtypes: float64(4), object(2)\n",
      "memory usage: 5.3+ MB\n"
     ]
    }
   ],
   "source": [
    "data.info()"
   ]
  },
  {
   "cell_type": "code",
   "execution_count": 81,
   "metadata": {},
   "outputs": [
    {
     "data": {
      "text/html": [
       "<div>\n",
       "<style scoped>\n",
       "    .dataframe tbody tr th:only-of-type {\n",
       "        vertical-align: middle;\n",
       "    }\n",
       "\n",
       "    .dataframe tbody tr th {\n",
       "        vertical-align: top;\n",
       "    }\n",
       "\n",
       "    .dataframe thead th {\n",
       "        text-align: right;\n",
       "    }\n",
       "</style>\n",
       "<table border=\"1\" class=\"dataframe\">\n",
       "  <thead>\n",
       "    <tr style=\"text-align: right;\">\n",
       "      <th></th>\n",
       "      <th>5001|MVe [L/min]</th>\n",
       "      <th>5001|VTmand [mL]</th>\n",
       "      <th>5001|PIP [mbar]</th>\n",
       "      <th>5001|RRspon [1/min]</th>\n",
       "    </tr>\n",
       "  </thead>\n",
       "  <tbody>\n",
       "    <tr>\n",
       "      <th>count</th>\n",
       "      <td>49993.000000</td>\n",
       "      <td>49992.000000</td>\n",
       "      <td>49993.000000</td>\n",
       "      <td>38115.000000</td>\n",
       "    </tr>\n",
       "    <tr>\n",
       "      <th>mean</th>\n",
       "      <td>0.237720</td>\n",
       "      <td>4.063312</td>\n",
       "      <td>27.231638</td>\n",
       "      <td>0.336114</td>\n",
       "    </tr>\n",
       "    <tr>\n",
       "      <th>std</th>\n",
       "      <td>0.024022</td>\n",
       "      <td>0.899444</td>\n",
       "      <td>5.212299</td>\n",
       "      <td>0.920190</td>\n",
       "    </tr>\n",
       "    <tr>\n",
       "      <th>min</th>\n",
       "      <td>0.010000</td>\n",
       "      <td>0.600000</td>\n",
       "      <td>3.600000</td>\n",
       "      <td>0.000000</td>\n",
       "    </tr>\n",
       "    <tr>\n",
       "      <th>25%</th>\n",
       "      <td>0.220000</td>\n",
       "      <td>3.500000</td>\n",
       "      <td>22.000000</td>\n",
       "      <td>0.000000</td>\n",
       "    </tr>\n",
       "    <tr>\n",
       "      <th>50%</th>\n",
       "      <td>0.240000</td>\n",
       "      <td>4.100000</td>\n",
       "      <td>28.000000</td>\n",
       "      <td>0.000000</td>\n",
       "    </tr>\n",
       "    <tr>\n",
       "      <th>75%</th>\n",
       "      <td>0.250000</td>\n",
       "      <td>4.300000</td>\n",
       "      <td>32.000000</td>\n",
       "      <td>0.000000</td>\n",
       "    </tr>\n",
       "    <tr>\n",
       "      <th>max</th>\n",
       "      <td>0.350000</td>\n",
       "      <td>31.200000</td>\n",
       "      <td>42.000000</td>\n",
       "      <td>9.000000</td>\n",
       "    </tr>\n",
       "  </tbody>\n",
       "</table>\n",
       "</div>"
      ],
      "text/plain": [
       "       5001|MVe [L/min]  5001|VTmand [mL]  5001|PIP [mbar]  \\\n",
       "count      49993.000000      49992.000000     49993.000000   \n",
       "mean           0.237720          4.063312        27.231638   \n",
       "std            0.024022          0.899444         5.212299   \n",
       "min            0.010000          0.600000         3.600000   \n",
       "25%            0.220000          3.500000        22.000000   \n",
       "50%            0.240000          4.100000        28.000000   \n",
       "75%            0.250000          4.300000        32.000000   \n",
       "max            0.350000         31.200000        42.000000   \n",
       "\n",
       "       5001|RRspon [1/min]  \n",
       "count         38115.000000  \n",
       "mean              0.336114  \n",
       "std               0.920190  \n",
       "min               0.000000  \n",
       "25%               0.000000  \n",
       "50%               0.000000  \n",
       "75%               0.000000  \n",
       "max               9.000000  "
      ]
     },
     "execution_count": 81,
     "metadata": {},
     "output_type": "execute_result"
    }
   ],
   "source": [
    "data.describe()"
   ]
  },
  {
   "cell_type": "markdown",
   "metadata": {},
   "source": [
    "## 6. Homework"
   ]
  },
  {
   "cell_type": "markdown",
   "metadata": {},
   "source": [
    "#### Slicing and dicing in Python"
   ]
  },
  {
   "cell_type": "code",
   "execution_count": 82,
   "metadata": {},
   "outputs": [
    {
     "data": {
      "text/plain": [
       "['January',\n",
       " 'February',\n",
       " 'March',\n",
       " 'April',\n",
       " 'May',\n",
       " 'June',\n",
       " 'July',\n",
       " 'August',\n",
       " 'September',\n",
       " 'October',\n",
       " 'November',\n",
       " 'December']"
      ]
     },
     "execution_count": 82,
     "metadata": {},
     "output_type": "execute_result"
    }
   ],
   "source": [
    "# List of strings\n",
    "\n",
    "lst = ['January', 'February', 'March', 'April', 'May', 'June', 'July', 'August', 'September', 'October',\n",
    "       'November', 'December']\n",
    "\n",
    "lst"
   ]
  },
  {
   "cell_type": "code",
   "execution_count": 83,
   "metadata": {},
   "outputs": [
    {
     "data": {
      "text/plain": [
       "['January', 'February', 'March', 'April']"
      ]
     },
     "execution_count": 83,
     "metadata": {},
     "output_type": "execute_result"
    }
   ],
   "source": [
    "# Indexing is zero based\n",
    "\n",
    "lst[0:4]"
   ]
  },
  {
   "cell_type": "markdown",
   "metadata": {},
   "source": [
    "##### So - write the input to generate the output"
   ]
  },
  {
   "cell_type": "markdown",
   "metadata": {},
   "source": [
    "`['March', 'April', 'May']`"
   ]
  },
  {
   "cell_type": "code",
   "execution_count": 84,
   "metadata": {},
   "outputs": [
    {
     "ename": "SyntaxError",
     "evalue": "invalid syntax (<ipython-input-84-e26c11592379>, line 1)",
     "output_type": "error",
     "traceback": [
      "\u001b[0;36m  File \u001b[0;32m\"<ipython-input-84-e26c11592379>\"\u001b[0;36m, line \u001b[0;32m1\u001b[0m\n\u001b[0;31m    lst[]\u001b[0m\n\u001b[0m        ^\u001b[0m\n\u001b[0;31mSyntaxError\u001b[0m\u001b[0;31m:\u001b[0m invalid syntax\n"
     ]
    }
   ],
   "source": [
    "lst[]"
   ]
  },
  {
   "cell_type": "markdown",
   "metadata": {},
   "source": [
    "`['May', 'June', 'July', 'August']`"
   ]
  },
  {
   "cell_type": "code",
   "execution_count": 85,
   "metadata": {},
   "outputs": [
    {
     "ename": "SyntaxError",
     "evalue": "invalid syntax (<ipython-input-85-e26c11592379>, line 1)",
     "output_type": "error",
     "traceback": [
      "\u001b[0;36m  File \u001b[0;32m\"<ipython-input-85-e26c11592379>\"\u001b[0;36m, line \u001b[0;32m1\u001b[0m\n\u001b[0;31m    lst[]\u001b[0m\n\u001b[0m        ^\u001b[0m\n\u001b[0;31mSyntaxError\u001b[0m\u001b[0;31m:\u001b[0m invalid syntax\n"
     ]
    }
   ],
   "source": [
    "lst[]"
   ]
  },
  {
   "cell_type": "markdown",
   "metadata": {},
   "source": [
    "`['July', 'August', 'September', 'October', 'November', 'December']`"
   ]
  },
  {
   "cell_type": "code",
   "execution_count": null,
   "metadata": {},
   "outputs": [],
   "source": [
    "lst[]"
   ]
  },
  {
   "cell_type": "markdown",
   "metadata": {},
   "source": [
    "`['January', 'March', 'May', 'July', 'September']`"
   ]
  },
  {
   "cell_type": "code",
   "execution_count": null,
   "metadata": {},
   "outputs": [],
   "source": [
    "lst[]"
   ]
  },
  {
   "cell_type": "markdown",
   "metadata": {},
   "source": [
    "`['March', 'April', 'May']`"
   ]
  },
  {
   "cell_type": "markdown",
   "metadata": {},
   "source": [
    "`['January',\n",
    " 'February',\n",
    " 'March',\n",
    " 'April',\n",
    " 'May',\n",
    " 'June',\n",
    " 'July',\n",
    " 'August',\n",
    " 'September',\n",
    " 'October',\n",
    " 'November',\n",
    " 'December']`"
   ]
  },
  {
   "cell_type": "code",
   "execution_count": null,
   "metadata": {},
   "outputs": [],
   "source": [
    "lst[]"
   ]
  },
  {
   "cell_type": "markdown",
   "metadata": {},
   "source": [
    "`['April', 'June', 'August', 'October']`"
   ]
  },
  {
   "cell_type": "code",
   "execution_count": null,
   "metadata": {
    "scrolled": true
   },
   "outputs": [],
   "source": [
    "lst[]"
   ]
  },
  {
   "cell_type": "markdown",
   "metadata": {},
   "source": [
    "`['December', 'November', 'October', 'September', 'August']`"
   ]
  },
  {
   "cell_type": "code",
   "execution_count": null,
   "metadata": {},
   "outputs": [],
   "source": [
    "lst[]"
   ]
  },
  {
   "cell_type": "markdown",
   "metadata": {},
   "source": [
    "`['November', 'September', 'July', 'May']`"
   ]
  },
  {
   "cell_type": "code",
   "execution_count": null,
   "metadata": {},
   "outputs": [],
   "source": [
    "lst[]"
   ]
  },
  {
   "cell_type": "markdown",
   "metadata": {},
   "source": [
    "`['December',\n",
    " 'November',\n",
    " 'October',\n",
    " 'September',\n",
    " 'August',\n",
    " 'July',\n",
    " 'June',\n",
    " 'May',\n",
    " 'April',\n",
    " 'March',\n",
    " 'February',\n",
    " 'January']`"
   ]
  },
  {
   "cell_type": "code",
   "execution_count": null,
   "metadata": {},
   "outputs": [],
   "source": [
    "lst[]"
   ]
  },
  {
   "cell_type": "code",
   "execution_count": null,
   "metadata": {},
   "outputs": [],
   "source": []
  }
 ],
 "metadata": {
  "anaconda-cloud": {},
  "kernelspec": {
   "display_name": "Python 3",
   "language": "python",
   "name": "python3"
  },
  "language_info": {
   "codemirror_mode": {
    "name": "ipython",
    "version": 3
   },
   "file_extension": ".py",
   "mimetype": "text/x-python",
   "name": "python",
   "nbconvert_exporter": "python",
   "pygments_lexer": "ipython3",
   "version": "3.7.9"
  }
 },
 "nbformat": 4,
 "nbformat_minor": 2
}
