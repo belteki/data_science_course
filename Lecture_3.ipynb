{
 "cells": [
  {
   "cell_type": "markdown",
   "metadata": {},
   "source": [
    "![alt text](./pageheader_rose2_babies.jpg)"
   ]
  },
  {
   "cell_type": "markdown",
   "metadata": {},
   "source": [
    "# Data Science in Medicine using Python\n",
    "\n",
    "### Author: Dr Gusztav Belteki"
   ]
  },
  {
   "cell_type": "markdown",
   "metadata": {},
   "source": [
    "### Review of homework: slicing and dicing in Python"
   ]
  },
  {
   "cell_type": "code",
   "execution_count": 2,
   "metadata": {},
   "outputs": [
    {
     "data": {
      "text/plain": [
       "['January',\n",
       " 'February',\n",
       " 'March',\n",
       " 'April',\n",
       " 'May',\n",
       " 'June',\n",
       " 'July',\n",
       " 'August',\n",
       " 'September',\n",
       " 'October',\n",
       " 'November',\n",
       " 'December']"
      ]
     },
     "execution_count": 2,
     "metadata": {},
     "output_type": "execute_result"
    }
   ],
   "source": [
    "# List of strings\n",
    "\n",
    "lst = ['January', 'February', 'March', 'April', 'May', 'June', 'July', 'August', 'September', 'October',\n",
    "       'November', 'December']\n",
    "\n",
    "lst"
   ]
  },
  {
   "cell_type": "code",
   "execution_count": 3,
   "metadata": {},
   "outputs": [
    {
     "data": {
      "text/plain": [
       "['January', 'February', 'March', 'April']"
      ]
     },
     "execution_count": 3,
     "metadata": {},
     "output_type": "execute_result"
    }
   ],
   "source": [
    "# Indexing is zero based\n",
    "\n",
    "lst[0:4]"
   ]
  },
  {
   "cell_type": "markdown",
   "metadata": {},
   "source": [
    "##### So - write the input to generate the output"
   ]
  },
  {
   "cell_type": "markdown",
   "metadata": {},
   "source": [
    "`['March', 'April', 'May']`"
   ]
  },
  {
   "cell_type": "code",
   "execution_count": 4,
   "metadata": {},
   "outputs": [
    {
     "data": {
      "text/plain": [
       "['March', 'April', 'May']"
      ]
     },
     "execution_count": 4,
     "metadata": {},
     "output_type": "execute_result"
    }
   ],
   "source": [
    "lst[2:5]"
   ]
  },
  {
   "cell_type": "markdown",
   "metadata": {},
   "source": [
    "`['May', 'June', 'July', 'August']`"
   ]
  },
  {
   "cell_type": "code",
   "execution_count": 12,
   "metadata": {},
   "outputs": [
    {
     "data": {
      "text/plain": [
       "['May', 'June', 'July', 'August']"
      ]
     },
     "execution_count": 12,
     "metadata": {},
     "output_type": "execute_result"
    }
   ],
   "source": [
    "lst[4:8]"
   ]
  },
  {
   "cell_type": "markdown",
   "metadata": {},
   "source": [
    "`['July', 'August', 'September', 'October', 'November', 'December']`"
   ]
  },
  {
   "cell_type": "code",
   "execution_count": 28,
   "metadata": {},
   "outputs": [
    {
     "data": {
      "text/plain": [
       "['July', 'August', 'September', 'October', 'November', 'December']"
      ]
     },
     "execution_count": 28,
     "metadata": {},
     "output_type": "execute_result"
    }
   ],
   "source": [
    "lst[6:12]"
   ]
  },
  {
   "cell_type": "code",
   "execution_count": 29,
   "metadata": {},
   "outputs": [
    {
     "data": {
      "text/plain": [
       "['July', 'August', 'September', 'October', 'November', 'December']"
      ]
     },
     "execution_count": 29,
     "metadata": {},
     "output_type": "execute_result"
    }
   ],
   "source": [
    "lst[6:]"
   ]
  },
  {
   "cell_type": "markdown",
   "metadata": {},
   "source": [
    "`['January', 'March', 'May', 'July', 'September']`"
   ]
  },
  {
   "cell_type": "code",
   "execution_count": 30,
   "metadata": {},
   "outputs": [
    {
     "data": {
      "text/plain": [
       "['January', 'March', 'May', 'July', 'September']"
      ]
     },
     "execution_count": 30,
     "metadata": {},
     "output_type": "execute_result"
    }
   ],
   "source": [
    "lst[0:9:2]"
   ]
  },
  {
   "cell_type": "code",
   "execution_count": 31,
   "metadata": {},
   "outputs": [
    {
     "data": {
      "text/plain": [
       "['January', 'March', 'May', 'July', 'September']"
      ]
     },
     "execution_count": 31,
     "metadata": {},
     "output_type": "execute_result"
    }
   ],
   "source": [
    "lst[:9:2]"
   ]
  },
  {
   "cell_type": "markdown",
   "metadata": {},
   "source": [
    "`['March', 'April', 'May']`"
   ]
  },
  {
   "cell_type": "code",
   "execution_count": 32,
   "metadata": {},
   "outputs": [
    {
     "data": {
      "text/plain": [
       "['March', 'April', 'May']"
      ]
     },
     "execution_count": 32,
     "metadata": {},
     "output_type": "execute_result"
    }
   ],
   "source": [
    "lst[2:5]"
   ]
  },
  {
   "cell_type": "markdown",
   "metadata": {},
   "source": [
    "`['January',\n",
    " 'February',\n",
    " 'March',\n",
    " 'April',\n",
    " 'May',\n",
    " 'June',\n",
    " 'July',\n",
    " 'August',\n",
    " 'September',\n",
    " 'October',\n",
    " 'November',\n",
    " 'December']`"
   ]
  },
  {
   "cell_type": "code",
   "execution_count": 33,
   "metadata": {},
   "outputs": [
    {
     "data": {
      "text/plain": [
       "['January',\n",
       " 'February',\n",
       " 'March',\n",
       " 'April',\n",
       " 'May',\n",
       " 'June',\n",
       " 'July',\n",
       " 'August',\n",
       " 'September',\n",
       " 'October',\n",
       " 'November',\n",
       " 'December']"
      ]
     },
     "execution_count": 33,
     "metadata": {},
     "output_type": "execute_result"
    }
   ],
   "source": [
    "lst[:]"
   ]
  },
  {
   "cell_type": "markdown",
   "metadata": {},
   "source": [
    "`['April', 'June', 'August', 'October']`"
   ]
  },
  {
   "cell_type": "code",
   "execution_count": 34,
   "metadata": {
    "scrolled": true
   },
   "outputs": [
    {
     "data": {
      "text/plain": [
       "['April', 'June', 'August', 'October']"
      ]
     },
     "execution_count": 34,
     "metadata": {},
     "output_type": "execute_result"
    }
   ],
   "source": [
    "lst[3:11:2]"
   ]
  },
  {
   "cell_type": "markdown",
   "metadata": {},
   "source": [
    "`['December', 'November', 'October', 'September', 'August']`"
   ]
  },
  {
   "cell_type": "code",
   "execution_count": 35,
   "metadata": {},
   "outputs": [
    {
     "data": {
      "text/plain": [
       "['December', 'November', 'October', 'September', 'August']"
      ]
     },
     "execution_count": 35,
     "metadata": {},
     "output_type": "execute_result"
    }
   ],
   "source": [
    "lst[11:6:-1]"
   ]
  },
  {
   "cell_type": "code",
   "execution_count": 36,
   "metadata": {},
   "outputs": [
    {
     "data": {
      "text/plain": [
       "['December', 'November', 'October', 'September', 'August']"
      ]
     },
     "execution_count": 36,
     "metadata": {},
     "output_type": "execute_result"
    }
   ],
   "source": [
    "lst[:6:-1]"
   ]
  },
  {
   "cell_type": "markdown",
   "metadata": {},
   "source": [
    "`['November', 'September', 'July', 'May']`"
   ]
  },
  {
   "cell_type": "code",
   "execution_count": 40,
   "metadata": {},
   "outputs": [
    {
     "data": {
      "text/plain": [
       "['November', 'September', 'July', 'May']"
      ]
     },
     "execution_count": 40,
     "metadata": {},
     "output_type": "execute_result"
    }
   ],
   "source": [
    "lst[10:3:-2]"
   ]
  },
  {
   "cell_type": "markdown",
   "metadata": {},
   "source": [
    "`['December',\n",
    " 'November',\n",
    " 'October',\n",
    " 'September',\n",
    " 'August',\n",
    " 'July',\n",
    " 'June',\n",
    " 'May',\n",
    " 'April',\n",
    " 'March',\n",
    " 'February',\n",
    " 'January']`"
   ]
  },
  {
   "cell_type": "code",
   "execution_count": 41,
   "metadata": {},
   "outputs": [
    {
     "data": {
      "text/plain": [
       "['December',\n",
       " 'November',\n",
       " 'October',\n",
       " 'September',\n",
       " 'August',\n",
       " 'July',\n",
       " 'June',\n",
       " 'May',\n",
       " 'April',\n",
       " 'March',\n",
       " 'February']"
      ]
     },
     "execution_count": 41,
     "metadata": {},
     "output_type": "execute_result"
    }
   ],
   "source": [
    "lst[12:0:-1]"
   ]
  },
  {
   "cell_type": "code",
   "execution_count": 42,
   "metadata": {},
   "outputs": [
    {
     "data": {
      "text/plain": [
       "['December',\n",
       " 'November',\n",
       " 'October',\n",
       " 'September',\n",
       " 'August',\n",
       " 'July',\n",
       " 'June',\n",
       " 'May',\n",
       " 'April',\n",
       " 'March',\n",
       " 'February',\n",
       " 'January']"
      ]
     },
     "execution_count": 42,
     "metadata": {},
     "output_type": "execute_result"
    }
   ],
   "source": [
    "lst[::-1]"
   ]
  },
  {
   "cell_type": "markdown",
   "metadata": {},
   "source": [
    "## 1. Python lists"
   ]
  },
  {
   "cell_type": "code",
   "execution_count": 43,
   "metadata": {},
   "outputs": [],
   "source": [
    "# It can be text\n",
    "\n",
    "lst_1 = ['January', 'February', 'March', 'April', 'May', 'June', 'July', 'August', 'September', 'October',\n",
    "       'November', 'December']"
   ]
  },
  {
   "cell_type": "code",
   "execution_count": 45,
   "metadata": {},
   "outputs": [],
   "source": [
    "# It can be numbers\n",
    "\n",
    "lst_2 = [1, 2, 3, 4, 5, 6, ]"
   ]
  },
  {
   "cell_type": "code",
   "execution_count": 55,
   "metadata": {},
   "outputs": [],
   "source": [
    "# It can be a lot of numbers\n",
    "a = range(100, 100000000, 5)\n",
    "lst_3 = list(a)"
   ]
  },
  {
   "cell_type": "code",
   "execution_count": 56,
   "metadata": {},
   "outputs": [
    {
     "data": {
      "text/plain": [
       "19999980"
      ]
     },
     "execution_count": 56,
     "metadata": {},
     "output_type": "execute_result"
    }
   ],
   "source": [
    "len(lst_3)"
   ]
  },
  {
   "cell_type": "code",
   "execution_count": 57,
   "metadata": {},
   "outputs": [
    {
     "data": {
      "text/plain": [
       "[100, 105, 110, 115, 120, 125, 130, 135, 140, 145]"
      ]
     },
     "execution_count": 57,
     "metadata": {},
     "output_type": "execute_result"
    }
   ],
   "source": [
    "lst_3[:10]"
   ]
  },
  {
   "cell_type": "code",
   "execution_count": 58,
   "metadata": {},
   "outputs": [
    {
     "data": {
      "text/plain": [
       "[99999950,\n",
       " 99999955,\n",
       " 99999960,\n",
       " 99999965,\n",
       " 99999970,\n",
       " 99999975,\n",
       " 99999980,\n",
       " 99999985,\n",
       " 99999990,\n",
       " 99999995]"
      ]
     },
     "execution_count": 58,
     "metadata": {},
     "output_type": "execute_result"
    }
   ],
   "source": [
    "lst_3[-10:]"
   ]
  },
  {
   "cell_type": "code",
   "execution_count": 66,
   "metadata": {},
   "outputs": [
    {
     "data": {
      "text/plain": [
       "['H', 'e', 'l', 'l', 'o', ' ', 'w', 'o', 'r', 'l', 'd']"
      ]
     },
     "execution_count": 66,
     "metadata": {},
     "output_type": "execute_result"
    }
   ],
   "source": [
    "lst_4 = list('Hello world')\n",
    "lst_4"
   ]
  },
  {
   "cell_type": "code",
   "execution_count": 67,
   "metadata": {},
   "outputs": [
    {
     "data": {
      "text/plain": [
       "['H', 42, 55.555]"
      ]
     },
     "execution_count": 67,
     "metadata": {},
     "output_type": "execute_result"
    }
   ],
   "source": [
    "# It can be mixed\n",
    "\n",
    "lst_5 = ['H', 42, 55.555]\n",
    "lst_5"
   ]
  },
  {
   "cell_type": "code",
   "execution_count": 70,
   "metadata": {},
   "outputs": [
    {
     "data": {
      "text/plain": [
       "[[1, 2, 3], [4, 5, 6], [7, 8, 9]]"
      ]
     },
     "execution_count": 70,
     "metadata": {},
     "output_type": "execute_result"
    }
   ],
   "source": [
    "# It can be other lists\n",
    "# This is a two dimensional data structure (like DataFrame or Excel table)\n",
    "\n",
    "lst_6 = [  [1, 2, 3], [4, 5, 6], [7, 8, 9]   ]\n",
    "lst_6"
   ]
  },
  {
   "cell_type": "markdown",
   "metadata": {},
   "source": [
    "1,  2,  3\n",
    "\n",
    "4,  5,  6\n",
    "\n",
    "7,  8,  9"
   ]
  },
  {
   "cell_type": "code",
   "execution_count": 72,
   "metadata": {},
   "outputs": [
    {
     "data": {
      "text/plain": [
       "[4, 5, 6]"
      ]
     },
     "execution_count": 72,
     "metadata": {},
     "output_type": "execute_result"
    }
   ],
   "source": [
    "lst_6[1]"
   ]
  },
  {
   "cell_type": "code",
   "execution_count": 73,
   "metadata": {},
   "outputs": [
    {
     "data": {
      "text/plain": [
       "6"
      ]
     },
     "execution_count": 73,
     "metadata": {},
     "output_type": "execute_result"
    }
   ],
   "source": [
    "lst_6[1][2]"
   ]
  },
  {
   "cell_type": "code",
   "execution_count": 74,
   "metadata": {},
   "outputs": [
    {
     "data": {
      "text/plain": [
       "[[4, 5, 6], [7, 8, 9]]"
      ]
     },
     "execution_count": 74,
     "metadata": {},
     "output_type": "execute_result"
    }
   ],
   "source": [
    "lst_6[1:3]"
   ]
  },
  {
   "cell_type": "code",
   "execution_count": 77,
   "metadata": {
    "scrolled": true
   },
   "outputs": [
    {
     "data": {
      "text/plain": [
       "[7, 8, 9]"
      ]
     },
     "execution_count": 77,
     "metadata": {},
     "output_type": "execute_result"
    }
   ],
   "source": [
    "lst_6[1:3][1]"
   ]
  },
  {
   "cell_type": "markdown",
   "metadata": {},
   "source": [
    "Self_learning: learn about `list` methods\n",
    "\n",
    "You can learn more about lists and their methods [here](https://developers.google.com/edu/python/lists)"
   ]
  },
  {
   "cell_type": "markdown",
   "metadata": {},
   "source": [
    "## 2. Types of medical data"
   ]
  },
  {
   "cell_type": "markdown",
   "metadata": {},
   "source": [
    "1.  Tabular data\n",
    "    - Obtained from sensors of medical devices, monitors etc.\n",
    "    - Typically retrieved as csv or other text format \n",
    "    - Usually two-dimensional but can be higher dimensional\n",
    "    - Usually time series data\n",
    "    \n",
    "    ![alt text](./data/tabular_data.jpg)\n",
    "    \n",
    "_____\n",
    "\n",
    "\n",
    "2.  Image data\n",
    "    - Obtained from imaging medical devices\n",
    "    - Usually as raster images (jpg,png, tiff etc file format, different compression methods)\n",
    "    - At least 3-dimensional, but frequently 4 or 5 dimensional\n",
    "   \n",
    "   \n",
    "  \n",
    "  ![alt text](./data/newborn_brain_image.jpg)\n",
    "  \n",
    "_____  \n",
    "\n",
    "\n",
    "  3. Medical free text\n",
    "    - From electronic medical notes or from medical knowledge databases (e.g., PubMed)\n",
    "    - Typically retrieved as text (.txt) files\n",
    "    - Unstructured\n",
    "    - Can be time series\n",
    "    \n",
    "    \n",
    "   ![alt text](./data/medical_freetext.jpg)"
   ]
  },
  {
   "cell_type": "markdown",
   "metadata": {},
   "source": [
    "## 3. Reading in text data"
   ]
  },
  {
   "cell_type": "code",
   "execution_count": 78,
   "metadata": {},
   "outputs": [],
   "source": [
    "f_handle = open('data/karamazov_brothers.txt', 'r')\n",
    "text = f_handle.read()\n",
    "f_handle.close()"
   ]
  },
  {
   "cell_type": "code",
   "execution_count": 79,
   "metadata": {},
   "outputs": [
    {
     "data": {
      "text/plain": [
       "1954779"
      ]
     },
     "execution_count": 79,
     "metadata": {},
     "output_type": "execute_result"
    }
   ],
   "source": [
    "len(text)"
   ]
  },
  {
   "cell_type": "code",
   "execution_count": 84,
   "metadata": {},
   "outputs": [
    {
     "data": {
      "text/plain": [
       "'\\ufeffThe Project Gutenberg eBook of The Brothers Karamazov, by Fyodor Dostoyevsky\\n\\nThis eBook is for the use of anyone anywhere in the United States and\\nmost other parts of the world at no cost and with almost no restrictions\\nwhatsoever. You may copy it, give it away or re-use it under the terms\\nof the Project Gutenberg License included with this eBook or online at\\nwww.gutenberg.org. If you are not located in the United States, you\\nwill have to check the laws of the country where you are located before\\nusing this eBook.\\n\\nTitle: The Brothers Karamazov\\n\\nAuthor: Fyodor Dostoyevsky\\n\\nTranslator: Constance Garnett\\n\\nRelease Date: February 12, 2009 [eBook #28054]\\n[Most recently updated: March 7, 2021]\\n\\nLanguage: English\\n\\nCharacter set encoding: UTF-8\\n\\n*** START OF THE PROJECT GUTENBERG EBOOK THE BROTHERS KARAMAZOV ***\\n\\n\\n\\n\\nThe Brothers Karamazov\\n\\nTranslated from the Russian of\\n\\nFyodor Dostoyevsky\\n\\nby Constance Garnett\\n\\nThe Lowell Press\\n\\nNew York\\n\\n\\nContents\\n\\n Part I\\n Book I. The History Of A Family\\n Chapter I. Fyodor Pavlovitch Karamazov\\n Chapter II. He Gets Rid Of His Eldest Son\\n Chapter III. The Second Marriage And The Second Family\\n Chapter IV. The Third Son, Alyosha\\n Chapter V. Elders\\n Book II. An Unfortunate Gathering\\n Chapter I. They Arrive At The Monastery\\n Chapter II. The Old Buffoon\\n Chapter III. Peasant Women Who Have Faith\\n Chapter IV. A Lady Of Little Faith\\n Chapter V. So Be It! So Be It!\\n Chapter VI. Why Is Such A Man Alive?\\n Chapter VII. A Young Man Bent On A Career\\n Chapter VIII. The Scandalous Scene\\n Book III. The Sensualists\\n Chapter I. In The Servants’ Quarters\\n Chapter II. Lizaveta\\n Chapter III. The Confession Of A Passionate Heart—In Verse\\n Chapter IV. The Confession Of A Passionate Heart—In Anecdote\\n Chapter V. The Confession Of A Passionate Heart—“Heels Up”\\n Chapter VI. Smerdyakov\\n Chapter VII. The Controversy\\n Chapter VIII. Over The Brandy\\n Chapter IX. The Sensualists\\n Chapter X. Both Together\\n Chapter XI. Another Reputation Ruined\\n\\n Part II\\n Book IV. Lacerations\\n Chapter I. Father Ferapont\\n Chapter II. At His Father’s\\n Chapter III. A Meeting With The Schoolboys\\n Chapter IV. At The Hohlakovs’\\n Chapter V. A Laceration In The Drawing‐Room\\n Chapter VI. A Laceration In The Cottage\\n Chapter VII. And In The Open Air\\n Book V. Pro And Contra\\n Chapter I. The Engagement\\n Chapter II. Smerdyakov With A Guitar\\n Chapter III. The Brothers Make Friends\\n Chapter IV. Rebellion\\n Chapter V. The Grand Inquisitor\\n Chapter VI. For Awhile A Very Obscure One\\n Chapter VII. “It’s Always Worth While Speaking To A Clever Man”\\n Book VI. The Russian Monk\\n Chapter I. Father Zossima And His Visitors\\n Chapter II. The Duel\\n Chapter III. Conversations And Exhortations Of Father Zossima\\n\\n Part III\\n Book VII. Alyosha\\n Chapter I. The Breath Of Corruption\\n Chapter II. A Critical Moment\\n Chapter III. An Onion\\n Chapter IV. Cana Of Galilee\\n Book VIII. Mitya\\n Chapter I. Kuzma Samsonov\\n Chapter II. Lyagavy\\n Chapter III. Gold‐Mines\\n Chapter IV. In The Dark\\n Chapter V. A Sudden Resolution\\n Chapter VI. “I Am Coming, Too!”\\n Chapter VII. The First And Rightful Lover\\n Chapter VIII. Delirium\\n Book IX. The Preliminary Investigation\\n Chapter I. The Beginning Of Perhotin’s Official Career\\n Chapter II. The Alarm\\n Chapter III. The Sufferings Of A Soul, The First Ordeal\\n Chapter IV. The Second Ordeal\\n Chapter V. The Third Ordeal\\n Chapter VI. The Prosecutor Catches Mitya\\n Chapter VII. Mitya’s Great Secret. Received With Hisses\\n Chapter VIII. The Evidence Of The Witnesses. The Babe\\n Chapter IX. They Carry Mitya Away\\n\\n Part IV\\n Book X. The Boys\\n Chapter I. Kolya Krassotkin\\n Chapter II. Children\\n Chapter III. The Schoolboy\\n Chapter IV. The Lost Dog\\n Chapter V. By Ilusha’s Bedside\\n Chapter VI. Precocity\\n Chapter VII. Ilusha\\n Book XI. Ivan\\n Chapter I. At Grushenka’s\\n Chapter II. The Injured Foot\\n Chapter III. A Little Demon\\n Chapter IV. A Hymn And A Secret\\n Chapter V. Not You, Not You!\\n Chapter VI. The First Interview With Smerdyakov\\n Chapter VII. The Second Visit To Smerdyakov\\n Chapter VIII. The Third And Last Interview With Smerdyakov\\n Chapter IX. The Devil. Ivan’s Nightmare\\n Chapter X. “It Was He Who Said That”\\n Book XII. A Judicial Error\\n Chapter I. The Fatal Day\\n Chapter II. Dangerous Witnesses\\n Chapter III. The Medical Experts And A Pound Of Nuts\\n Chapter IV. Fortune Smiles On Mitya\\n Chapter V. A Sudden Catastrophe\\n Chapter VI. The Prosecutor’s Speech. Sketches Of Character\\n Chapter VII. An Historical Survey\\n Chapter VIII. A Treatise On Smerdyakov\\n Chapter IX. The Galloping Troika. The End Of The Prosecutor’s Speech.\\n Chapter X. The Speech For The Defense. An Argument That Cuts Both Ways\\n Chapter XI. There Was No Money. There Was No Robbery\\n Chapter XII. And There Was No Murder Either\\n Chapter XIII. A Corrupter Of Thought\\n Chapter XIV. The Peasants Stand Firm\\n\\n Epilogue\\n Chapter I. Plans For Mitya’s Escape\\n Chapter II. For A Moment The Lie Becomes Truth\\n Chapter III. Ilusha’s Funeral. The Speech At The Stone\\n\\n Footnotes\\n\\n\\n\\n\\nPART I\\n\\n\\n\\n\\nBook I. The History Of A Family\\n\\n\\n\\n\\nChapter I.\\nFyodor Pavlovitch Karamazov\\n\\n\\nAlexey Fyodorovitch Karamazov was the third son of Fyodor Pavlovitch\\nKaramazov, a land owner well known in our district in his own day, and\\nstill remembered among us owing to his gloomy and tragic death, which\\nhappened thirteen years ago, and which I shall describe in its proper\\nplace. For the present I will only say that this “landowner”—for so we\\nused to call him, although he hardly spent a day of his life on his own\\nestate—was a strange type, yet one pretty frequently to be met with, a\\ntype abject and vicious and at the same time senseless. But he was one\\nof those senseless persons who are very well capable of looking after\\ntheir worldly affairs, and, apparently, after nothing else. Fyodor\\nPavlovitch, for instance, began with next to nothing; his estate was of\\nthe smallest; he ran to dine at other men’s tables, and fastened on\\nthem as a toady, yet at his death it appeared that he had a hundred\\nthousand roubles in hard cash. At the same time, he was all his life\\none of the most senseless, fantastical fellows in the whole district. I\\nrepeat, it was not stupidity—the majority of these fantastical fellows\\nare shrewd and intelligent enough—but just senselessness, and a\\npeculiar national form of it.\\n\\nHe was married twice, and had three sons, the eldest, Dmitri, by his\\nfirst wife, and two, Ivan and Alexey, by his second. Fyodor\\nPavlovitch’s first wife, Adelaïda Ivanovna, belonged to a fairly rich\\nand distinguished noble family, also landowners in our district, the\\nMiüsovs. How it came to pass that an heiress, who was also a beauty,\\nand moreover one of those vigorous, intelligent girls, so common in\\nthis generation, but sometimes also to be found in the last, could have\\nmarried such a worthless, puny weakling, as we all called him, I won’t\\nattempt to explain. I knew a young lady of the last “romantic”\\ngeneration who after some years of an enigmatic passion for a\\ngentleman, whom she might quite easily have married at any moment,\\ninvented insuperable obstacles to their union, and ended by throwing\\nherself one stormy night into a rather deep and rapid river from a high\\nbank, almost a precipice, and so perished, entirely to satisfy her own\\ncaprice, and to be like Shakespeare’s Ophelia. Indeed, if this\\nprecipice, a chosen and favorite spot of hers, had been less\\npicturesque, if there had been a prosaic flat bank in its place, most\\nlikely the suicide would never have taken place. This is a fact, and\\nprobably there have been not a few similar instances in the last two or\\nthree generations. Adelaïda Ivanovna Miüsov’s action was similarly, no\\ndoubt, an echo of other people’s ideas, and was due to the irritation\\ncaused by lack of mental freedom. She wanted, perhaps, to show her\\nfeminine independence, to override class distinctions and the despotism\\nof her family. And a pliable imagination persuaded her, we must\\nsuppose, for a brief moment, that Fyodor Pavlovitch, in spite of his\\nparasitic position, was one of the bold and ironical spirits of that\\nprogressive epoch, though he was, in fact, an ill‐natured buffoon and\\nnothing more. What gave the marriage piquancy was that it was preceded\\nby an elopement, and this greatly captivated Adelaïda Ivanovna’s fancy.\\nFyodor Pavlovitch’s position at the time made him specially eager for\\nany such enterprise, for he was passionately anxious to make a career\\nin one way or another. To attach himself to a good family and obtain a\\ndowry was an alluring prospect. As for mutual love it did not exist\\napparently, either in the bride or in him, in spite of Adelaïda\\nIvanovna’s beauty. This was, perhaps, a unique case of the kind in the\\nlife of Fyodor Pavlovitch, who was always of a voluptuous temper, and\\nready to run after any petticoat on the slightest encouragement. She\\nseems to have been the only woman who made no particular appeal to his\\nsenses.\\n\\nImmediately after the elopement Adelaïda Ivanovna discerned in a flash\\nthat she had no feeling for her husband but contempt. The marriage\\naccordingly showed itself in its true colors with extraordinary\\nrapidity. Although the family accepted the event pretty quickly and\\napportioned the runaway bride her dowry, the husband and wife began to\\nlead a most disorderly life, and there were everlasting scenes between\\nthem. It was said that the young wife showed incomparably more\\ngenerosity and dignity than Fyodor Pavlovitch, who, as is now known,\\ngot hold of all her money up to twenty‐five thousand roubles as soon as\\nshe received it, so that those thousands were lost to her for ever. The\\nlittle village and the rather fine town house which formed part of her\\ndowry he did his utmost for a long time to transfer to his name, by\\nmeans of some deed of conveyance. He would probably have succeeded,\\nmerely from her moral fatigue and desire to get rid of him, and from\\nthe contempt and loathing he aroused by his persistent and shameless\\nimportunity. But, fortunately, Adelaïda Ivanovna’s family intervened\\nand circu'"
      ]
     },
     "execution_count": 84,
     "metadata": {},
     "output_type": "execute_result"
    }
   ],
   "source": [
    "text[:10000]"
   ]
  },
  {
   "cell_type": "code",
   "execution_count": 85,
   "metadata": {
    "scrolled": false
   },
   "outputs": [
    {
     "name": "stdout",
     "output_type": "stream",
     "text": [
      "﻿The Project Gutenberg eBook of The Brothers Karamazov, by Fyodor Dostoyevsky\n",
      "\n",
      "This eBook is for the use of anyone anywhere in the United States and\n",
      "most other parts of the world at no cost and with almost no restrictions\n",
      "whatsoever. You may copy it, give it away or re-use it under the terms\n",
      "of the Project Gutenberg License included with this eBook or online at\n",
      "www.gutenberg.org. If you are not located in the United States, you\n",
      "will have to check the laws of the country where you are located before\n",
      "using this eBook.\n",
      "\n",
      "Title: The Brothers Karamazov\n",
      "\n",
      "Author: Fyodor Dostoyevsky\n",
      "\n",
      "Translator: Constance Garnett\n",
      "\n",
      "Release Date: February 12, 2009 [eBook #28054]\n",
      "[Most recently updated: March 7, 2021]\n",
      "\n",
      "Language: English\n",
      "\n",
      "Character set encoding: UTF-8\n",
      "\n",
      "*** START OF THE PROJECT GUTENBERG EBOOK THE BROTHERS KARAMAZOV ***\n",
      "\n",
      "\n",
      "\n",
      "\n",
      "The Brothers Karamazov\n",
      "\n",
      "Translated from the Russian of\n",
      "\n",
      "Fyodor Dostoyevsky\n",
      "\n",
      "by Constance Garnett\n",
      "\n",
      "The Lowell Press\n",
      "\n",
      "New York\n",
      "\n",
      "\n",
      "Contents\n",
      "\n",
      " Part I\n",
      " Book I. The History Of A Family\n",
      " Chapter I. Fyodor Pavlovitch Karamazov\n",
      " Chapter II. He Gets Rid Of His Eldest Son\n",
      " Chapter III. The Second Marriage And The Second Family\n",
      " Chapter IV. The Third Son, Alyosha\n",
      " Chapter V. Elders\n",
      " Book II. An Unfortunate Gathering\n",
      " Chapter I. They Arrive At The Monastery\n",
      " Chapter II. The Old Buffoon\n",
      " Chapter III. Peasant Women Who Have Faith\n",
      " Chapter IV. A Lady Of Little Faith\n",
      " Chapter V. So Be It! So Be It!\n",
      " Chapter VI. Why Is Such A Man Alive?\n",
      " Chapter VII. A Young Man Bent On A Career\n",
      " Chapter VIII. The Scandalous Scene\n",
      " Book III. The Sensualists\n",
      " Chapter I. In The Servants’ Quarters\n",
      " Chapter II. Lizaveta\n",
      " Chapter III. The Confession Of A Passionate Heart—In Verse\n",
      " Chapter IV. The Confession Of A Passionate Heart—In Anecdote\n",
      " Chapter V. The Confession Of A Passionate Heart—“Heels Up”\n",
      " Chapter VI. Smerdyakov\n",
      " Chapter VII. The Controversy\n",
      " Chapter VIII. Over The Brandy\n",
      " Chapter IX. The Sensualists\n",
      " Chapter X. Both Together\n",
      " Chapter XI. Another Reputation Ruined\n",
      "\n",
      " Part II\n",
      " Book IV. Lacerations\n",
      " Chapter I. Father Ferapont\n",
      " Chapter II. At His Father’s\n",
      " Chapter III. A Meeting With The Schoolboys\n",
      " Chapter IV. At The Hohlakovs’\n",
      " Chapter V. A Laceration In The Drawing‐Room\n",
      " Chapter VI. A Laceration In The Cottage\n",
      " Chapter VII. And In The Open Air\n",
      " Book V. Pro And Contra\n",
      " Chapter I. The Engagement\n",
      " Chapter II. Smerdyakov With A Guitar\n",
      " Chapter III. The Brothers Make Friends\n",
      " Chapter IV. Rebellion\n",
      " Chapter V. The Grand Inquisitor\n",
      " Chapter VI. For Awhile A Very Obscure One\n",
      " Chapter VII. “It’s Always Worth While Speaking To A Clever Man”\n",
      " Book VI. The Russian Monk\n",
      " Chapter I. Father Zossima And His Visitors\n",
      " Chapter II. The Duel\n",
      " Chapter III. Conversations And Exhortations Of Father Zossima\n",
      "\n",
      " Part III\n",
      " Book VII. Alyosha\n",
      " Chapter I. The Breath Of Corruption\n",
      " Chapter II. A Critical Moment\n",
      " Chapter III. An Onion\n",
      " Chapter IV. Cana Of Galilee\n",
      " Book VIII. Mitya\n",
      " Chapter I. Kuzma Samsonov\n",
      " Chapter II. Lyagavy\n",
      " Chapter III. Gold‐Mines\n",
      " Chapter IV. In The Dark\n",
      " Chapter V. A Sudden Resolution\n",
      " Chapter VI. “I Am Coming, Too!”\n",
      " Chapter VII. The First And Rightful Lover\n",
      " Chapter VIII. Delirium\n",
      " Book IX. The Preliminary Investigation\n",
      " Chapter I. The Beginning Of Perhotin’s Official Career\n",
      " Chapter II. The Alarm\n",
      " Chapter III. The Sufferings Of A Soul, The First Ordeal\n",
      " Chapter IV. The Second Ordeal\n",
      " Chapter V. The Third Ordeal\n",
      " Chapter VI. The Prosecutor Catches Mitya\n",
      " Chapter VII. Mitya’s Great Secret. Received With Hisses\n",
      " Chapter VIII. The Evidence Of The Witnesses. The Babe\n",
      " Chapter IX. They Carry Mitya Away\n",
      "\n",
      " Part IV\n",
      " Book X. The Boys\n",
      " Chapter I. Kolya Krassotkin\n",
      " Chapter II. Children\n",
      " Chapter III. The Schoolboy\n",
      " Chapter IV. The Lost Dog\n",
      " Chapter V. By Ilusha’s Bedside\n",
      " Chapter VI. Precocity\n",
      " Chapter VII. Ilusha\n",
      " Book XI. Ivan\n",
      " Chapter I. At Grushenka’s\n",
      " Chapter II. The Injured Foot\n",
      " Chapter III. A Little Demon\n",
      " Chapter IV. A Hymn And A Secret\n",
      " Chapter V. Not You, Not You!\n",
      " Chapter VI. The First Interview With Smerdyakov\n",
      " Chapter VII. The Second Visit To Smerdyakov\n",
      " Chapter VIII. The Third And Last Interview With Smerdyakov\n",
      " Chapter IX. The Devil. Ivan’s Nightmare\n",
      " Chapter X. “It Was He Who Said That”\n",
      " Book XII. A Judicial Error\n",
      " Chapter I. The Fatal Day\n",
      " Chapter II. Dangerous Witnesses\n",
      " Chapter III. The Medical Experts And A Pound Of Nuts\n",
      " Chapter IV. Fortune Smiles On Mitya\n",
      " Chapter V. A Sudden Catastrophe\n",
      " Chapter VI. The Prosecutor’s Speech. Sketches Of Character\n",
      " Chapter VII. An Historical Survey\n",
      " Chapter VIII. A Treatise On Smerdyakov\n",
      " Chapter IX. The Galloping Troika. The End Of The Prosecutor’s Speech.\n",
      " Chapter X. The Speech For The Defense. An Argument That Cuts Both Ways\n",
      " Chapter XI. There Was No Money. There Was No Robbery\n",
      " Chapter XII. And There Was No Murder Either\n",
      " Chapter XIII. A Corrupter Of Thought\n",
      " Chapter XIV. The Peasants Stand Firm\n",
      "\n",
      " Epilogue\n",
      " Chapter I. Plans For Mitya’s Escape\n",
      " Chapter II. For A Moment The Lie Becomes Truth\n",
      " Chapter III. Ilusha’s Funeral. The Speech At The Stone\n",
      "\n",
      " Footnotes\n",
      "\n",
      "\n",
      "\n",
      "\n",
      "PART I\n",
      "\n",
      "\n",
      "\n",
      "\n",
      "Book I. The History Of A Family\n",
      "\n",
      "\n",
      "\n",
      "\n",
      "Chapter I.\n",
      "Fyodor Pavlovitch Karamazov\n",
      "\n",
      "\n",
      "Alexey Fyodorovitch Karamazov was the third son of Fyodor Pavlovitch\n",
      "Karamazov, a land owner well known in our district in his own day, and\n",
      "still remembered among us owing to his gloomy and tragic death, which\n",
      "happened thirteen years ago, and which I shall describe in its proper\n",
      "place. For the present I will only say that this “landowner”—for so we\n",
      "used to call him, although he hardly spent a day of his life on his own\n",
      "estate—was a strange type, yet one pretty frequently to be met with, a\n",
      "type abject and vicious and at the same time senseless. But he was one\n",
      "of those senseless persons who are very well capable of looking after\n",
      "their worldly affairs, and, apparently, after nothing else. Fyodor\n",
      "Pavlovitch, for instance, began with next to nothing; his estate was of\n",
      "the smallest; he ran to dine at other men’s tables, and fastened on\n",
      "them as a toady, yet at his death it appeared that he had a hundred\n",
      "thousand roubles in hard cash. At the same time, he was all his life\n",
      "one of the most senseless, fantastical fellows in the whole district. I\n",
      "repeat, it was not stupidity—the majority of these fantastical fellows\n",
      "are shrewd and intelligent enough—but just senselessness, and a\n",
      "peculiar national form of it.\n",
      "\n",
      "He was married twice, and had three sons, the eldest, Dmitri, by his\n",
      "first wife, and two, Ivan and Alexey, by his second. Fyodor\n",
      "Pavlovitch’s first wife, Adelaïda Ivanovna, belonged to a fairly rich\n",
      "and distinguished noble family, also landowners in our district, the\n",
      "Miüsovs. How it came to pass that an heiress, who was also a beauty,\n",
      "and moreover one of those vigorous, intelligent girls, so common in\n",
      "this generation, but sometimes also to be found in the last, could have\n",
      "married such a worthless, puny weakling, as we all called him, I won’t\n",
      "attempt to explain. I knew a young lady of the last “romantic”\n",
      "generation who after some years of an enigmatic passion for a\n",
      "gentleman, whom she might quite easily have married at any moment,\n",
      "invented insuperable obstacles to their union, and ended by throwing\n",
      "herself one stormy night into a rather deep and rapid river from a high\n",
      "bank, almost a precipice, and so perished, entirely to satisfy her own\n",
      "caprice, and to be like Shakespeare’s Ophelia. Indeed, if this\n",
      "precipice, a chosen and favorite spot of hers, had been less\n",
      "picturesque, if there had been a prosaic flat bank in its place, most\n",
      "likely the suicide would never have taken place. This is a fact, and\n",
      "probably there have been not a few similar instances in the last two or\n",
      "three generations. Adelaïda Ivanovna Miüsov’s action was similarly, no\n",
      "doubt, an echo of other people’s ideas, and was due to the irritation\n",
      "caused by lack of mental freedom. She wanted, perhaps, to show her\n",
      "feminine independence, to override class distinctions and the despotism\n",
      "of her family. And a pliable imagination persuaded her, we must\n",
      "suppose, for a brief moment, that Fyodor Pavlovitch, in spite of his\n",
      "parasitic position, was one of the bold and ironical spirits of that\n",
      "progressive epoch, though he was, in fact, an ill‐natured buffoon and\n",
      "nothing more. What gave the marriage piquancy was that it was preceded\n",
      "by an elopement, and this greatly captivated Adelaïda Ivanovna’s fancy.\n",
      "Fyodor Pavlovitch’s position at the time made him specially eager for\n",
      "any such enterprise, for he was passionately anxious to make a career\n",
      "in one way or another. To attach himself to a good family and obtain a\n",
      "dowry was an alluring prospect. As for mutual love it did not exist\n",
      "apparently, either in the bride or in him, in spite of Adelaïda\n",
      "Ivanovna’s beauty. This was, perhaps, a unique case of the kind in the\n",
      "life of Fyodor Pavlovitch, who was always of a voluptuous temper, and\n",
      "ready to run after any petticoat on the slightest encouragement. She\n",
      "seems to have been the only woman who made no particular appeal to his\n",
      "senses.\n",
      "\n",
      "Immediately after the elopement Adelaïda Ivanovna discerned in a flash\n",
      "that she had no feeling for her husband but contempt. The marriage\n",
      "accordingly showed itself in its true colors with extraordinary\n",
      "rapidity. Although the family accepted the event pretty quickly and\n",
      "apportioned the runaway bride her dowry, the husband and wife began to\n",
      "lead a most disorderly life, and there were everlasting scenes between\n",
      "them. It was said that the young wife showed incomparably more\n",
      "generosity and dignity than Fyodor Pavlovitch, who, as is now known,\n",
      "got hold of all her money up to twenty‐five thousand roubles as soon as\n",
      "she received it, so that those thousands were lost to her for ever. The\n",
      "little village and the rather fine town house which formed part of her\n",
      "dowry he did his utmost for a long time to transfer to his name, by\n",
      "means of some deed of conveyance. He would probably have succeeded,\n",
      "merely from her moral fatigue and desire to get rid of him, and from\n",
      "the contempt and loathing he aroused by his persistent and shameless\n",
      "importunity. But, fortunately, Adelaïda Ivanovna’s family intervened\n",
      "and circu\n"
     ]
    }
   ],
   "source": [
    "print(text[:10000])"
   ]
  },
  {
   "cell_type": "code",
   "execution_count": 86,
   "metadata": {},
   "outputs": [
    {
     "name": "stdout",
     "output_type": "stream",
     "text": [
      "Chapter I.\n",
      "Fyodor Pavlovitch Karamazov\n",
      "\n",
      "\n",
      "Alexey Fyodorovitch Karamazov was the third son of Fyodor Pavlovitch\n",
      "Karamazov, a land owner well known in our district in his own day, and\n",
      "still remembered among us owing to his gloomy and tragic death, which\n",
      "happened thirteen years ago, and which I shall describe in its proper\n",
      "place. For the present I will only say that this “landowner”—for so we\n",
      "used to call him, although he hardly spent a day of his life on his own\n",
      "estate—was a strange type, yet one pretty frequently to be met with, a\n",
      "type abject and vicious and at the same time senseless. But he was one\n",
      "of those senseless persons who are very well capable of looking after\n",
      "their worldly affairs, and, apparently, after nothing else. Fyodor\n",
      "Pavlovitch, for instance, began with next to nothing; his estate was of\n",
      "the smallest; he ran to dine at other men’s tables, and fastened on\n",
      "them as a toady, yet at his death it appeared that he had a hundred\n",
      "thousand roubles in hard cash. At the same time, he was all his life\n",
      "one of the most senseless, fantastical fellows in the whole district. I\n",
      "repeat, it was not stupidity—the majority of these fantastical fellows\n",
      "are shrewd and intelligent enough—but just senselessness, and a\n",
      "peculiar national form of it.\n",
      "\n",
      "He was married twice, and had three sons, the eldest, Dmitri, by his\n",
      "first wife, and two, Ivan and Alexey, by his second. Fyodor\n",
      "Pavlovitch’s first wife, Adelaïda Ivanovna, belonged to a fairly rich\n",
      "and distinguished noble family, also landowners in our district, the\n",
      "Miüsovs. How it came to pass that an heiress, who was also a beauty,\n",
      "and moreover one of those vigorous, intelligent girls, so common in\n",
      "this generation, but sometimes also to be found in the last, could have\n",
      "married such a worthless, puny weakling, as we all called him, I won’t\n",
      "attempt to explain. I knew a young lady of the last “romantic”\n",
      "generation who after some years of an enigmatic passion for a\n",
      "gentleman, whom she might quite easily have married at any moment,\n",
      "invented insuperable obstacles to their union, and ended by throwing\n",
      "herself one stormy night into a rather deep and rapid river from a high\n",
      "bank, almost a precipice, and so perished, entirely to satisfy her own\n",
      "caprice, and to be like Shakespeare’s Ophelia. Indeed, if this\n",
      "precipice, a chosen and favorite spot of hers, had been less\n",
      "picturesque, if there had been a prosaic flat bank in its place, most\n",
      "likely the suicide would never have taken place. This is a fact, and\n",
      "probably there have been not a few similar instances in the last two or\n",
      "three generations. Adelaïda Ivanovna Miüsov’s action was similarly, no\n",
      "doubt, an echo of other people’s ideas, and was due to the irritation\n",
      "caused by lack of mental freedom. She wanted, perhaps, to show her\n",
      "feminine independence, to override class distinctions and the despotism\n",
      "of her family. And a pliable imagination persuaded her, we must\n",
      "suppose, for a brief moment, that Fyodor Pavlovitch, in spite of his\n",
      "parasitic position, was one of the bold and ironical spirits of that\n",
      "progressive epoch, though he was, in fact, an ill‐natured buffoon and\n",
      "nothing more. What gave the marriage piquancy was that it was preceded\n",
      "by an elopement, and this greatly captivated Adelaïda Ivanovna’s fancy.\n",
      "Fyodor Pavlovitch’s position at the time made him specially eager for\n",
      "any such enterprise, for he was passionately anxious to make a career\n",
      "in one way or another. To attach himself to a good family and obtain a\n",
      "dowry was an alluring prospect. As for mutual love it did not exist\n",
      "apparently, either in the bride or in him, in spite of Adelaïda\n",
      "Ivanovna’s beauty. This was, perhaps, a unique case of the kind in the\n",
      "life of Fyodor Pavlovitch, who was always of a voluptuous temper, and\n",
      "ready to run after any petticoat on the slightest encouragement. She\n",
      "seems to have been the only woman who made no particular appeal to his\n",
      "senses.\n",
      "\n",
      "Immediately after the elopement Adelaïda Ivanovna discerned in a flash\n",
      "that she had no feeling for her husband but contempt. The marriage\n",
      "accordingly showed itself in its true colors with extraordinary\n",
      "rapidity. Although the family accepted the event pretty quickly and\n",
      "apportioned the runaway bride her dowry, the husband and wife began to\n",
      "lead a most disorderly life, and there were everlasting scenes between\n",
      "them. It was said that the young wife showed incomparably more\n",
      "generosity and dignity than Fyodor Pavlovitch, who, as is now known,\n",
      "got hold of all her money up to twenty‐five thousand roubles as soon as\n",
      "she received it, so that those thousands were lost to her for ever. The\n",
      "little village and the rather fine town house which formed part of her\n",
      "dowry he did his utmost for a long time to transfer to his name, by\n",
      "means of some deed of conveyance. He would probably have succeeded,\n",
      "merely from her moral fatigue and desire to get rid of him, and from\n",
      "the contempt and loathing he aroused by his persistent and shameless\n",
      "importunity. But, fortunately, Adelaïda Ivanovna’s family intervened\n",
      "and circu\n"
     ]
    }
   ],
   "source": [
    "print(text[5016:10000])"
   ]
  },
  {
   "cell_type": "code",
   "execution_count": 94,
   "metadata": {},
   "outputs": [],
   "source": [
    "txt_list = text.split(' ')"
   ]
  },
  {
   "cell_type": "code",
   "execution_count": 97,
   "metadata": {},
   "outputs": [
    {
     "data": {
      "text/plain": [
       "323036"
      ]
     },
     "execution_count": 97,
     "metadata": {},
     "output_type": "execute_result"
    }
   ],
   "source": [
    "len(txt_list)"
   ]
  },
  {
   "cell_type": "code",
   "execution_count": 95,
   "metadata": {},
   "outputs": [
    {
     "data": {
      "text/plain": [
       "['and',\n",
       " 'two,',\n",
       " 'Ivan',\n",
       " 'and',\n",
       " 'Alexey,',\n",
       " 'by',\n",
       " 'his',\n",
       " 'second.',\n",
       " 'Fyodor\\nPavlovitch’s',\n",
       " 'first',\n",
       " 'wife,',\n",
       " 'Adelaïda',\n",
       " 'Ivanovna,',\n",
       " 'belonged',\n",
       " 'to',\n",
       " 'a',\n",
       " 'fairly',\n",
       " 'rich\\nand',\n",
       " 'distinguished',\n",
       " 'noble',\n",
       " 'family,',\n",
       " 'also',\n",
       " 'landowners',\n",
       " 'in',\n",
       " 'our',\n",
       " 'district,',\n",
       " 'the\\nMiüsovs.',\n",
       " 'How',\n",
       " 'it',\n",
       " 'came',\n",
       " 'to',\n",
       " 'pass',\n",
       " 'that',\n",
       " 'an',\n",
       " 'heiress,',\n",
       " 'who',\n",
       " 'was',\n",
       " 'also',\n",
       " 'a',\n",
       " 'beauty,\\nand',\n",
       " 'moreover',\n",
       " 'one',\n",
       " 'of',\n",
       " 'those',\n",
       " 'vigorous,',\n",
       " 'intelligent',\n",
       " 'girls,',\n",
       " 'so',\n",
       " 'common',\n",
       " 'in\\nthis',\n",
       " 'generation,',\n",
       " 'but',\n",
       " 'sometimes',\n",
       " 'also',\n",
       " 'to',\n",
       " 'be',\n",
       " 'found',\n",
       " 'in',\n",
       " 'the',\n",
       " 'last,',\n",
       " 'could',\n",
       " 'have\\nmarried',\n",
       " 'such',\n",
       " 'a',\n",
       " 'worthless,',\n",
       " 'puny',\n",
       " 'weakling,',\n",
       " 'as',\n",
       " 'we',\n",
       " 'all',\n",
       " 'called',\n",
       " 'him,',\n",
       " 'I',\n",
       " 'won’t\\nattempt',\n",
       " 'to',\n",
       " 'explain.',\n",
       " 'I',\n",
       " 'knew',\n",
       " 'a',\n",
       " 'young',\n",
       " 'lady',\n",
       " 'of',\n",
       " 'the',\n",
       " 'last',\n",
       " '“romantic”\\ngeneration',\n",
       " 'who',\n",
       " 'after',\n",
       " 'some',\n",
       " 'years',\n",
       " 'of',\n",
       " 'an',\n",
       " 'enigmatic',\n",
       " 'passion',\n",
       " 'for',\n",
       " 'a\\ngentleman,',\n",
       " 'whom',\n",
       " 'she',\n",
       " 'might',\n",
       " 'quite',\n",
       " 'easily']"
      ]
     },
     "execution_count": 95,
     "metadata": {},
     "output_type": "execute_result"
    }
   ],
   "source": [
    "txt_list[1000:1100]"
   ]
  },
  {
   "cell_type": "code",
   "execution_count": 93,
   "metadata": {},
   "outputs": [
    {
     "name": "stdout",
     "output_type": "stream",
     "text": [
      "['and', 'two,', 'Ivan', 'and', 'Alexey,', 'by', 'his', 'second.', 'Fyodor\\nPavlovitch’s', 'first', 'wife,', 'Adelaïda', 'Ivanovna,', 'belonged', 'to', 'a', 'fairly', 'rich\\nand', 'distinguished', 'noble', 'family,', 'also', 'landowners', 'in', 'our', 'district,', 'the\\nMiüsovs.', 'How', 'it', 'came', 'to', 'pass', 'that', 'an', 'heiress,', 'who', 'was', 'also', 'a', 'beauty,\\nand', 'moreover', 'one', 'of', 'those', 'vigorous,', 'intelligent', 'girls,', 'so', 'common', 'in\\nthis', 'generation,', 'but', 'sometimes', 'also', 'to', 'be', 'found', 'in', 'the', 'last,', 'could', 'have\\nmarried', 'such', 'a', 'worthless,', 'puny', 'weakling,', 'as', 'we', 'all', 'called', 'him,', 'I', 'won’t\\nattempt', 'to', 'explain.', 'I', 'knew', 'a', 'young', 'lady', 'of', 'the', 'last', '“romantic”\\ngeneration', 'who', 'after', 'some', 'years', 'of', 'an', 'enigmatic', 'passion', 'for', 'a\\ngentleman,', 'whom', 'she', 'might', 'quite', 'easily']\n"
     ]
    }
   ],
   "source": [
    "print(txt_list[1000:1100])"
   ]
  },
  {
   "cell_type": "code",
   "execution_count": 102,
   "metadata": {},
   "outputs": [
    {
     "data": {
      "text/plain": [
       "758"
      ]
     },
     "execution_count": 102,
     "metadata": {},
     "output_type": "execute_result"
    }
   ],
   "source": [
    "txt_list.count('an')"
   ]
  },
  {
   "cell_type": "code",
   "execution_count": 101,
   "metadata": {},
   "outputs": [
    {
     "data": {
      "text/plain": [
       "212"
      ]
     },
     "execution_count": 101,
     "metadata": {},
     "output_type": "execute_result"
    }
   ],
   "source": [
    "txt_list.count('Fyodor')"
   ]
  },
  {
   "cell_type": "code",
   "execution_count": 104,
   "metadata": {},
   "outputs": [
    {
     "data": {
      "text/plain": [
       "350"
      ]
     },
     "execution_count": 104,
     "metadata": {},
     "output_type": "execute_result"
    }
   ],
   "source": [
    "txt_list.count('Ivan')"
   ]
  },
  {
   "cell_type": "code",
   "execution_count": 103,
   "metadata": {},
   "outputs": [
    {
     "data": {
      "text/plain": [
       "5"
      ]
     },
     "execution_count": 103,
     "metadata": {},
     "output_type": "execute_result"
    }
   ],
   "source": [
    "txt_list.count('enigmatic')"
   ]
  },
  {
   "cell_type": "markdown",
   "metadata": {},
   "source": [
    "## 4. Reading in and manipulating tabular data"
   ]
  },
  {
   "cell_type": "code",
   "execution_count": null,
   "metadata": {},
   "outputs": [],
   "source": []
  },
  {
   "cell_type": "code",
   "execution_count": null,
   "metadata": {},
   "outputs": [],
   "source": []
  },
  {
   "cell_type": "code",
   "execution_count": null,
   "metadata": {},
   "outputs": [],
   "source": []
  },
  {
   "cell_type": "markdown",
   "metadata": {},
   "source": [
    "## 5. Reading in images"
   ]
  },
  {
   "cell_type": "code",
   "execution_count": 92,
   "metadata": {},
   "outputs": [],
   "source": [
    "# importing matplotlib module \n",
    "import matplotlib.image as mpimg \n",
    "\n",
    "img = mpimg.imread('data/newborn_heart_image.jpg') "
   ]
  },
  {
   "cell_type": "code",
   "execution_count": null,
   "metadata": {},
   "outputs": [],
   "source": [
    "img.ndim"
   ]
  },
  {
   "cell_type": "code",
   "execution_count": null,
   "metadata": {},
   "outputs": [],
   "source": [
    "img.shape"
   ]
  },
  {
   "cell_type": "code",
   "execution_count": null,
   "metadata": {},
   "outputs": [],
   "source": [
    "369 * 636 * 3"
   ]
  },
  {
   "cell_type": "code",
   "execution_count": null,
   "metadata": {},
   "outputs": [],
   "source": [
    "img.flatten()"
   ]
  },
  {
   "cell_type": "code",
   "execution_count": null,
   "metadata": {},
   "outputs": [],
   "source": [
    "len(img.flatten())"
   ]
  },
  {
   "cell_type": "code",
   "execution_count": null,
   "metadata": {},
   "outputs": [],
   "source": [
    "print(set(img.flatten()))"
   ]
  },
  {
   "cell_type": "code",
   "execution_count": null,
   "metadata": {},
   "outputs": [],
   "source": [
    "img[:, :, 1]"
   ]
  },
  {
   "cell_type": "code",
   "execution_count": null,
   "metadata": {},
   "outputs": [],
   "source": [
    "img[:, :, 2]"
   ]
  },
  {
   "cell_type": "code",
   "execution_count": null,
   "metadata": {
    "scrolled": false
   },
   "outputs": [],
   "source": [
    "img[1, :, :]"
   ]
  },
  {
   "cell_type": "code",
   "execution_count": null,
   "metadata": {},
   "outputs": [],
   "source": [
    "# Output Image\n",
    "\n",
    "# importing matplotlib module \n",
    "import matplotlib.pyplot as plt \n",
    "\n",
    "plt.imshow(img) "
   ]
  },
  {
   "cell_type": "markdown",
   "metadata": {},
   "source": [
    "## 7. Homework"
   ]
  },
  {
   "cell_type": "code",
   "execution_count": null,
   "metadata": {},
   "outputs": [],
   "source": []
  }
 ],
 "metadata": {
  "anaconda-cloud": {},
  "kernelspec": {
   "display_name": "Python 3",
   "language": "python",
   "name": "python3"
  },
  "language_info": {
   "codemirror_mode": {
    "name": "ipython",
    "version": 3
   },
   "file_extension": ".py",
   "mimetype": "text/x-python",
   "name": "python",
   "nbconvert_exporter": "python",
   "pygments_lexer": "ipython3",
   "version": "3.7.9"
  }
 },
 "nbformat": 4,
 "nbformat_minor": 2
}
