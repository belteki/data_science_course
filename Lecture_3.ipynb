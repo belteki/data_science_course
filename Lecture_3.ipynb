{
 "cells": [
  {
   "cell_type": "markdown",
   "metadata": {},
   "source": [
    "![alt text](./pageheader_rose2_babies.jpg)"
   ]
  },
  {
   "cell_type": "markdown",
   "metadata": {},
   "source": [
    "# Data Science in Medicine using Python\n",
    "\n",
    "### Author: Dr Gusztav Belteki"
   ]
  },
  {
   "cell_type": "markdown",
   "metadata": {},
   "source": [
    "## 1. Review of homework: slicing and dicing in Python"
   ]
  },
  {
   "cell_type": "code",
   "execution_count": null,
   "metadata": {},
   "outputs": [],
   "source": [
    "# List of strings\n",
    "\n",
    "lst = ['January', 'February', 'March', 'April', 'May', 'June', 'July', 'August', 'September', 'October',\n",
    "       'November', 'December']\n",
    "\n",
    "lst"
   ]
  },
  {
   "cell_type": "code",
   "execution_count": null,
   "metadata": {},
   "outputs": [],
   "source": [
    "# Indexing is zero based, starts with zero\n",
    "\n",
    "lst[0:4]"
   ]
  },
  {
   "cell_type": "code",
   "execution_count": null,
   "metadata": {},
   "outputs": [],
   "source": [
    "# Zero can be omitted\n",
    "\n",
    "lst[:4]"
   ]
  },
  {
   "cell_type": "markdown",
   "metadata": {},
   "source": [
    "##### So - write the input to generate the output"
   ]
  },
  {
   "cell_type": "markdown",
   "metadata": {},
   "source": [
    "`['March', 'April', 'May']`"
   ]
  },
  {
   "cell_type": "code",
   "execution_count": null,
   "metadata": {},
   "outputs": [],
   "source": [
    "# Indexing is half open, the beginning is included the end is not\n",
    "\n",
    "lst[2:5]"
   ]
  },
  {
   "cell_type": "code",
   "execution_count": null,
   "metadata": {},
   "outputs": [],
   "source": [
    "# This works well with continued indexing - no duplication\n",
    "\n",
    "lst[2:5], lst[5:8]"
   ]
  },
  {
   "cell_type": "markdown",
   "metadata": {},
   "source": [
    "`['May', 'June', 'July', 'August']`"
   ]
  },
  {
   "cell_type": "code",
   "execution_count": null,
   "metadata": {},
   "outputs": [],
   "source": [
    "lst[4:8]"
   ]
  },
  {
   "cell_type": "code",
   "execution_count": null,
   "metadata": {},
   "outputs": [],
   "source": [
    "# Negative indexing also works\n",
    "\n",
    "lst[-8:-4]"
   ]
  },
  {
   "cell_type": "markdown",
   "metadata": {},
   "source": [
    "`['July', 'August', 'September', 'October', 'November', 'December']`"
   ]
  },
  {
   "cell_type": "code",
   "execution_count": null,
   "metadata": {},
   "outputs": [],
   "source": [
    "# This needs to be 12, not 11, despite the zero base\n",
    "\n",
    "lst[6:12]"
   ]
  },
  {
   "cell_type": "code",
   "execution_count": null,
   "metadata": {},
   "outputs": [],
   "source": [
    "# Again, if it goes to the end, it can be omitted\n",
    "\n",
    "lst[6:]"
   ]
  },
  {
   "cell_type": "markdown",
   "metadata": {},
   "source": [
    "`['January', 'March', 'May', 'July', 'September']`"
   ]
  },
  {
   "cell_type": "code",
   "execution_count": null,
   "metadata": {},
   "outputs": [],
   "source": [
    "# The third index is `strides`, here every second\n",
    "\n",
    "lst[0:9:2]"
   ]
  },
  {
   "cell_type": "code",
   "execution_count": null,
   "metadata": {},
   "outputs": [],
   "source": [
    "lst[:9:2]"
   ]
  },
  {
   "cell_type": "markdown",
   "metadata": {},
   "source": [
    "`['January',\n",
    " 'February',\n",
    " 'March',\n",
    " 'April',\n",
    " 'May',\n",
    " 'June',\n",
    " 'July',\n",
    " 'August',\n",
    " 'September',\n",
    " 'October',\n",
    " 'November',\n",
    " 'December']`"
   ]
  },
  {
   "cell_type": "code",
   "execution_count": null,
   "metadata": {},
   "outputs": [],
   "source": [
    "# If it goes from beginning to end, both numbers can be omitted\n",
    "\n",
    "lst[:]"
   ]
  },
  {
   "cell_type": "markdown",
   "metadata": {},
   "source": [
    "`['April', 'June', 'August', 'October']`"
   ]
  },
  {
   "cell_type": "code",
   "execution_count": null,
   "metadata": {
    "scrolled": true
   },
   "outputs": [],
   "source": [
    "lst[3:11:2]"
   ]
  },
  {
   "cell_type": "markdown",
   "metadata": {},
   "source": [
    "`['December', 'November', 'October', 'September', 'August']`"
   ]
  },
  {
   "cell_type": "code",
   "execution_count": null,
   "metadata": {},
   "outputs": [],
   "source": [
    "# Indexing backwards with negative strides\n",
    "# First index now the last, it is NOT 12 because of zero based indexing\n",
    "\n",
    "lst[11:6:-1]"
   ]
  },
  {
   "cell_type": "code",
   "execution_count": null,
   "metadata": {},
   "outputs": [],
   "source": [
    "# It can be omitted\n",
    "\n",
    "lst[:6:-1]"
   ]
  },
  {
   "cell_type": "markdown",
   "metadata": {},
   "source": [
    "`['November', 'September', 'July', 'May']`"
   ]
  },
  {
   "cell_type": "code",
   "execution_count": null,
   "metadata": {},
   "outputs": [],
   "source": [
    "lst[10:3:-2]"
   ]
  },
  {
   "cell_type": "markdown",
   "metadata": {},
   "source": [
    "`['December',\n",
    " 'November',\n",
    " 'October',\n",
    " 'September',\n",
    " 'August',\n",
    " 'July',\n",
    " 'June',\n",
    " 'May',\n",
    " 'April',\n",
    " 'March',\n",
    " 'February',\n",
    " 'January']`"
   ]
  },
  {
   "cell_type": "code",
   "execution_count": null,
   "metadata": {},
   "outputs": [],
   "source": [
    "lst[12:0:-1]"
   ]
  },
  {
   "cell_type": "code",
   "execution_count": null,
   "metadata": {},
   "outputs": [],
   "source": [
    "lst[::-1]"
   ]
  },
  {
   "cell_type": "markdown",
   "metadata": {},
   "source": [
    "#### We will come back to lists later today"
   ]
  },
  {
   "cell_type": "markdown",
   "metadata": {},
   "source": [
    "## 2. Once more about modules and data structures"
   ]
  },
  {
   "cell_type": "markdown",
   "metadata": {},
   "source": [
    "![alt text](./importing.pdf)"
   ]
  },
  {
   "cell_type": "markdown",
   "metadata": {},
   "source": [
    "Basic data structures in the global workspace:\n",
    "- numbers (float, int, complex), text, etc\n",
    "- Protected keywords (35) such as `and` `or` `in` etc.\n",
    "- basic (\"built-in) functions, e.g `print()`, `len()`, `dir()` etc\n",
    "\n",
    "Everything else needs to be imported"
   ]
  },
  {
   "cell_type": "markdown",
   "metadata": {},
   "source": [
    "Importing from \n",
    "\n",
    "- Standard library modules\n",
    "- Third party modules\n",
    "- Own modules"
   ]
  },
  {
   "cell_type": "markdown",
   "metadata": {},
   "source": [
    "#### Standard library modules\n",
    "\n",
    "More than 200 modules, the list is [here](https://docs.python.org/3/py-modindex.html)\n",
    "\n",
    "We will only use a few during this course:\n",
    "\n",
    "- `collections`: advanced data structures\n",
    "- `copy`: advanced copy operations\n",
    "- `datetime`: date and time conversions and operations\n",
    "- `math`: mathematical functions\n",
    "- `os`: operating system handling\n",
    "- `pickle`: exporting large datasets as binary files\n",
    "- `re`: regular expressions\n",
    "- `sys`: system specific operations and variables\n"
   ]
  },
  {
   "cell_type": "markdown",
   "metadata": {},
   "source": [
    "Third party modules, packages (group of modules) and libraries (group of packages)\n",
    "\n",
    "There are thousands, see [Pypi](https://pypi.org)\n",
    "\n",
    "We have also created a package, [ventiliser](https://pypi.org/project/ventiliser/)\n",
    "\n",
    "We will only use a few \"famous\" packages generally used in data science:\n",
    "\n",
    "- `numpy`: multidimensional arrays (\"lists\"), numberical computation, linear algebra\n",
    "- `pandas`: analysis of tabular (~Excel) data, high level\n",
    "- `matplotlib`: plotting\n",
    "- `scipy`: stats and mathematics\n",
    "- `statmodels`: advanced stats\n",
    "- `nltk`: natural language processing\n",
    "- `scikit-learn`: machine learning\n",
    "\n",
    "\n",
    "We will not use these ones but exciting deep learning frameworks\n",
    "\n",
    "- `tensorflow`\n",
    "- `pytorch`"
   ]
  },
  {
   "cell_type": "markdown",
   "metadata": {},
   "source": [
    "## 3. Types of medical data"
   ]
  },
  {
   "cell_type": "markdown",
   "metadata": {},
   "source": [
    "##### 1.  Tabular data\n",
    "    - Obtained from sensors of medical devices, monitors etc.\n",
    "    - Typically retrieved as csv or other text format\n",
    "    - Frequently (but not always) time series data\n",
    "    - Usually two-dimensional but can be higher dimensional\n",
    "    \n",
    "    \n",
    "Frequently `csv` (comma separated values) or `tab-delimited` files"
   ]
  },
  {
   "cell_type": "markdown",
   "metadata": {},
   "source": [
    "##### csv\n",
    "\n",
    "`time,HR,Sat,RR,T\n",
    " 16:25:42,156,45,37.6\n",
    " 16:25:43,152,47,37.6\n",
    " 16:25:44,149,47,37.5`"
   ]
  },
  {
   "cell_type": "markdown",
   "metadata": {},
   "source": [
    "Typically imported in Excel\n",
    "    \n",
    "![alt text](./data/tabular_data.jpg)    "
   ]
  },
  {
   "cell_type": "markdown",
   "metadata": {},
   "source": [
    "##### 2.  Image data\n",
    "\n",
    "- Obtained from imaging medical devices\n",
    "- Usually as raster images (jpg,png, tiff etc file format, different compression methods)\n",
    "- At least 3-dimensional, but frequently 4 or 5 dimensional\n",
    "   \n",
    "   \n",
    "  \n",
    "![alt text](./data/newborn_brain_image.jpg)\n",
    " "
   ]
  },
  {
   "cell_type": "markdown",
   "metadata": {},
   "source": [
    "`124,156,182,...,56\n",
    " 127,186,12,....,93\n",
    " ......\n",
    " 12,18,72,.....,222`"
   ]
  },
  {
   "cell_type": "markdown",
   "metadata": {},
   "source": [
    "- pixel, dot-per-inch (dpi)\n",
    "- Red-green-blue layers, [RGB](https://www.codementor.io/@innat_2k14/image-data-analysis-using-numpy-opencv-part-1-kfadbafx6)\n"
   ]
  },
  {
   "cell_type": "markdown",
   "metadata": {},
   "source": [
    "  ##### 3. Medical free text\n",
    "    - From electronic medical notes or from medical knowledge databases (e.g., PubMed)\n",
    "    - Typically retrieved as text (.txt) files\n",
    "    - Unstructured\n",
    "    - Can be time series\n",
    "    \n",
    "![alt text](./data/medical_freetext.jpg)"
   ]
  },
  {
   "cell_type": "markdown",
   "metadata": {},
   "source": [
    "Text needs to **represented** differently for analysis"
   ]
  },
  {
   "cell_type": "markdown",
   "metadata": {},
   "source": [
    "#### Bag of words\n",
    "\n",
    "`datetime,            hypotension, had, baby, saturation, antibiotics, intravenous, ...\n",
    " 18/02/20 13:45,      5,           10,  3,    12,         0,            0\n",
    " 18/02/20 14:22,      0,           7,   4,    0,          3,            2`"
   ]
  },
  {
   "cell_type": "markdown",
   "metadata": {},
   "source": [
    "## 4. More about python lists"
   ]
  },
  {
   "cell_type": "markdown",
   "metadata": {},
   "source": [
    "So far we have only seen primitive data structures (objects): numbers, text string"
   ]
  },
  {
   "cell_type": "code",
   "execution_count": null,
   "metadata": {},
   "outputs": [],
   "source": [
    "A = 42\n",
    "A"
   ]
  },
  {
   "cell_type": "code",
   "execution_count": null,
   "metadata": {},
   "outputs": [],
   "source": [
    "B = 'Hello world'\n",
    "B"
   ]
  },
  {
   "cell_type": "markdown",
   "metadata": {},
   "source": [
    "#### A list is a collection of any other data structures ( =objects) "
   ]
  },
  {
   "cell_type": "code",
   "execution_count": null,
   "metadata": {},
   "outputs": [],
   "source": [
    "# It can be text\n",
    "\n",
    "lst_1 = ['January', 'February', 'March', 'April', 'May', 'June', 'July', 'August', 'September', 'October',\n",
    "         'November', 'December']"
   ]
  },
  {
   "cell_type": "code",
   "execution_count": null,
   "metadata": {},
   "outputs": [],
   "source": [
    "# It can be numbers\n",
    "\n",
    "lst_2 = [1, 2, 3, 4, 5, 6, ]"
   ]
  },
  {
   "cell_type": "code",
   "execution_count": null,
   "metadata": {},
   "outputs": [],
   "source": [
    "# It can be a lot of numbers\n",
    "\n",
    "a = range(100, 100000000, 5)\n",
    "lst_3 = list(a)"
   ]
  },
  {
   "cell_type": "code",
   "execution_count": null,
   "metadata": {},
   "outputs": [],
   "source": [
    "len(lst_3)"
   ]
  },
  {
   "cell_type": "code",
   "execution_count": null,
   "metadata": {},
   "outputs": [],
   "source": [
    "lst_3[:10]"
   ]
  },
  {
   "cell_type": "code",
   "execution_count": null,
   "metadata": {},
   "outputs": [],
   "source": [
    "lst_3[-10:]"
   ]
  },
  {
   "cell_type": "code",
   "execution_count": null,
   "metadata": {},
   "outputs": [],
   "source": [
    "# Text strings can be converted to lists\n",
    "\n",
    "lst_4 = list('Hello world')\n",
    "lst_4"
   ]
  },
  {
   "cell_type": "code",
   "execution_count": null,
   "metadata": {},
   "outputs": [],
   "source": [
    "# List can containg mixed data types\n",
    "\n",
    "lst_5 = ['H', 42, 55.555]\n",
    "lst_5"
   ]
  },
  {
   "cell_type": "code",
   "execution_count": null,
   "metadata": {},
   "outputs": [],
   "source": [
    "# It can be composed of other lists\n",
    "# This is a two dimensional data structure (like DataFrame or Excel table)\n",
    "\n",
    "lst_6 = [  [1, 2, 3], [4, 5, 6], [7, 8, 9]   ]\n",
    "lst_6"
   ]
  },
  {
   "cell_type": "markdown",
   "metadata": {},
   "source": [
    "1,  2,  3\n",
    "\n",
    "4,  5,  6\n",
    "\n",
    "7,  8,  9"
   ]
  },
  {
   "cell_type": "code",
   "execution_count": null,
   "metadata": {},
   "outputs": [],
   "source": [
    "# Indexing is \"row first\" and \"zero based\"\n",
    "\n",
    "lst_6[1]"
   ]
  },
  {
   "cell_type": "code",
   "execution_count": null,
   "metadata": {},
   "outputs": [],
   "source": [
    "# Identifying single values by consecutive indexing\n",
    "\n",
    "lst_6[1][2]"
   ]
  },
  {
   "cell_type": "code",
   "execution_count": null,
   "metadata": {},
   "outputs": [],
   "source": [
    "# slicing\n",
    "\n",
    "lst_6[0:2]"
   ]
  },
  {
   "cell_type": "code",
   "execution_count": null,
   "metadata": {
    "scrolled": true
   },
   "outputs": [],
   "source": [
    "# Double slicing not really works as we would like it\n",
    "\n",
    "lst_6[0:2][0:2]"
   ]
  },
  {
   "cell_type": "markdown",
   "metadata": {},
   "source": [
    "**Self_learning**: learn about `list` methods:\n",
    "\n",
    "- append,\n",
    "- clear,\n",
    "- copy,\n",
    "- count,\n",
    "- extend,\n",
    "- index,\n",
    "- insert,\n",
    "- pop,\n",
    "- remove,\n",
    "- reverse,\n",
    "- sort\n",
    "\n",
    "You can learn more about lists and their methods [here](https://developers.google.com/edu/python/lists)"
   ]
  },
  {
   "cell_type": "markdown",
   "metadata": {},
   "source": [
    "Any decent data science course would start to discuss `numpy` at this stage...\n",
    "\n",
    "... but we will leave it for later\n",
    "\n",
    "In the meantime for ambitious geeks [this](https://github.com/ageron/handson-ml2/blob/master/tools_numpy.ipynb) is an excellent Jupyter notebook about numpy"
   ]
  },
  {
   "cell_type": "markdown",
   "metadata": {},
   "source": [
    "## 5. Analysis of two-dimensional tabula data with pandas"
   ]
  },
  {
   "cell_type": "code",
   "execution_count": null,
   "metadata": {},
   "outputs": [],
   "source": [
    "import os\n",
    "import pandas as pd\n",
    "\n",
    "path = os.path.join('data', 'CsvLogBase_2020-11-02_134238.904_slow_Measurement.csv.zip')\n",
    "data = pd.read_csv(path)\n",
    "data"
   ]
  },
  {
   "cell_type": "code",
   "execution_count": null,
   "metadata": {},
   "outputs": [],
   "source": [
    "len(data)"
   ]
  },
  {
   "cell_type": "code",
   "execution_count": null,
   "metadata": {},
   "outputs": [],
   "source": [
    "data.shape"
   ]
  },
  {
   "cell_type": "code",
   "execution_count": null,
   "metadata": {},
   "outputs": [],
   "source": [
    "data.ndim"
   ]
  },
  {
   "cell_type": "code",
   "execution_count": null,
   "metadata": {},
   "outputs": [],
   "source": [
    "data.info()"
   ]
  },
  {
   "cell_type": "code",
   "execution_count": null,
   "metadata": {
    "scrolled": true
   },
   "outputs": [],
   "source": [
    "data.describe()"
   ]
  },
  {
   "cell_type": "code",
   "execution_count": null,
   "metadata": {},
   "outputs": [],
   "source": [
    "data.head(10)"
   ]
  },
  {
   "cell_type": "markdown",
   "metadata": {},
   "source": [
    "##### What is the problem with these data"
   ]
  },
  {
   "cell_type": "markdown",
   "metadata": {},
   "source": [
    "- Indexed by numbers only (uninformative, it should be indexed by date and time)\n",
    "- Date and time are in separate columnns\n",
    "- Date and time formats are not appropriate\n",
    "- Column names are too long and difficult to read\n",
    "- Lots of `na` values \n",
    "- half of every row is empty\n",
    "- Some columns have barely any informative values\n",
    "- Some values are not meaningful (e.g. tidal volume should be mL/kg not mL\n",
    "\n",
    "We will deal with all these issues"
   ]
  },
  {
   "cell_type": "code",
   "execution_count": null,
   "metadata": {},
   "outputs": [],
   "source": [
    "data.info()"
   ]
  },
  {
   "cell_type": "code",
   "execution_count": null,
   "metadata": {},
   "outputs": [],
   "source": [
    "%%time\n",
    "\n",
    "path = os.path.join('data', 'CsvLogBase_2020-11-02_134238.904_slow_Measurement.csv.zip')\n",
    "data = pd.read_csv(path)\n",
    "data"
   ]
  },
  {
   "cell_type": "code",
   "execution_count": null,
   "metadata": {},
   "outputs": [],
   "source": [
    "%%time\n",
    "\n",
    "path = os.path.join('data', 'CsvLogBase_2020-11-02_134238.904_slow_Measurement.csv.zip')\n",
    "data = pd.read_csv(path, parse_dates = ['Date', 'Time'])\n",
    "data"
   ]
  },
  {
   "cell_type": "code",
   "execution_count": null,
   "metadata": {},
   "outputs": [],
   "source": [
    "data.info()"
   ]
  },
  {
   "cell_type": "code",
   "execution_count": null,
   "metadata": {},
   "outputs": [],
   "source": [
    "%%time\n",
    "\n",
    "path = os.path.join('data', 'CsvLogBase_2020-11-02_134238.904_slow_Measurement.csv.zip')\n",
    "data = pd.read_csv(path, parse_dates = [['Date', 'Time']])\n",
    "data"
   ]
  },
  {
   "cell_type": "code",
   "execution_count": null,
   "metadata": {},
   "outputs": [],
   "source": [
    "data.info()"
   ]
  },
  {
   "cell_type": "code",
   "execution_count": null,
   "metadata": {},
   "outputs": [],
   "source": [
    "data = data.set_index('Date_Time')\n",
    "data"
   ]
  },
  {
   "cell_type": "code",
   "execution_count": null,
   "metadata": {},
   "outputs": [],
   "source": [
    "data.columns"
   ]
  },
  {
   "cell_type": "markdown",
   "metadata": {},
   "source": [
    "We could just replace it with \n",
    "\n",
    "`data.columns = ['...', '...', '...']` \n",
    "\n",
    "but that is error prone"
   ]
  },
  {
   "cell_type": "code",
   "execution_count": null,
   "metadata": {},
   "outputs": [],
   "source": [
    "# Welcome to list comprehensions\n",
    "\n",
    "new_columns_1 = [item for item in data.columns]\n",
    "print(new_columns_1)"
   ]
  },
  {
   "cell_type": "code",
   "execution_count": null,
   "metadata": {},
   "outputs": [],
   "source": [
    "new_columns_2 = [item[5:] for item in data.columns]\n",
    "print(new_columns_2)"
   ]
  },
  {
   "cell_type": "code",
   "execution_count": null,
   "metadata": {},
   "outputs": [],
   "source": [
    "new_columns_3 = [item[5:] for item in data.columns if item.startswith('5001')]\n",
    "print(new_columns_3)"
   ]
  },
  {
   "cell_type": "code",
   "execution_count": null,
   "metadata": {},
   "outputs": [],
   "source": [
    "# The expression to the right of `=` is evaluated firs (before assignment)\n",
    "\n",
    "new_columns_3 = ['Time [ms]', 'Rel.Time [s]'] + new_columns_3\n",
    "new_columns_3"
   ]
  },
  {
   "cell_type": "code",
   "execution_count": null,
   "metadata": {},
   "outputs": [],
   "source": [
    "data.columns = new_columns_3\n",
    "data.head(10)"
   ]
  },
  {
   "cell_type": "code",
   "execution_count": null,
   "metadata": {},
   "outputs": [],
   "source": [
    "data.info()"
   ]
  },
  {
   "cell_type": "code",
   "execution_count": null,
   "metadata": {},
   "outputs": [],
   "source": [
    "# This is called a `hack`\n",
    "# During `mean`() na values are excluded by default\n",
    "\n",
    "data = data.resample('1S').mean()\n",
    "data.head(10)"
   ]
  },
  {
   "cell_type": "code",
   "execution_count": null,
   "metadata": {},
   "outputs": [],
   "source": [
    "data.info()"
   ]
  },
  {
   "cell_type": "code",
   "execution_count": null,
   "metadata": {},
   "outputs": [],
   "source": [
    "# Some columns are almost completely empty and hopeless - drop them\n",
    "\n",
    "data = data.drop(['Tispon [s]', 'I:Espon (I-Part) [no unit]', \n",
    "                  'I:Espon (E-Part) [no unit]'], axis = 1)\n",
    "data"
   ]
  },
  {
   "cell_type": "code",
   "execution_count": null,
   "metadata": {},
   "outputs": [],
   "source": [
    "data.head()"
   ]
  },
  {
   "cell_type": "code",
   "execution_count": null,
   "metadata": {},
   "outputs": [],
   "source": [
    "data.info()"
   ]
  },
  {
   "cell_type": "code",
   "execution_count": null,
   "metadata": {},
   "outputs": [],
   "source": [
    "data.isnull().sum()"
   ]
  },
  {
   "cell_type": "code",
   "execution_count": null,
   "metadata": {},
   "outputs": [],
   "source": [
    "# A lot of things are happening here, for example vectorized computation, broadcasting\n",
    "# We will speak about them during the next session\n",
    "\n",
    "data.isnull().sum() / len(data) * 100"
   ]
  },
  {
   "cell_type": "markdown",
   "metadata": {},
   "source": [
    "Now let us save the the modified data\n",
    "\n",
    "We will export them as serialised binary data  - `pickle`"
   ]
  },
  {
   "cell_type": "code",
   "execution_count": null,
   "metadata": {},
   "outputs": [],
   "source": [
    "import pickle\n",
    "\n",
    "with open(os.path.join('data', 'data.pickle'), 'wb') as handle:\n",
    "    pickle.dump(data, handle, protocol=pickle.HIGHEST_PROTOCOL)"
   ]
  },
  {
   "cell_type": "markdown",
   "metadata": {},
   "source": [
    "We will continue from here"
   ]
  },
  {
   "cell_type": "markdown",
   "metadata": {},
   "source": [
    "### 6. Homework\n",
    "\n",
    "Subsetting and indexing pandas DataFrames"
   ]
  },
  {
   "cell_type": "code",
   "execution_count": null,
   "metadata": {},
   "outputs": [],
   "source": [
    "data"
   ]
  },
  {
   "cell_type": "code",
   "execution_count": null,
   "metadata": {},
   "outputs": [],
   "source": [
    "# Select the third row only\n",
    "\n",
    "selection = data\n",
    "selection"
   ]
  },
  {
   "cell_type": "code",
   "execution_count": null,
   "metadata": {},
   "outputs": [],
   "source": [
    "# Select the \"MVe [L/min]\" column only\"\n",
    "\n",
    "selection = data\n",
    "selection"
   ]
  },
  {
   "cell_type": "code",
   "execution_count": null,
   "metadata": {},
   "outputs": [],
   "source": [
    "# Select the \"MVe [L/min]\" and \"MVi [L/min]\" columns only\n",
    "\n",
    "selection = data\n",
    "selection"
   ]
  },
  {
   "cell_type": "code",
   "execution_count": null,
   "metadata": {},
   "outputs": [],
   "source": [
    "# Select the 'MVe [L/min]' value from the third row\n",
    "\n",
    "selection = data\n",
    "selection"
   ]
  },
  {
   "cell_type": "code",
   "execution_count": null,
   "metadata": {
    "scrolled": false
   },
   "outputs": [],
   "source": [
    "# Select all data during the 1 minute period at 2020-11-03 13:00 \n",
    "\n",
    "selection = data\n",
    "selection"
   ]
  },
  {
   "cell_type": "code",
   "execution_count": null,
   "metadata": {},
   "outputs": [],
   "source": [
    "# Select all data between 2020-11-03 13:00 and and 15:00\n",
    "\n",
    "selection = data.loc\n",
    "selection"
   ]
  },
  {
   "cell_type": "code",
   "execution_count": null,
   "metadata": {},
   "outputs": [],
   "source": [
    "# Select all data between 2020-11-03 13:00 and and 15:00 and limit it to \n",
    "# \"MVe [L/min]\" and \"MVi [L/min]\" columns only\n",
    "\n",
    "selection = data"
   ]
  },
  {
   "cell_type": "code",
   "execution_count": null,
   "metadata": {},
   "outputs": [],
   "source": []
  }
 ],
 "metadata": {
  "anaconda-cloud": {},
  "kernelspec": {
   "display_name": "Python 3",
   "language": "python",
   "name": "python3"
  },
  "language_info": {
   "codemirror_mode": {
    "name": "ipython",
    "version": 3
   },
   "file_extension": ".py",
   "mimetype": "text/x-python",
   "name": "python",
   "nbconvert_exporter": "python",
   "pygments_lexer": "ipython3",
   "version": "3.7.9"
  }
 },
 "nbformat": 4,
 "nbformat_minor": 2
}
